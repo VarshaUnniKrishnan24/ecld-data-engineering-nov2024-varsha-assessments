{
 "cells": [
  {
   "cell_type": "markdown",
   "metadata": {
    "application/vnd.databricks.v1+cell": {
     "cellMetadata": {},
     "inputWidgets": {},
     "nuid": "0f18094f-ee6e-410c-8a8e-e287ff83d208",
     "showTitle": false,
     "tableResultSettingsMap": {},
     "title": ""
    }
   },
   "source": [
    "## Analysis Features"
   ]
  },
  {
   "cell_type": "code",
   "execution_count": 0,
   "metadata": {
    "application/vnd.databricks.v1+cell": {
     "cellMetadata": {
      "byteLimit": 2048000,
      "rowLimit": 10000
     },
     "inputWidgets": {},
     "nuid": "00a0433c-a772-4f27-bbef-f4cb8e3511ed",
     "showTitle": false,
     "tableResultSettingsMap": {},
     "title": ""
    }
   },
   "outputs": [],
   "source": [
    "import matplotlib.pyplot as plt\n",
    "import seaborn as sns\n",
    "from pyspark.sql import SparkSession\n",
    "from pyspark.sql.functions import sum, avg, count, month, countDistinct"
   ]
  },
  {
   "cell_type": "code",
   "execution_count": 0,
   "metadata": {
    "application/vnd.databricks.v1+cell": {
     "cellMetadata": {
      "byteLimit": 2048000,
      "rowLimit": 10000
     },
     "inputWidgets": {},
     "nuid": "fa41563d-da1b-474c-8803-525860629f25",
     "showTitle": false,
     "tableResultSettingsMap": {},
     "title": ""
    }
   },
   "outputs": [],
   "source": [
    "spark = SparkSession.builder.appName(\"Analysis Features\").getOrCreate()"
   ]
  },
  {
   "cell_type": "code",
   "execution_count": 0,
   "metadata": {
    "application/vnd.databricks.v1+cell": {
     "cellMetadata": {
      "byteLimit": 2048000,
      "rowLimit": 10000
     },
     "inputWidgets": {},
     "nuid": "32fc0404-fb23-4866-a250-f187c48e529f",
     "showTitle": false,
     "tableResultSettingsMap": {},
     "title": ""
    }
   },
   "outputs": [],
   "source": [
    "df = spark.read.csv(\"dbfs:/FileStore/Retail_Store_Chain_Analysis/4_final_data.csv\", \n",
    "                     header=True, inferSchema=True)"
   ]
  },
  {
   "cell_type": "code",
   "execution_count": 0,
   "metadata": {
    "application/vnd.databricks.v1+cell": {
     "cellMetadata": {
      "byteLimit": 2048000,
      "rowLimit": 10000
     },
     "inputWidgets": {},
     "nuid": "f72ed57c-22bd-404d-aa76-c8add2275c4b",
     "showTitle": false,
     "tableResultSettingsMap": {},
     "title": ""
    }
   },
   "outputs": [],
   "source": [
    "# # Convert Spark DataFrame to Pandas DataFrame for visualization\n",
    "# def to_pandas(df):\n",
    "#     return df.toPandas()"
   ]
  },
  {
   "cell_type": "markdown",
   "metadata": {
    "application/vnd.databricks.v1+cell": {
     "cellMetadata": {},
     "inputWidgets": {},
     "nuid": "8e20b6b1-20c9-4ae0-be25-3c5e7e783124",
     "showTitle": false,
     "tableResultSettingsMap": {},
     "title": ""
    }
   },
   "source": [
    "- Product performance metrics "
   ]
  },
  {
   "cell_type": "code",
   "execution_count": 0,
   "metadata": {
    "application/vnd.databricks.v1+cell": {
     "cellMetadata": {
      "byteLimit": 2048000,
      "rowLimit": 10000
     },
     "inputWidgets": {},
     "nuid": "6c5311a4-ec56-494d-950c-fc3f2ce6ed6f",
     "showTitle": false,
     "tableResultSettingsMap": {},
     "title": ""
    }
   },
   "outputs": [
    {
     "name": "stdout",
     "output_type": "stream",
     "text": [
      "+---------------+-------------------------------------------------------------------------------+---------------+------------------+------------------+------------+\n",
      "|Product ID     |Product Name                                                                   |Category       |Total Sales       |Average Sales     |Total Orders|\n",
      "+---------------+-------------------------------------------------------------------------------+---------------+------------------+------------------+------------+\n",
      "|FUR-CH-10004287|SAFCO Arco Folding Chair                                                       |Furniture      |6055.969999999998 |465.843846153846  |13          |\n",
      "|OFF-ST-10003716|Tennsco Double-Tier Lockers                                                    |Office Supplies|5636.465999999999 |469.7055          |12          |\n",
      "|FUR-TA-10003473|Bretford Rectangular Conference Table Tops                                     |Furniture      |5608.217999999999 |467.35149999999993|12          |\n",
      "|FUR-CH-10000454|Hon Deluxe Fabric Upholstered Stacking Chairs, Rounded Back                    |Furniture      |5554.883          |462.90691666666663|12          |\n",
      "|OFF-BI-10001359|GBC DocuBind TL300 Electric Binding System                                     |Office Supplies|5507.0509999999995|500.64099999999996|11          |\n",
      "|OFF-ST-10001490|Hot File 7-Pocket, Floor Stand                                                 |Office Supplies|5433.812999999999 |417.9856153846153 |13          |\n",
      "|FUR-TA-10001095|Chromcraft Round Conference Tables                                             |Furniture      |5182.4710000000005|398.6516153846154 |13          |\n",
      "|OFF-ST-10003208|Adjustable Depth Letter/Legal Cart                                             |Office Supplies|5101.334999999999 |463.7577272727272 |11          |\n",
      "|OFF-BI-10003527|Fellowes PB500 Electric Punch Plastic Comb Binding Machine with Manual Bind    |Office Supplies|5006.41           |500.64099999999996|10          |\n",
      "|FUR-CH-10004997|Hon Every-Day Series Multi-Task Chairs                                         |Furniture      |4907.432          |490.7432          |10          |\n",
      "|TEC-AC-10003033|Plantronics CS510 - Over-the-Head monaural Wireless Headset System             |Technology     |4769.728999999999 |476.9728999999999 |10          |\n",
      "|TEC-PH-10001817|Wilson Electronics DB Pro Signal Booster                                       |Technology     |4721.128          |472.1128          |10          |\n",
      "|OFF-ST-10000078|Tennsco 6- and 18-Compartment Lockers                                          |Office Supplies|4694.57           |469.457           |10          |\n",
      "|OFF-ST-10001496|Standard Rollaway File with Lock                                               |Office Supplies|4517.442          |451.7442          |10          |\n",
      "|FUR-CH-10001215|Global Troy Executive Leather Low-Back Tilter                                  |Furniture      |4505.769          |500.641           |9           |\n",
      "|FUR-CH-10002965|Global Leather Highback Executive Chair with Pneumatic Height Adjustment, Black|Furniture      |4492.907          |408.4460909090909 |11          |\n",
      "|OFF-BI-10000545|GBC Ibimaster 500 Manual ProClick Binding System                               |Office Supplies|4461.716          |495.7462222222223 |9           |\n",
      "|FUR-CH-10000785|Global Ergonomic Managers Chair                                                |Furniture      |4451.686000000001 |404.69872727272735|11          |\n",
      "|FUR-CH-10003379|Global Commerce Series High-Back Swivel/Tilt Chairs                            |Furniture      |4404.1            |489.3444444444445 |9           |\n",
      "|FUR-CH-10002880|Global High-Back Leather Tilter, Burgundy                                      |Furniture      |4342.992          |310.2137142857143 |14          |\n",
      "+---------------+-------------------------------------------------------------------------------+---------------+------------------+------------------+------------+\n",
      "\n"
     ]
    }
   ],
   "source": [
    "# Calculate product performance metrics\n",
    "product_performance = df.groupBy(\"Product ID\", \"Product Name\",\"Category\").agg(\n",
    "    sum(\"Sales\").alias(\"Total Sales\"),\n",
    "    avg(\"Sales\").alias(\"Average Sales\"),\n",
    "    count(\"Order ID\").alias(\"Total Orders\")\n",
    ")\n",
    "top_20_products = product_performance.orderBy(\"Total Sales\", ascending=False).limit(20)\n",
    "top_20_products.show(truncate=False)\n"
   ]
  },
  {
   "cell_type": "markdown",
   "metadata": {
    "application/vnd.databricks.v1+cell": {
     "cellMetadata": {},
     "inputWidgets": {},
     "nuid": "8367f844-1d90-4da8-ab7d-e89dda267a5f",
     "showTitle": false,
     "tableResultSettingsMap": {},
     "title": ""
    }
   },
   "source": [
    "- Regional sales comparison "
   ]
  },
  {
   "cell_type": "code",
   "execution_count": 0,
   "metadata": {
    "application/vnd.databricks.v1+cell": {
     "cellMetadata": {
      "byteLimit": 2048000,
      "rowLimit": 10000
     },
     "inputWidgets": {},
     "nuid": "8a427aaa-55ff-4e5c-b931-41bbf8bb413c",
     "showTitle": false,
     "tableResultSettingsMap": {},
     "title": ""
    }
   },
   "outputs": [
    {
     "name": "stdout",
     "output_type": "stream",
     "text": [
      "+-------+------------------+------------------+\n",
      "|Region |Total Sales       |Average Sales     |\n",
      "+-------+------------------+------------------+\n",
      "|West   |453913.02400000347|144.55828789809027|\n",
      "|East   |393061.5650000013 |141.13521184919256|\n",
      "|Central|306869.5690000008 |134.76924418094018|\n",
      "|South  |226151.16000000082|141.52137672090163|\n",
      "+-------+------------------+------------------+\n",
      "\n"
     ]
    }
   ],
   "source": [
    "# Calculate total sales and average sales by region\n",
    "regional_sales_comparison = df.groupBy(\"Region\").agg(\n",
    "    sum(\"Sales\").alias(\"Total Sales\"),\n",
    "    avg(\"Sales\").alias(\"Average Sales\")\n",
    ").orderBy(\"Total Sales\", ascending=False)\n",
    "regional_sales_comparison.show(truncate=False)\n"
   ]
  },
  {
   "cell_type": "markdown",
   "metadata": {
    "application/vnd.databricks.v1+cell": {
     "cellMetadata": {},
     "inputWidgets": {},
     "nuid": "376fae0f-157d-44c4-a306-0bd464a4be5a",
     "showTitle": false,
     "tableResultSettingsMap": {},
     "title": ""
    }
   },
   "source": [
    "- **West** leads in total sales and has the highest average sales per transaction.  \n",
    "- **East** follows with strong sales and a similar average sales value.  \n",
    "- **Central** has lower average sales but solid total sales.  \n",
    "- **South** has the lowest total sales but competitive average sales."
   ]
  },
  {
   "cell_type": "code",
   "execution_count": 0,
   "metadata": {
    "application/vnd.databricks.v1+cell": {
     "cellMetadata": {
      "byteLimit": 2048000,
      "rowLimit": 10000
     },
     "inputWidgets": {},
     "nuid": "7acad2c2-a8d1-49ea-b212-76d0cfd3b486",
     "showTitle": false,
     "tableResultSettingsMap": {},
     "title": ""
    }
   },
   "outputs": [
    {
     "data": {
      "image/png": "[encoded data removed]",
      "text/plain": [
       "<Figure size 1000x600 with 1 Axes>"
      ]
     },
     "metadata": {},
     "output_type": "display_data"
    }
   ],
   "source": [
    "\n",
    "regional_sales_comparison_pd = regional_sales_comparison.toPandas()\n",
    "# Bar plot for Total Sales by Region\n",
    "plt.figure(figsize=(10, 6))\n",
    "sns.barplot(x='Region', y='Total Sales', data=regional_sales_comparison_pd)\n",
    "plt.title('Total Sales by Region')\n",
    "plt.xlabel('Region')\n",
    "plt.ylabel('Total Sales')\n",
    "plt.show()\n"
   ]
  },
  {
   "cell_type": "markdown",
   "metadata": {
    "application/vnd.databricks.v1+cell": {
     "cellMetadata": {},
     "inputWidgets": {},
     "nuid": "080999dd-b9d2-4eda-b6a9-006372ae4142",
     "showTitle": false,
     "tableResultSettingsMap": {},
     "title": ""
    }
   },
   "source": [
    "- Seasonal trend analysis "
   ]
  },
  {
   "cell_type": "code",
   "execution_count": 0,
   "metadata": {
    "application/vnd.databricks.v1+cell": {
     "cellMetadata": {
      "byteLimit": 2048000,
      "rowLimit": 10000
     },
     "inputWidgets": {},
     "nuid": "009175a4-f06c-43e6-8594-8e877791ee51",
     "showTitle": false,
     "tableResultSettingsMap": {},
     "title": ""
    }
   },
   "outputs": [
    {
     "name": "stdout",
     "output_type": "stream",
     "text": [
      "+-----+------------------+------------------+\n",
      "|Month|Total Sales       |Average Sales     |\n",
      "+-----+------------------+------------------+\n",
      "|1    |51303.44300000006 |140.1733415300548 |\n",
      "|2    |40085.759         |134.9688855218855 |\n",
      "|3    |100067.41700000006|147.15796617647067|\n",
      "|4    |86569.25699999997 |131.76447031963465|\n",
      "|5    |96129.8240000002  |132.59286068965545|\n",
      "|6    |98081.91700000013 |141.94199276411018|\n",
      "|7    |100378.04300000017|144.01440889526566|\n",
      "|8    |99772.71100000017 |143.97216594516618|\n",
      "|9    |182002.83700000044|134.41863884785852|\n",
      "|10   |109063.1270000002 |134.8122707045738 |\n",
      "|11   |214841.16900000043|148.26857763975184|\n",
      "|12   |201699.81400000048|145.94776700434187|\n",
      "+-----+------------------+------------------+\n",
      "\n"
     ]
    }
   ],
   "source": [
    "seasonal_trends = df.select(\n",
    "    \"Order Date\", \"Sales\"\n",
    ").withColumn(\n",
    "    \"Month\", month(\"Order Date\")\n",
    ").groupBy(\"Month\").agg(\n",
    "    sum(\"Sales\").alias(\"Total Sales\"),\n",
    "    avg(\"Sales\").alias(\"Average Sales\")\n",
    ").orderBy(\"Month\")\n",
    "\n",
    "seasonal_trends.show(truncate=False)"
   ]
  },
  {
   "cell_type": "markdown",
   "metadata": {
    "application/vnd.databricks.v1+cell": {
     "cellMetadata": {},
     "inputWidgets": {},
     "nuid": "c5a17a9e-65e0-49a9-953b-7f4b8e3a89a8",
     "showTitle": false,
     "tableResultSettingsMap": {},
     "title": ""
    }
   },
   "source": [
    "- Sales are highest in **November and December**.  \n",
    "- **March and November** have the highest average sales per transaction.  \n",
    "- **February has the lowest total sales**. "
   ]
  },
  {
   "cell_type": "code",
   "execution_count": 0,
   "metadata": {
    "application/vnd.databricks.v1+cell": {
     "cellMetadata": {
      "byteLimit": 2048000,
      "rowLimit": 10000
     },
     "inputWidgets": {},
     "nuid": "661e0cc4-8284-42ea-b68e-0cc0f93459da",
     "showTitle": false,
     "tableResultSettingsMap": {},
     "title": ""
    }
   },
   "outputs": [
    {
     "data": {
      "image/png": "[encoded data removed]",
      "text/plain": [
       "<Figure size 1000x600 with 1 Axes>"
      ]
     },
     "metadata": {},
     "output_type": "display_data"
    }
   ],
   "source": [
    "# Convert Spark DataFrame to Pandas DataFrame for visualization\n",
    "seasonal_trends_pd = seasonal_trends.toPandas()\n",
    "\n",
    "# Line plot for Total Sales by Month\n",
    "plt.figure(figsize=(10, 6))\n",
    "sns.lineplot(x='Month', y='Total Sales', data=seasonal_trends_pd, marker='o')\n",
    "plt.title('Total Sales by Month')\n",
    "plt.xlabel('Month')\n",
    "plt.ylabel('Total Sales')\n",
    "plt.show()\n"
   ]
  },
  {
   "cell_type": "markdown",
   "metadata": {
    "application/vnd.databricks.v1+cell": {
     "cellMetadata": {},
     "inputWidgets": {},
     "nuid": "c7383721-7a9f-4216-b76b-89e61bcb9140",
     "showTitle": false,
     "tableResultSettingsMap": {},
     "title": ""
    }
   },
   "source": [
    "- Customer segment profitability "
   ]
  },
  {
   "cell_type": "code",
   "execution_count": 0,
   "metadata": {
    "application/vnd.databricks.v1+cell": {
     "cellMetadata": {
      "byteLimit": 2048000,
      "rowLimit": 10000
     },
     "inputWidgets": {},
     "nuid": "00349a6b-36ce-45f9-b367-1f75b879bc62",
     "showTitle": false,
     "tableResultSettingsMap": {},
     "title": ""
    }
   },
   "outputs": [
    {
     "name": "stdout",
     "output_type": "stream",
     "text": [
      "+-----------+------------------+------------------+\n",
      "|Segment    |Total Sales       |Average Sales     |\n",
      "+-----------+------------------+------------------+\n",
      "|Consumer   |710518.7799999923 |139.29009605959465|\n",
      "|Corporate  |422154.8120000022 |142.9579451405358 |\n",
      "|Home Office|247321.72600000032|141.65047308132893|\n",
      "+-----------+------------------+------------------+\n",
      "\n"
     ]
    }
   ],
   "source": [
    "# Calculate total sales and average sales by customer segment\n",
    "customer_segment_profitability = df.groupBy(\"Segment\").agg(\n",
    "    sum(\"Sales\").alias(\"Total Sales\"),\n",
    "    avg(\"Sales\").alias(\"Average Sales\")\n",
    ").orderBy(\"Total Sales\", ascending=False)\n",
    "customer_segment_profitability.show(truncate=False)\n"
   ]
  },
  {
   "cell_type": "markdown",
   "metadata": {
    "application/vnd.databricks.v1+cell": {
     "cellMetadata": {},
     "inputWidgets": {},
     "nuid": "527fb7fa-ad50-41db-8636-679403032bf2",
     "showTitle": false,
     "tableResultSettingsMap": {},
     "title": ""
    }
   },
   "source": [
    "- **Consumers** bring in the highest sales.  \n",
    "- **Corporate** has the highest average sales per transaction.  \n",
    "- **Home Office** has the lowest total sales but a similar average sales value as other segments.  \n"
   ]
  },
  {
   "cell_type": "code",
   "execution_count": 0,
   "metadata": {
    "application/vnd.databricks.v1+cell": {
     "cellMetadata": {
      "byteLimit": 2048000,
      "rowLimit": 10000
     },
     "inputWidgets": {},
     "nuid": "49b8d900-1a80-45b2-bdf2-b4c028374255",
     "showTitle": false,
     "tableResultSettingsMap": {},
     "title": ""
    }
   },
   "outputs": [
    {
     "data": {
      "image/png": "[encoded data removed]",
      "text/plain": [
       "<Figure size 1000x600 with 1 Axes>"
      ]
     },
     "metadata": {},
     "output_type": "display_data"
    }
   ],
   "source": [
    "customer_segment_profitability_pd = customer_segment_profitability.toPandas()\n",
    "\n",
    "# Bar plot for Total Sales by Customer Segment\n",
    "plt.figure(figsize=(10, 6))\n",
    "sns.barplot(x='Segment', y='Total Sales', data=customer_segment_profitability_pd)\n",
    "plt.title('Total Sales by Customer Segment')\n",
    "plt.xlabel('Customer Segment')\n",
    "plt.ylabel('Total Sales')\n",
    "plt.show()\n"
   ]
  },
  {
   "cell_type": "markdown",
   "metadata": {
    "application/vnd.databricks.v1+cell": {
     "cellMetadata": {},
     "inputWidgets": {},
     "nuid": "d42572ed-4ebd-4721-9b86-706b092e5b9e",
     "showTitle": false,
     "tableResultSettingsMap": {},
     "title": ""
    }
   },
   "source": [
    "- Build KPI summary tables"
   ]
  },
  {
   "cell_type": "code",
   "execution_count": 0,
   "metadata": {
    "application/vnd.databricks.v1+cell": {
     "cellMetadata": {
      "byteLimit": 2048000,
      "rowLimit": 10000
     },
     "inputWidgets": {},
     "nuid": "32a60bdb-be47-4671-a7c6-043d25ed2f17",
     "showTitle": false,
     "tableResultSettingsMap": {},
     "title": ""
    }
   },
   "outputs": [
    {
     "name": "stdout",
     "output_type": "stream",
     "text": [
      "+--------------------------+------------------+\n",
      "|KPI                       |Value             |\n",
      "+--------------------------+------------------+\n",
      "|Total Sales               |1379995.3179999753|\n",
      "|Total Orders              |9800.0            |\n",
      "|Average Order Value       |140.81584877550767|\n",
      "|Total Customers           |793.0             |\n",
      "|Total Products Sold       |9800.0            |\n",
      "|Average Sales per Customer|1740.2210819672116|\n",
      "|Average Sales per Product |741.534292315959  |\n",
      "+--------------------------+------------------+\n",
      "\n"
     ]
    }
   ],
   "source": [
    "\n",
    "\n",
    "# Calculate KPIs\n",
    "total_sales = df.agg(sum(\"Sales\").alias(\"Total Sales\")).collect()[0][\"Total Sales\"]\n",
    "total_orders = df.agg(count(\"Order ID\").alias(\"Total Orders\")).collect()[0][\"Total Orders\"]\n",
    "average_order_value = df.agg((sum(\"Sales\") / count(\"Order ID\")).alias(\"Average Order Value\")).collect()[0][\"Average Order Value\"]\n",
    "total_customers = df.agg(countDistinct(\"Customer ID\").alias(\"Total Customers\")).collect()[0][\"Total Customers\"]\n",
    "total_products_sold = df.agg(count(\"Product ID\").alias(\"Total Products Sold\")).collect()[0][\"Total Products Sold\"]\n",
    "average_sales_per_customer = df.groupBy(\"Customer ID\").agg(sum(\"Sales\").alias(\"Total Sales\")).agg(avg(\"Total Sales\").alias(\"Average Sales per Customer\")).collect()[0][\"Average Sales per Customer\"]\n",
    "average_sales_per_product = df.groupBy(\"Product ID\").agg(sum(\"Sales\").alias(\"Total Sales\")).agg(avg(\"Total Sales\").alias(\"Average Sales per Product\")).collect()[0][\"Average Sales per Product\"]\n",
    "\n",
    "# Ensure all values are of the same type (float)\n",
    "total_sales = float(total_sales)\n",
    "total_orders = float(total_orders)\n",
    "average_order_value = float(average_order_value)\n",
    "total_customers = float(total_customers)\n",
    "total_products_sold = float(total_products_sold)\n",
    "average_sales_per_customer = float(average_sales_per_customer)\n",
    "average_sales_per_product = float(average_sales_per_product)\n",
    "\n",
    "# Create a KPI summary table\n",
    "kpi_summary = spark.createDataFrame([\n",
    "    (\"Total Sales\", total_sales),\n",
    "    (\"Total Orders\", total_orders),\n",
    "    (\"Average Order Value\", average_order_value),\n",
    "    (\"Total Customers\", total_customers),\n",
    "    (\"Total Products Sold\", total_products_sold),\n",
    "    (\"Average Sales per Customer\", average_sales_per_customer),\n",
    "    (\"Average Sales per Product\", average_sales_per_product)\n",
    "], [\"KPI\", \"Value\"])\n",
    "\n",
    "kpi_summary.show(truncate=False)\n"
   ]
  },
  {
   "cell_type": "markdown",
   "metadata": {
    "application/vnd.databricks.v1+cell": {
     "cellMetadata": {},
     "inputWidgets": {},
     "nuid": "2ada7a48-e0c1-43b8-aa67-2040c0cea426",
     "showTitle": false,
     "tableResultSettingsMap": {},
     "title": ""
    }
   },
   "source": [
    "\n",
    "This table gives a quick view of business performance.  "
   ]
  }
 ],
 "metadata": {
  "application/vnd.databricks.v1+notebook": {
   "computePreferences": null,
   "dashboards": [],
   "environmentMetadata": {
    "base_environment": "",
    "client": "1"
   },
   "language": "python",
   "notebookMetadata": {
    "pythonIndentUnit": 4
   },
   "notebookName": "7_analysis_features",
   "widgets": {}
  },
  "kernelspec": {
   "display_name": "Python 3",
   "language": "python",
   "name": "python3"
  },
  "language_info": {
   "name": "python",
   "version": "3.11.9"
  }
 },
 "nbformat": 4,
 "nbformat_minor": 0
}
