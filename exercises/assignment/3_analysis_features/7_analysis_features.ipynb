{
 "cells": [
  {
   "cell_type": "code",
   "execution_count": 0,
   "metadata": {
    "application/vnd.databricks.v1+cell": {
     "cellMetadata": {
      "byteLimit": 2048000,
      "rowLimit": 10000
     },
     "inputWidgets": {},
     "nuid": "00a0433c-a772-4f27-bbef-f4cb8e3511ed",
     "showTitle": false,
     "tableResultSettingsMap": {},
     "title": ""
    }
   },
   "outputs": [],
   "source": [
    "import matplotlib.pyplot as plt\n",
    "import seaborn as sns\n",
    "from pyspark.sql import SparkSession\n",
    "from pyspark.sql.functions import sum, avg, count, month, countDistinct"
   ]
  },
  {
   "cell_type": "code",
   "execution_count": 0,
   "metadata": {
    "application/vnd.databricks.v1+cell": {
     "cellMetadata": {
      "byteLimit": 2048000,
      "rowLimit": 10000
     },
     "inputWidgets": {},
     "nuid": "fa41563d-da1b-474c-8803-525860629f25",
     "showTitle": false,
     "tableResultSettingsMap": {},
     "title": ""
    }
   },
   "outputs": [],
   "source": [
    "spark = SparkSession.builder.appName(\"Analysis Features\").getOrCreate()"
   ]
  },
  {
   "cell_type": "code",
   "execution_count": 0,
   "metadata": {
    "application/vnd.databricks.v1+cell": {
     "cellMetadata": {
      "byteLimit": 2048000,
      "rowLimit": 10000
     },
     "inputWidgets": {},
     "nuid": "32fc0404-fb23-4866-a250-f187c48e529f",
     "showTitle": false,
     "tableResultSettingsMap": {},
     "title": ""
    }
   },
   "outputs": [],
   "source": [
    "df = spark.read.csv(\"dbfs:/FileStore/Retail_Store_Chain_Analysis/4_final_data.csv\", \n",
    "                     header=True, inferSchema=True)"
   ]
  },
  {
   "cell_type": "code",
   "execution_count": 0,
   "metadata": {
    "application/vnd.databricks.v1+cell": {
     "cellMetadata": {
      "byteLimit": 2048000,
      "rowLimit": 10000
     },
     "inputWidgets": {},
     "nuid": "f72ed57c-22bd-404d-aa76-c8add2275c4b",
     "showTitle": false,
     "tableResultSettingsMap": {},
     "title": ""
    }
   },
   "outputs": [],
   "source": [
    "# Convert Spark DataFrame to Pandas DataFrame for visualization\n",
    "def to_pandas(df):\n",
    "    return df.toPandas()"
   ]
  },
  {
   "cell_type": "markdown",
   "metadata": {
    "application/vnd.databricks.v1+cell": {
     "cellMetadata": {},
     "inputWidgets": {},
     "nuid": "8e20b6b1-20c9-4ae0-be25-3c5e7e783124",
     "showTitle": false,
     "tableResultSettingsMap": {},
     "title": ""
    }
   },
   "source": [
    "- Product performance metrics "
   ]
  },
  {
   "cell_type": "code",
   "execution_count": 0,
   "metadata": {
    "application/vnd.databricks.v1+cell": {
     "cellMetadata": {
      "byteLimit": 2048000,
      "rowLimit": 10000
     },
     "inputWidgets": {},
     "nuid": "6c5311a4-ec56-494d-950c-fc3f2ce6ed6f",
     "showTitle": false,
     "tableResultSettingsMap": {},
     "title": ""
    }
   },
   "outputs": [
    {
     "data": {
      "text/html": [
       "<style scoped>\n",
       "  .table-result-container {\n",
       "    max-height: 300px;\n",
       "    overflow: auto;\n",
       "  }\n",
       "  table, th, td {\n",
       "    border: 1px solid black;\n",
       "    border-collapse: collapse;\n",
       "  }\n",
       "  th, td {\n",
       "    padding: 5px;\n",
       "  }\n",
       "  th {\n",
       "    text-align: left;\n",
       "  }\n",
       "</style><div class='table-result-container'><table class='table-result'><thead style='background-color: white'><tr><th>Product ID</th><th>Product Name</th><th>Total Sales</th><th>Average Sales</th><th>Total Orders</th></tr></thead><tbody><tr><td>FUR-BO-10003966</td><td>Sauder Facets Collection Library, Sky Alder Finish</td><td>1427.683</td><td>356.92075</td><td>4</td></tr><tr><td>OFF-BI-10000320</td><td>GBC Plastic Binding Combs</td><td>172.69199999999998</td><td>17.269199999999998</td><td>10</td></tr><tr><td>TEC-MA-10003626</td><td>Hewlett-Packard Deskjet 6540 Color Inkjet Printer</td><td>1001.282</td><td>500.641</td><td>2</td></tr><tr><td>OFF-SU-10004737</td><td>Acme Design Stainless Steel Bent Scissors</td><td>88.92000000000002</td><td>29.640000000000004</td><td>3</td></tr><tr><td>OFF-AP-10002892</td><td>Belkin F5C206VTEL 6 Outlet Surge</td><td>464.19599999999997</td><td>66.31371428571428</td><td>7</td></tr><tr><td>OFF-BI-10003314</td><td>Tuff Stuff Recycled Round Ring Binders</td><td>80.49399999999999</td><td>8.943777777777775</td><td>9</td></tr><tr><td>OFF-PA-10001837</td><td>Xerox 1976</td><td>36.288</td><td>18.144</td><td>2</td></tr><tr><td>TEC-MA-10003329</td><td>Vtech AT&T CL2940 Corded Speakerphone, Black</td><td>71.976</td><td>71.976</td><td>1</td></tr><tr><td>FUR-BO-10001619</td><td>O'Sullivan Cherrywood Estates Traditional Bookcase</td><td>424.90000000000003</td><td>212.45000000000002</td><td>2</td></tr><tr><td>OFF-BI-10003676</td><td>GBC Standard Recycled Report Covers, Clear Plastic Sheets</td><td>258.72</td><td>21.560000000000002</td><td>12</td></tr><tr><td>FUR-BO-10004409</td><td>Safco Value Mate Series Steel Bookcases, Baked Enamel Finish on Steel, Gray</td><td>858.858</td><td>143.143</td><td>6</td></tr><tr><td>FUR-FU-10002298</td><td>Rubbermaid ClusterMat Chairmats, Mat Size- 66\" x 60\", Lip 20\" x 11\" -90 Degree Angle</td><td>1866.926</td><td>373.3852</td><td>5</td></tr><tr><td>TEC-PH-10004093</td><td>Panasonic Kx-TS550</td><td>846.216</td><td>120.888</td><td>7</td></tr><tr><td>OFF-PA-10000304</td><td>Xerox 1995</td><td>95.90400000000002</td><td>19.180800000000005</td><td>5</td></tr><tr><td>FUR-FU-10003274</td><td>Regeneration Desk Collection</td><td>35.903999999999996</td><td>7.1808</td><td>5</td></tr><tr><td>OFF-FA-10002280</td><td>Advantus Plastic Paper Clips</td><td>225.0</td><td>22.5</td><td>10</td></tr><tr><td>OFF-AR-10004707</td><td>Staples in misc. colors</td><td>9.92</td><td>4.96</td><td>2</td></tr><tr><td>OFF-EN-10004147</td><td>Wausau Papers Astrobrights Colored Envelopes</td><td>50.232</td><td>16.744</td><td>3</td></tr><tr><td>TEC-MA-10002930</td><td>Ricoh - Ink Collector Unit for GX3000 Series Printers</td><td>465.64500000000004</td><td>155.215</td><td>3</td></tr><tr><td>OFF-LA-10002034</td><td>Avery 478</td><td>88.38</td><td>22.095</td><td>4</td></tr><tr><td>TEC-AC-10001432</td><td>Enermax Aurora Lite Keyboard</td><td>1641.15</td><td>328.23</td><td>5</td></tr><tr><td>OFF-AR-10003723</td><td>Avery Hi-Liter Fluorescent Desk Style Markers</td><td>20.279999999999998</td><td>10.139999999999999</td><td>2</td></tr><tr><td>FUR-FU-10004351</td><td>Staple-based wall hangings</td><td>202.592</td><td>33.76533333333334</td><td>6</td></tr><tr><td>OFF-BI-10000632</td><td>Satellite Sectional Post Binders</td><td>1219.821</td><td>110.89281818181817</td><td>11</td></tr><tr><td>FUR-FU-10003464</td><td>Seth Thomas 8 1/2\" Cubicle Clock</td><td>210.912</td><td>52.728</td><td>4</td></tr><tr><td>OFF-PA-10004610</td><td>Xerox 1900</td><td>75.328</td><td>12.554666666666668</td><td>6</td></tr><tr><td>TEC-AC-10004568</td><td>Maxell LTO Ultrium - 800 GB</td><td>1002.042</td><td>143.14885714285714</td><td>7</td></tr><tr><td>OFF-PA-10001295</td><td>Computer Printout Paper with Letter-Trim Perforations</td><td>405.95799999999997</td><td>57.99399999999999</td><td>7</td></tr><tr><td>OFF-FA-10003485</td><td>Staples</td><td>26.724</td><td>13.362</td><td>2</td></tr><tr><td>FUR-FU-10002963</td><td>Master Caster Door Stop, Gray</td><td>47.751999999999995</td><td>11.937999999999999</td><td>4</td></tr><tr><td>OFF-LA-10000081</td><td>Avery 496</td><td>50.25</td><td>12.5625</td><td>4</td></tr><tr><td>OFF-AP-10000390</td><td>Euro Pro Shark Stick Mini Vacuum</td><td>170.744</td><td>56.91466666666667</td><td>3</td></tr><tr><td>OFF-BI-10000279</td><td>Acco Recycled 2\" Capacity Laser Printer Hanging Data Binders</td><td>85.255</td><td>21.31375</td><td>4</td></tr><tr><td>OFF-BI-10000216</td><td>Mead 1st Gear 2\" Zipper Binder, Asst. Colors</td><td>54.474000000000004</td><td>18.158</td><td>3</td></tr><tr><td>OFF-ST-10000934</td><td>Contico 72\"H Heavy-Duty Storage System</td><td>598.308</td><td>119.66159999999999</td><td>5</td></tr><tr><td>OFF-EN-10000056</td><td>Cameo Buff Policy Envelopes</td><td>1456.1820000000002</td><td>208.02600000000004</td><td>7</td></tr><tr><td>FUR-FU-10004306</td><td>Electrix Halogen Magnifier Lamp</td><td>1700.762</td><td>340.1524</td><td>5</td></tr><tr><td>OFF-FA-10004854</td><td>Vinyl Coated Wire Paper Clips in Organizer Box, 800/Box</td><td>296.184</td><td>37.023</td><td>8</td></tr><tr><td>TEC-MA-10000822</td><td>Lexmark MX611dhe Monochrome Laser Printer</td><td>2002.564</td><td>500.641</td><td>4</td></tr><tr><td>OFF-LA-10004689</td><td>Avery 512</td><td>84.388</td><td>16.8776</td><td>5</td></tr><tr><td>OFF-AP-10004052</td><td>Hoover Replacement Belts For Soft Guard & Commercial Ltweight Upright Vacs, 2/Pk</td><td>56.09</td><td>11.218</td><td>5</td></tr><tr><td>OFF-BI-10004001</td><td>GBC Recycled VeloBinder Covers</td><td>487.34399999999994</td><td>60.91799999999999</td><td>8</td></tr><tr><td>FUR-FU-10002505</td><td>Eldon 100 Class Desk Accessories</td><td>36.395999999999994</td><td>9.098999999999998</td><td>4</td></tr><tr><td>TEC-PH-10002170</td><td>ClearSounds CSC500 Amplified Spirit Phone Corded phone</td><td>1119.84</td><td>186.64</td><td>6</td></tr><tr><td>OFF-BI-10004967</td><td>Round Ring Binders</td><td>29.952</td><td>4.992</td><td>6</td></tr><tr><td>OFF-BI-10003476</td><td>Avery Metallic Poly Binders</td><td>135.801</td><td>22.633499999999998</td><td>6</td></tr><tr><td>TEC-AC-10003399</td><td>Memorex Mini Travel Drive 64 GB USB 2.0 Flash Drive</td><td>507.36</td><td>101.47200000000001</td><td>5</td></tr><tr><td>TEC-PH-10000673</td><td>Plantronics Voyager Pro HD - Bluetooth Headset</td><td>1176.537</td><td>235.3074</td><td>5</td></tr><tr><td>FUR-FU-10004270</td><td>Eldon Image Series Desk Accessories, Burgundy</td><td>111.18799999999999</td><td>13.898499999999999</td><td>8</td></tr><tr><td>OFF-LA-10003190</td><td>Avery 474</td><td>78.336</td><td>8.704</td><td>9</td></tr><tr><td>TEC-PH-10003535</td><td>RCA ViSYS 25423RE1 Corded phone</td><td>159.984</td><td>159.984</td><td>1</td></tr><tr><td>OFF-AP-10000055</td><td>Belkin F9S820V06 8 Outlet Surge</td><td>266.336</td><td>66.584</td><td>4</td></tr><tr><td>OFF-SU-10000157</td><td>Compact Automatic Electric Letter Opener</td><td>2648.221</td><td>331.027625</td><td>8</td></tr><tr><td>TEC-PH-10002275</td><td>Mitel 5320 IP Phone VoIP phone</td><td>1606.0500000000002</td><td>401.51250000000005</td><td>4</td></tr><tr><td>OFF-BI-10002215</td><td>Wilson Jones Hanging View Binder, White, 1\"</td><td>143.42</td><td>20.488571428571426</td><td>7</td></tr><tr><td>TEC-PH-10001536</td><td>Spigen Samsung Galaxy S5 Case Wallet</td><td>234.462</td><td>46.892399999999995</td><td>5</td></tr><tr><td>TEC-CO-10002313</td><td>Canon PC1080F Personal Copier</td><td>2002.564</td><td>500.641</td><td>4</td></tr><tr><td>FUR-CH-10004983</td><td>Office Star - Mid Back Dual function Ergonomic High Back Chair with 2-Way Adjustable Arms</td><td>2437.21</td><td>487.442</td><td>5</td></tr><tr><td>OFF-PA-10000062</td><td>Green Bar Computer Printout Paper</td><td>857.376</td><td>171.4752</td><td>5</td></tr><tr><td>OFF-PA-10002615</td><td>Ampad Gold Fibre Wirebound Steno Books, 6\" x 9\", Gregg Ruled</td><td>106.722</td><td>13.34025</td><td>8</td></tr><tr><td>FUR-BO-10001567</td><td>Bush Westfield Collection Bookcases, Dark Cherry Finish, Fully Assembled</td><td>90.882</td><td>90.882</td><td>1</td></tr><tr><td>OFF-BI-10004364</td><td>Storex Dura Pro Binders</td><td>125.334</td><td>10.4445</td><td>12</td></tr><tr><td>OFF-PA-10003036</td><td>Black Print Carbonless 8 1/2\" x 8 1/4\" Rapid Memo Book</td><td>64.06400000000001</td><td>16.016000000000002</td><td>4</td></tr><tr><td>OFF-AR-10001427</td><td>Newell 330</td><td>59.80000000000001</td><td>14.950000000000003</td><td>4</td></tr><tr><td>OFF-BI-10003719</td><td>Large Capacity Hanging Post Binders</td><td>276.945</td><td>55.388999999999996</td><td>5</td></tr><tr><td>TEC-PH-10000702</td><td>Square Credit Card Reader, 4 1/2\" x 4 1/2\" x 1\", White</td><td>197.80200000000002</td><td>39.5604</td><td>5</td></tr><tr><td>FUR-TA-10004152</td><td>Barricks 18\" x 48\" Non-Folding Utility Table with Bottom Storage Shelf</td><td>1088.6399999999999</td><td>217.72799999999998</td><td>5</td></tr><tr><td>FUR-CH-10000553</td><td>Metal Folding Chairs, Beige, 4/Carton</td><td>685.588</td><td>137.11759999999998</td><td>5</td></tr><tr><td>OFF-ST-10003805</td><td>24 Capacity Maxi Data Binder Racks, Pearl</td><td>1923.0230000000001</td><td>480.75575000000003</td><td>4</td></tr><tr><td>FUR-FU-10004460</td><td>Howard Miller 12\" Round Wall Clock</td><td>479.33799999999997</td><td>239.66899999999998</td><td>2</td></tr><tr><td>TEC-AC-10004518</td><td>Memorex Mini Travel Drive 32 GB USB 2.0 Flash Drive</td><td>280.0</td><td>140.0</td><td>2</td></tr><tr><td>OFF-PA-10000308</td><td>Xerox 1901</td><td>16.896</td><td>16.896</td><td>1</td></tr><tr><td>OFF-PA-10002195</td><td>Xerox 1966</td><td>79.056</td><td>13.176</td><td>6</td></tr><tr><td>FUR-FU-10000308</td><td>Deflect-o Glass Clear Studded Chair Mats</td><td>1579.3719999999996</td><td>225.6245714285714</td><td>7</td></tr><tr><td>OFF-AR-10003405</td><td>Dixon My First Ticonderoga Pencil, #2</td><td>95.94</td><td>23.985</td><td>4</td></tr><tr><td>OFF-AR-10000658</td><td>Newell 324</td><td>228.68999999999997</td><td>38.114999999999995</td><td>6</td></tr><tr><td>TEC-AC-10002842</td><td>WD My Passport Ultra 2TB Portable External Hard Drive</td><td>3073.5640000000003</td><td>384.19550000000004</td><td>8</td></tr><tr><td>OFF-PA-10001838</td><td>Adams Telephone Message Book W/Dividers/Space For Phone Numbers, 5 1/4\"X8 1/2\", 300/Messages</td><td>132.888</td><td>13.2888</td><td>10</td></tr><tr><td>FUR-FU-10000397</td><td>Luxo Economy Swing Arm Lamp</td><td>338.98</td><td>67.796</td><td>5</td></tr><tr><td>FUR-TA-10002356</td><td>Bevis Boat-Shaped Conference Table</td><td>2364.2540000000004</td><td>394.0423333333334</td><td>6</td></tr><tr><td>OFF-PA-10004359</td><td>Multicolor Computer Printout Paper</td><td>1758.841</td><td>351.7682</td><td>5</td></tr><tr><td>FUR-FU-10001889</td><td>Ultra Door Pull Handle</td><td>239.85600000000002</td><td>47.9712</td><td>5</td></tr><tr><td>OFF-PA-10004735</td><td>Xerox 1905</td><td>146.448</td><td>29.2896</td><td>5</td></tr><tr><td>TEC-MA-10003173</td><td>Hewlett-Packard 300S Scientific Calculator</td><td>131.1</td><td>65.55</td><td>2</td></tr><tr><td>OFF-BI-10000666</td><td>Surelock Post Binders</td><td>653.9839999999999</td><td>81.74799999999999</td><td>8</td></tr><tr><td>OFF-PA-10000466</td><td>Memo Book, 100 Message Capacity, 5 3/8” x 11”</td><td>76.836</td><td>25.612</td><td>3</td></tr><tr><td>OFF-PA-10000029</td><td>Xerox 224</td><td>95.904</td><td>15.984</td><td>6</td></tr><tr><td>FUR-TA-10004147</td><td>Hon 4060 Series Tables</td><td>1231.56</td><td>307.89</td><td>4</td></tr><tr><td>OFF-EN-10001453</td><td>Tyvek Interoffice Envelopes, 9 1/2\" x 12 1/2\", 100/Box</td><td>939.0919999999999</td><td>187.81839999999997</td><td>5</td></tr><tr><td>OFF-PA-10004041</td><td>It's Hot Message Books with Stickers, 2 3/4\" x 5\"</td><td>131.72</td><td>26.344</td><td>5</td></tr><tr><td>OFF-AR-10004691</td><td>Boston 1730 StandUp Electric Pencil Sharpener</td><td>171.04000000000002</td><td>57.01333333333334</td><td>3</td></tr><tr><td>OFF-PA-10001870</td><td>Xerox 202</td><td>171.07200000000003</td><td>21.384000000000004</td><td>8</td></tr><tr><td>OFF-PA-10000501</td><td>Petty Cash Envelope</td><td>231.856</td><td>77.28533333333333</td><td>3</td></tr><tr><td>FUR-FU-10000305</td><td>Tenex V2T-RE Standard Weight Series Chair Mat, 45\" x 53\", Lip 25\" x 12\"</td><td>468.46799999999996</td><td>156.15599999999998</td><td>3</td></tr><tr><td>FUR-CH-10002331</td><td>Hon 4700 Series Mobuis Mid-Back Task Chairs with Adjustable Arms</td><td>3003.846</td><td>500.641</td><td>6</td></tr><tr><td>OFF-ST-10002583</td><td>Fellowes Neat Ideas Storage Cubes</td><td>480.7039999999999</td><td>68.67199999999998</td><td>7</td></tr><tr><td>OFF-ST-10000563</td><td>Fellowes Bankers Box Stor/Drawer Steel Plus</td><td>1426.308</td><td>118.859</td><td>12</td></tr><tr><td>OFF-AR-10003158</td><td>Fluorescent Highlighters by Dixon</td><td>90.744</td><td>18.1488</td><td>5</td></tr><tr><td>TEC-AC-10001142</td><td>First Data FD10 PIN Pad</td><td>1722.1999999999998</td><td>344.43999999999994</td><td>5</td></tr><tr><td>OFF-AP-10004233</td><td>Honeywell Enviracaire Portable Air Cleaner for up to 8 x 10 Room</td><td>299.20799999999997</td><td>149.60399999999998</td><td>2</td></tr><tr><td>OFF-PA-10004243</td><td>Xerox 1939</td><td>417.34</td><td>83.46799999999999</td><td>5</td></tr><tr><td>TEC-AC-10004992</td><td>Kingston Digital DataTraveler 64GB USB 2.0</td><td>202.68</td><td>101.34</td><td>2</td></tr><tr><td>OFF-PA-10004948</td><td>Xerox 190</td><td>29.88</td><td>14.94</td><td>2</td></tr><tr><td>OFF-AR-10004344</td><td>Bulldog Vacuum Base Pencil Sharpener</td><td>330.924</td><td>55.153999999999996</td><td>6</td></tr><tr><td>FUR-TA-10001676</td><td>Hon 61000 Series Interactive Training Tables</td><td>582.0329999999999</td><td>72.75412499999999</td><td>8</td></tr><tr><td>TEC-AC-10004396</td><td>Logitech Keyboard K120</td><td>174.24</td><td>58.080000000000005</td><td>3</td></tr><tr><td>TEC-MA-10001148</td><td>Swingline SM12-08 MicroCut Jam Free Shredder</td><td>1481.27</td><td>493.75666666666666</td><td>3</td></tr><tr><td>OFF-ST-10000585</td><td>Economy Rollaway Files</td><td>2322.882</td><td>331.8402857142857</td><td>7</td></tr><tr><td>TEC-PH-10001819</td><td>Innergie mMini Combo Duo USB Travel Charging Kit</td><td>746.8340000000001</td><td>124.47233333333334</td><td>6</td></tr><tr><td>OFF-PA-10002689</td><td>Weyerhaeuser First Choice Laser/Copy Paper (20Lb. and 88 Bright)</td><td>155.52</td><td>31.104000000000003</td><td>5</td></tr><tr><td>OFF-BI-10001249</td><td>Avery Heavy-Duty EZD View Binder with Locking Rings</td><td>170.984</td><td>17.0984</td><td>10</td></tr><tr><td>TEC-PH-10002033</td><td>Konftel 250 Conference phone - Charcoal black</td><td>1741.814</td><td>435.4535</td><td>4</td></tr><tr><td>OFF-PA-10001937</td><td>Xerox 21</td><td>124.416</td><td>17.773714285714284</td><td>7</td></tr><tr><td>TEC-PH-10000526</td><td>Vtech CS6719</td><td>2421.934</td><td>345.99057142857146</td><td>7</td></tr><tr><td>OFF-AR-10000940</td><td>Newell 343</td><td>65.268</td><td>9.324</td><td>7</td></tr><tr><td>OFF-BI-10000591</td><td>Avery Binder Labels</td><td>26.063000000000002</td><td>6.515750000000001</td><td>4</td></tr><tr><td>TEC-AC-10003095</td><td>Logitech G35 7.1-Channel Surround Sound Headset</td><td>2138.5150000000003</td><td>356.41916666666674</td><td>6</td></tr><tr><td>FUR-FU-10002918</td><td>Eldon ClusterMat Chair Mat with Cordless Antistatic Protection</td><td>1200.9360000000001</td><td>240.18720000000002</td><td>5</td></tr><tr><td>OFF-BI-10000605</td><td>Acco Pressboard Covers with Storage Hooks, 9 1/2\" x 11\", Executive Red</td><td>91.44000000000001</td><td>10.160000000000002</td><td>9</td></tr><tr><td>OFF-ST-10003221</td><td>Staple magnet</td><td>53.4</td><td>17.8</td><td>3</td></tr><tr><td>OFF-BI-10003694</td><td>Avery 3 1/2\" Diskette Storage Pages, 10/Pack</td><td>137.808</td><td>22.968</td><td>6</td></tr><tr><td>OFF-LA-10000262</td><td>Avery 494</td><td>56.376000000000005</td><td>9.396</td><td>6</td></tr><tr><td>FUR-CH-10003761</td><td>Global Italian Leather Office Chair</td><td>684.013</td><td>342.0065</td><td>2</td></tr><tr><td>FUR-BO-10002824</td><td>Bush Mission Pointe Library</td><td>748.861</td><td>249.62033333333332</td><td>3</td></tr><tr><td>OFF-BI-10004528</td><td>Cardinal Poly Pocket Divider Pockets for Ring Binders</td><td>40.32</td><td>10.08</td><td>4</td></tr><tr><td>OFF-BI-10002954</td><td>Newell 3-Hole Punched Plastic Slotted Magazine Holders for Binders</td><td>51.184000000000005</td><td>8.530666666666667</td><td>6</td></tr><tr><td>OFF-BI-10004506</td><td>Wilson Jones data.warehouse D-Ring Binders with DublLock</td><td>66.663</td><td>13.3326</td><td>5</td></tr><tr><td>TEC-PH-10002468</td><td>Plantronics CS 50-USB - headset - Convertible, Monaural</td><td>1071.799</td><td>267.94975</td><td>4</td></tr><tr><td>TEC-AC-10004209</td><td>Memorex Froggy Flash Drive 4 GB</td><td>136.276</td><td>27.255200000000002</td><td>5</td></tr><tr><td>FUR-CH-10000665</td><td>Global Airflow Leather Mesh Back Chair, Black</td><td>3210.404</td><td>401.3005</td><td>8</td></tr><tr><td>TEC-PH-10003095</td><td>Samsung HM1900 Bluetooth Headset</td><td>491.68</td><td>70.24</td><td>7</td></tr><tr><td>TEC-PH-10004348</td><td>OtterBox Defender Series Case - iPhone 5c</td><td>133.128</td><td>66.564</td><td>2</td></tr><tr><td>OFF-PA-10000474</td><td>Easy-staple paper</td><td>1020.6719999999998</td><td>92.78836363636361</td><td>11</td></tr><tr><td>OFF-SU-10003002</td><td>Letter Slitter</td><td>10.08</td><td>5.04</td><td>2</td></tr><tr><td>OFF-AR-10001026</td><td>Sanford Uni-Blazer View Highlighters, Chisel Tip, Yellow</td><td>30.8</td><td>10.266666666666667</td><td>3</td></tr><tr><td>OFF-PA-10004983</td><td>Xerox 23</td><td>134.78400000000002</td><td>26.956800000000005</td><td>5</td></tr><tr><td>OFF-AP-10004532</td><td>Kensington 6 Outlet Guardian Standard Surge Protector</td><td>409.6</td><td>68.26666666666667</td><td>6</td></tr><tr><td>OFF-BI-10004654</td><td>Avery Binding System Hidden Tab Executive Style Index Sets</td><td>91.743</td><td>11.467875</td><td>8</td></tr><tr><td>OFF-EN-10002621</td><td>Staple envelope</td><td>78.24</td><td>15.648</td><td>5</td></tr><tr><td>TEC-PH-10000307</td><td>Shocksock Galaxy S4 Armband</td><td>63.50999999999999</td><td>21.169999999999998</td><td>3</td></tr><tr><td>TEC-PH-10004924</td><td>SKILCRAFT Telephone Shoulder Rest, 2\" x 6.5\" x 2.5\", Black</td><td>56.164</td><td>18.721333333333334</td><td>3</td></tr><tr><td>OFF-PA-10000232</td><td>Xerox 1975</td><td>69.98400000000001</td><td>13.996800000000002</td><td>5</td></tr><tr><td>FUR-FU-10003806</td><td>Tenex Chairmat w/ Average Lip, 45\" x 53\"</td><td>1546.178</td><td>386.5445</td><td>4</td></tr><tr><td>OFF-PA-10002333</td><td>Universal Ultra Bright White Copier/Laser Paper, 8 1/2\" x 11\", Ream</td><td>15.552</td><td>15.552</td><td>1</td></tr><tr><td>TEC-PH-10000127</td><td>iOttie XL Car Mount</td><td>223.88799999999998</td><td>111.94399999999999</td><td>2</td></tr><tr><td>OFF-BI-10001031</td><td>Pressboard Data Binders by Wilson Jones</td><td>99.324</td><td>12.4155</td><td>8</td></tr><tr><td>TEC-AC-10003911</td><td>NETGEAR AC1750 Dual Band Gigabit Smart WiFi Router</td><td>2100.541</td><td>420.1082</td><td>5</td></tr><tr><td>OFF-SU-10004664</td><td>Acme Softgrip Scissors</td><td>166.056</td><td>41.514</td><td>4</td></tr><tr><td>OFF-LA-10000407</td><td>Avery White Multi-Purpose Labels</td><td>95.61600000000001</td><td>23.904000000000003</td><td>4</td></tr><tr><td>OFF-PA-10003657</td><td>Xerox 1927</td><td>65.056</td><td>13.011199999999999</td><td>5</td></tr><tr><td>OFF-BI-10002072</td><td>Cardinal Slant-D Ring Binders</td><td>102.542</td><td>25.6355</td><td>4</td></tr><tr><td>FUR-FU-10002240</td><td>Nu-Dell EZ-Mount Plastic Wall Frames</td><td>19.7</td><td>9.85</td><td>2</td></tr><tr><td>OFF-PA-10000556</td><td>Xerox 208</td><td>54.432</td><td>27.216</td><td>2</td></tr><tr><td>TEC-AC-10004595</td><td>First Data TMFD35 PIN Pad</td><td>571.2</td><td>285.6</td><td>2</td></tr><tr><td>TEC-PH-10002645</td><td>LG G2</td><td>500.641</td><td>500.641</td><td>1</td></tr><tr><td>FUR-FU-10004245</td><td>Career Cubicle Clock, 8 1/4\", Black</td><td>194.68800000000002</td><td>64.896</td><td>3</td></tr><tr><td>FUR-FU-10001935</td><td>3M Hangers With Command Adhesive</td><td>108.04</td><td>13.505</td><td>8</td></tr><tr><td>OFF-BI-10004141</td><td>Insertable Tab Indexes For Data Binders</td><td>17.49</td><td>3.4979999999999998</td><td>5</td></tr><tr><td>OFF-AR-10003045</td><td>Prang Colored Pencils</td><td>90.552</td><td>12.936000000000002</td><td>7</td></tr><tr><td>OFF-PA-10000327</td><td>Xerox 1971</td><td>110.424</td><td>22.0848</td><td>5</td></tr><tr><td>OFF-AP-10003266</td><td>Holmes Replacement Filter for HEPA Air Cleaner, Large Room</td><td>151.062</td><td>37.7655</td><td>4</td></tr><tr><td>OFF-PA-10000048</td><td>Xerox 20</td><td>6.48</td><td>6.48</td><td>1</td></tr><tr><td>TEC-AC-10004803</td><td>Sony Micro Vault Click 4 GB USB 2.0 Flash Drive</td><td>250.92</td><td>83.64</td><td>3</td></tr><tr><td>OFF-ST-10000136</td><td>Letter Size File</td><td>341.41999999999996</td><td>170.70999999999998</td><td>2</td></tr><tr><td>OFF-ST-10002743</td><td>SAFCO Boltless Steel Shelving</td><td>3774.7230000000004</td><td>377.4723</td><td>10</td></tr><tr><td>FUR-FU-10002456</td><td>Master Caster Door Stop, Large Neon Orange</td><td>154.33599999999998</td><td>22.048</td><td>7</td></tr><tr><td>FUR-FU-10001967</td><td>Telescoping Adjustable Floor Lamp</td><td>143.928</td><td>23.988</td><td>6</td></tr><tr><td>OFF-ST-10003722</td><td>Project Tote Personal File</td><td>193.61399999999998</td><td>48.403499999999994</td><td>4</td></tr><tr><td>FUR-CH-10000749</td><td>Office Star - Ergonomic Mid Back Chair with 2-Way Adjustable Arms</td><td>1001.282</td><td>500.641</td><td>2</td></tr><tr><td>FUR-CH-10000513</td><td>High-Back Leather Manager's Chair</td><td>3120.119</td><td>346.6798888888889</td><td>9</td></tr><tr><td>OFF-PA-10004996</td><td>Speediset Carbonless Redi-Letter 7\" x 8 1/2\"</td><td>160.836</td><td>40.209</td><td>4</td></tr><tr><td>FUR-CH-10001802</td><td>Hon Every-Day Chair Series Swivel Task Chairs</td><td>967.84</td><td>322.61333333333334</td><td>3</td></tr><tr><td>OFF-BI-10004654</td><td>VariCap6 Expandable Binder</td><td>122.82999999999998</td><td>40.94333333333333</td><td>3</td></tr><tr><td>OFF-EN-10002230</td><td>Airmail Envelopes</td><td>1359.6660000000002</td><td>226.61100000000002</td><td>6</td></tr><tr><td>OFF-BI-10000756</td><td>Storex DuraTech Recycled Plastic Frosted Binders</td><td>94.128</td><td>11.766</td><td>8</td></tr><tr><td>OFF-AR-10004930</td><td>Turquoise Lead Holder with Pocket Clip</td><td>37.52</td><td>12.506666666666668</td><td>3</td></tr><tr><td>OFF-ST-10001932</td><td>Fellowes Staxonsteel Drawer Files</td><td>3390.186</td><td>484.31228571428574</td><td>7</td></tr><tr><td>OFF-EN-10001219</td><td>#10- 4 1/8\" x 9 1/2\" Security-Tint Envelopes</td><td>146.688</td><td>18.336</td><td>8</td></tr><tr><td>OFF-PA-10000141</td><td>Ampad Evidence Wirebond Steno Books, 6\" x 9\"</td><td>16.568</td><td>5.522666666666667</td><td>3</td></tr><tr><td>FUR-FU-10003773</td><td>Eldon Cleatmat Plus Chair Mats for High Pile Carpets</td><td>1304.128</td><td>260.8256</td><td>5</td></tr><tr><td>FUR-FU-10003849</td><td>DAX Metal Frame, Desktop, Stepped-Edge</td><td>161.92</td><td>32.384</td><td>5</td></tr><tr><td>OFF-AR-10002257</td><td>Eldon Spacemaker Box, Quick-Snap Lid, Clear</td><td>50.768</td><td>8.461333333333334</td><td>6</td></tr><tr><td>OFF-EN-10002973</td><td>Ampad #10 Peel & Seel Holiday Envelopes</td><td>53.76</td><td>17.919999999999998</td><td>3</td></tr><tr><td>FUR-TA-10004442</td><td>Riverside Furniture Stanwyck Manor Table Series</td><td>917.9200000000001</td><td>305.97333333333336</td><td>3</td></tr><tr><td>OFF-BI-10002706</td><td>Avery Premier Heavy-Duty Binder with Round Locking Rings</td><td>191.352</td><td>27.336000000000002</td><td>7</td></tr><tr><td>OFF-BI-10000069</td><td>GBC Prepunched Paper, 19-Hole, for Binding Systems, 24-lb</td><td>433.789</td><td>54.223625</td><td>8</td></tr><tr><td>OFF-ST-10000943</td><td>Eldon ProFile File 'N Store Portable File Tub Letter/Legal Size Black</td><td>614.058</td><td>87.72257142857143</td><td>7</td></tr><tr><td>TEC-AC-10002370</td><td>Maxell CD-R Discs</td><td>15.76</td><td>5.253333333333333</td><td>3</td></tr><tr><td>OFF-BI-10001308</td><td>GBC Standard Plastic Binding Systems' Combs</td><td>108.644</td><td>13.5805</td><td>8</td></tr><tr><td>OFF-PA-10001776</td><td>Wirebound Message Books, Four 2 3/4\" x 5\" Forms per Page, 600 Sets per Book</td><td>200.23199999999997</td><td>25.028999999999996</td><td>8</td></tr><tr><td>TEC-MA-10000029</td><td>Epson WorkForce WF-2530 All-in-One Printer, Copier Scanner</td><td>279.96</td><td>139.98</td><td>2</td></tr><tr><td>FUR-CH-10002961</td><td>Leather Task Chair, Black</td><td>864.3100000000001</td><td>172.86200000000002</td><td>5</td></tr><tr><td>OFF-PA-10003823</td><td>Xerox 197</td><td>501.876</td><td>167.292</td><td>3</td></tr><tr><td>OFF-SU-10000646</td><td>Premier Automatic Letter Opener</td><td>2106.9840000000004</td><td>421.3968000000001</td><td>5</td></tr><tr><td>TEC-PH-10001336</td><td>Digium D40 VoIP phone</td><td>2652.3540000000003</td><td>294.706</td><td>9</td></tr><tr><td>OFF-FA-10000585</td><td>OIC Bulk Pack Metal Binder Clips</td><td>92.136</td><td>11.517</td><td>8</td></tr><tr><td>OFF-BI-10001036</td><td>Cardinal EasyOpen D-Ring Binders</td><td>209.306</td><td>26.16325</td><td>8</td></tr><tr><td>OFF-AP-10002350</td><td>Belkin F9H710-06 7 Outlet SurgeMaster Surge Protector</td><td>516.216</td><td>64.527</td><td>8</td></tr><tr><td>OFF-AR-10000462</td><td>Sanford Pocket Accent Highlighters</td><td>11.2</td><td>5.6</td><td>2</td></tr><tr><td>TEC-MA-10003337</td><td>Okidata B401 Printer</td><td>179.991</td><td>179.991</td><td>1</td></tr><tr><td>OFF-AR-10003514</td><td>4009 Highlighters by Sanford</td><td>171.14</td><td>21.3925</td><td>8</td></tr><tr><td>OFF-ST-10000636</td><td>Rogers Profile Extra Capacity Storage Tub</td><td>518.94</td><td>74.13428571428572</td><td>7</td></tr><tr><td>OFF-BI-10001658</td><td>GBC Standard Therm-A-Bind Covers</td><td>443.576</td><td>40.32509090909091</td><td>11</td></tr><tr><td>FUR-FU-10000719</td><td>DAX Cubicle Frames, 8-1/2 x 11</td><td>145.69</td><td>36.4225</td><td>4</td></tr><tr><td>OFF-FA-10002676</td><td>Colored Push Pins</td><td>24.977999999999998</td><td>4.9956</td><td>5</td></tr><tr><td>OFF-AR-10000538</td><td>Boston Model 1800 Electric Pencil Sharpener, Gray</td><td>264.61</td><td>132.305</td><td>2</td></tr><tr><td>TEC-MA-10003176</td><td>Okidata B400 Printer</td><td>843.841</td><td>421.9205</td><td>2</td></tr><tr><td>TEC-AC-10002323</td><td>SanDisk Ultra 32 GB MicroSDHC Class 10 Memory Card</td><td>884.0000000000001</td><td>80.36363636363637</td><td>11</td></tr><tr><td>OFF-PA-10002986</td><td>Xerox 1898</td><td>280.56</td><td>25.505454545454544</td><td>11</td></tr><tr><td>OFF-BI-10001765</td><td>Wilson Jones Heavy-Duty Casebound Ring Binders with Metal Hinges</td><td>554.24</td><td>92.37333333333333</td><td>6</td></tr><tr><td>TEC-AC-10002718</td><td>Belkin Standard 104 key USB Keyboard</td><td>265.538</td><td>44.25633333333334</td><td>6</td></tr><tr><td>TEC-PH-10001079</td><td>Polycom SoundPoint Pro SE-225 Corded phone</td><td>1405.848</td><td>351.462</td><td>4</td></tr><tr><td>OFF-EN-10004007</td><td>Park Ridge Embossed Executive Business Envelopes</td><td>62.28</td><td>62.28</td><td>1</td></tr><tr><td>OFF-ST-10001496</td><td>Standard Rollaway File with Lock</td><td>4517.442</td><td>451.7442</td><td>10</td></tr><tr><td>FUR-FU-10004090</td><td>Executive Impressions 14\" Contract Wall Clock</td><td>346.78800000000007</td><td>49.541142857142866</td><td>7</td></tr><tr><td>OFF-ST-10001291</td><td>Tenex Personal Self-Stacking Standard File Box, Black/Gray</td><td>229.976</td><td>45.9952</td><td>5</td></tr><tr><td>OFF-EN-10003296</td><td>Tyvek Side-Opening Peel & Seel Expanding Envelopes</td><td>1266.72</td><td>253.344</td><td>5</td></tr><tr><td>TEC-PH-10001433</td><td>Cisco Small Business SPA 502G VoIP phone</td><td>882.102</td><td>220.5255</td><td>4</td></tr><tr><td>TEC-PH-10002293</td><td>Anker 36W 4-Port USB Wall Charger Travel Power Adapter for iPhone 5s 5c 5</td><td>339.83</td><td>56.63833333333333</td><td>6</td></tr><tr><td>FUR-BO-10004360</td><td>Rush Hierlooms Collection Rich Wood Bookcases</td><td>489.379</td><td>244.6895</td><td>2</td></tr><tr><td>TEC-PH-10004345</td><td>Cisco SPA 502G IP Phone</td><td>1700.1409999999998</td><td>340.02819999999997</td><td>5</td></tr><tr><td>OFF-ST-10000760</td><td>Eldon Fold 'N Roll Cart System</td><td>301.96799999999996</td><td>60.39359999999999</td><td>5</td></tr><tr><td>TEC-PH-10001363</td><td>Apple iPhone 5S</td><td>2002.564</td><td>500.641</td><td>4</td></tr><tr><td>OFF-PA-10000246</td><td>Riverleaf Stik-Withit Designer Note Cubes</td><td>136.816</td><td>27.3632</td><td>5</td></tr><tr><td>FUR-CH-10004626</td><td>Office Star Flex Back Scooter Chair with Aluminum Finish Frame</td><td>1438.9180000000001</td><td>287.78360000000004</td><td>5</td></tr><tr><td>OFF-LA-10002043</td><td>Avery 489</td><td>159.39</td><td>31.877999999999997</td><td>5</td></tr><tr><td>TEC-MA-10001681</td><td>Lexmark MarkNet N8150 Wireless Print Server</td><td>723.51</td><td>361.755</td><td>2</td></tr><tr><td>TEC-MA-10002937</td><td>Canon Color ImageCLASS MF8580Cdw Wireless Laser All-In-One Printer, Copier, Scanner</td><td>500.641</td><td>500.641</td><td>1</td></tr><tr><td>TEC-PH-10004071</td><td>PayAnywhere Card Reader</td><td>199.8</td><td>39.96</td><td>5</td></tr><tr><td>FUR-CH-10000863</td><td>Novimex Swivel Fabric Task Chair</td><td>2148.73</td><td>306.9614285714286</td><td>7</td></tr><tr><td>OFF-BI-10003684</td><td>Wilson Jones Legal Size Ring Binders</td><td>532.158</td><td>59.12866666666667</td><td>9</td></tr><tr><td>FUR-CH-10004698</td><td>Padded Folding Chairs, Black, 4/Carton</td><td>1830.1480000000001</td><td>228.76850000000002</td><td>8</td></tr><tr><td>TEC-MA-10003246</td><td>Hewlett-Packard Deskjet D4360 Printer</td><td>447.968</td><td>447.968</td><td>1</td></tr><tr><td>OFF-AR-10001315</td><td>Newell 310</td><td>38.72</td><td>5.531428571428571</td><td>7</td></tr><tr><td>FUR-FU-10003268</td><td>Eldon Radial Chair Mat for Low to Medium Pile Carpets</td><td>775.612</td><td>129.26866666666666</td><td>6</td></tr><tr><td>FUR-FU-10002597</td><td>C-Line Magnetic Cubicle Keepers, Clear Polypropylene</td><td>136.344</td><td>19.477714285714285</td><td>7</td></tr><tr><td>OFF-PA-10001215</td><td>Xerox 1963</td><td>34.848</td><td>17.424</td><td>2</td></tr><tr><td>OFF-ST-10002289</td><td>Safco Wire Cube Shelving System, For Use as 4 or 5 14\" Cubes, Black</td><td>406.784</td><td>101.696</td><td>4</td></tr><tr><td>TEC-PH-10000562</td><td>Samsung Convoy 3</td><td>688.138</td><td>344.069</td><td>2</td></tr><tr><td>OFF-PA-10001307</td><td>Important Message Pads, 50 4-1/4 x 5-1/2 Forms per Pad</td><td>54.599999999999994</td><td>13.649999999999999</td><td>4</td></tr><tr><td>FUR-FU-10004597</td><td>Eldon Cleatmat Chair Mats for Medium Pile Carpets</td><td>344.09999999999997</td><td>86.02499999999999</td><td>4</td></tr><tr><td>OFF-EN-10003134</td><td>Staple envelope</td><td>247.61599999999999</td><td>35.373714285714286</td><td>7</td></tr><tr><td>OFF-PA-10001712</td><td>Xerox 1948</td><td>149.85000000000002</td><td>49.95000000000001</td><td>3</td></tr><tr><td>OFF-ST-10002444</td><td>Recycled Eldon Regeneration Jumbo File</td><td>235.776</td><td>39.296</td><td>6</td></tr><tr><td>OFF-EN-10002500</td><td>Globe Weis Peel & Seel First Class Envelopes</td><td>375.73199999999997</td><td>53.675999999999995</td><td>7</td></tr><tr><td>OFF-PA-10004621</td><td>Xerox 212</td><td>141.26399999999998</td><td>20.180571428571426</td><td>7</td></tr><tr><td>OFF-AR-10001545</td><td>Newell 326</td><td>36.608</td><td>6.101333333333333</td><td>6</td></tr><tr><td>OFF-PA-10000174</td><td>Message Book, Wirebound, Four 5 1/2\" X 4\" Forms/Pg., 200 Dupl. Sets/Book</td><td>152.144</td><td>25.357333333333333</td><td>6</td></tr><tr><td>OFF-AR-10000390</td><td>Newell Chalk Holder</td><td>83.42600000000002</td><td>11.918000000000003</td><td>7</td></tr><tr><td>OFF-FA-10000304</td><td>Advantus Push Pins</td><td>54.936</td><td>7.848</td><td>7</td></tr><tr><td>OFF-LA-10002762</td><td>Avery 485</td><td>639.03</td><td>79.87875</td><td>8</td></tr><tr><td>OFF-PA-10003936</td><td>Xerox 1994</td><td>76.464</td><td>19.116</td><td>4</td></tr><tr><td>OFF-BI-10003274</td><td>Avery Durable Slant Ring Binders, No Labels</td><td>89.55</td><td>9.95</td><td>9</td></tr><tr><td>TEC-PH-10003800</td><td>i.Sound Portable Power - 8000 mAh</td><td>413.322</td><td>82.6644</td><td>5</td></tr><tr><td>OFF-PA-10003134</td><td>Xerox 1937</td><td>499.616</td><td>124.904</td><td>4</td></tr><tr><td>OFF-PA-10004971</td><td>Xerox 196</td><td>92.48</td><td>11.56</td><td>8</td></tr><tr><td>OFF-PA-10003892</td><td>Xerox 1943</td><td>743.432</td><td>185.858</td><td>4</td></tr><tr><td>OFF-EN-10002312</td><td>#10 Self-Seal White Envelopes</td><td>108.68200000000002</td><td>27.170500000000004</td><td>4</td></tr><tr><td>OFF-LA-10000973</td><td>Avery 502</td><td>17.64</td><td>5.88</td><td>3</td></tr><tr><td>OFF-AR-10001988</td><td>Bulldog Table or Wall-Mount Pencil Sharpener</td><td>77.87</td><td>25.956666666666667</td><td>3</td></tr><tr><td>FUR-CH-10003379</td><td>Global Commerce Series High-Back Swivel/Tilt Chairs</td><td>4404.1</td><td>489.3444444444445</td><td>9</td></tr><tr><td>OFF-ST-10002301</td><td>Tennsco Commercial Shelving</td><td>374.256</td><td>41.583999999999996</td><td>9</td></tr><tr><td>TEC-MA-10002859</td><td>Ativa MDM8000 8-Sheet Micro-Cut Shredder</td><td>788.609</td><td>394.3045</td><td>2</td></tr><tr><td>OFF-AR-10002656</td><td>Sanford Liquid Accent Highlighters</td><td>149.632</td><td>29.9264</td><td>5</td></tr><tr><td>OFF-PA-10000788</td><td>Xerox 210</td><td>95.904</td><td>15.984</td><td>6</td></tr><tr><td>FUR-FU-10002364</td><td>Eldon Expressions Wood Desk Accessories, Oak</td><td>175.644</td><td>15.967636363636364</td><td>11</td></tr><tr><td>OFF-LA-10000634</td><td>Avery 509</td><td>32.364</td><td>8.091</td><td>4</td></tr><tr><td>FUR-FU-10001085</td><td>3M Polarizing Light Filter Sleeves</td><td>216.34</td><td>54.085</td><td>4</td></tr><tr><td>TEC-PH-10002922</td><td>ShoreTel ShorePhone IP 230 VoIP phone</td><td>1839.9030000000002</td><td>459.97575000000006</td><td>4</td></tr><tr><td>OFF-SU-10002557</td><td>Fiskars Spring-Action Scissors</td><td>75.492</td><td>18.873</td><td>4</td></tr><tr><td>TEC-AC-10001990</td><td>Kensington Orbit Wireless Mobile Trackball for PC and Mac</td><td>1412.4889999999998</td><td>353.12224999999995</td><td>4</td></tr><tr><td>OFF-BI-10002194</td><td>Cardinal Hold-It CD Pocket</td><td>38.304</td><td>9.576</td><td>4</td></tr><tr><td>OFF-AR-10001216</td><td>Newell 339</td><td>26.688000000000002</td><td>8.896</td><td>3</td></tr><tr><td>OFF-LA-10002473</td><td>Avery 484</td><td>9.216</td><td>9.216</td><td>1</td></tr><tr><td>OFF-BI-10003196</td><td>Accohide Poly Flexible Ring Binders</td><td>43.758</td><td>5.46975</td><td>8</td></tr><tr><td>OFF-BI-10001634</td><td>Wilson Jones Active Use Binders</td><td>115.024</td><td>19.170666666666666</td><td>6</td></tr><tr><td>OFF-BI-10003364</td><td>Binding Machine Supplies</td><td>667.9930000000002</td><td>74.22144444444446</td><td>9</td></tr><tr><td>TEC-PH-10004830</td><td>Pyle PRT45 Retro Home Telephone</td><td>201.568</td><td>201.568</td><td>1</td></tr><tr><td>OFF-AP-10002082</td><td>Holmes HEPA Air Purifier</td><td>239.57999999999998</td><td>39.93</td><td>6</td></tr><tr><td>TEC-PH-10002789</td><td>LG Exalt</td><td>906.215</td><td>302.07166666666666</td><td>3</td></tr><tr><td>OFF-BI-10003091</td><td>GBC DocuBind TL200 Manual Binding Machine</td><td>2570.3990000000003</td><td>428.3998333333334</td><td>6</td></tr><tr><td>OFF-SU-10000381</td><td>Acme Forged Steel Scissors with Black Enamel Handles</td><td>279.3</td><td>34.9125</td><td>8</td></tr><tr><td>TEC-CO-10001571</td><td>Sharp 1540cs Digital Laser Copier</td><td>3383.1890000000003</td><td>483.3127142857143</td><td>7</td></tr><tr><td>OFF-AR-10002956</td><td>Boston 16801 Nautilus Battery Pencil Sharpener</td><td>444.602</td><td>74.10033333333332</td><td>6</td></tr><tr><td>OFF-PA-10004092</td><td>Tops Green Bar Computer Printout Paper</td><td>342.58</td><td>114.19333333333333</td><td>3</td></tr><tr><td>OFF-PA-10001243</td><td>Xerox 1983</td><td>29.900000000000002</td><td>14.950000000000001</td><td>2</td></tr><tr><td>OFF-AP-10003099</td><td>Eureka Hand Vacuum, Bagless</td><td>197.72</td><td>197.72</td><td>1</td></tr><tr><td>OFF-AR-10004974</td><td>Newell 342</td><td>9.84</td><td>9.84</td><td>1</td></tr><tr><td>FUR-FU-10003664</td><td>Electrix Architect's Clamp-On Swing Arm Lamp, Black</td><td>1955.8819999999998</td><td>391.17639999999994</td><td>5</td></tr><tr><td>FUR-CH-10003973</td><td>GuestStacker Chair with Chrome Finish Legs</td><td>4005.128</td><td>500.641</td><td>8</td></tr><tr><td>OFF-PA-10004569</td><td>Wirebound Message Books, Two 4 1/4\" x 5\" Forms per Page</td><td>109.58399999999999</td><td>18.264</td><td>6</td></tr><tr><td>OFF-AP-10004708</td><td>Fellowes Superior 10 Outlet Split Surge Protector</td><td>867.7680000000001</td><td>96.41866666666668</td><td>9</td></tr><tr><td>TEC-PH-10003931</td><td>JBL Micro Wireless Portable Bluetooth Speaker</td><td>779.87</td><td>129.97833333333332</td><td>6</td></tr><tr><td>OFF-EN-10004483</td><td>#10 White Business Envelopes,4 1/8 x 9 1/2</td><td>379.214</td><td>63.202333333333335</td><td>6</td></tr><tr><td>FUR-CH-10000595</td><td>Safco Contoured Stacking Chairs</td><td>3552.1650000000004</td><td>444.02062500000005</td><td>8</td></tr><tr><td>TEC-AC-10004145</td><td>Logitech diNovo Edge Keyboard</td><td>2502.544</td><td>500.50879999999995</td><td>5</td></tr><tr><td>OFF-AR-10004956</td><td>Newell 33</td><td>47.988</td><td>15.996</td><td>3</td></tr><tr><td>FUR-FU-10001847</td><td>Eldon Image Series Black Desk Accessories</td><td>48.852</td><td>9.770399999999999</td><td>5</td></tr><tr><td>OFF-AR-10001955</td><td>Newell 319</td><td>511.872</td><td>63.984</td><td>8</td></tr><tr><td>OFF-FA-10001332</td><td>Acco Banker's Clasps, 5 3/4\"-Long</td><td>40.896</td><td>8.1792</td><td>5</td></tr><tr><td>TEC-PH-10001552</td><td>I Need's 3d Hello Kitty Hybrid Silicone Case Cover for HTC One X 4g with 3d Hello Kitty Stylus Pen Green/pink</td><td>542.984</td><td>54.2984</td><td>10</td></tr><tr><td>OFF-EN-10004459</td><td>Security-Tint Envelopes</td><td>163.496</td><td>18.166222222222224</td><td>9</td></tr><tr><td>OFF-SU-10002537</td><td>Acme Box Cutter Scissors</td><td>255.75</td><td>51.15</td><td>5</td></tr><tr><td>TEC-AC-10001542</td><td>SanDisk Cruzer 16 GB USB Flash Drive</td><td>107.912</td><td>35.970666666666666</td><td>3</td></tr><tr><td>OFF-ST-10000615</td><td>SimpliFile Personal File, Black Granite, 15w x 6-15/16d x 11-1/4h</td><td>347.31</td><td>43.41375</td><td>8</td></tr><tr><td>OFF-ST-10001963</td><td>Tennsco Regal Shelving Units</td><td>1453.895</td><td>363.47375</td><td>4</td></tr><tr><td>OFF-AR-10003217</td><td>Newell 316</td><td>46.944</td><td>23.472</td><td>2</td></tr><tr><td>FUR-FU-10000576</td><td>Luxo Professional Fluorescent Magnifier Lamp with Clamp-Mount Base</td><td>2257.347</td><td>451.46940000000006</td><td>5</td></tr><tr><td>FUR-BO-10004467</td><td>Bestar Classic Bookcase</td><td>1897.8110000000001</td><td>237.22637500000002</td><td>8</td></tr><tr><td>OFF-BI-10002225</td><td>Square Ring Data Binders, Rigid 75 Pt. Covers, 11\" x 14-7/8\"</td><td>334.36800000000005</td><td>47.76685714285715</td><td>7</td></tr><tr><td>OFF-ST-10004963</td><td>Eldon Gobal File Keepers</td><td>348.21999999999997</td><td>58.03666666666666</td><td>6</td></tr><tr><td>OFF-ST-10002974</td><td>Trav-L-File Heavy-Duty Shuttle II, Black</td><td>1193.818</td><td>170.54542857142857</td><td>7</td></tr><tr><td>OFF-ST-10002562</td><td>Staple magnet</td><td>200.73200000000003</td><td>33.455333333333336</td><td>6</td></tr><tr><td>FUR-CH-10002044</td><td>Office Star - Contemporary Task Swivel chair with 2-way adjustable arms, Plum</td><td>694.194</td><td>347.097</td><td>2</td></tr><tr><td>OFF-AP-10003842</td><td>Euro-Pro Shark Turbo Vacuum</td><td>693.952</td><td>115.65866666666666</td><td>6</td></tr><tr><td>FUR-TA-10001857</td><td>Balt Solid Wood Rectangular Table</td><td>828.097</td><td>207.02425</td><td>4</td></tr><tr><td>FUR-TA-10004154</td><td>Riverside Furniture Oval Coffee Table, Oval End Table, End Table with Drawer</td><td>1833.147</td><td>366.6294</td><td>5</td></tr><tr><td>TEC-PH-10001299</td><td>Polycom CX300 Desktop Phone USB VoIP phone</td><td>1640.565</td><td>328.113</td><td>5</td></tr><tr><td>TEC-AC-10002942</td><td>WD My Passport Ultra 1TB Portable External Hard Drive</td><td>1007.4000000000001</td><td>167.9</td><td>6</td></tr><tr><td>TEC-AC-10003280</td><td>Belkin F8E887 USB Wired Ergonomic Keyboard</td><td>563.812</td><td>70.4765</td><td>8</td></tr><tr><td>TEC-AC-10003614</td><td>Verbatim 25 GB 6x Blu-ray Single Layer Recordable Disc, 10/Pack</td><td>150.67</td><td>30.133999999999997</td><td>5</td></tr><tr><td>TEC-MA-10000864</td><td>Cisco 9971 IP Video Phone Charcoal</td><td>1001.282</td><td>500.641</td><td>2</td></tr><tr><td>FUR-FU-10003347</td><td>Coloredge Poster Frame</td><td>298.2</td><td>49.699999999999996</td><td>6</td></tr><tr><td>OFF-PA-10002250</td><td>Things To Do Today Pad</td><td>138.532</td><td>19.790285714285716</td><td>7</td></tr><tr><td>OFF-PA-10001293</td><td>Xerox 1946</td><td>79.05600000000001</td><td>26.352000000000004</td><td>3</td></tr><tr><td>TEC-PH-10004389</td><td>Nokia Lumia 925</td><td>1180.987</td><td>393.6623333333334</td><td>3</td></tr><tr><td>OFF-ST-10000736</td><td>Carina Double Wide Media Storage Towers in Natural & Black</td><td>2800.4730000000004</td><td>233.37275000000002</td><td>12</td></tr><tr><td>OFF-BI-10000309</td><td>GBC Twin Loop Wire Binding Elements, 9/16\" Spine, Black</td><td>269.39399999999995</td><td>29.932666666666663</td><td>9</td></tr><tr><td>FUR-TA-10001705</td><td>Bush Advantage Collection Round Conference Table</td><td>1735.7830000000001</td><td>433.94575000000003</td><td>4</td></tr><tr><td>OFF-BI-10000948</td><td>GBC Laser Imprintable Binding System Covers, Desert Sand</td><td>112.733</td><td>22.5466</td><td>5</td></tr><tr><td>TEC-PH-10003589</td><td>invisibleSHIELD by ZAGG Smudge-Free Screen Protector</td><td>442.5539999999999</td><td>63.22199999999999</td><td>7</td></tr><tr><td>TEC-MA-10004086</td><td>Plantronics Single Ear Headset</td><td>29.925</td><td>29.925</td><td>1</td></tr><tr><td>OFF-FA-10000735</td><td>Staples</td><td>54.312000000000005</td><td>10.862400000000001</td><td>5</td></tr><tr><td>FUR-TA-10000577</td><td>Bretford CR4500 Series Slim Rectangular Table</td><td>3696.003</td><td>462.000375</td><td>8</td></tr><tr><td>OFF-ST-10002205</td><td>File Shuttle I and Handi-File</td><td>262.668</td><td>87.556</td><td>3</td></tr><tr><td>OFF-ST-10002756</td><td>Tennsco Stur-D-Stor Boltless Shelving, 5 Shelves, 24\" Deep, Sand</td><td>3098.569</td><td>442.6527142857143</td><td>7</td></tr><tr><td>OFF-AR-10002987</td><td>Prismacolor Color Pencil Set</td><td>396.79999999999995</td><td>66.13333333333333</td><td>6</td></tr><tr><td>TEC-PH-10000193</td><td>Jensen SMPS-640 - speaker phone</td><td>496.584</td><td>124.146</td><td>4</td></tr><tr><td>TEC-AC-10001714</td><td>Logitech MX Performance Wireless Mouse</td><td>749.9319999999999</td><td>124.98866666666665</td><td>6</td></tr><tr><td>OFF-EN-10004386</td><td>Recycled Interoffice Envelopes with String and Button Closure, 10 x 13</td><td>235.10199999999998</td><td>58.775499999999994</td><td>4</td></tr><tr><td>OFF-AP-10001303</td><td>Holmes Cool Mist Humidifier for the Whole House with 8-Gallon Output per Day, Extended Life Filter</td><td>147.26</td><td>36.815</td><td>4</td></tr><tr><td>OFF-PA-10002377</td><td>Xerox 1916</td><td>831.98</td><td>118.85428571428572</td><td>7</td></tr><tr><td>FUR-FU-10001602</td><td>Eldon Delta Triangular Chair Mat, 52\" x 58\", Clear</td><td>546.192</td><td>91.032</td><td>6</td></tr><tr><td>OFF-BI-10002799</td><td>SlimView Poly Binder, 3/8\"</td><td>117.58600000000001</td><td>16.798000000000002</td><td>7</td></tr><tr><td>OFF-ST-10000142</td><td>Deluxe Rollaway Locking File with Drawer</td><td>2335.268</td><td>467.0536</td><td>5</td></tr><tr><td>OFF-AP-10000595</td><td>Disposable Triple-Filter Dust Bags</td><td>30.59</td><td>10.196666666666667</td><td>3</td></tr><tr><td>OFF-BI-10000546</td><td>Avery Durable Binders</td><td>87.264</td><td>7.271999999999999</td><td>12</td></tr><tr><td>FUR-FU-10002116</td><td>Tenex Carpeted, Granite-Look or Clear Contemporary Contour Shape Chair Mats</td><td>763.668</td><td>152.7336</td><td>5</td></tr><tr><td>OFF-ST-10000464</td><td>Multi-Use Personal File Cart and Caster Set, Three Stacking Bins</td><td>368.45599999999996</td><td>73.6912</td><td>5</td></tr><tr><td>OFF-AR-10001761</td><td>Avery Hi-Liter Smear-Safe Highlighters</td><td>114.46400000000001</td><td>22.8928</td><td>5</td></tr><tr><td>OFF-AP-10003779</td><td>Kensington 7 Outlet MasterPiece Power Center with Fax/Phone Line Protection</td><td>1309.813</td><td>327.45325</td><td>4</td></tr><tr><td>OFF-BI-10001922</td><td>Storex Dura Pro Binders</td><td>153.252</td><td>30.6504</td><td>5</td></tr><tr><td>OFF-BI-10002813</td><td>Avery Reinforcements for Hole-Punch Pages</td><td>28.512</td><td>3.564</td><td>8</td></tr><tr><td>FUR-FU-10001185</td><td>Advantus Employee of the Month Certificate Frame, 11 x 13-1/2</td><td>649.53</td><td>162.3825</td><td>4</td></tr><tr><td>FUR-CH-10000422</td><td>Global Highback Leather Tilter in Burgundy</td><td>2520.815</td><td>280.09055555555557</td><td>9</td></tr><tr><td>OFF-EN-10003286</td><td>Staple envelope</td><td>284.832</td><td>40.690285714285714</td><td>7</td></tr><tr><td>TEC-CO-10001046</td><td>Canon Imageclass D680 Copier / Fax</td><td>2503.205</td><td>500.64099999999996</td><td>5</td></tr><tr><td>OFF-PA-10000552</td><td>Xerox 200</td><td>84.24000000000001</td><td>16.848000000000003</td><td>5</td></tr><tr><td>TEC-PH-10000675</td><td>Panasonic KX TS3282B Corded phone</td><td>590.328</td><td>196.77599999999998</td><td>3</td></tr><tr><td>TEC-AC-10003433</td><td>Maxell 4.7GB DVD+R 5/Pack</td><td>11.682</td><td>2.3364000000000003</td><td>5</td></tr><tr><td>OFF-EN-10003040</td><td>Quality Park Security Envelopes</td><td>240.764</td><td>60.191</td><td>4</td></tr><tr><td>OFF-BI-10003650</td><td>GBC DocuBind 300 Electric Binding Machine</td><td>3372.032</td><td>421.504</td><td>8</td></tr><tr><td>OFF-PA-10003172</td><td>Xerox 1996</td><td>176.256</td><td>22.032</td><td>8</td></tr><tr><td>OFF-ST-10001418</td><td>Carina Media Storage Towers in Natural & Black</td><td>1073.248</td><td>214.64960000000002</td><td>5</td></tr><tr><td>OFF-AR-10000422</td><td>Pencil and Crayon Sharpener</td><td>29.346</td><td>7.3365</td><td>4</td></tr><tr><td>OFF-PA-10004353</td><td>Southworth 25% Cotton Premium Laser Paper and Envelopes</td><td>527.472</td><td>105.4944</td><td>5</td></tr><tr><td>OFF-AP-10002945</td><td>Honeywell Enviracaire Portable HEPA Air Cleaner for 17' x 22' Room</td><td>3504.487</td><td>500.641</td><td>7</td></tr><tr><td>FUR-BO-10000711</td><td>Hon Metal Bookcases, Gray</td><td>713.581</td><td>356.7905</td><td>2</td></tr><tr><td>OFF-AP-10002403</td><td>Acco Smartsocket Color-Coded Six-Outlet AC Adapter Model Surge Protectors</td><td>448.90199999999993</td><td>112.22549999999998</td><td>4</td></tr><tr><td>TEC-PH-10000455</td><td>GE 30522EE2</td><td>1080.591</td><td>360.19699999999995</td><td>3</td></tr><tr><td>FUR-TA-10004607</td><td>Hon 2111 Invitation Series Straight Table</td><td>1932.611</td><td>276.0872857142857</td><td>7</td></tr><tr><td>FUR-TA-10001768</td><td>Hon Racetrack Conference Tables</td><td>2685.0899999999997</td><td>447.51499999999993</td><td>6</td></tr><tr><td>TEC-AC-10001772</td><td>Memorex Mini Travel Drive 16 GB USB 2.0 Flash Drive</td><td>495.07000000000005</td><td>99.01400000000001</td><td>5</td></tr><tr><td>TEC-PH-10001944</td><td>Wi-Ex zBoost YX540 Cellular Phone Signal Booster</td><td>2397.991</td><td>399.66516666666666</td><td>6</td></tr><tr><td>TEC-PH-10002844</td><td>Speck Products Candyshell Flip Case</td><td>188.946</td><td>47.2365</td><td>4</td></tr><tr><td>OFF-AP-10002287</td><td>Eureka Sanitaire  Multi-Pro Heavy-Duty Upright, Disposable Bags</td><td>83.90400000000001</td><td>16.780800000000003</td><td>5</td></tr><tr><td>OFF-LA-10003766</td><td>Self-Adhesive Removable Labels</td><td>78.75</td><td>13.125</td><td>6</td></tr><tr><td>TEC-AC-10001838</td><td>Razer Tiamat Over Ear 7.1 Surround Sound PC Gaming Headset</td><td>2922.518</td><td>417.50257142857146</td><td>7</td></tr><tr><td>FUR-BO-10003965</td><td>O'Sullivan Manor Hill 2-Door Library in Brianna Oak</td><td>1423.6390000000001</td><td>355.90975000000003</td><td>4</td></tr><tr><td>OFF-AR-10002255</td><td>Newell 346</td><td>25.344</td><td>6.336</td><td>4</td></tr><tr><td>OFF-LA-10003223</td><td>Avery 508</td><td>87.398</td><td>14.566333333333333</td><td>6</td></tr><tr><td>OFF-AP-10003971</td><td>Belkin 6 Outlet Metallic Surge Strip</td><td>262.449</td><td>29.161</td><td>9</td></tr><tr><td>FUR-BO-10004218</td><td>Bush Heritage Pine Collection 5-Shelf Bookcase, Albany Pine Finish, *Special Order</td><td>2446.327</td><td>349.47528571428575</td><td>7</td></tr><tr><td>FUR-FU-10003192</td><td>Luxo Adjustable Task Clamp Lamp</td><td>1246.8970000000002</td><td>311.72425000000004</td><td>4</td></tr><tr><td>OFF-AR-10003504</td><td>Newell 347</td><td>127.54400000000001</td><td>18.22057142857143</td><td>7</td></tr><tr><td>FUR-FU-10003039</td><td>Howard Miller 11-1/2\" Diameter Grantwood Wall Clock</td><td>500.308</td><td>83.38466666666666</td><td>6</td></tr><tr><td>TEC-AC-10004571</td><td>Logitech G700s Rechargeable Gaming Mouse</td><td>1940.4969999999998</td><td>215.61077777777777</td><td>9</td></tr><tr><td>OFF-AP-10004785</td><td>Holmes Replacement Filter for HEPA Air Cleaner, Medium Room</td><td>203.94</td><td>50.985</td><td>4</td></tr><tr><td>OFF-AP-10002518</td><td>Kensington 7 Outlet MasterPiece Power Center</td><td>2035.863</td><td>407.1726</td><td>5</td></tr><tr><td>OFF-PA-10003270</td><td>Xerox 1954</td><td>84.48000000000002</td><td>21.120000000000005</td><td>4</td></tr><tr><td>OFF-AP-10000275</td><td>Sanyo Counter Height Refrigerator with Crisper, 3.6 Cubic Foot, Stainless Steel/Black</td><td>1501.923</td><td>500.641</td><td>3</td></tr><tr><td>TEC-AC-10004127</td><td>SanDisk Cruzer 8 GB USB Flash Drive</td><td>27.168</td><td>27.168</td><td>1</td></tr><tr><td>OFF-AP-10001058</td><td>Sanyo 2.5 Cubic Foot Mid-Size Office Refrigerators</td><td>1949.6190000000001</td><td>487.40475000000004</td><td>4</td></tr><tr><td>FUR-FU-10004587</td><td>GE General Use Halogen Bulbs, 100 Watts, 1 Bulb per Pack</td><td>138.204</td><td>69.102</td><td>2</td></tr><tr><td>OFF-PA-10000919</td><td>Xerox 1918</td><td>155.04</td><td>155.04</td><td>1</td></tr><tr><td>OFF-AR-10000034</td><td>BIC Brite Liner Grip Highlighters, Assorted, 5/Pack</td><td>118.72</td><td>19.786666666666665</td><td>6</td></tr><tr><td>OFF-BI-10004139</td><td>Fellowes Presentation Covers for Comb Binding Machines</td><td>133.86</td><td>66.93</td><td>2</td></tr><tr><td>TEC-PH-10002115</td><td>Plantronics 81402</td><td>844.672</td><td>211.168</td><td>4</td></tr><tr><td>OFF-BI-10002103</td><td>Cardinal Slant-D Ring Binder, Heavy Gauge Vinyl</td><td>179.01399999999998</td><td>17.9014</td><td>10</td></tr><tr><td>OFF-ST-10004258</td><td>Portable Personal File Box</td><td>224.664</td><td>37.443999999999996</td><td>6</td></tr><tr><td>OFF-ST-10003656</td><td>Safco Industrial Wire Shelving</td><td>1191.769</td><td>238.3538</td><td>5</td></tr><tr><td>OFF-ST-10001228</td><td>Personal File Boxes with Fold-Down Carry Handle</td><td>177.612</td><td>35.5224</td><td>5</td></tr><tr><td>OFF-BI-10002026</td><td>Ibico Recycled Linen-Style Covers</td><td>312.48</td><td>104.16000000000001</td><td>3</td></tr><tr><td>TEC-MA-10001047</td><td>3D Systems Cube Printer, 2nd Generation, Magenta</td><td>1001.282</td><td>500.641</td><td>2</td></tr><tr><td>FUR-BO-10003894</td><td>Safco Value Mate Steel Bookcase, Baked Enamel Finish on Steel, Black</td><td>802.074</td><td>267.358</td><td>3</td></tr><tr><td>TEC-PH-10004531</td><td>AT&T CL2909</td><td>755.9399999999999</td><td>251.98</td><td>3</td></tr><tr><td>OFF-PA-10002230</td><td>Xerox 1897</td><td>67.72800000000001</td><td>16.932000000000002</td><td>4</td></tr><tr><td>OFF-AR-10004042</td><td>BOSTON Model 1800 Electric Pencil Sharpeners, Putty/Woodgrain</td><td>496.248</td><td>82.708</td><td>6</td></tr><tr><td>FUR-FU-10004952</td><td>C-Line Cubicle Keepers Polyproplyene Holder w/Velcro Back, 8-1/2x11, 25/Bx</td><td>514.556</td><td>128.639</td><td>4</td></tr><tr><td>OFF-BI-10001267</td><td>Universal Recycled Hanging Pressboard Report Binders, Letter Size</td><td>62.934</td><td>15.7335</td><td>4</td></tr><tr><td>TEC-AC-10004708</td><td>Sony 32GB Class 10 Micro SDHC R40 Memory Card</td><td>251.4</td><td>62.85</td><td>4</td></tr><tr><td>FUR-FU-10003799</td><td>Seth Thomas 13 1/2\" Wall Clock</td><td>316.484</td><td>63.2968</td><td>5</td></tr><tr><td>OFF-AR-10001149</td><td>Sanford Colorific Colored Pencils, 12/Box</td><td>73.15200000000002</td><td>14.630400000000003</td><td>5</td></tr><tr><td>TEC-PH-10001128</td><td>Motorola Droid Maxx</td><td>1801.9030000000002</td><td>450.47575000000006</td><td>4</td></tr><tr><td>OFF-SU-10002881</td><td>Martin Yale Chadless Opener Electric Letter Opener</td><td>3003.846</td><td>500.641</td><td>6</td></tr><tr><td>OFF-AR-10001246</td><td>Newell 317</td><td>79.96799999999999</td><td>11.423999999999998</td><td>7</td></tr><tr><td>OFF-PA-10004475</td><td>Xerox 1940</td><td>615.552</td><td>153.888</td><td>4</td></tr><tr><td>OFF-ST-10004340</td><td>Fellowes Mobile File Cart, Black</td><td>2241.681</td><td>224.1681</td><td>10</td></tr><tr><td>TEC-PH-10001051</td><td>HTC One</td><td>1119.888</td><td>279.972</td><td>4</td></tr><tr><td>TEC-AC-10003657</td><td>Lenovo 17-Key USB Numeric Keypad</td><td>367.092</td><td>73.41839999999999</td><td>5</td></tr><tr><td>OFF-PA-10002120</td><td>Xerox 1889</td><td>516.624</td><td>172.208</td><td>3</td></tr><tr><td>OFF-EN-10004773</td><td>Staple envelope</td><td>433.71999999999997</td><td>108.42999999999999</td><td>4</td></tr><tr><td>OFF-BI-10001078</td><td>Acco PRESSTEX Data Binder with Storage Hooks, Dark Blue, 14 7/8\" X 11\"</td><td>175.388</td><td>25.05542857142857</td><td>7</td></tr><tr><td>OFF-ST-10001328</td><td>Personal Filing Tote with Lid, Black/Gray</td><td>459.09599999999995</td><td>57.38699999999999</td><td>8</td></tr><tr><td>FUR-CH-10002084</td><td>Hon Mobius Operator's Chair</td><td>2181.986</td><td>436.3972</td><td>5</td></tr><tr><td>TEC-AC-10001590</td><td>Dell Slim USB Multimedia Keyboard</td><td>125.0</td><td>62.5</td><td>2</td></tr><tr><td>OFF-PA-10003651</td><td>Xerox 1968</td><td>165.664</td><td>33.132799999999996</td><td>5</td></tr><tr><td>TEC-AC-10003174</td><td>Plantronics S12 Corded Telephone Headset System</td><td>2095.9329999999995</td><td>349.3221666666666</td><td>6</td></tr><tr><td>FUR-FU-10001095</td><td>DAX Black Cherry Wood-Tone Poster Frame</td><td>455.4560000000001</td><td>56.93200000000001</td><td>8</td></tr><tr><td>OFF-BI-10000145</td><td>Zipper Ring Binder Pockets</td><td>81.74400000000001</td><td>6.288000000000001</td><td>13</td></tr><tr><td>OFF-AR-10001868</td><td>Prang Dustless Chalk Sticks</td><td>38.976</td><td>4.872</td><td>8</td></tr><tr><td>OFF-AR-10001897</td><td>Model L Table or Wall-Mount Pencil Sharpener</td><td>402.97599999999994</td><td>80.59519999999999</td><td>5</td></tr><tr><td>TEC-PH-10002726</td><td>netTALK DUO VoIP Telephone Service</td><td>1112.788</td><td>158.96971428571428</td><td>7</td></tr><tr><td>TEC-AC-10000303</td><td>Logitech M510 Wireless Mouse</td><td>239.94</td><td>79.98</td><td>3</td></tr><tr><td>TEC-PH-10000149</td><td>Cisco SPA525G2 IP Phone - Wireless</td><td>426.93</td><td>85.386</td><td>5</td></tr><tr><td>TEC-PH-10002075</td><td>AT&T EL51110 DECT</td><td>377.97</td><td>377.97</td><td>1</td></tr><tr><td>OFF-BI-10002353</td><td>GBC VeloBind Cover Sets</td><td>342.768</td><td>31.16072727272727</td><td>11</td></tr><tr><td>OFF-PA-10002262</td><td>Xerox 192</td><td>142.56</td><td>23.76</td><td>6</td></tr><tr><td>OFF-AR-10000614</td><td>Barrel Sharpener</td><td>67.83</td><td>16.9575</td><td>4</td></tr><tr><td>OFF-ST-10001325</td><td>Sterilite Officeware Hinged File Box</td><td>345.84</td><td>31.439999999999998</td><td>11</td></tr><tr><td>OFF-PA-10003919</td><td>Xerox 1989</td><td>7.968</td><td>7.968</td><td>1</td></tr><tr><td>TEC-PH-10004833</td><td>Macally Suction Cup Mount</td><td>279.63</td><td>69.9075</td><td>4</td></tr><tr><td>FUR-FU-10001473</td><td>DAX Wood Document Frame</td><td>477.804</td><td>53.08933333333333</td><td>9</td></tr><tr><td>TEC-AC-10002857</td><td>Verbatim 25 GB 6x Blu-ray Single Layer Recordable Disc, 1/Pack</td><td>83.44</td><td>27.813333333333333</td><td>3</td></tr><tr><td>OFF-BI-10004656</td><td>Peel & Stick Add-On Corner Pockets</td><td>38.016000000000005</td><td>5.4308571428571435</td><td>7</td></tr><tr><td>TEC-MA-10002178</td><td>Cisco CP-7937G Unified IP Conference Station Phone</td><td>1001.282</td><td>500.641</td><td>2</td></tr><tr><td>TEC-MA-10001695</td><td>Zebra GK420t Direct Thermal/Thermal Transfer Printer</td><td>500.641</td><td>500.641</td><td>1</td></tr><tr><td>OFF-PA-10000176</td><td>Xerox 1887</td><td>417.34</td><td>59.62</td><td>7</td></tr><tr><td>FUR-FU-10004017</td><td>Executive Impressions 13\" Chairman Wall Clock</td><td>253.8</td><td>84.60000000000001</td><td>3</td></tr><tr><td>OFF-ST-10000036</td><td>Recycled Data-Pak for Archival Bound Computer Printouts, 12-1/2 x 12-1/2 x 16</td><td>1528.0570000000002</td><td>305.61140000000006</td><td>5</td></tr><tr><td>OFF-EN-10001415</td><td>Staple envelope</td><td>43.524</td><td>10.881</td><td>4</td></tr><tr><td>TEC-MA-10003589</td><td>Cisco 8961 IP Phone Charcoal</td><td>224.937</td><td>224.937</td><td>1</td></tr><tr><td>OFF-PA-10000955</td><td>Southworth 25% Cotton Granite Paper & Envelopes</td><td>37.932</td><td>12.644</td><td>3</td></tr><tr><td>FUR-CH-10002965</td><td>Global Leather Highback Executive Chair with Pneumatic Height Adjustment, Black</td><td>4492.907</td><td>408.4460909090909</td><td>11</td></tr><tr><td>OFF-PA-10001363</td><td>Xerox 1933</td><td>294.72</td><td>58.944</td><td>5</td></tr><tr><td>OFF-BI-10002852</td><td>Ibico Standard Transparent Covers</td><td>275.216</td><td>30.579555555555558</td><td>9</td></tr><tr><td>FUR-FU-10001591</td><td>Advantus Panel Wall Certificate Holder - 8.5x11</td><td>270.84</td><td>45.13999999999999</td><td>6</td></tr><tr><td>OFF-AP-10003622</td><td>Bravo II Megaboss 12-Amp Hard Body Upright, Replacement Belts, 2 Belts per Pack</td><td>65.0</td><td>16.25</td><td>4</td></tr><tr><td>FUR-BO-10002213</td><td>DMI Eclipse Executive Suite Bookcases</td><td>2829.181</td><td>471.5301666666667</td><td>6</td></tr><tr><td>OFF-BI-10003669</td><td>3M Organizer Strips</td><td>83.16</td><td>11.879999999999999</td><td>7</td></tr><tr><td>OFF-AR-10001547</td><td>Newell 311</td><td>61.438</td><td>7.67975</td><td>8</td></tr><tr><td>FUR-BO-10004709</td><td>Bush Westfield Collection Bookcases, Medium Cherry Finish</td><td>1426.888</td><td>158.5431111111111</td><td>9</td></tr><tr><td>TEC-AC-10004420</td><td>Cherry 142-key Programmable Keyboard</td><td>479.72</td><td>479.72</td><td>1</td></tr><tr><td>OFF-AP-10002311</td><td>Holmes Replacement Filter for HEPA Air Cleaner, Very Large Room, HEPA Filter</td><td>1383.081</td><td>138.3081</td><td>10</td></tr><tr><td>OFF-PA-10000069</td><td>TOPS 4 x 6 Fluorescent Color Memo Sheets, 500 Sheets per Pack</td><td>102.492</td><td>34.164</td><td>3</td></tr><tr><td>OFF-AR-10001044</td><td>BOSTON Ranger #55 Pencil Sharpener, Black</td><td>618.562</td><td>68.72911111111111</td><td>9</td></tr><tr><td>FUR-FU-10004270</td><td>Executive Impressions 13\" Clairmont Wall Clock</td><td>315.372</td><td>39.4215</td><td>8</td></tr><tr><td>TEC-AC-10001908</td><td>Logitech Wireless Headset h800</td><td>2180.473</td><td>363.4121666666667</td><td>6</td></tr><tr><td>TEC-PH-10002885</td><td>Apple iPhone 5</td><td>3003.846</td><td>500.641</td><td>6</td></tr><tr><td>OFF-BI-10002160</td><td>Acco Hanging Data Binders</td><td>41.910000000000004</td><td>5.9871428571428575</td><td>7</td></tr><tr><td>TEC-AC-10001101</td><td>Sony 16GB Class 10 Micro SDHC R40 Memory Card</td><td>190.772</td><td>47.693</td><td>4</td></tr><tr><td>OFF-LA-10003510</td><td>Avery 4027 File Folder Labels for Dot Matrix Printers, 5000 Labels per Box, White</td><td>1233.412</td><td>112.12836363636364</td><td>11</td></tr><tr><td>OFF-ST-10004186</td><td>Stur-D-Stor Shelving, Vertical 5-Shelf: 72\"H x 36\"W x 18 1/2\"D</td><td>2000.102</td><td>400.0204</td><td>5</td></tr><tr><td>TEC-PH-10004875</td><td>PNY Rapid USB Car Charger - Black</td><td>9.588</td><td>9.588</td><td>1</td></tr><tr><td>FUR-BO-10002613</td><td>Atlantic Metals Mobile 4-Shelf Bookcases, Custom Colors</td><td>2929.7980000000002</td><td>488.2996666666667</td><td>6</td></tr><tr><td>OFF-AR-10004817</td><td>Colorific Watercolor Pencils</td><td>51.6</td><td>17.2</td><td>3</td></tr><tr><td>TEC-AC-10004877</td><td>Imation 30456 USB Flash Drive 8GB</td><td>154.56</td><td>30.912</td><td>5</td></tr><tr><td>OFF-ST-10000876</td><td>Eldon Simplefile Box Office</td><td>345.832</td><td>43.229</td><td>8</td></tr><tr><td>OFF-PA-10000289</td><td>Xerox 213</td><td>111.45599999999999</td><td>18.575999999999997</td><td>6</td></tr><tr><td>TEC-PH-10001425</td><td>Mophie Juice Pack Helium for iPhone</td><td>1508.5149999999999</td><td>251.41916666666665</td><td>6</td></tr><tr><td>OFF-SU-10001664</td><td>Acme Office Executive Series Stainless Steel Trimmers</td><td>159.40200000000002</td><td>22.77171428571429</td><td>7</td></tr><tr><td>OFF-AR-10000896</td><td>Newell 329</td><td>24.272</td><td>12.136</td><td>2</td></tr><tr><td>OFF-LA-10002945</td><td>Permanent Self-Adhesive File Folder Labels for Typewriters, 1 1/8 x 3 1/2, White</td><td>153.72</td><td>25.62</td><td>6</td></tr><tr><td>OFF-AP-10003217</td><td>Eureka Sanitaire  Commercial Upright</td><td>1067.566</td><td>355.85533333333336</td><td>3</td></tr><tr><td>OFF-ST-10003208</td><td>Adjustable Depth Letter/Legal Cart</td><td>5101.334999999999</td><td>463.7577272727272</td><td>11</td></tr><tr><td>TEC-AC-10000290</td><td>Sabrent 4-Port USB 2.0 Hub</td><td>96.41800000000002</td><td>24.104500000000005</td><td>4</td></tr><tr><td>OFF-AP-10002439</td><td>Tripp Lite Isotel 8 Ultra 8 Outlet Metal Surge</td><td>685.163</td><td>228.38766666666666</td><td>3</td></tr><tr><td>TEC-MA-10002790</td><td>NeatDesk Desktop Scanner & Digital Filing System</td><td>479.988</td><td>479.988</td><td>1</td></tr><tr><td>TEC-PH-10002262</td><td>LG Electronics Tone+ HBS-730 Bluetooth Headset</td><td>499.88399999999996</td><td>249.94199999999998</td><td>2</td></tr><tr><td>TEC-PH-10004006</td><td>Panasonic KX - TS880B Telephone</td><td>247.32</td><td>123.66</td><td>2</td></tr><tr><td>OFF-FA-10001883</td><td>Alliance Super-Size Bands, Assorted Sizes</td><td>197.61200000000002</td><td>49.403000000000006</td><td>4</td></tr><tr><td>OFF-PA-10004082</td><td>Adams Telephone Message Book w/Frequently-Called Numbers Space, 400 Messages per Book</td><td>223.44</td><td>31.919999999999998</td><td>7</td></tr><tr><td>OFF-AP-10003914</td><td>Sanitaire Vibra Groomer IR Commercial Upright Vacuum, Replacement Belts</td><td>13.0</td><td>13.0</td><td>1</td></tr><tr><td>OFF-AR-10004062</td><td>Staples in misc. colors</td><td>157.2</td><td>52.4</td><td>3</td></tr><tr><td>OFF-SU-10004782</td><td>Elite 5\" Scissors</td><td>179.14</td><td>25.59142857142857</td><td>7</td></tr><tr><td>OFF-ST-10000060</td><td>Fellowes Bankers Box Staxonsteel Drawer File/Stacking System</td><td>2528.0170000000003</td><td>316.00212500000004</td><td>8</td></tr><tr><td>OFF-PA-10000007</td><td>Telephone Message Books with Fax/Mobile Section, 4 1/4\" x 6\"</td><td>51.120000000000005</td><td>17.040000000000003</td><td>3</td></tr><tr><td>OFF-EN-10001535</td><td>Grip Seal Envelopes</td><td>7.072</td><td>7.072</td><td>1</td></tr><tr><td>TEC-PH-10004536</td><td>Avaya 5420 Digital phone</td><td>1094.5970000000002</td><td>364.86566666666675</td><td>3</td></tr><tr><td>OFF-AR-10002375</td><td>Newell 351</td><td>82.656</td><td>11.808000000000002</td><td>7</td></tr><tr><td>OFF-LA-10000443</td><td>Avery 501</td><td>66.42</td><td>8.3025</td><td>8</td></tr><tr><td>FUR-TA-10002607</td><td>KI Conference Tables</td><td>2074.399</td><td>259.299875</td><td>8</td></tr><tr><td>FUR-TA-10002041</td><td>Bevis Round Conference Table Top, X-Base</td><td>2094.951</td><td>349.1585</td><td>6</td></tr><tr><td>OFF-ST-10001522</td><td>Gould Plastics 18-Pocket Panel Bin, 34w x 5-1/4d x 20-1/2h</td><td>2299.75</td><td>229.975</td><td>10</td></tr><tr><td>FUR-CH-10002126</td><td>Hon Deluxe Fabric Upholstered Stacking Chairs</td><td>1697.1070000000002</td><td>424.27675000000005</td><td>4</td></tr><tr><td>OFF-AR-10002053</td><td>Premium Writing Pencils, Soft, #2 by Central Association for the Blind</td><td>81.65199999999999</td><td>11.664571428571426</td><td>7</td></tr><tr><td>FUR-CH-10004287</td><td>SAFCO Arco Folding Chair</td><td>6055.969999999998</td><td>465.843846153846</td><td>13</td></tr><tr><td>OFF-PA-10003039</td><td>Xerox 1960</td><td>879.8320000000001</td><td>146.6386666666667</td><td>6</td></tr><tr><td>OFF-LA-10001317</td><td>Avery 520</td><td>46.62</td><td>9.324</td><td>5</td></tr><tr><td>FUR-CH-10004860</td><td>Global Low Back Tilter Chair</td><td>1746.9540000000002</td><td>218.36925000000002</td><td>8</td></tr><tr><td>TEC-AC-10000487</td><td>SanDisk Cruzer 4 GB USB Flash Drive</td><td>25.96</td><td>12.98</td><td>2</td></tr><tr><td>OFF-PA-10003790</td><td>Xerox 1991</td><td>575.568</td><td>95.928</td><td>6</td></tr><tr><td>FUR-FU-10001215</td><td>Howard Miller 11-1/2\" Diameter Brentwood Wall Clock</td><td>681.454</td><td>170.3635</td><td>4</td></tr><tr><td>OFF-SU-10001165</td><td>Acme Elite Stainless Steel Scissors</td><td>95.076</td><td>19.0152</td><td>5</td></tr><tr><td>OFF-ST-10003638</td><td>Mobile Personal File Cube</td><td>449.664</td><td>89.9328</td><td>5</td></tr><tr><td>OFF-AP-10003057</td><td>Honeywell Enviracaire Portable HEPA Air Cleaner for 16' x 20' Room</td><td>1501.923</td><td>500.641</td><td>3</td></tr><tr><td>FUR-FU-10003374</td><td>Electrix Fluorescent Magnifier Lamps & Weighted Base</td><td>463.79600000000005</td><td>231.89800000000002</td><td>2</td></tr><tr><td>OFF-BI-10000831</td><td>Storex Flexible Poly Binders with Double Pockets</td><td>10.824000000000002</td><td>3.6080000000000005</td><td>3</td></tr><tr><td>OFF-EN-10001990</td><td>Staple envelope</td><td>130.64</td><td>21.77333333333333</td><td>6</td></tr><tr><td>TEC-PH-10002890</td><td>AT&T 17929 Lendline Telephone</td><td>1339.104</td><td>133.9104</td><td>10</td></tr><tr><td>TEC-PH-10000369</td><td>HTC One Mini</td><td>1703.507</td><td>425.87675</td><td>4</td></tr><tr><td>OFF-FA-10002975</td><td>Staples</td><td>77.112</td><td>19.278</td><td>4</td></tr><tr><td>OFF-SU-10002189</td><td>Acme Rosewood Handle Letter Opener</td><td>43.67</td><td>14.556666666666667</td><td>3</td></tr><tr><td>OFF-BI-10002309</td><td>Avery Heavy-Duty EZD  Binder With Locking Rings</td><td>92.62799999999999</td><td>18.525599999999997</td><td>5</td></tr><tr><td>OFF-AR-10003478</td><td>Avery Hi-Liter EverBold Pen Style Fluorescent Highlighters, 4/Pack</td><td>219.78</td><td>36.63</td><td>6</td></tr><tr><td>OFF-AR-10001725</td><td>Boston Home & Office Model 2000 Electric Pencil Sharpeners</td><td>297.99</td><td>49.665</td><td>6</td></tr><tr><td>OFF-PA-10001569</td><td>Xerox 232</td><td>120.528</td><td>30.132</td><td>4</td></tr><tr><td>OFF-LA-10000452</td><td>Avery 488</td><td>51.029999999999994</td><td>8.504999999999999</td><td>6</td></tr><tr><td>OFF-PA-10004530</td><td>Personal Creations Ink Jet Cards and Labels</td><td>321.44</td><td>80.36</td><td>4</td></tr><tr><td>FUR-FU-10001488</td><td>Tenex 46\" x 60\" Computer Anti-Static Chairmat, Rectangular Shaped</td><td>2230.65</td><td>318.6642857142857</td><td>7</td></tr><tr><td>OFF-PA-10002947</td><td>Xerox 1923</td><td>94.85600000000001</td><td>18.971200000000003</td><td>5</td></tr><tr><td>OFF-LA-10002787</td><td>Avery 480</td><td>89.25</td><td>14.875</td><td>6</td></tr><tr><td>FUR-CH-10002304</td><td>Global Stack Chair without Arms, Black</td><td>901.506</td><td>128.78657142857142</td><td>7</td></tr><tr><td>OFF-BI-10001636</td><td>Ibico Plastic and Wire Spiral Binding Combs</td><td>208.22099999999998</td><td>23.135666666666665</td><td>9</td></tr><tr><td>TEC-PH-10003171</td><td>Plantronics Encore H101 Dual Earpieces Headset</td><td>746.1700000000001</td><td>106.5957142857143</td><td>7</td></tr><tr><td>TEC-AC-10000865</td><td>WD My Passport Ultra 500GB Portable External Hard Drive</td><td>708.0</td><td>177.0</td><td>4</td></tr><tr><td>OFF-PA-10001274</td><td>Loose Memo Sheets</td><td>18.25</td><td>9.125</td><td>2</td></tr><tr><td>OFF-BI-10002393</td><td>Binder Posts</td><td>57.400000000000006</td><td>9.566666666666668</td><td>6</td></tr><tr><td>OFF-PA-10002666</td><td>Southworth 25% Cotton Linen-Finish Paper & Envelopes</td><td>166.704</td><td>41.676</td><td>4</td></tr><tr><td>FUR-FU-10001379</td><td>Executive Impressions 16-1/2\" Circular Wall Clock</td><td>58.784</td><td>29.392</td><td>2</td></tr><tr><td>OFF-EN-10004206</td><td>Multimedia Mailers</td><td>325.86</td><td>325.86</td><td>1</td></tr><tr><td>FUR-FU-10002191</td><td>G.E. Halogen Desk Lamp Bulbs</td><td>62.82000000000001</td><td>12.564000000000002</td><td>5</td></tr><tr><td>FUR-BO-10000362</td><td>Sauder Inglewood Library Bookcases</td><td>1629.109</td><td>325.8218</td><td>5</td></tr><tr><td>TEC-PH-10002538</td><td>Grandstream GXP1160 VoIP phone</td><td>803.692</td><td>133.94866666666667</td><td>6</td></tr><tr><td>OFF-SU-10002301</td><td>Serrated Blade or Curved Handle Hand Letter Openers</td><td>23.864</td><td>11.932</td><td>2</td></tr><tr><td>OFF-PA-10001752</td><td>Hammermill CopyPlus Copy Paper (20Lb. and 84 Bright)</td><td>32.867999999999995</td><td>10.955999999999998</td><td>3</td></tr><tr><td>TEC-PH-10001870</td><td>Lunatik TT5L-002 Taktik Strike Impact Protection System for iPhone 5</td><td>281.658</td><td>93.88600000000001</td><td>3</td></tr><tr><td>OFF-FA-10002701</td><td>Alliance Rubber Bands</td><td>13.440000000000001</td><td>6.720000000000001</td><td>2</td></tr><tr><td>OFF-AR-10001958</td><td>Stanley Bostitch Contemporary Electric Pencil Sharpeners</td><td>275.076</td><td>39.29657142857143</td><td>7</td></tr><tr><td>OFF-BI-10004140</td><td>Avery Non-Stick Binders</td><td>75.432</td><td>5.802461538461539</td><td>13</td></tr><tr><td>OFF-ST-10003455</td><td>Tenex File Box, Personal Filing Tote with Lid, Black</td><td>338.118</td><td>48.302571428571426</td><td>7</td></tr><tr><td>TEC-PH-10001817</td><td>Wilson Electronics DB Pro Signal Booster</td><td>4721.128</td><td>472.1128</td><td>10</td></tr><tr><td>OFF-AR-10003056</td><td>Newell 341</td><td>96.728</td><td>13.818285714285713</td><td>7</td></tr><tr><td>OFF-LA-10001175</td><td>Avery 514</td><td>47.808</td><td>11.952</td><td>4</td></tr><tr><td>OFF-BI-10002133</td><td>Wilson Jones Elliptical Ring 3 1/2\" Capacity Binders, 800 sheets</td><td>834.6000000000001</td><td>104.32500000000002</td><td>8</td></tr><tr><td>FUR-FU-10001196</td><td>DAX Cubicle Frames - 8x10</td><td>125.786</td><td>25.1572</td><td>5</td></tr><tr><td>OFF-PA-10000357</td><td>Xerox 1888</td><td>1231.656</td><td>205.27599999999998</td><td>6</td></tr><tr><td>TEC-PH-10002555</td><td>Nortel Meridian M5316 Digital phone</td><td>1657.2930000000001</td><td>414.32325000000003</td><td>4</td></tr><tr><td>OFF-ST-10001590</td><td>Tenex Personal Project File with Scoop Front Design, Black</td><td>436.75199999999995</td><td>54.593999999999994</td><td>8</td></tr><tr><td>OFF-ST-10003324</td><td>Belkin OmniView SE Rackmount Kit</td><td>248.35999999999999</td><td>124.17999999999999</td><td>2</td></tr><tr><td>OFF-LA-10004484</td><td>Avery 476</td><td>120.596</td><td>13.399555555555557</td><td>9</td></tr><tr><td>TEC-AC-10002926</td><td>Logitech Wireless Marathon Mouse M705</td><td>1409.7179999999998</td><td>176.21474999999998</td><td>8</td></tr><tr><td>OFF-PA-10003022</td><td>Xerox 1992</td><td>86.112</td><td>21.528</td><td>4</td></tr><tr><td>OFF-BI-10003655</td><td>Durable Pressboard Binders</td><td>37.239999999999995</td><td>18.619999999999997</td><td>2</td></tr><tr><td>FUR-FU-10000206</td><td>GE General Purpose, Extra Long Life, Showcase & Floodlight Incandescent Bulbs</td><td>45.396</td><td>6.485142857142857</td><td>7</td></tr><tr><td>OFF-BI-10001575</td><td>GBC Linen Binding Covers</td><td>207.56600000000003</td><td>34.59433333333334</td><td>6</td></tr><tr><td>OFF-FA-10001843</td><td>Staples</td><td>50.388</td><td>12.597</td><td>4</td></tr><tr><td>OFF-FA-10004395</td><td>Plymouth Boxed Rubber Bands by Plymouth</td><td>77.244</td><td>15.4488</td><td>5</td></tr><tr><td>TEC-AC-10001874</td><td>Logitech Wireless Anywhere Mouse MX for PC and Mac</td><td>551.908</td><td>183.96933333333334</td><td>3</td></tr><tr><td>OFF-AP-10004859</td><td>Acco 6 Outlet Guardian Premium Surge Suppressor</td><td>432.4320000000001</td><td>54.05400000000001</td><td>8</td></tr><tr><td>OFF-PA-10000312</td><td>Xerox 1955</td><td>182.72</td><td>91.36</td><td>2</td></tr><tr><td>OFF-BI-10003712</td><td>Acco Pressboard Covers with Storage Hooks, 14 7/8\" x 11\", Light Blue</td><td>131.097</td><td>11.917909090909092</td><td>11</td></tr><tr><td>OFF-BI-10003727</td><td>Avery Durable Slant Ring Binders With Label Holder</td><td>77.32999999999998</td><td>9.666249999999998</td><td>8</td></tr><tr><td>OFF-PA-10001509</td><td>Recycled Desk Saver Line \"While You Were Out\" Book, 5 1/2\" X 4\"</td><td>268.5</td><td>53.7</td><td>5</td></tr><tr><td>OFF-PA-10003591</td><td>Southworth 100% Cotton The Best Paper</td><td>151.536</td><td>50.512</td><td>3</td></tr><tr><td>TEC-AC-10000171</td><td>Verbatim 25 GB 6x Blu-ray Single Layer Recordable Disc, 25/Pack</td><td>248.29199999999997</td><td>49.65839999999999</td><td>5</td></tr><tr><td>OFF-LA-10003663</td><td>Avery 498</td><td>35.257999999999996</td><td>11.752666666666665</td><td>3</td></tr><tr><td>OFF-AR-10000799</td><td>Col-Erase Pencils with Erasers</td><td>37.696</td><td>18.848</td><td>2</td></tr><tr><td>OFF-BI-10002794</td><td>Avery Trapezoid Ring Binder, 3\" Capacity, Black, 1040 sheets</td><td>545.034</td><td>77.862</td><td>7</td></tr><tr><td>OFF-PA-10001970</td><td>Xerox 1881</td><td>454.36</td><td>37.86333333333334</td><td>12</td></tr><tr><td>TEC-AC-10004353</td><td>Hypercom P1300 Pinpad</td><td>957.5999999999999</td><td>159.6</td><td>6</td></tr><tr><td>FUR-TA-10002645</td><td>Hon Rectangular Conference Tables</td><td>1410.872</td><td>352.718</td><td>4</td></tr><tr><td>OFF-AP-10002651</td><td>Hoover Upright Vacuum With Dirt Cup</td><td>2966.453</td><td>494.40883333333335</td><td>6</td></tr><tr><td>OFF-PA-10004040</td><td>Universal Premium White Copier/Laser Paper (20Lb. and 87 Bright)</td><td>129.168</td><td>25.8336</td><td>5</td></tr><tr><td>TEC-AC-10004761</td><td>Maxell 4.7GB DVD+RW 3/Pack</td><td>264.438</td><td>66.1095</td><td>4</td></tr><tr><td>OFF-EN-10003798</td><td>Recycled Interoffice Envelopes with Re-Use-A-Seal Closure, 10 x 13</td><td>68.28</td><td>34.14</td><td>2</td></tr><tr><td>OFF-AP-10002578</td><td>Fellowes Premier Superior Surge Suppressor, 10-Outlet, With Phone and Remote</td><td>929.4800000000001</td><td>132.78285714285715</td><td>7</td></tr><tr><td>FUR-CH-10003396</td><td>Global Deluxe Steno Chair</td><td>1770.5400000000002</td><td>177.05400000000003</td><td>10</td></tr><tr><td>OFF-BI-10003982</td><td>Wilson Jones Century Plastic Molded Ring Binders</td><td>533.789</td><td>59.309888888888885</td><td>9</td></tr><tr><td>OFF-AP-10002495</td><td>Acco Smartsocket Table Surge Protector, 6 Color-Coded Adapter Outlets</td><td>452.96500000000003</td><td>150.98833333333334</td><td>3</td></tr><tr><td>TEC-PH-10001530</td><td>Cisco Unified IP Phone 7945G VoIP phone</td><td>3003.846</td><td>500.641</td><td>6</td></tr><tr><td>TEC-PH-10003072</td><td>Panasonic KX-TG9541B DECT 6.0 Digital 2-Line Expandable Cordless Phone With Digital Answering System</td><td>2081.21</td><td>416.242</td><td>5</td></tr><tr><td>TEC-AC-10003198</td><td>Enermax Acrylux Wireless Keyboard</td><td>2096.882</td><td>349.48033333333336</td><td>6</td></tr><tr><td>OFF-PA-10003848</td><td>Xerox 1997</td><td>165.88800000000003</td><td>23.69828571428572</td><td>7</td></tr><tr><td>TEC-PH-10004522</td><td>Dexim XPower Skin Super-Thin Power Case for iPhone 5 - Black</td><td>467.92</td><td>155.97333333333333</td><td>3</td></tr><tr><td>TEC-PH-10003273</td><td>AT&T TR1909W</td><td>1606.034</td><td>401.5085</td><td>4</td></tr><tr><td>OFF-ST-10001511</td><td>Space Solutions Commercial Steel Shelving</td><td>1599.691</td><td>266.61516666666665</td><td>6</td></tr><tr><td>OFF-ST-10000107</td><td>Fellowes Super Stor/Drawer</td><td>477.3</td><td>119.325</td><td>4</td></tr><tr><td>OFF-BI-10004995</td><td>GBC DocuBind P400 Electric Binding System</td><td>3003.846</td><td>500.641</td><td>6</td></tr><tr><td>OFF-PA-10004734</td><td>Southworth Structures Collection</td><td>72.8</td><td>36.4</td><td>2</td></tr><tr><td>OFF-EN-10003845</td><td>Colored Envelopes</td><td>50.922</td><td>10.1844</td><td>5</td></tr><tr><td>FUR-FU-10000521</td><td>Seth Thomas 14\" Putty-Colored Wall Clock</td><td>357.948</td><td>89.487</td><td>4</td></tr><tr><td>OFF-AR-10002467</td><td>Dixon Ticonderoga Pencils</td><td>28.608</td><td>14.304</td><td>2</td></tr><tr><td>TEC-MA-10000418</td><td>Cubify CubeX 3D Printer Double Head Print</td><td>1501.923</td><td>500.641</td><td>3</td></tr><tr><td>OFF-AP-10000326</td><td>Belkin 7 Outlet SurgeMaster Surge Protector with Phone Protection</td><td>157.92</td><td>157.92</td><td>1</td></tr><tr><td>TEC-PH-10001924</td><td>iHome FM Clock Radio with Lightning Dock</td><td>699.9000000000001</td><td>139.98000000000002</td><td>5</td></tr><tr><td>TEC-AC-10003628</td><td>Logitech 910-002974 M325 Wireless Mouse for Web Scrolling</td><td>1409.53</td><td>93.96866666666666</td><td>15</td></tr><tr><td>TEC-PH-10002103</td><td>Jabra SPEAK 410</td><td>2899.88</td><td>322.2088888888889</td><td>9</td></tr><tr><td>TEC-PH-10001615</td><td>AT&T CL82213</td><td>481.23400000000004</td><td>96.24680000000001</td><td>5</td></tr><tr><td>FUR-CH-10001973</td><td>Office Star Flex Back Scooter Chair with White Frame</td><td>1743.6170000000002</td><td>249.08814285714288</td><td>7</td></tr><tr><td>FUR-CH-10004086</td><td>Hon 4070 Series Pagoda Armless Upholstered Stacking Chairs</td><td>3786.8170000000005</td><td>473.35212500000006</td><td>8</td></tr><tr><td>OFF-PA-10002870</td><td>Ampad Phone Message Book, Recycled, 400 Message Capacity, 5 ¾” x 11”</td><td>124.8</td><td>24.96</td><td>5</td></tr><tr><td>OFF-AR-10001972</td><td>Newell 323</td><td>21.168</td><td>7.056</td><td>3</td></tr><tr><td>OFF-AR-10001221</td><td>Dixon Ticonderoga Erasable Colored Pencil Set, 12-Color</td><td>75.348</td><td>37.674</td><td>2</td></tr><tr><td>OFF-PA-10002960</td><td>Xerox 1926</td><td>34.86</td><td>34.86</td><td>1</td></tr><tr><td>TEC-PH-10001530</td><td>Plantronics Voyager Pro Legend</td><td>1242.205</td><td>414.0683333333333</td><td>3</td></tr><tr><td>OFF-AP-10001394</td><td>Harmony Air Purifier</td><td>1596.841</td><td>319.3682</td><td>5</td></tr><tr><td>TEC-PH-10002680</td><td>Samsung Galaxy Note 3</td><td>1501.923</td><td>500.641</td><td>3</td></tr><tr><td>OFF-PA-10003395</td><td>Xerox 1941</td><td>1507.201</td><td>301.4402</td><td>5</td></tr><tr><td>FUR-BO-10000330</td><td>Sauder Camden County Barrister Bookcase, Planked Cherry Finish</td><td>1064.624</td><td>354.87466666666666</td><td>3</td></tr><tr><td>TEC-PH-10003357</td><td>Grandstream GXP2100 Mainstream Business Phone</td><td>596.622</td><td>149.1555</td><td>4</td></tr><tr><td>TEC-PH-10004080</td><td>Avaya 5410 Digital phone</td><td>231.166</td><td>115.583</td><td>2</td></tr><tr><td>OFF-PA-10001166</td><td>Xerox 2</td><td>137.376</td><td>15.264000000000001</td><td>9</td></tr><tr><td>OFF-AR-10000937</td><td>Dixon Ticonderoga Core-Lock Colored Pencils, 48-Color Set</td><td>431.28999999999996</td><td>215.64499999999998</td><td>2</td></tr><tr><td>TEC-AC-10003832</td><td>Logitech P710e Mobile Speakerphone</td><td>4211.12</td><td>467.90222222222224</td><td>9</td></tr><tr><td>OFF-PA-10002586</td><td>Xerox 1970</td><td>101.59200000000001</td><td>16.932000000000002</td><td>6</td></tr><tr><td>TEC-AC-10004469</td><td>Microsoft Sculpt Comfort Mouse</td><td>1414.2299999999998</td><td>157.13666666666666</td><td>9</td></tr><tr><td>OFF-AR-10004587</td><td>Boston 1827 Commercial Additional Cutter, Drive Gear & Gear Rack for 1606</td><td>59.489999999999995</td><td>29.744999999999997</td><td>2</td></tr><tr><td>FUR-FU-10003424</td><td>Nu-Dell Oak Frame</td><td>151.656</td><td>50.552</td><td>3</td></tr><tr><td>OFF-PA-10000697</td><td>TOPS Voice Message Log Book, Flash Format</td><td>49.504</td><td>16.50133333333333</td><td>3</td></tr><tr><td>TEC-MA-10004626</td><td>Lexmark 20R1285 X6650 Wireless All-in-One Printer</td><td>600.0</td><td>300.0</td><td>2</td></tr><tr><td>OFF-PA-10000350</td><td>Message Book, Standard Line \"While You Were Out\", 5 1/2\" X 4\", 200 Sets/Book</td><td>51.36</td><td>25.68</td><td>2</td></tr><tr><td>OFF-BI-10003429</td><td>Cardinal HOLDit! Binder Insert Strips,Extra Strips</td><td>136.72800000000004</td><td>15.192000000000004</td><td>9</td></tr><tr><td>FUR-CH-10004675</td><td>Lifetime Advantage Folding Chairs, 4/Carton</td><td>3157.445</td><td>451.06357142857144</td><td>7</td></tr><tr><td>OFF-AR-10000716</td><td>DIXON Ticonderoga Erasable Checking Pencils</td><td>94.85999999999999</td><td>13.55142857142857</td><td>7</td></tr><tr><td>OFF-SU-10001225</td><td>Staple remover</td><td>80.224</td><td>10.028</td><td>8</td></tr><tr><td>OFF-BI-10001670</td><td>Vinyl Sectional Post Binders</td><td>810.5500000000001</td><td>81.055</td><td>10</td></tr><tr><td>OFF-PA-10001846</td><td>Xerox 1899</td><td>69.35999999999999</td><td>13.871999999999996</td><td>5</td></tr><tr><td>FUR-FU-10001861</td><td>Floodlight Indoor Halogen Bulbs, 1 Bulb per Pack, 60 Watts</td><td>434.56000000000006</td><td>72.42666666666668</td><td>6</td></tr><tr><td>FUR-CH-10003746</td><td>Hon 4070 Series Pagoda Round Back Stacking Chairs</td><td>2952.577</td><td>492.0961666666667</td><td>6</td></tr><tr><td>OFF-FA-10004076</td><td>Translucent Push Pins by OIC</td><td>24.552</td><td>8.184</td><td>3</td></tr><tr><td>OFF-AR-10002280</td><td>Staples in misc. colors</td><td>54.348</td><td>27.174</td><td>2</td></tr><tr><td>OFF-PA-10002005</td><td>Xerox 225</td><td>196.99200000000002</td><td>21.888</td><td>9</td></tr><tr><td>TEC-PH-10004614</td><td>AT&T 841000 Phone</td><td>1563.241</td><td>223.32014285714286</td><td>7</td></tr><tr><td>OFF-ST-10002486</td><td>Eldon Shelf Savers Cubes and Bins</td><td>300.14</td><td>37.5175</td><td>8</td></tr><tr><td>TEC-PH-10001835</td><td>Jawbone JAMBOX Wireless Bluetooth Speaker</td><td>1501.923</td><td>500.641</td><td>3</td></tr><tr><td>OFF-BI-10002557</td><td>Presstex Flexible Ring Binders</td><td>92.82000000000001</td><td>11.602500000000001</td><td>8</td></tr><tr><td>OFF-BI-10001553</td><td>SpineVue Locking Slant-D Ring Binders by Cardinal</td><td>110.594</td><td>13.82425</td><td>8</td></tr><tr><td>OFF-FA-10000992</td><td>Acco Clips to Go Binder Clips, 24 Clips in Two Sizes</td><td>66.03</td><td>13.206</td><td>5</td></tr><tr><td>TEC-PH-10000560</td><td>Samsung Galaxy S III - 16GB - pebble blue (T-Mobile)</td><td>3003.846</td><td>500.641</td><td>6</td></tr><tr><td>OFF-BI-10003984</td><td>Lock-Up Easel 'Spel-Binder'</td><td>704.6909999999999</td><td>100.67014285714285</td><td>7</td></tr><tr><td>TEC-PH-10000148</td><td>Cyber Acoustics AC-202b Speech Recognition Stereo Headset</td><td>119.508</td><td>23.9016</td><td>5</td></tr><tr><td>TEC-PH-10000141</td><td>Clearsounds A400</td><td>488.326</td><td>162.77533333333335</td><td>3</td></tr><tr><td>OFF-AR-10004790</td><td>Staples in misc. colors</td><td>28.728</td><td>28.728</td><td>1</td></tr><tr><td>OFF-ST-10003058</td><td>Eldon Mobile Mega Data Cart  Mega Stackable  Add-On Trays</td><td>709.5</td><td>118.25</td><td>6</td></tr><tr><td>FUR-CH-10004289</td><td>Global Super Steno Chair</td><td>2276.271</td><td>325.18157142857143</td><td>7</td></tr><tr><td>OFF-PA-10000477</td><td>Xerox 1952</td><td>87.648</td><td>29.215999999999998</td><td>3</td></tr><tr><td>FUR-FU-10003975</td><td>Eldon Advantage Chair Mats for Low to Medium Pile Carpets</td><td>563.03</td><td>112.606</td><td>5</td></tr><tr><td>FUR-FU-10003096</td><td>Master Giant Foot Doorstop, Safety Yellow</td><td>83.49</td><td>27.83</td><td>3</td></tr><tr><td>FUR-FU-10002685</td><td>Executive Impressions 13-1/2\" Indoor/Outdoor Wall Clock</td><td>56.099999999999994</td><td>28.049999999999997</td><td>2</td></tr><tr><td>OFF-BI-10002867</td><td>GBC Recycled Regency Composition Covers</td><td>1171.688</td><td>234.3376</td><td>5</td></tr><tr><td>TEC-AC-10002076</td><td>Microsoft Natural Keyboard Elite</td><td>1458.721</td><td>364.68025</td><td>4</td></tr><tr><td>OFF-EN-10001099</td><td>Staple envelope</td><td>160.392</td><td>32.0784</td><td>5</td></tr><tr><td>OFF-EN-10001335</td><td>White Business Envelopes with Contemporary Seam, Recycled White Business Envelopes</td><td>336.95199999999994</td><td>56.158666666666655</td><td>6</td></tr><tr><td>OFF-FA-10004248</td><td>Advantus T-Pin Paper Clips</td><td>64.042</td><td>12.8084</td><td>5</td></tr><tr><td>OFF-AR-10002704</td><td>Boston 1900 Electric Pencil Sharpener</td><td>14.98</td><td>14.98</td><td>1</td></tr><tr><td>TEC-PH-10003174</td><td>RCA ViSYS 25825 Wireless digital phone</td><td>727.944</td><td>363.972</td><td>2</td></tr><tr><td>OFF-BI-10002003</td><td>Ibico Presentation Index for Binding Systems</td><td>72.038</td><td>10.291142857142857</td><td>7</td></tr><tr><td>OFF-BI-10004632</td><td>GBC Binding covers</td><td>137.26999999999998</td><td>45.75666666666666</td><td>3</td></tr><tr><td>TEC-PH-10003580</td><td>Cisco IP Phone 7961G-GE VoIP phone</td><td>1521.074</td><td>380.2685</td><td>4</td></tr><tr><td>OFF-PA-10000565</td><td>Easy-staple paper</td><td>279.9</td><td>139.95</td><td>2</td></tr><tr><td>OFF-ST-10002292</td><td>Sauder Facets Collection Locker/File Cabinet, Sky Alder Finish</td><td>1001.282</td><td>500.641</td><td>2</td></tr><tr><td>TEC-PH-10003885</td><td>Cisco SPA508G</td><td>910.662</td><td>182.13240000000002</td><td>5</td></tr><tr><td>FUR-BO-10003159</td><td>Sauder Camden County Collection Libraries, Planked Cherry Finish</td><td>1909.8180000000002</td><td>272.8311428571429</td><td>7</td></tr><tr><td>OFF-LA-10000248</td><td>Avery 52</td><td>68.634</td><td>11.439</td><td>6</td></tr><tr><td>FUR-BO-10002213</td><td>Sauder Forest Hills Library, Woodland Oak Finish</td><td>1670.775</td><td>417.69375</td><td>4</td></tr><tr><td>OFF-AR-10000817</td><td>Manco Dry-Lighter Erasable Highlighter</td><td>88.16</td><td>12.594285714285714</td><td>7</td></tr><tr><td>TEC-PH-10003875</td><td>KLD Oscar II Style Snap-on Ultra Thin Side Flip Synthetic Leather Cover Case for HTC One HTC M7</td><td>126.36</td><td>42.12</td><td>3</td></tr><tr><td>OFF-PA-10003656</td><td>Xerox 1935</td><td>538.1519999999999</td><td>134.53799999999998</td><td>4</td></tr><tr><td>TEC-MA-10003493</td><td>Penpower WorldCard Pro Card Scanner</td><td>91.475</td><td>91.475</td><td>1</td></tr><tr><td>FUR-FU-10003691</td><td>Eldon Image Series Desk Accessories, Ebony</td><td>180.30999999999997</td><td>36.062</td><td>5</td></tr><tr><td>OFF-BI-10001359</td><td>GBC DocuBind TL300 Electric Binding System</td><td>5507.0509999999995</td><td>500.64099999999996</td><td>11</td></tr><tr><td>OFF-LA-10003148</td><td>Avery 51</td><td>95.75999999999999</td><td>19.151999999999997</td><td>5</td></tr><tr><td>OFF-BI-10003460</td><td>Acco 3-Hole Punch</td><td>137.53199999999998</td><td>15.28133333333333</td><td>9</td></tr><tr><td>OFF-PA-10001947</td><td>Xerox 1974</td><td>57.408</td><td>14.352</td><td>4</td></tr><tr><td>FUR-CH-10001854</td><td>Office Star - Professional Matrix Back Chair with 2-to-1 Synchro Tilt and Mesh Fabric Seat</td><td>3855.467</td><td>481.933375</td><td>8</td></tr><tr><td>TEC-PH-10002200</td><td>Aastra 6757i CT Wireless VoIP phone</td><td>2380.098</td><td>396.683</td><td>6</td></tr><tr><td>OFF-EN-10002986</td><td>#10-4 1/8\" x 9 1/2\" Premium Diagonal Seam Envelopes</td><td>176.288</td><td>88.144</td><td>2</td></tr><tr><td>OFF-PA-10000587</td><td>Array Parchment Paper, Assorted Colors</td><td>62.608000000000004</td><td>20.869333333333334</td><td>3</td></tr><tr><td>OFF-LA-10002368</td><td>Avery 479</td><td>16.704</td><td>5.5680000000000005</td><td>3</td></tr><tr><td>FUR-CH-10001797</td><td>Safco Chair Connectors, 6/Carton</td><td>881.192</td><td>220.298</td><td>4</td></tr><tr><td>TEC-PH-10001949</td><td>Cisco SPA 501G IP Phone</td><td>213.48</td><td>213.48</td><td>1</td></tr><tr><td>OFF-AR-10002671</td><td>Hunt BOSTON Model 1606 High-Volume Electric Pencil Sharpener, Beige</td><td>500.641</td><td>500.641</td><td>1</td></tr><tr><td>FUR-FU-10003829</td><td>Stackable Trays</td><td>65.296</td><td>9.328000000000001</td><td>7</td></tr><tr><td>TEC-AC-10002600</td><td>Belkin QODE FastFit Bluetooth Keyboard</td><td>495.6</td><td>247.8</td><td>2</td></tr><tr><td>OFF-EN-10000927</td><td>Jet-Pak Recycled Peel 'N' Seal Padded Mailers</td><td>552.706</td><td>138.1765</td><td>4</td></tr><tr><td>OFF-PA-10003022</td><td>Standard Line “While You Were Out” Hardbound Telephone Message Book</td><td>211.00799999999998</td><td>105.50399999999999</td><td>2</td></tr><tr><td>TEC-PH-10002114</td><td>Xiaomi Mi3</td><td>500.641</td><td>500.641</td><td>1</td></tr><tr><td>TEC-PH-10004912</td><td>Cisco SPA112 2 Port Phone Adapter</td><td>351.68</td><td>175.84</td><td>2</td></tr><tr><td>OFF-ST-10000918</td><td>Crate-A-Files</td><td>176.58</td><td>25.225714285714286</td><td>7</td></tr><tr><td>OFF-AR-10002952</td><td>Stanley Contemporary Battery Pencil Sharpeners</td><td>293.70000000000005</td><td>73.42500000000001</td><td>4</td></tr><tr><td>OFF-AR-10004010</td><td>Hunt Boston Vacuum Mount KS Pencil Sharpener</td><td>671.8080000000001</td><td>134.3616</td><td>5</td></tr><tr><td>OFF-AP-10001005</td><td>Honeywell Quietcare HEPA Air Cleaner</td><td>1761.7599999999998</td><td>293.6266666666666</td><td>6</td></tr><tr><td>OFF-AR-10002804</td><td>Faber Castell Col-Erase Pencils</td><td>37.164</td><td>7.4328</td><td>5</td></tr><tr><td>OFF-LA-10004677</td><td>Self-Adhesive Address Labels for Typewriters with Dispenser Box</td><td>26.568</td><td>13.284</td><td>2</td></tr><tr><td>TEC-PH-10004165</td><td>Mitel MiVoice 5330e IP Phone</td><td>4329.456999999999</td><td>481.05077777777774</td><td>9</td></tr><tr><td>OFF-PA-10001357</td><td>Xerox 1886</td><td>651.4399999999999</td><td>130.28799999999998</td><td>5</td></tr><tr><td>TEC-AC-10001998</td><td>Logitech LS21 Speaker System - PC Multimedia - 2.1-CH - Wired</td><td>207.896</td><td>34.64933333333333</td><td>6</td></tr><tr><td>OFF-BI-10003718</td><td>GBC Therma-A-Bind 250T Electric Binding System</td><td>1001.282</td><td>500.641</td><td>2</td></tr><tr><td>TEC-MA-10002981</td><td>I.R.I.S IRISCard Anywhere 5 Card Scanner</td><td>350.973</td><td>350.973</td><td>1</td></tr><tr><td>TEC-MA-10001031</td><td>Socket Bluetooth Cordless Hand Scanner (CHS)</td><td>500.641</td><td>500.641</td><td>1</td></tr><tr><td>OFF-BI-10003291</td><td>Wilson Jones Leather-Like Binders with DublLock Round Rings</td><td>238.32900000000004</td><td>19.860750000000003</td><td>12</td></tr><tr><td>OFF-AR-10001573</td><td>American Pencil</td><td>48.93</td><td>8.155</td><td>6</td></tr><tr><td>OFF-PA-10003543</td><td>Xerox 1985</td><td>25.92</td><td>12.96</td><td>2</td></tr><tr><td>TEC-MA-10001972</td><td>Okidata C331dn Printer</td><td>2421.364</td><td>484.2728</td><td>5</td></tr><tr><td>OFF-BI-10001759</td><td>Acco Pressboard Covers with Storage Hooks, 14 7/8\" x 11\", Dark Blue</td><td>59.817</td><td>11.9634</td><td>5</td></tr><tr><td>OFF-BI-10000201</td><td>Avery Triangle Shaped Sheet Lifters, Black, 2/Pack</td><td>25.830000000000002</td><td>4.305000000000001</td><td>6</td></tr><tr><td>OFF-AP-10002222</td><td>Staple holder</td><td>107.50800000000001</td><td>26.877000000000002</td><td>4</td></tr><tr><td>TEC-MA-10002428</td><td>Fellowes Powershred HS-440 4-Sheet High Security Shredder</td><td>1337.587</td><td>445.8623333333333</td><td>3</td></tr><tr><td>OFF-SU-10001218</td><td>Fiskars Softgrip Scissors</td><td>307.44</td><td>43.92</td><td>7</td></tr><tr><td>OFF-LA-10004853</td><td>Avery 483</td><td>83.66400000000002</td><td>13.944000000000003</td><td>6</td></tr><tr><td>OFF-BI-10003638</td><td>GBC Durable Plastic Covers</td><td>323.14500000000004</td><td>46.16357142857144</td><td>7</td></tr><tr><td>OFF-PA-10001685</td><td>Easy-staple paper</td><td>257.556</td><td>51.511199999999995</td><td>5</td></tr><tr><td>TEC-MA-10001127</td><td>HP Designjet T520 Inkjet Large Format Printer - 24\" Color</td><td>1501.923</td><td>500.641</td><td>3</td></tr><tr><td>OFF-SU-10004115</td><td>Acme Stainless Steel Office Snips</td><td>81.42399999999999</td><td>20.355999999999998</td><td>4</td></tr><tr><td>OFF-PA-10002222</td><td>Xerox Color Copier Paper, 11\" x 17\", Ream</td><td>593.84</td><td>98.97333333333334</td><td>6</td></tr><tr><td>OFF-PA-10002499</td><td>Xerox 1890</td><td>244.7</td><td>122.35</td><td>2</td></tr><tr><td>OFF-LA-10000134</td><td>Avery 511</td><td>56.672</td><td>9.445333333333332</td><td>6</td></tr><tr><td>TEC-AC-10000397</td><td>Perixx PERIBOARD-512B, Ergonomic Split Keyboard</td><td>419.88</td><td>139.96</td><td>3</td></tr><tr><td>OFF-AP-10002472</td><td>3M Office Air Cleaner</td><td>259.8</td><td>129.9</td><td>2</td></tr><tr><td>TEC-AC-10002380</td><td>Sony 8GB Class 10 Micro SDHC R40 Memory Card</td><td>27.192</td><td>27.192</td><td>1</td></tr><tr><td>OFF-FA-10001561</td><td>Stockwell Push Pins</td><td>69.76</td><td>8.72</td><td>8</td></tr><tr><td>OFF-EN-10001434</td><td>Strathmore #10 Envelopes, Ultimate White</td><td>632.52</td><td>158.13</td><td>4</td></tr><tr><td>OFF-ST-10002276</td><td>Safco Steel Mobile File Cart</td><td>683.552</td><td>136.7104</td><td>5</td></tr><tr><td>FUR-FU-10004071</td><td>Luxo Professional Magnifying Clamp-On Fluorescent Lamps</td><td>1249.513</td><td>312.37825</td><td>4</td></tr><tr><td>TEC-PH-10002583</td><td>iOttie HLCRIO102 Car Mount</td><td>215.892</td><td>43.178399999999996</td><td>5</td></tr><tr><td>FUR-TA-10004619</td><td>Hon Non-Folding Utility Tables</td><td>2448.632</td><td>489.7264</td><td>5</td></tr><tr><td>TEC-PH-10004531</td><td>OtterBox Commuter Series Case - iPhone 5 & 5s</td><td>285.87</td><td>71.4675</td><td>4</td></tr><tr><td>TEC-PH-10001795</td><td>RCA H5401RE1 DECT 6.0 4-Line Cordless Handset With Caller ID/Call Waiting</td><td>239.97</td><td>239.97</td><td>1</td></tr><tr><td>OFF-BI-10001510</td><td>Deluxe Heavy-Duty Vinyl Round Ring Binder</td><td>504.24</td><td>72.03428571428572</td><td>7</td></tr><tr><td>OFF-BI-10004465</td><td>Avery Durable Slant Ring Binders</td><td>51.480000000000004</td><td>10.296000000000001</td><td>5</td></tr><tr><td>TEC-PH-10002447</td><td>AT&T CL83451 4-Handset Telephone</td><td>1406.997</td><td>351.74925</td><td>4</td></tr><tr><td>FUR-FU-10000221</td><td>Master Caster Door Stop, Brown</td><td>176.78400000000002</td><td>19.64266666666667</td><td>9</td></tr><tr><td>OFF-ST-10000877</td><td>Recycled Steel Personal File for Standard File Folders</td><td>939.93</td><td>313.31</td><td>3</td></tr><tr><td>OFF-BI-10004099</td><td>GBC VeloBinder Strips</td><td>52.99199999999999</td><td>13.247999999999998</td><td>4</td></tr><tr><td>FUR-FU-10001546</td><td>Dana Swing-Arm Lamps</td><td>108.93599999999998</td><td>15.56228571428571</td><td>7</td></tr><tr><td>OFF-ST-10000675</td><td>File Shuttle II and Handi-File, Black</td><td>1125.1480000000001</td><td>160.7354285714286</td><td>7</td></tr><tr><td>OFF-BI-10003350</td><td>Acco Expandable Hanging Binders</td><td>33.176</td><td>11.058666666666667</td><td>3</td></tr><tr><td>FUR-FU-10001756</td><td>Eldon Expressions Desk Accessory, Wood Photo Frame, Mahogany</td><td>167.55200000000002</td><td>33.510400000000004</td><td>5</td></tr><tr><td>FUR-TA-10003748</td><td>Bevis 36 x 72 Conference Tables</td><td>2697.027</td><td>337.128375</td><td>8</td></tr><tr><td>OFF-PA-10001471</td><td>Strathmore Photo Frame Cards</td><td>116.96000000000001</td><td>29.240000000000002</td><td>4</td></tr><tr><td>OFF-PA-10000533</td><td>Southworth Parchment Paper & Envelopes</td><td>70.632</td><td>14.1264</td><td>5</td></tr><tr><td>OFF-ST-10003996</td><td>Letter/Legal File Tote with Clear Snap-On Lid, Black Granite</td><td>218.416</td><td>54.604</td><td>4</td></tr><tr><td>OFF-PA-10000743</td><td>Xerox 1977</td><td>117.56799999999998</td><td>23.513599999999997</td><td>5</td></tr><tr><td>FUR-BO-10004357</td><td>O'Sullivan Living Dimensions 3-Shelf Bookcases</td><td>1302.752</td><td>434.25066666666663</td><td>3</td></tr><tr><td>TEC-PH-10001061</td><td>Apple iPhone 5C</td><td>1140.577</td><td>285.14425</td><td>4</td></tr><tr><td>OFF-BI-10003094</td><td>Self-Adhesive Ring Binder Labels</td><td>22.88</td><td>5.72</td><td>4</td></tr><tr><td>OFF-PA-10001289</td><td>White Computer Printout Paper by Universal</td><td>1279.08</td><td>159.885</td><td>8</td></tr><tr><td>OFF-PA-10000806</td><td>Xerox 1934</td><td>1097.208</td><td>219.44160000000002</td><td>5</td></tr><tr><td>OFF-ST-10003641</td><td>Space Solutions Industrial Galvanized Steel Shelving.</td><td>520.08</td><td>173.36</td><td>3</td></tr><tr><td>FUR-FU-10002030</td><td>Executive Impressions 14\" Contract Wall Clock with Quartz Movement</td><td>97.812</td><td>48.906</td><td>2</td></tr><tr><td>TEC-MA-10000112</td><td>Panasonic KX MB2061 Multifunction Printer</td><td>500.641</td><td>500.641</td><td>1</td></tr><tr><td>TEC-AC-10000580</td><td>Logitech G13 Programmable Gameboard with LCD Display</td><td>1039.8700000000001</td><td>259.96750000000003</td><td>4</td></tr><tr><td>OFF-PA-10003363</td><td>Xerox 204</td><td>110.16000000000001</td><td>27.540000000000003</td><td>4</td></tr><tr><td>FUR-CH-10002372</td><td>Office Star - Ergonomically Designed Knee Chair</td><td>1311.8760000000002</td><td>187.41085714285717</td><td>7</td></tr><tr><td>OFF-LA-10000240</td><td>Self-Adhesive Address Labels for Typewriters by Universal</td><td>153.51</td><td>21.93</td><td>7</td></tr><tr><td>TEC-AC-10002399</td><td>SanDisk Cruzer 32 GB USB Flash Drive</td><td>361.38</td><td>60.23</td><td>6</td></tr><tr><td>OFF-AR-10000634</td><td>Newell 320</td><td>81.32000000000001</td><td>11.617142857142857</td><td>7</td></tr><tr><td>OFF-PA-10004665</td><td>Advantus Motivational Note Cards</td><td>227.94</td><td>45.588</td><td>5</td></tr><tr><td>OFF-PA-10000575</td><td>Wirebound Message Books, Four 2 3/4 x 5 White Forms per Page</td><td>218.094</td><td>31.156285714285712</td><td>7</td></tr><tr><td>OFF-ST-10002790</td><td>Safco Industrial Shelving</td><td>827.12</td><td>165.424</td><td>5</td></tr><tr><td>OFF-SU-10000952</td><td>Fiskars Home & Office Scissors</td><td>62.16</td><td>31.08</td><td>2</td></tr><tr><td>OFF-AR-10001227</td><td>Newell 338</td><td>23.52</td><td>11.76</td><td>2</td></tr><tr><td>FUR-FU-10002813</td><td>DAX Contemporary Wood Frame with Silver Metal Mat, Desktop, 11 x 14 Size</td><td>291.45599999999996</td><td>58.29119999999999</td><td>5</td></tr><tr><td>OFF-AR-10004272</td><td>Newell 308</td><td>8.4</td><td>4.2</td><td>2</td></tr><tr><td>TEC-AC-10000474</td><td>Kensington Expert Mouse Optical USB Trackball for PC or Mac</td><td>1690.822</td><td>281.80366666666663</td><td>6</td></tr><tr><td>OFF-AR-10003651</td><td>Newell 350</td><td>62.32</td><td>10.386666666666667</td><td>6</td></tr><tr><td>OFF-AR-10002578</td><td>Newell 335</td><td>34.56</td><td>8.64</td><td>4</td></tr><tr><td>OFF-ST-10001837</td><td>SAFCO Mobile Desk Side File, Wire Frame</td><td>1240.04</td><td>155.005</td><td>8</td></tr><tr><td>OFF-ST-10001097</td><td>Office Impressions Heavy Duty Welded Shelving & Multimedia Storage Drawers</td><td>2503.205</td><td>500.64099999999996</td><td>5</td></tr><tr><td>OFF-AP-10001271</td><td>Eureka The Boss Cordless Rechargeable Stick Vac</td><td>948.228</td><td>158.03799999999998</td><td>6</td></tr><tr><td>OFF-ST-10000419</td><td>Rogers Jumbo File, Granite</td><td>277.03200000000004</td><td>46.172000000000004</td><td>6</td></tr><tr><td>OFF-PA-10001661</td><td>Xerox 1922</td><td>11.952</td><td>11.952</td><td>1</td></tr><tr><td>OFF-PA-10001801</td><td>Xerox 193</td><td>77.74000000000001</td><td>25.913333333333338</td><td>3</td></tr><tr><td>TEC-AC-10002018</td><td>AmazonBasics 3-Button USB Wired Mouse</td><td>88.074</td><td>17.6148</td><td>5</td></tr><tr><td>TEC-MA-10002109</td><td>HP Officejet Pro 8600 e-All-In-One Printer, Copier, Scanner, Fax</td><td>449.97</td><td>224.985</td><td>2</td></tr><tr><td>OFF-BI-10000343</td><td>Pressboard Covers with Storage Hooks, 9 1/2\" x 11\", Light Blue</td><td>102.619</td><td>8.551583333333333</td><td>12</td></tr><tr><td>FUR-FU-10002111</td><td>Master Caster Door Stop, Large Brown</td><td>59.696</td><td>19.898666666666667</td><td>3</td></tr><tr><td>FUR-CH-10002780</td><td>Office Star - Task Chair with Contemporary Loop Arms</td><td>600.4680000000001</td><td>300.23400000000004</td><td>2</td></tr><tr><td>TEC-AC-10000109</td><td>Sony Micro Vault Click 16 GB USB 2.0 Flash Drive</td><td>1489.334</td><td>165.48155555555556</td><td>9</td></tr><tr><td>FUR-CH-10000015</td><td>Hon Multipurpose Stacking Arm Chairs</td><td>3003.846</td><td>500.641</td><td>6</td></tr><tr><td>FUR-TA-10001520</td><td>Lesro Sheffield Collection Coffee Table, End Table, Center Table, Corner Table</td><td>2298.114</td><td>255.346</td><td>9</td></tr><tr><td>FUR-CH-10003817</td><td>Global Value Steno Chair, Gray</td><td>2158.843</td><td>215.8843</td><td>10</td></tr><tr><td>OFF-LA-10002271</td><td>Smead Alpha-Z Color-Coded Second Alphabetical Labels and Starter Set</td><td>48.04799999999999</td><td>9.609599999999997</td><td>5</td></tr><tr><td>OFF-PA-10004355</td><td>Xerox 231</td><td>79.05600000000001</td><td>15.811200000000003</td><td>5</td></tr><tr><td>TEC-AC-10001266</td><td>Memorex Micro Travel Drive 8 GB</td><td>299.0</td><td>37.375</td><td>8</td></tr><tr><td>OFF-BI-10003007</td><td>Premium Transparent Presentation Covers, No Pattern/Clear, 8 1/2\" x 11\"</td><td>698.04</td><td>99.72</td><td>7</td></tr><tr><td>OFF-PA-10004733</td><td>Things To Do Today Spiral Book</td><td>82.368</td><td>27.456</td><td>3</td></tr><tr><td>TEC-CO-10004202</td><td>Brother DCP1000 Digital 3 in 1 Multifunction Machine</td><td>3442.516</td><td>491.788</td><td>7</td></tr><tr><td>TEC-AC-10001013</td><td>Logitech ClearChat Comfort/USB Headset H390</td><td>533.078</td><td>88.84633333333333</td><td>6</td></tr><tr><td>OFF-AP-10001626</td><td>Commercial WindTunnel Clean Air Upright Vacuum, Replacement Belts, Filtration Bags</td><td>50.57</td><td>7.224285714285714</td><td>7</td></tr><tr><td>OFF-ST-10003306</td><td>Letter Size Cart</td><td>3103.217</td><td>387.902125</td><td>8</td></tr><tr><td>OFF-AR-10003481</td><td>Newell 348</td><td>65.6</td><td>10.933333333333332</td><td>6</td></tr><tr><td>OFF-PA-10001019</td><td>Xerox 1884</td><td>543.456</td><td>67.932</td><td>8</td></tr><tr><td>TEC-AC-10001383</td><td>Logitech Wireless Touch Keyboard K400</td><td>364.854</td><td>121.618</td><td>3</td></tr><tr><td>FUR-FU-10000023</td><td>Eldon Wave Desk Accessories</td><td>236.778</td><td>26.308666666666667</td><td>9</td></tr><tr><td>FUR-CH-10002017</td><td>SAFCO Optional Arm Kit for Workspace Cribbage Stacking Chair</td><td>245.08800000000002</td><td>49.0176</td><td>5</td></tr><tr><td>TEC-AC-10002345</td><td>HP Standard 104 key PS/2 Keyboard</td><td>275.5</td><td>45.916666666666664</td><td>6</td></tr><tr><td>OFF-SU-10004231</td><td>Acme Tagit Stainless Steel Antibacterial Scissors</td><td>196.01999999999998</td><td>32.669999999999995</td><td>6</td></tr><tr><td>TEC-PH-10002807</td><td>Motorla HX550 Universal Bluetooth Headset</td><td>419.23</td><td>104.8075</td><td>4</td></tr><tr><td>OFF-SU-10000946</td><td>Staple remover</td><td>153.216</td><td>38.304</td><td>4</td></tr><tr><td>FUR-FU-10003798</td><td>Ultra Door Kickplate, 8\"H x 34\"W</td><td>158.24</td><td>79.12</td><td>2</td></tr><tr><td>OFF-AP-10001564</td><td>Hoover Commercial Lightweight Upright Vacuum with E-Z Empty Dirt Cup</td><td>1023.3520000000001</td><td>341.11733333333336</td><td>3</td></tr><tr><td>TEC-PH-10004700</td><td>PowerGen Dual USB Car Charger</td><td>127.87200000000001</td><td>31.968000000000004</td><td>4</td></tr><tr><td>FUR-TA-10003954</td><td>Hon 94000 Series Round Tables</td><td>2503.205</td><td>500.64099999999996</td><td>5</td></tr><tr><td>OFF-ST-10003470</td><td>Tennsco Snap-Together Open Shelving Units, Starter Sets and Add-On Units</td><td>3003.846</td><td>500.641</td><td>6</td></tr><tr><td>TEC-PH-10002584</td><td>Samsung Galaxy S4</td><td>2503.205</td><td>500.64099999999996</td><td>5</td></tr><tr><td>OFF-ST-10002485</td><td>Rogers Deluxe File Chest</td><td>443.99600000000004</td><td>55.499500000000005</td><td>8</td></tr><tr><td>OFF-AP-10002998</td><td>Holmes 99% HEPA Air Purifier</td><td>333.564</td><td>83.391</td><td>4</td></tr><tr><td>OFF-PA-10000300</td><td>Xerox 1936</td><td>155.844</td><td>51.948</td><td>3</td></tr><tr><td>OFF-ST-10000676</td><td>Fellowes Econo/Stor Drawers</td><td>581.58</td><td>290.79</td><td>2</td></tr><tr><td>FUR-BO-10003433</td><td>Sauder Cornerstone Collection Library</td><td>322.192</td><td>107.39733333333334</td><td>3</td></tr><tr><td>OFF-AR-10003811</td><td>Newell 327</td><td>39.78</td><td>9.945</td><td>4</td></tr><tr><td>OFF-PA-10002137</td><td>Southworth 100% Résumé Paper, 24lb.</td><td>262.964</td><td>37.56628571428571</td><td>7</td></tr><tr><td>FUR-TA-10004534</td><td>Bevis 44 x 96 Conference Tables</td><td>2195.502</td><td>439.1004</td><td>5</td></tr><tr><td>TEC-PH-10002398</td><td>AT&T 1070 Corded Phone</td><td>1070.3039999999999</td><td>356.768</td><td>3</td></tr><tr><td>OFF-AR-10003903</td><td>Sanford 52201 APSCO Electric Pencil Sharpener</td><td>565.386</td><td>141.3465</td><td>4</td></tr><tr><td>FUR-CH-10003833</td><td>Novimex Fabric Task Chair</td><td>1695.2440000000001</td><td>211.90550000000002</td><td>8</td></tr><tr><td>OFF-FA-10003021</td><td>Staples</td><td>34.592</td><td>5.765333333333333</td><td>6</td></tr><tr><td>FUR-BO-10001601</td><td>Sauder Mission Library with Doors, Fruitwood Finish</td><td>812.373</td><td>270.791</td><td>3</td></tr><tr><td>FUR-FU-10002045</td><td>Executive Impressions 14\"</td><td>377.91</td><td>94.4775</td><td>4</td></tr><tr><td>OFF-AR-10001954</td><td>Newell 331</td><td>75.306</td><td>18.8265</td><td>4</td></tr><tr><td>FUR-BO-10001519</td><td>O'Sullivan 3-Shelf Heavy-Duty Bookcases</td><td>1096.576</td><td>219.3152</td><td>5</td></tr><tr><td>OFF-PA-10000551</td><td>Array Memo Cubes</td><td>54.908</td><td>18.302666666666667</td><td>3</td></tr><tr><td>FUR-FU-10002396</td><td>DAX Copper Panel Document Frame, 5 x 7 Size</td><td>120.768</td><td>30.192</td><td>4</td></tr><tr><td>FUR-CH-10004886</td><td>Bevis Steel Folding Chairs</td><td>1775.075</td><td>295.84583333333336</td><td>6</td></tr><tr><td>FUR-TA-10001539</td><td>Chromcraft Rectangular Conference Tables</td><td>3258.505</td><td>362.05611111111114</td><td>9</td></tr><tr><td>OFF-EN-10003567</td><td>Inter-Office Recycled Envelopes, Brown Kraft, Button-String,10\" x 13\" , 100/Box</td><td>197.82</td><td>65.94</td><td>3</td></tr><tr><td>OFF-BI-10001989</td><td>Premium Transparent Presentation Covers by GBC</td><td>753.182</td><td>75.3182</td><td>10</td></tr><tr><td>OFF-LA-10001569</td><td>Avery 499</td><td>176.29199999999997</td><td>16.026545454545452</td><td>11</td></tr><tr><td>TEC-AC-10003590</td><td>TRENDnet 56K USB 2.0 Phone, Internet and Fax Modem</td><td>626.538</td><td>125.30760000000001</td><td>5</td></tr><tr><td>OFF-PA-10004451</td><td>Xerox 222</td><td>134.784</td><td>19.25485714285714</td><td>7</td></tr><tr><td>FUR-BO-10003450</td><td>Bush Westfield Collection Bookcases, Dark Cherry Finish</td><td>649.376</td><td>216.45866666666666</td><td>3</td></tr><tr><td>OFF-PA-10002036</td><td>Xerox 1930</td><td>138.67200000000003</td><td>27.734400000000004</td><td>5</td></tr><tr><td>OFF-AR-10003958</td><td>Newell 337</td><td>10.496</td><td>5.248</td><td>2</td></tr><tr><td>OFF-AP-10003884</td><td>Fellowes Smart Surge Ten-Outlet Protector, Platinum</td><td>180.66</td><td>180.66</td><td>1</td></tr><tr><td>OFF-AR-10002818</td><td>Panasonic KP-310 Heavy-Duty Electric Pencil Sharpener</td><td>197.82</td><td>98.91</td><td>2</td></tr><tr><td>OFF-AR-10003829</td><td>Newell 35</td><td>93.15200000000002</td><td>10.350222222222223</td><td>9</td></tr><tr><td>OFF-AR-10002067</td><td>Newell 334</td><td>531.7120000000001</td><td>88.61866666666668</td><td>6</td></tr><tr><td>OFF-BI-10002824</td><td>Recycled Easel Ring Binders</td><td>308.844</td><td>34.316</td><td>9</td></tr><tr><td>TEC-AC-10002305</td><td>KeyTronic E03601U1 - Keyboard - Beige</td><td>306.0</td><td>61.2</td><td>5</td></tr><tr><td>OFF-PA-10001892</td><td>Rediform Wirebound \"Phone Memo\" Message Book, 11 x 5-3/4</td><td>110.01599999999999</td><td>22.0032</td><td>5</td></tr><tr><td>OFF-BI-10002827</td><td>Avery Durable Poly Binders</td><td>82.95</td><td>13.825000000000001</td><td>6</td></tr><tr><td>FUR-CH-10000229</td><td>Global Enterprise Series Seating High-Back Swivel/Tilt Chairs</td><td>1814.2220000000002</td><td>453.55550000000005</td><td>4</td></tr><tr><td>FUR-FU-10002107</td><td>Eldon Pizzaz Desk Accessories</td><td>37.464</td><td>9.366</td><td>4</td></tr><tr><td>OFF-PA-10003625</td><td>Xerox 1979</td><td>328.38800000000003</td><td>109.46266666666668</td><td>3</td></tr><tr><td>OFF-PA-10001033</td><td>Xerox 1893</td><td>1434.6500000000003</td><td>130.42272727272731</td><td>11</td></tr><tr><td>OFF-AP-10003849</td><td>Hoover Shoulder Vac Commercial Portable Vacuum</td><td>2431.9480000000003</td><td>405.3246666666667</td><td>6</td></tr><tr><td>OFF-FA-10000089</td><td>Acco Glide Clips</td><td>19.6</td><td>19.6</td><td>1</td></tr><tr><td>FUR-CH-10001270</td><td>Harbour Creations Steel Folding Chair</td><td>2372.266</td><td>296.53325</td><td>8</td></tr><tr><td>FUR-FU-10004020</td><td>Advantus Panel Wall Acrylic Frame</td><td>87.52</td><td>17.503999999999998</td><td>5</td></tr><tr><td>TEC-PH-10004447</td><td>Toshiba IPT2010-SD IP Telephone</td><td>2836.2270000000003</td><td>354.52837500000004</td><td>8</td></tr><tr><td>OFF-AP-10001947</td><td>Acco 6 Outlet Guardian Premium Plus Surge Suppressor</td><td>289.456</td><td>48.24266666666667</td><td>6</td></tr><tr><td>OFF-BI-10002082</td><td>GBC Twin Loop Wire Binding Elements</td><td>1041.664</td><td>104.1664</td><td>10</td></tr><tr><td>OFF-PA-10001281</td><td>Computer Printout Paper with Letter-Trim Fine Perforations</td><td>191.6</td><td>191.6</td><td>1</td></tr><tr><td>OFF-PA-10003205</td><td>Wirebound Message Forms, Four 2 3/4 x 5 Forms per Page, Pink Paper</td><td>35.948</td><td>17.974</td><td>2</td></tr><tr><td>OFF-PA-10001878</td><td>Xerox 1891</td><td>1320.57</td><td>188.65285714285713</td><td>7</td></tr><tr><td>OFF-ST-10001809</td><td>Fellowes Officeware Wire Shelving</td><td>4017.1630000000005</td><td>365.1966363636364</td><td>11</td></tr><tr><td>OFF-AR-10001149</td><td>Avery Hi-Liter Comfort Grip Fluorescent Highlighter, Yellow Ink</td><td>7.8</td><td>3.9</td><td>2</td></tr><tr><td>TEC-AC-10001267</td><td>Imation 32GB Pocket Pro USB 3.0 Flash Drive - 32 GB - Black - 1 P ...</td><td>467.22</td><td>93.444</td><td>5</td></tr><tr><td>OFF-AR-10001468</td><td>Sanford Prismacolor Professional Thick Lead Art Pencils, 36-Color Set</td><td>209.664</td><td>69.88799999999999</td><td>3</td></tr><tr><td>OFF-PA-10000726</td><td>Black Print Carbonless Snap-Off Rapid Letter, 8 1/2\" x 7\"</td><td>160.336</td><td>40.084</td><td>4</td></tr><tr><td>OFF-PA-10002713</td><td>Adams Phone Message Book, 200 Message Capacity, 8 1/16” x 11”</td><td>227.04</td><td>28.38</td><td>8</td></tr><tr><td>OFF-PA-10000740</td><td>Xerox 1982</td><td>237.536</td><td>79.17866666666667</td><td>3</td></tr><tr><td>FUR-FU-10001986</td><td>Dana Fluorescent Magnifying Lamp, White, 36\"</td><td>581.172</td><td>145.293</td><td>4</td></tr><tr><td>TEC-PH-10000441</td><td>VTech DS6151</td><td>2509.8430000000003</td><td>313.73037500000004</td><td>8</td></tr><tr><td>OFF-PA-10004100</td><td>Xerox 216</td><td>238.464</td><td>29.808</td><td>8</td></tr><tr><td>OFF-BI-10000315</td><td>Poly Designer Cover & Back</td><td>451.96199999999993</td><td>64.56599999999999</td><td>7</td></tr><tr><td>FUR-FU-10002937</td><td>GE 48\" Fluorescent Tube, Cool White Energy Saver, 34 Watts, 30/Box</td><td>2509.578</td><td>313.69725</td><td>8</td></tr><tr><td>TEC-AC-10000990</td><td>Imation Bio 2GB USB Flash Drive Imation Corp</td><td>1394.8220000000001</td><td>464.9406666666667</td><td>3</td></tr><tr><td>OFF-PA-10002581</td><td>Xerox 1951</td><td>582.424</td><td>116.48479999999999</td><td>5</td></tr><tr><td>OFF-PA-10001952</td><td>Xerox 1902</td><td>82.22399999999999</td><td>41.111999999999995</td><td>2</td></tr><tr><td>FUR-BO-10001608</td><td>Hon Metal Bookcases, Black</td><td>1389.3110000000001</td><td>277.86220000000003</td><td>5</td></tr><tr><td>OFF-ST-10001505</td><td>Perma STOR-ALL Hanging File Box, 13 1/8\"W x 12 1/4\"D x 10 1/2\"H</td><td>180.59599999999998</td><td>22.574499999999997</td><td>8</td></tr><tr><td>FUR-TA-10004289</td><td>BoxOffice By Design Rectangular and Half-Moon Meeting Room Tables</td><td>1220.0320000000002</td><td>406.67733333333337</td><td>3</td></tr><tr><td>OFF-BI-10000050</td><td>Angle-D Binders with Locking Rings, Label Holders</td><td>197.83000000000004</td><td>19.783000000000005</td><td>10</td></tr><tr><td>FUR-TA-10003008</td><td>Lesro Round Back Collection Coffee Table, End Table</td><td>2206.112</td><td>275.764</td><td>8</td></tr><tr><td>OFF-AP-10002670</td><td>Belkin 8-Outlet Premiere SurgeMaster II Surge Protectors</td><td>277.92</td><td>138.96</td><td>2</td></tr><tr><td>TEC-AC-10000736</td><td>Logitech G600 MMO Gaming Mouse</td><td>1375.828</td><td>229.30466666666666</td><td>6</td></tr><tr><td>TEC-PH-10000895</td><td>Polycom VVX 310 VoIP phone</td><td>3727.1370000000006</td><td>465.8921250000001</td><td>8</td></tr><tr><td>OFF-EN-10000781</td><td>#10- 4 1/8\" x 9 1/2\" Recycled Envelopes</td><td>75.164</td><td>37.582</td><td>2</td></tr><tr><td>OFF-ST-10002011</td><td>Smead Adjustable Mobile File Trolley with Lockable Top</td><td>1501.923</td><td>500.641</td><td>3</td></tr><tr><td>OFF-PA-10000482</td><td>Snap-A-Way Black Print Carbonless Ruled Speed Letter, Triplicate</td><td>1016.7919999999999</td><td>169.46533333333332</td><td>6</td></tr><tr><td>FUR-FU-10000222</td><td>Seth Thomas 16\" Steel Case Clock</td><td>441.72799999999995</td><td>88.34559999999999</td><td>5</td></tr><tr><td>TEC-PH-10002817</td><td>RCA ViSYS 25425RE1 Corded phone</td><td>323.976</td><td>323.976</td><td>1</td></tr><tr><td>FUR-CH-10001891</td><td>Global Deluxe Office Fabric Chairs</td><td>1420.504</td><td>236.75066666666666</td><td>6</td></tr><tr><td>TEC-AC-10002402</td><td>Razer Kraken PRO Over Ear PC and Music Headset</td><td>2100.441</td><td>262.555125</td><td>8</td></tr><tr><td>OFF-PA-10004782</td><td>Xerox 228</td><td>97.20000000000002</td><td>24.300000000000004</td><td>4</td></tr><tr><td>OFF-AR-10000315</td><td>Dixon Ticonderoga Maple Cedar Pencil, #2</td><td>23.332</td><td>7.777333333333334</td><td>3</td></tr><tr><td>FUR-FU-10004053</td><td>DAX Two-Tone Silver Metal Document Frame</td><td>234.784</td><td>39.13066666666666</td><td>6</td></tr><tr><td>OFF-PA-10002552</td><td>Xerox 1958</td><td>32.400000000000006</td><td>16.200000000000003</td><td>2</td></tr><tr><td>OFF-LA-10001074</td><td>Round Specialty Laser Printer Labels</td><td>421.008</td><td>70.16799999999999</td><td>6</td></tr><tr><td>OFF-BI-10004728</td><td>Wilson Jones Turn Tabs Binder Tool for Ring Binders</td><td>200.512</td><td>16.709333333333333</td><td>12</td></tr><tr><td>OFF-BI-10004876</td><td>Wilson Jones Suede Grain Vinyl Binders</td><td>16.402</td><td>5.467333333333333</td><td>3</td></tr><tr><td>OFF-BI-10002026</td><td>Avery Arch Ring Binders</td><td>1318.8700000000001</td><td>131.887</td><td>10</td></tr><tr><td>OFF-AR-10002766</td><td>Prang Drawing Pencil Set</td><td>56.156</td><td>14.039</td><td>4</td></tr><tr><td>FUR-CH-10000309</td><td>Global Comet Stacking Arm Chair</td><td>2503.205</td><td>500.64099999999996</td><td>5</td></tr><tr><td>OFF-PA-10000157</td><td>Xerox 191</td><td>767.232</td><td>76.72319999999999</td><td>10</td></tr><tr><td>FUR-FU-10004748</td><td>Howard Miller 16\" Diameter Gallery Wall Clock</td><td>575.46</td><td>143.865</td><td>4</td></tr><tr><td>FUR-TA-10004256</td><td>Bretford “Just In Time” Height-Adjustable Multi-Task Work Tables</td><td>2002.564</td><td>500.641</td><td>4</td></tr><tr><td>OFF-SU-10003505</td><td>Premier Electric Letter Opener</td><td>2368.43</td><td>296.05375</td><td>8</td></tr><tr><td>TEC-PH-10002824</td><td>Jabra SPEAK 410 Multidevice Speakerphone</td><td>1372.064</td><td>457.3546666666667</td><td>3</td></tr><tr><td>TEC-MA-10000904</td><td>Brother MFC-9340CDW LED All-In-One Printer, Copier Scanner</td><td>341.991</td><td>341.991</td><td>1</td></tr><tr><td>TEC-PH-10000984</td><td>Panasonic KX-TG9471B</td><td>3365.561</td><td>480.79442857142857</td><td>7</td></tr><tr><td>OFF-ST-10001228</td><td>Fellowes Personal Hanging Folder Files, Navy</td><td>284.716</td><td>71.179</td><td>4</td></tr><tr><td>OFF-LA-10000121</td><td>Avery 48</td><td>90.72</td><td>30.24</td><td>3</td></tr><tr><td>OFF-BI-10003527</td><td>Fellowes PB500 Electric Punch Plastic Comb Binding Machine with Manual Bind</td><td>5006.41</td><td>500.64099999999996</td><td>10</td></tr><tr><td>OFF-AR-10003373</td><td>Boston School Pro Electric Pencil Sharpener, 1670</td><td>873.6359999999999</td><td>124.80514285714284</td><td>7</td></tr><tr><td>OFF-PA-10001725</td><td>Xerox 1892</td><td>116.28</td><td>116.28</td><td>1</td></tr><tr><td>OFF-AR-10001130</td><td>Quartet Alpha White Chalk, 12/Pack</td><td>15.469999999999999</td><td>7.734999999999999</td><td>2</td></tr><tr><td>FUR-FU-10003535</td><td>Howard Miller Distant Time Traveler Alarm Clock</td><td>531.948</td><td>88.658</td><td>6</td></tr><tr><td>OFF-AP-10002457</td><td>Eureka The Boss Plus 12-Amp Hard Box Upright Vacuum, Red</td><td>1651.791</td><td>275.2985</td><td>6</td></tr><tr><td>OFF-PA-10002558</td><td>Xerox 1938</td><td>268.24</td><td>268.24</td><td>1</td></tr><tr><td>OFF-PA-10001125</td><td>Xerox 1988</td><td>1102.8880000000001</td><td>122.54311111111113</td><td>9</td></tr><tr><td>OFF-FA-10000053</td><td>Revere Boxed Rubber Bands by Revere</td><td>48.006</td><td>8.001</td><td>6</td></tr><tr><td>OFF-PA-10002105</td><td>Xerox 223</td><td>58.32</td><td>19.44</td><td>3</td></tr><tr><td>TEC-AC-10002049</td><td>Plantronics Savi W720 Multi-Device Wireless Headset System</td><td>3504.487</td><td>500.641</td><td>7</td></tr><tr><td>OFF-AR-10001166</td><td>Staples in misc. colors</td><td>60.64</td><td>20.213333333333335</td><td>3</td></tr><tr><td>FUR-FU-10002157</td><td>Artistic Insta-Plaque</td><td>156.8</td><td>52.26666666666667</td><td>3</td></tr><tr><td>OFF-PA-10003441</td><td>Xerox 226</td><td>334.368</td><td>30.39709090909091</td><td>11</td></tr><tr><td>OFF-ST-10000642</td><td>Tennsco Lockers, Gray</td><td>402.816</td><td>67.136</td><td>6</td></tr><tr><td>FUR-BO-10004695</td><td>O'Sullivan 2-Door Barrister Bookcase in Odessa Pine</td><td>2913.5670000000005</td><td>416.2238571428572</td><td>7</td></tr><tr><td>FUR-FU-10003832</td><td>Eldon Expressions Punched Metal & Wood Desk Accessories, Black & Cherry</td><td>155.708</td><td>31.1416</td><td>5</td></tr><tr><td>OFF-PA-10004101</td><td>Xerox 1894</td><td>169.77599999999998</td><td>33.9552</td><td>5</td></tr><tr><td>FUR-CH-10003199</td><td>Office Star - Contemporary Task Swivel Chair</td><td>1743.617</td><td>290.6028333333333</td><td>6</td></tr><tr><td>FUR-CH-10004853</td><td>Global Manager's Adjustable Task Chair, Storm</td><td>2058.142</td><td>343.02366666666666</td><td>6</td></tr><tr><td>FUR-CH-10002439</td><td>Iceberg Nesting Folding Chair, 19w x 6d x 43h</td><td>1589.406</td><td>264.901</td><td>6</td></tr><tr><td>OFF-LA-10001982</td><td>Smead Alpha-Z Color-Coded Name Labels First Letter Starter Set</td><td>62.25</td><td>15.5625</td><td>4</td></tr><tr><td>OFF-AR-10000122</td><td>Newell 314</td><td>118.29599999999999</td><td>16.89942857142857</td><td>7</td></tr><tr><td>OFF-LA-10001613</td><td>Avery File Folder Labels</td><td>113.472</td><td>8.728615384615384</td><td>13</td></tr><tr><td>FUR-FU-10001468</td><td>Tenex Antistatic Computer Chair Mats</td><td>2527.803</td><td>421.3005</td><td>6</td></tr><tr><td>OFF-PA-10002764</td><td>Easy-staple paper</td><td>170.10000000000002</td><td>56.70000000000001</td><td>3</td></tr><tr><td>TEC-AC-10004855</td><td>V7 USB Numeric Keypad</td><td>461.868</td><td>115.467</td><td>4</td></tr><tr><td>FUR-TA-10001771</td><td>Bush Cubix Conference Tables, Fully Assembled</td><td>1640.5110000000002</td><td>410.12775000000005</td><td>4</td></tr><tr><td>OFF-AR-10000475</td><td>Hunt BOSTON Vista Battery-Operated Pencil Sharpener, Black</td><td>83.952</td><td>20.988</td><td>4</td></tr><tr><td>TEC-AC-10004814</td><td>Logitech Illuminated Ultrathin Keyboard with Backlighting</td><td>170.97</td><td>170.97</td><td>1</td></tr><tr><td>TEC-AC-10002473</td><td>Maxell 4.7GB DVD-R</td><td>1231.692</td><td>111.972</td><td>11</td></tr><tr><td>OFF-BI-10002949</td><td>Prestige Round Ring Binders</td><td>85.72800000000001</td><td>10.716000000000001</td><td>8</td></tr><tr><td>OFF-PA-10002246</td><td>Wirebound Four 2-3/4 x 5 Forms per Page, 400 Sets per Book</td><td>119.97</td><td>19.995</td><td>6</td></tr><tr><td>OFF-AP-10000358</td><td>Fellowes Basic Home/Office Series Surge Protectors</td><td>436.12800000000004</td><td>48.45866666666667</td><td>9</td></tr><tr><td>OFF-AP-10000026</td><td>Tripp Lite Isotel 6 Outlet Surge Protector with Fax/Modem Protection</td><td>1243.788</td><td>207.298</td><td>6</td></tr><tr><td>FUR-CH-10003846</td><td>Hon Valutask Swivel Chairs</td><td>1237.795</td><td>309.44875</td><td>4</td></tr><tr><td>OFF-AP-10001124</td><td>Belkin 8 Outlet SurgeMaster II Gold Surge Protector with Phone Protection</td><td>500.641</td><td>500.641</td><td>1</td></tr><tr><td>OFF-PA-10003309</td><td>Xerox 211</td><td>104.976</td><td>26.244</td><td>4</td></tr><tr><td>OFF-ST-10002214</td><td>X-Rack File for Hanging Folders</td><td>318.378</td><td>35.37533333333333</td><td>9</td></tr><tr><td>TEC-PH-10001459</td><td>Samsung Galaxy Mega 6.3</td><td>3003.846</td><td>500.641</td><td>6</td></tr><tr><td>OFF-ST-10004123</td><td>Safco Industrial Wire Shelving System</td><td>2365.982</td><td>295.74775</td><td>8</td></tr><tr><td>OFF-AR-10001919</td><td>OIC #2 Pencils, Medium Soft</td><td>30.831999999999994</td><td>4.404571428571428</td><td>7</td></tr><tr><td>OFF-SU-10003936</td><td>Acme Serrated Blade Letter Opener</td><td>7.632</td><td>7.632</td><td>1</td></tr><tr><td>OFF-EN-10000483</td><td>White Envelopes, White Envelopes with Clear Poly Window</td><td>320.25</td><td>64.05</td><td>5</td></tr><tr><td>FUR-CH-10000785</td><td>Global Ergonomic Managers Chair</td><td>4451.686000000001</td><td>404.69872727272735</td><td>11</td></tr><tr><td>OFF-BI-10002437</td><td>Recycled Premium Regency Composition Covers</td><td>110.01599999999999</td><td>36.672</td><td>3</td></tr><tr><td>TEC-AC-10004975</td><td>Plantronics Audio 995 Wireless Stereo Headset</td><td>1314.271</td><td>328.56775</td><td>4</td></tr><tr><td>OFF-AP-10002867</td><td>Fellowes Command Center 5-outlet power strip</td><td>664.832</td><td>166.208</td><td>4</td></tr><tr><td>OFF-FA-10003467</td><td>Alliance Big Bands Rubber Bands, 12/Pack</td><td>9.9</td><td>4.95</td><td>2</td></tr><tr><td>TEC-PH-10000004</td><td>Belkin iPhone and iPad Lightning Cable</td><td>83.944</td><td>41.972</td><td>2</td></tr><tr><td>FUR-BO-10001972</td><td>O'Sullivan 4-Shelf Bookcase in Odessa Pine</td><td>1904.009</td><td>272.0012857142857</td><td>7</td></tr><tr><td>TEC-AC-10000710</td><td>Maxell DVD-RAM Discs</td><td>296.64</td><td>98.88</td><td>3</td></tr><tr><td>TEC-AC-10004901</td><td>Kensington SlimBlade Notebook Wireless Mouse with Nano Receiver</td><td>549.89</td><td>137.4725</td><td>4</td></tr><tr><td>OFF-AR-10000657</td><td>Binney & Smith inkTank Desk Highlighter, Chisel Tip, Yellow, 12/Box</td><td>45.15</td><td>9.03</td><td>5</td></tr><tr><td>FUR-BO-10003272</td><td>O'Sullivan Living Dimensions 5-Shelf Bookcases</td><td>2185.7349999999997</td><td>364.28916666666663</td><td>6</td></tr><tr><td>TEC-AC-10001109</td><td>Logitech Trackman Marble Mouse</td><td>773.7420000000001</td><td>85.97133333333335</td><td>9</td></tr><tr><td>FUR-FU-10002379</td><td>Eldon Econocleat Chair Mats for Low Pile Carpets</td><td>124.41</td><td>124.41</td><td>1</td></tr><tr><td>FUR-TA-10000849</td><td>Bevis Rectangular Conference Tables</td><td>1007.262</td><td>251.8155</td><td>4</td></tr><tr><td>TEC-PH-10000169</td><td>ARKON Windshield Dashboard Air Vent Car Mount Holder</td><td>149.16</td><td>49.72</td><td>3</td></tr><tr><td>TEC-PH-10002085</td><td>Clarity 53712</td><td>752.2860000000001</td><td>188.07150000000001</td><td>4</td></tr><tr><td>OFF-AP-10004487</td><td>Kensington 4 Outlet MasterPiece Compact Power Control Center</td><td>2143.3050000000003</td><td>306.1864285714286</td><td>7</td></tr><tr><td>FUR-FU-10002253</td><td>Howard Miller 13\" Diameter Pewter Finish Round Wall Clock</td><td>764.332</td><td>152.8664</td><td>5</td></tr><tr><td>FUR-BO-10003660</td><td>Bush Cubix Collection Bookcases, Fully Assembled</td><td>729.2339999999999</td><td>243.07799999999997</td><td>3</td></tr><tr><td>FUR-BO-10002268</td><td>Sauder Barrister Bookcases</td><td>754.734</td><td>251.578</td><td>3</td></tr><tr><td>OFF-EN-10002831</td><td>Tyvek  Top-Opening Peel & Seel  Envelopes, Gray</td><td>610.98</td><td>203.66</td><td>3</td></tr><tr><td>OFF-AR-10003727</td><td>Berol Giant Pencil Sharpener</td><td>254.85000000000002</td><td>63.712500000000006</td><td>4</td></tr><tr><td>TEC-MA-10000010</td><td>Hewlett-Packard Deskjet 3050a All-in-One Color Inkjet Printer</td><td>500.641</td><td>500.641</td><td>1</td></tr><tr><td>OFF-AR-10002399</td><td>Dixon Prang Watercolor Pencils, 10-Color Set with Brush</td><td>110.76</td><td>15.822857142857144</td><td>7</td></tr><tr><td>FUR-FU-10002268</td><td>Ultra Door Push Plate</td><td>149.264</td><td>21.323428571428572</td><td>7</td></tr><tr><td>OFF-ST-10002344</td><td>Carina 42\"Hx23 3/4\"W Media Storage Unit</td><td>1635.796</td><td>204.4745</td><td>8</td></tr><tr><td>FUR-FU-10001424</td><td>Dax Clear Box Frame</td><td>96.03</td><td>16.005</td><td>6</td></tr><tr><td>OFF-BI-10004233</td><td>GBC Pre-Punched Binding Paper, Plastic, White, 8-1/2\" x 11\"</td><td>207.87</td><td>34.645</td><td>6</td></tr><tr><td>TEC-PH-10004586</td><td>Wilson SignalBoost 841262 DB PRO Amplifier Kit</td><td>2935.145</td><td>489.19083333333333</td><td>6</td></tr><tr><td>OFF-BI-10001982</td><td>Wilson Jones Custom Binder Spines & Labels</td><td>41.344</td><td>5.906285714285715</td><td>7</td></tr><tr><td>FUR-CH-10002335</td><td>Hon GuestStacker Chair</td><td>4320.499</td><td>480.05544444444445</td><td>9</td></tr><tr><td>OFF-PA-10000143</td><td>Astroparche Fine Business Paper</td><td>144.67200000000003</td><td>24.112000000000005</td><td>6</td></tr><tr><td>FUR-FU-10003026</td><td>Eldon Regeneration Recycled Desk Accessories, Black</td><td>39.688</td><td>13.229333333333335</td><td>3</td></tr><tr><td>FUR-TA-10000688</td><td>Chromcraft Bull-Nose Wood Round Conference Table Top, Wood Base</td><td>2568.974</td><td>428.1623333333334</td><td>6</td></tr><tr><td>FUR-CH-10002320</td><td>Hon Pagoda Stacking Chairs</td><td>1758.707</td><td>439.67675</td><td>4</td></tr><tr><td>OFF-BI-10000829</td><td>Avery Non-Stick Binders</td><td>141.88400000000001</td><td>20.26914285714286</td><td>7</td></tr><tr><td>OFF-PA-10002479</td><td>Xerox 4200 Series MultiUse Premium Copy Paper (20Lb. and 84 Bright)</td><td>139.392</td><td>17.424</td><td>8</td></tr><tr><td>FUR-BO-10001811</td><td>Atlantic Metals Mobile 5-Shelf Bookcases, Custom Colors</td><td>3129.2430000000004</td><td>391.15537500000005</td><td>8</td></tr><tr><td>FUR-FU-10004864</td><td>Howard Miller 14-1/2\" Diameter Chrome Round Wall Clock</td><td>1636.864</td><td>233.8377142857143</td><td>7</td></tr><tr><td>OFF-FA-10002815</td><td>Staples</td><td>50.616</td><td>16.872</td><td>3</td></tr><tr><td>TEC-PH-10003012</td><td>Nortel Meridian M3904 Professional Digital phone</td><td>3803.9000000000005</td><td>380.39000000000004</td><td>10</td></tr><tr><td>OFF-EN-10004846</td><td>Letter or Legal Size Expandable Poly String Tie Envelopes</td><td>36.708</td><td>9.177</td><td>4</td></tr><tr><td>FUR-CH-10003298</td><td>Office Star - Contemporary Task Swivel chair with Loop Arms, Charcoal</td><td>3479.721</td><td>386.6356666666667</td><td>9</td></tr><tr><td>OFF-AP-10001205</td><td>Belkin 5 Outlet SurgeMaster Power Centers</td><td>1776.0480000000005</td><td>177.60480000000004</td><td>10</td></tr><tr><td>OFF-ST-10001172</td><td>Tennsco Lockers, Sand</td><td>323.092</td><td>80.773</td><td>4</td></tr><tr><td>TEC-MA-10003674</td><td>Hewlett-Packard Deskjet 5550 Printer</td><td>500.641</td><td>500.641</td><td>1</td></tr><tr><td>OFF-ST-10004337</td><td>SAFCO Commercial Wire Shelving, 72h</td><td>1445.264</td><td>289.0528</td><td>5</td></tr><tr><td>OFF-PA-10001560</td><td>Adams Telephone Message Books, 5 1/4” x 11”</td><td>80.936</td><td>16.1872</td><td>5</td></tr><tr><td>OFF-SU-10000432</td><td>Acco Side-Punched Conventional Columnar Pads</td><td>41.64</td><td>10.41</td><td>4</td></tr><tr><td>FUR-CH-10003956</td><td>Novimex High-Tech Fabric Mesh Task Chair</td><td>922.74</td><td>230.685</td><td>4</td></tr><tr><td>OFF-PA-10002741</td><td>Xerox 1980</td><td>34.24</td><td>17.12</td><td>2</td></tr><tr><td>TEC-AC-10002006</td><td>Memorex Micro Travel Drive 16 GB</td><td>556.452</td><td>79.49314285714286</td><td>7</td></tr><tr><td>OFF-FA-10004968</td><td>Rubber Band Ball</td><td>58.344</td><td>14.586</td><td>4</td></tr><tr><td>OFF-PA-10003256</td><td>Avery Personal Creations Heavyweight Cards</td><td>103.85999999999999</td><td>34.62</td><td>3</td></tr><tr><td>OFF-EN-10003448</td><td>Peel & Seel Recycled Catalog Envelopes, Brown</td><td>88.008</td><td>44.004</td><td>2</td></tr><tr><td>OFF-PA-10000213</td><td>Xerox 198</td><td>75.696</td><td>25.232</td><td>3</td></tr><tr><td>OFF-SU-10004768</td><td>Acme Kleencut Forged Steel Scissors</td><td>35.587999999999994</td><td>11.862666666666664</td><td>3</td></tr><tr><td>OFF-FA-10002988</td><td>Ideal Clamps</td><td>58.69199999999999</td><td>7.336499999999999</td><td>8</td></tr><tr><td>TEC-AC-10001445</td><td>Imation USB 2.0 Swivel Flash Drive USB flash drive - 4 GB - Pink</td><td>30.3</td><td>15.15</td><td>2</td></tr><tr><td>TEC-PH-10001750</td><td>Samsung Rugby III</td><td>1385.79</td><td>173.22375</td><td>8</td></tr><tr><td>OFF-ST-10000777</td><td>Companion Letter/Legal File, Black</td><td>611.712</td><td>122.3424</td><td>5</td></tr><tr><td>OFF-LA-10003077</td><td>Avery 500</td><td>58.48</td><td>29.24</td><td>2</td></tr><tr><td>OFF-PA-10000249</td><td>Easy-staple paper</td><td>196.48</td><td>32.74666666666666</td><td>6</td></tr><tr><td>FUR-FU-10004848</td><td>DAX Solid Wood Frames</td><td>113.33200000000001</td><td>37.77733333333334</td><td>3</td></tr><tr><td>OFF-AR-10003986</td><td>Avery Hi-Liter Pen Style Six-Color Fluorescent Set</td><td>7.7</td><td>7.7</td><td>1</td></tr><tr><td>OFF-AR-10004165</td><td>Binney & Smith inkTank Erasable Pocket Highlighter, Chisel Tip, Yellow</td><td>25.992</td><td>8.664</td><td>3</td></tr><tr><td>OFF-EN-10004030</td><td>Convenience Packs of Business Envelopes</td><td>58.644</td><td>9.774</td><td>6</td></tr><tr><td>OFF-FA-10003059</td><td>Assorted Color Push Pins</td><td>34.39</td><td>4.29875</td><td>8</td></tr><tr><td>OFF-LA-10000476</td><td>Avery 05222 Permanent Self-Adhesive File Folder Labels for Typewriters, on Rolls, White, 250/Roll</td><td>20.65</td><td>10.325</td><td>2</td></tr><tr><td>OFF-AP-10002684</td><td>Acco 7-Outlet Masterpiece Power Center, Wihtout Fax/Phone Line Protection</td><td>1594.861</td><td>265.8101666666667</td><td>6</td></tr><tr><td>OFF-ST-10000129</td><td>Fellowes Recycled Storage Drawers</td><td>1011.3789999999999</td><td>337.1263333333333</td><td>3</td></tr><tr><td>TEC-PH-10003437</td><td>Blue Parrot B250XT Professional Grade Wireless Bluetooth Headset with</td><td>1229.836</td><td>307.459</td><td>4</td></tr><tr><td>FUR-CH-10002317</td><td>Global Enterprise Series Seating Low-Back Swivel/Tilt Chairs</td><td>207.184</td><td>207.184</td><td>1</td></tr><tr><td>FUR-FU-10000010</td><td>DAX Value U-Channel Document Frames, Easel Back</td><td>161.028</td><td>17.892</td><td>9</td></tr><tr><td>OFF-BI-10004224</td><td>Catalog Binders with Expanding Posts</td><td>1089.936</td><td>136.242</td><td>8</td></tr><tr><td>OFF-SU-10004498</td><td>Martin-Yale Premier Letter Opener</td><td>236.99200000000002</td><td>33.856</td><td>7</td></tr><tr><td>OFF-PA-10000295</td><td>Xerox 229</td><td>85.536</td><td>28.512</td><td>3</td></tr><tr><td>FUR-FU-10002501</td><td>Nu-Dell Executive Frame</td><td>409.536</td><td>68.256</td><td>6</td></tr><tr><td>FUR-FU-10001876</td><td>Computer Room Manger, 14\"</td><td>636.6080000000001</td><td>90.944</td><td>7</td></tr><tr><td>OFF-BI-10000962</td><td>Acco Flexible ACCOHIDE Square Ring Data Binder, Dark Blue, 11 1/2\" X 14\" 7/8\"</td><td>410.00399999999996</td><td>41.0004</td><td>10</td></tr><tr><td>OFF-PA-10001609</td><td>Tops Wirebound Message Log Books</td><td>73.69600000000001</td><td>12.28266666666667</td><td>6</td></tr><tr><td>TEC-PH-10003356</td><td>SmartStand Mobile Device Holder, Assorted Colors</td><td>30.756</td><td>15.378</td><td>2</td></tr><tr><td>TEC-MA-10001148</td><td>Okidata MB491 Multifunction Printer</td><td>949.741</td><td>474.8705</td><td>2</td></tr><tr><td>OFF-PA-10004675</td><td>Telephone Message Books with Fax/Mobile Section, 5 1/2\" x 3 3/16\"</td><td>99.05999999999999</td><td>16.509999999999998</td><td>6</td></tr><tr><td>FUR-FU-10000260</td><td>6\" Cubicle Wall Clock, Black</td><td>100.316</td><td>33.43866666666667</td><td>3</td></tr><tr><td>OFF-PA-10000061</td><td>Xerox 205</td><td>150.336</td><td>37.584</td><td>4</td></tr><tr><td>OFF-PA-10000595</td><td>Xerox 1929</td><td>351.736</td><td>87.934</td><td>4</td></tr><tr><td>OFF-BI-10000301</td><td>GBC Instant Report Kit</td><td>164.985</td><td>12.691153846153847</td><td>13</td></tr><tr><td>FUR-CH-10004218</td><td>Global Fabric Manager's Chair, Dark Gray</td><td>2394.8060000000005</td><td>299.35075000000006</td><td>8</td></tr><tr><td>TEC-AC-10001956</td><td>Microsoft Arc Touch Mouse</td><td>359.70000000000005</td><td>179.85000000000002</td><td>2</td></tr><tr><td>OFF-EN-10001137</td><td>#10 Gummed Flap White Envelopes, 100/Box</td><td>41.3</td><td>10.325</td><td>4</td></tr><tr><td>OFF-ST-10003572</td><td>Portfile Personal File Boxes</td><td>99.11999999999999</td><td>49.559999999999995</td><td>2</td></tr><tr><td>OFF-BI-10003963</td><td>Cardinal Holdit Data Disk Pockets</td><td>100.464</td><td>33.488</td><td>3</td></tr><tr><td>OFF-PA-10002709</td><td>Xerox 1956</td><td>89.7</td><td>44.85</td><td>2</td></tr><tr><td>OFF-BI-10001721</td><td>Trimflex Flexible Post Binders</td><td>346.356</td><td>86.589</td><td>4</td></tr><tr><td>OFF-ST-10003716</td><td>Tennsco Double-Tier Lockers</td><td>5636.465999999999</td><td>469.7055</td><td>12</td></tr><tr><td>FUR-FU-10001473</td><td>Eldon Executive Woodline II Desk Accessories, Mahogany</td><td>361.87199999999996</td><td>72.3744</td><td>5</td></tr><tr><td>TEC-MA-10000488</td><td>Bady BDG101FRU Card Printer</td><td>2002.564</td><td>500.641</td><td>4</td></tr><tr><td>TEC-PH-10004120</td><td>AT&T 1080 Phone</td><td>1110.874</td><td>370.29133333333334</td><td>3</td></tr><tr><td>OFF-EN-10003055</td><td>Blue String-Tie & Button Interoffice Envelopes, 10 x 13</td><td>679.6600000000001</td><td>135.93200000000002</td><td>5</td></tr><tr><td>OFF-PA-10004248</td><td>Xerox 1990</td><td>36.96</td><td>18.48</td><td>2</td></tr><tr><td>OFF-ST-10001128</td><td>Carina Mini System Audio Rack, Model AR050B</td><td>1731.2880000000002</td><td>346.2576</td><td>5</td></tr><tr><td>OFF-LA-10001771</td><td>Avery 513</td><td>72.708</td><td>24.236</td><td>3</td></tr><tr><td>OFF-PA-10002606</td><td>Xerox 1928</td><td>124.608</td><td>31.152</td><td>4</td></tr><tr><td>OFF-BI-10004002</td><td>Wilson Jones International Size A4 Ring Binders</td><td>174.73</td><td>24.96142857142857</td><td>7</td></tr><tr><td>OFF-BI-10002412</td><td>Wilson Jones “Snap” Scratch Pad Binder Tool for Ring Binders</td><td>100.92</td><td>20.184</td><td>5</td></tr><tr><td>FUR-TA-10001950</td><td>Balt Solid Wood Round Tables</td><td>2002.564</td><td>500.641</td><td>4</td></tr><tr><td>OFF-BI-10004209</td><td>Fellowes Twister Kit, Gray/Clear, 3/pkg</td><td>142.308</td><td>15.812</td><td>9</td></tr><tr><td>TEC-PH-10000439</td><td>GE DSL Phone Line Filter</td><td>495.876</td><td>123.969</td><td>4</td></tr><tr><td>FUR-CH-10002024</td><td>HON 5400 Series Task Chairs for Big and Tall</td><td>4005.128</td><td>500.641</td><td>8</td></tr><tr><td>TEC-AC-10003237</td><td>Memorex Micro Travel Drive 4 GB</td><td>103.88</td><td>34.626666666666665</td><td>3</td></tr><tr><td>OFF-ST-10003327</td><td>Akro-Mils 12-Gallon Tote</td><td>113.202</td><td>28.3005</td><td>4</td></tr><tr><td>OFF-ST-10003816</td><td>Fellowes High-Stak Drawer Files</td><td>3412.0840000000003</td><td>426.51050000000004</td><td>8</td></tr><tr><td>TEC-PH-10002352</td><td>Avaya IP Phone 1140E VoIP phone</td><td>500.641</td><td>500.641</td><td>1</td></tr><tr><td>TEC-PH-10001795</td><td>ClearOne CHATAttach 160 - speaker phone</td><td>2002.564</td><td>500.641</td><td>4</td></tr><tr><td>OFF-BI-10002049</td><td>UniKeep View Case Binders</td><td>28.851</td><td>5.7702</td><td>5</td></tr><tr><td>TEC-AC-10003033</td><td>Plantronics CS510 - Over-the-Head monaural Wireless Headset System</td><td>4769.728999999999</td><td>476.9728999999999</td><td>10</td></tr><tr><td>FUR-FU-10000672</td><td>Executive Impressions 10\" Spectator Wall Clock</td><td>258.72</td><td>51.74400000000001</td><td>5</td></tr><tr><td>OFF-PA-10002787</td><td>Xerox 227</td><td>120.528</td><td>15.066</td><td>8</td></tr><tr><td>OFF-AR-10000914</td><td>Boston 16765 Mini Stand Up Battery Pencil Sharpener</td><td>102.608</td><td>25.652</td><td>4</td></tr><tr><td>OFF-PA-10001526</td><td>Xerox 1949</td><td>110.55600000000003</td><td>15.79371428571429</td><td>7</td></tr><tr><td>OFF-BI-10004600</td><td>Ibico Ibimaster 300 Manual Binding System</td><td>3504.487</td><td>500.641</td><td>7</td></tr><tr><td>OFF-PA-10002923</td><td>Xerox 1942</td><td>597.0679999999999</td><td>99.51133333333331</td><td>6</td></tr><tr><td>TEC-CO-10003763</td><td>Canon PC1060 Personal Laser Copier</td><td>1501.923</td><td>500.641</td><td>3</td></tr><tr><td>FUR-FU-10004622</td><td>Eldon Advantage Foldable Chair Mats for Low Pile Carpets</td><td>379.4</td><td>126.46666666666665</td><td>3</td></tr><tr><td>TEC-CO-10001943</td><td>Canon PC-428 Personal Copier</td><td>2301.8830000000003</td><td>460.37660000000005</td><td>5</td></tr><tr><td>TEC-PH-10001918</td><td>Nortel Business Series Terminal T7208 Digital phone</td><td>1000.7280000000001</td><td>333.576</td><td>3</td></tr><tr><td>TEC-PH-10002483</td><td>Motorola Moto X</td><td>772.633</td><td>386.3165</td><td>2</td></tr><tr><td>FUR-CH-10004477</td><td>Global Push Button Manager's Chair, Indigo</td><td>1919.3780000000004</td><td>213.26422222222226</td><td>9</td></tr><tr><td>FUR-BO-10001337</td><td>O'Sullivan Living Dimensions 2-Shelf Bookcases</td><td>2840.1780000000003</td><td>284.0178</td><td>10</td></tr><tr><td>OFF-BI-10001628</td><td>Acco Data Flex Cable Posts For Top & Bottom Load Binders, 6\" Capacity</td><td>262.836</td><td>29.204</td><td>9</td></tr><tr><td>OFF-AR-10002335</td><td>DIXON Oriole Pencils</td><td>44.891999999999996</td><td>7.481999999999999</td><td>6</td></tr><tr><td>FUR-FU-10000629</td><td>9-3/4 Diameter Round Wall Clock</td><td>455.07</td><td>56.88375</td><td>8</td></tr><tr><td>FUR-FU-10000320</td><td>OIC Stacking Trays</td><td>82.832</td><td>13.805333333333332</td><td>6</td></tr><tr><td>OFF-AR-10000203</td><td>Newell 336</td><td>68.48</td><td>17.12</td><td>4</td></tr><tr><td>TEC-PH-10004042</td><td>ClearOne Communications CHAT 70 OC Speaker Phone</td><td>1541.8480000000002</td><td>385.46200000000005</td><td>4</td></tr><tr><td>OFF-PA-10001260</td><td>TOPS Money Receipt Book, Consecutively Numbered in Red,</td><td>88.11</td><td>44.055</td><td>2</td></tr><tr><td>TEC-MA-10004255</td><td>Konica Minolta magicolor 1690MF Multifunction Printer</td><td>319.92</td><td>319.92</td><td>1</td></tr><tr><td>OFF-LA-10000305</td><td>Avery 495</td><td>97.02</td><td>24.255</td><td>4</td></tr><tr><td>OFF-BI-10001597</td><td>Wilson Jones Ledger-Size, Piano-Hinge Binder, 2\", Blue</td><td>1200.714</td><td>109.15581818181818</td><td>11</td></tr><tr><td>TEC-PH-10004922</td><td>RCA Visys Integrated PBX 8-Line Router</td><td>1085.238</td><td>217.04760000000002</td><td>5</td></tr><tr><td>TEC-PH-10002597</td><td>Xblue XB-1670-86 X16 Small Office Telephone - Titanium</td><td>601.433</td><td>300.7165</td><td>2</td></tr><tr><td>TEC-PH-10003963</td><td>GE 2-Jack Phone Line Splitter</td><td>1495.658</td><td>498.55266666666665</td><td>3</td></tr><tr><td>OFF-BI-10002609</td><td>Avery Hidden Tab Dividers for Binding Systems</td><td>31.588</td><td>4.5125714285714285</td><td>7</td></tr><tr><td>FUR-FU-10004586</td><td>G.E. Longer-Life Indoor Recessed Floodlight Bulbs</td><td>81.00800000000001</td><td>13.501333333333335</td><td>6</td></tr><tr><td>OFF-PA-10000682</td><td>Xerox 1924</td><td>60.112</td><td>15.028</td><td>4</td></tr><tr><td>OFF-BI-10004738</td><td>Flexible Leather- Look Classic Collection Ring Binder</td><td>142.04999999999998</td><td>23.674999999999997</td><td>6</td></tr><tr><td>FUR-FU-10002759</td><td>12-1/2 Diameter Round Wall Clock</td><td>551.4480000000001</td><td>68.93100000000001</td><td>8</td></tr><tr><td>OFF-PA-10000520</td><td>Xerox 201</td><td>110.16</td><td>22.032</td><td>5</td></tr><tr><td>OFF-BI-10001153</td><td>Ibico Recycled Grain-Textured Covers</td><td>86.35</td><td>28.78333333333333</td><td>3</td></tr><tr><td>OFF-PA-10001994</td><td>Ink Jet Note and Greeting Cards, 8-1/2\" x 5-1/2\" Card Size</td><td>121.392</td><td>40.464</td><td>3</td></tr><tr><td>OFF-PA-10003729</td><td>Xerox 1998</td><td>46.656</td><td>23.328</td><td>2</td></tr><tr><td>OFF-BI-10001294</td><td>Fellowes Binding Cases</td><td>271.44</td><td>54.288</td><td>5</td></tr><tr><td>TEC-CO-10001449</td><td>Hewlett Packard LaserJet 3310 Copier</td><td>4005.128</td><td>500.641</td><td>8</td></tr><tr><td>OFF-BI-10003910</td><td>DXL Angle-View Binders with Locking Rings by Samsill</td><td>215.109</td><td>21.5109</td><td>10</td></tr><tr><td>OFF-AR-10004602</td><td>Boston KS Multi-Size Manual Pencil Sharpener</td><td>533.3679999999999</td><td>76.19542857142856</td><td>7</td></tr><tr><td>OFF-EN-10003862</td><td>Laser & Ink Jet Business Envelopes</td><td>198.46200000000002</td><td>39.692400000000006</td><td>5</td></tr><tr><td>OFF-BI-10000088</td><td>GBC Imprintable Covers</td><td>241.56000000000003</td><td>30.195000000000004</td><td>8</td></tr><tr><td>FUR-CH-10003061</td><td>Global Leather Task Chair, Black</td><td>1448.839</td><td>181.104875</td><td>8</td></tr><tr><td>OFF-AR-10001118</td><td>Binney & Smith Crayola Metallic Crayons, 16-Color Pack</td><td>16.176000000000002</td><td>8.088000000000001</td><td>2</td></tr><tr><td>FUR-FU-10000073</td><td>Deflect-O Glasstique Clear Desk Accessories</td><td>124.74</td><td>41.58</td><td>3</td></tr><tr><td>TEC-AC-10001090</td><td>Micro Innovations Wireless Classic Keyboard with Mouse</td><td>107.964</td><td>53.982</td><td>2</td></tr><tr><td>OFF-LA-10004425</td><td>Staple-on labels</td><td>53.754000000000005</td><td>10.750800000000002</td><td>5</td></tr><tr><td>OFF-PA-10003349</td><td>Xerox 1957</td><td>95.90400000000001</td><td>15.984000000000002</td><td>6</td></tr><tr><td>TEC-PH-10003484</td><td>Ooma Telo VoIP Home Phone System</td><td>1782.42</td><td>356.48400000000004</td><td>5</td></tr><tr><td>FUR-FU-10001918</td><td>C-Line Cubicle Keepers Polyproplyene Holder With Velcro Backings</td><td>137.17</td><td>17.14625</td><td>8</td></tr><tr><td>FUR-CH-10002758</td><td>Hon Deluxe Fabric Upholstered Stacking Chairs, Squared Back</td><td>1001.282</td><td>500.641</td><td>2</td></tr><tr><td>OFF-BI-10001120</td><td>Ibico EPK-21 Electric Binding System</td><td>1501.923</td><td>500.641</td><td>3</td></tr><tr><td>OFF-PA-10003302</td><td>Xerox 1906</td><td>1098.64</td><td>156.94857142857146</td><td>7</td></tr><tr><td>OFF-PA-10004022</td><td>Hammermill Color Copier Paper (28Lb. and 96 Bright)</td><td>29.97</td><td>14.985</td><td>2</td></tr><tr><td>OFF-PA-10001800</td><td>Xerox 220</td><td>145.152</td><td>18.144</td><td>8</td></tr><tr><td>FUR-TA-10004175</td><td>Hon 30\" x 60\" Table with Locking Drawer</td><td>1182.761</td><td>394.2536666666667</td><td>3</td></tr><tr><td>OFF-BI-10001071</td><td>GBC ProClick Punch Binding System</td><td>1573.9080000000001</td><td>224.84400000000002</td><td>7</td></tr><tr><td>OFF-BI-10003876</td><td>Green Canvas Binder for 8-1/2\" x 14\" Sheets</td><td>569.24</td><td>113.848</td><td>5</td></tr><tr><td>TEC-PH-10003505</td><td>Geemarc AmpliPOWER60</td><td>3228.482</td><td>293.49836363636365</td><td>11</td></tr><tr><td>FUR-CH-10002647</td><td>Situations Contoured Folding Chairs, 4/Set</td><td>3460.5070000000005</td><td>230.7004666666667</td><td>15</td></tr><tr><td>FUR-FU-10004006</td><td>Deflect-o DuraMat Lighweight, Studded, Beveled Mat for Low Pile Carpeting</td><td>673.8700000000001</td><td>112.31166666666668</td><td>6</td></tr><tr><td>OFF-PA-10004888</td><td>Xerox 217</td><td>151.63199999999998</td><td>18.953999999999997</td><td>8</td></tr><tr><td>OFF-ST-10004507</td><td>Advantus Rolling Storage Box</td><td>428.74999999999994</td><td>42.87499999999999</td><td>10</td></tr><tr><td>FUR-FU-10004093</td><td>Hand-Finished Solid Wood Document Frame</td><td>260.14799999999997</td><td>86.716</td><td>3</td></tr><tr><td>OFF-BI-10002897</td><td>Black Avery Memo-Size 3-Ring Binder, 5 1/2\" x 8 1/2\"</td><td>45.507999999999996</td><td>11.376999999999999</td><td>4</td></tr><tr><td>FUR-BO-10000112</td><td>Bush Birmingham Collection Bookcase, Dark Cherry</td><td>500.641</td><td>500.641</td><td>1</td></tr><tr><td>TEC-MA-10004125</td><td>Cubify CubeX 3D Printer Triple Head Print</td><td>500.641</td><td>500.641</td><td>1</td></tr><tr><td>TEC-MA-10004521</td><td>Epson Perfection V600 Photo Scanner</td><td>206.991</td><td>206.991</td><td>1</td></tr><tr><td>OFF-AP-10003281</td><td>Acco 6 Outlet Guardian Standard Surge Suppressor</td><td>149.91600000000003</td><td>29.983200000000004</td><td>5</td></tr><tr><td>OFF-AP-10001962</td><td>Black & Decker Filter for Double Action Dustbuster Cordless Vac BLDV7210</td><td>229.886</td><td>38.31433333333333</td><td>6</td></tr><tr><td>OFF-ST-10000617</td><td>Woodgrain Magazine Files by Perma</td><td>69.136</td><td>11.522666666666666</td><td>6</td></tr><tr><td>TEC-AC-10001539</td><td>Logitech G430 Surround Sound Gaming Headset with Dolby 7.1 Technology</td><td>1167.854</td><td>389.2846666666667</td><td>3</td></tr><tr><td>OFF-PA-10000528</td><td>Xerox 1981</td><td>70.752</td><td>17.688</td><td>4</td></tr><tr><td>FUR-FU-10004973</td><td>Flat Face Poster Frame</td><td>546.36</td><td>49.66909090909091</td><td>11</td></tr><tr><td>OFF-PA-10004156</td><td>Xerox 188</td><td>201.852</td><td>28.836000000000002</td><td>7</td></tr><tr><td>FUR-FU-10000293</td><td>Eldon Antistatic Chair Mats for Low to Medium Pile Carpets</td><td>1380.326</td><td>345.0815</td><td>4</td></tr><tr><td>OFF-PA-10001166</td><td>Xerox 1932</td><td>85.056</td><td>85.056</td><td>1</td></tr><tr><td>OFF-PA-10004039</td><td>Xerox 1882</td><td>391.86</td><td>97.965</td><td>4</td></tr><tr><td>OFF-AR-10004757</td><td>Crayola Colored Pencils</td><td>120.70400000000001</td><td>10.97309090909091</td><td>11</td></tr><tr><td>OFF-BI-10002976</td><td>ACCOHIDE Binder by Acco</td><td>65.254</td><td>16.3135</td><td>4</td></tr><tr><td>OFF-FA-10004838</td><td>Super Bands, 12/Pack</td><td>33.48</td><td>8.37</td><td>4</td></tr><tr><td>FUR-FU-10004845</td><td>Deflect-o EconoMat Nonstudded, No Bevel Mat</td><td>619.8</td><td>309.9</td><td>2</td></tr><tr><td>OFF-PA-10003893</td><td>Xerox 1962</td><td>109.568</td><td>15.652571428571429</td><td>7</td></tr><tr><td>TEC-PH-10001700</td><td>Panasonic KX-TG6844B Expandable Digital Cordless Telephone</td><td>1135.028</td><td>162.14685714285716</td><td>7</td></tr><tr><td>OFF-AP-10000027</td><td>Hoover Commercial SteamVac</td><td>168.392</td><td>42.098</td><td>4</td></tr><tr><td>TEC-PH-10004667</td><td>Cisco 8x8 Inc. 6753i IP Business Phone System</td><td>2162.196</td><td>360.366</td><td>6</td></tr><tr><td>OFF-AP-10001391</td><td>Kensington 6 Outlet MasterPiece HOMEOFFICE Power Control Center</td><td>771.3610000000001</td><td>385.68050000000005</td><td>2</td></tr><tr><td>OFF-AR-10002833</td><td>Newell 322</td><td>30.576</td><td>5.096</td><td>6</td></tr><tr><td>OFF-SU-10002522</td><td>Acme Kleen Earth Office Shears</td><td>44.232</td><td>8.8464</td><td>5</td></tr><tr><td>OFF-PA-10001667</td><td>Great White Multi-Use Recycled Paper (20Lb. and 84 Bright)</td><td>169.832</td><td>21.229</td><td>8</td></tr><tr><td>TEC-MA-10003353</td><td>Xerox WorkCentre 6505DN Laser Multifunction Printer</td><td>500.641</td><td>500.641</td><td>1</td></tr><tr><td>OFF-FA-10002763</td><td>Advantus Map Pennant Flags and Round Head Tacks</td><td>87.69</td><td>14.615</td><td>6</td></tr><tr><td>FUR-FU-10003553</td><td>Howard Miller 13-1/2\" Diameter Rosebrook Wall Clock</td><td>949.026</td><td>189.80519999999999</td><td>5</td></tr><tr><td>OFF-LA-10004093</td><td>Avery 486</td><td>168.13000000000002</td><td>18.681111111111115</td><td>9</td></tr><tr><td>TEC-MA-10004002</td><td>Zebra GX420t Direct Thermal/Thermal Transfer Printer</td><td>1266.757</td><td>422.25233333333335</td><td>3</td></tr><tr><td>OFF-AR-10001446</td><td>Newell 309</td><td>196.35</td><td>39.269999999999996</td><td>5</td></tr><tr><td>OFF-PA-10001450</td><td>Rediform S.O.S. Phone Message Books</td><td>19.92</td><td>19.92</td><td>1</td></tr><tr><td>FUR-TA-10002622</td><td>Bush Andora Conference Table, Maple/Graphite Gray Finish</td><td>945.1890000000001</td><td>315.06300000000005</td><td>3</td></tr><tr><td>OFF-PA-10004381</td><td>14-7/8 x 11 Blue Bar Computer Printout Paper</td><td>422.752</td><td>105.688</td><td>4</td></tr><tr><td>OFF-AP-10004136</td><td>Kensington 6 Outlet SmartSocket Surge Protector</td><td>147.528</td><td>73.764</td><td>2</td></tr><tr><td>OFF-PA-10004239</td><td>Xerox 1953</td><td>47.08</td><td>11.77</td><td>4</td></tr><tr><td>TEC-AC-10003870</td><td>Logitech Z-906 Speaker sys - home theater - 5.1-CH</td><td>2002.564</td><td>500.641</td><td>4</td></tr><tr><td>FUR-BO-10003893</td><td>Sauder Camden County Collection Library</td><td>1001.282</td><td>500.641</td><td>2</td></tr><tr><td>OFF-PA-10004911</td><td>Rediform S.O.S. 1-Up Phone Message Bk, 4-1/4x3-1/16 Bk, 1 Form/Pg, 40 Messages/Bk, 3/Pk</td><td>196.98</td><td>39.396</td><td>5</td></tr><tr><td>TEC-MA-10001856</td><td>Okidata C610n Printer</td><td>500.641</td><td>500.641</td><td>1</td></tr><tr><td>FUR-FU-10004666</td><td>DAX Clear Channel Poster Frame</td><td>119.55600000000001</td><td>39.852000000000004</td><td>3</td></tr><tr><td>TEC-AC-10004510</td><td>Logitech Desktop MK120 Mouse and keyboard Combo</td><td>778.736</td><td>64.89466666666667</td><td>12</td></tr><tr><td>OFF-EN-10003001</td><td>Ames Color-File Green Diamond Border X-ray Mailers</td><td>1256.461</td><td>314.11525</td><td>4</td></tr><tr><td>FUR-BO-10002598</td><td>Hon Metal Bookcases, Putty</td><td>1182.049</td><td>236.4098</td><td>5</td></tr><tr><td>TEC-PH-10002834</td><td>Google Nexus 5</td><td>2257.8810000000003</td><td>451.5762000000001</td><td>5</td></tr><tr><td>OFF-BI-10004781</td><td>GBC Wire Binding Strips</td><td>212.658</td><td>42.5316</td><td>5</td></tr><tr><td>FUR-FU-10001475</td><td>Contract Clock, 14\", Brown</td><td>272.552</td><td>68.138</td><td>4</td></tr><tr><td>TEC-CO-10004722</td><td>Canon imageCLASS 2200 Advanced Copier</td><td>2503.205</td><td>500.64099999999996</td><td>5</td></tr><tr><td>OFF-AR-10001860</td><td>BIC Liqua Brite Liner</td><td>173.5</td><td>28.916666666666668</td><td>6</td></tr><tr><td>OFF-PA-10001204</td><td>Xerox 1972</td><td>46.464000000000006</td><td>9.292800000000002</td><td>5</td></tr><tr><td>OFF-AP-10001154</td><td>Bionaire Personal Warm Mist Humidifier/Vaporizer</td><td>515.79</td><td>171.92999999999998</td><td>3</td></tr><tr><td>TEC-AC-10004659</td><td>Imation Secure+ Hardware Encrypted USB 2.0 Flash Drive; 16GB</td><td>1926.9360000000001</td><td>321.156</td><td>6</td></tr><tr><td>TEC-PH-10002070</td><td>Griffin GC36547 PowerJolt SE Lightning Charger</td><td>175.422</td><td>58.474</td><td>3</td></tr><tr><td>TEC-PH-10002350</td><td>Apple EarPods with Remote and Mic</td><td>251.91</td><td>62.9775</td><td>4</td></tr><tr><td>FUR-FU-10003601</td><td>Deflect-o RollaMat Studded, Beveled Mat for Medium Pile Carpeting</td><td>1607.401</td><td>267.9001666666667</td><td>6</td></tr><tr><td>TEC-PH-10003442</td><td>Samsung Replacement EH64AVFWE Premium Headset</td><td>104.5</td><td>20.9</td><td>5</td></tr><tr><td>TEC-AC-10001284</td><td>Enermax Briskie RF Wireless Keyboard and Mouse Combo</td><td>407.092</td><td>101.773</td><td>4</td></tr><tr><td>TEC-AC-10004171</td><td>Razer Kraken 7.1 Surround Sound Over Ear USB Gaming Headset</td><td>1601.2220000000002</td><td>320.24440000000004</td><td>5</td></tr><tr><td>OFF-BI-10000174</td><td>Wilson Jones Clip & Carry Folder Binder Tool for Ring Binders, Clear</td><td>183.27999999999997</td><td>22.909999999999997</td><td>8</td></tr><tr><td>FUR-TA-10002855</td><td>Bevis Round Conference Table Top & Single Column Base</td><td>1762.2500000000002</td><td>352.45000000000005</td><td>5</td></tr><tr><td>TEC-AC-10002167</td><td>Imation 8gb Micro Traveldrive Usb 2.0 Flash Drive</td><td>357.0</td><td>44.625</td><td>8</td></tr><tr><td>TEC-PH-10003691</td><td>BlackBerry Q10</td><td>2409.0510000000004</td><td>401.5085000000001</td><td>6</td></tr><tr><td>FUR-FU-10000771</td><td>Eldon 200 Class Desk Accessories, Smoke</td><td>138.16</td><td>34.54</td><td>4</td></tr><tr><td>OFF-AR-10000380</td><td>Hunt PowerHouse Electric Pencil Sharpener, Blue</td><td>1617.9480000000003</td><td>161.79480000000004</td><td>10</td></tr><tr><td>OFF-EN-10003160</td><td>Pastel Pink Envelopes</td><td>65.52</td><td>21.84</td><td>3</td></tr><tr><td>OFF-PA-10004519</td><td>Spiral Phone Message Books with Labels by Adams</td><td>60.032</td><td>15.008</td><td>4</td></tr><tr><td>OFF-AR-10003179</td><td>Dixon Ticonderoga Core-Lock Colored Pencils</td><td>229.57199999999997</td><td>32.796</td><td>7</td></tr><tr><td>OFF-PA-10001977</td><td>Xerox 194</td><td>443.84000000000003</td><td>110.96000000000001</td><td>4</td></tr><tr><td>OFF-AP-10002118</td><td>1.7 Cubic Foot Compact \"Cube\" Office Refrigerators</td><td>2165.921</td><td>360.9868333333333</td><td>6</td></tr><tr><td>FUR-TA-10004086</td><td>KI Adjustable-Height Table</td><td>1773.1450000000002</td><td>253.3064285714286</td><td>7</td></tr><tr><td>OFF-AR-10001473</td><td>Newell 313</td><td>28.208</td><td>9.402666666666667</td><td>3</td></tr><tr><td>OFF-PA-10001583</td><td>1/4 Fold Party Design Invitations & White Envelopes, 24 8-1/2\" X 11\" Cards, 25 Env./Pack</td><td>49.980000000000004</td><td>24.990000000000002</td><td>2</td></tr><tr><td>TEC-AC-10000521</td><td>Verbatim Slim CD and DVD Storage Cases, 50/Pack</td><td>80.78</td><td>20.195</td><td>4</td></tr><tr><td>TEC-PH-10004774</td><td>Gear Head AU3700S Headset</td><td>189.654</td><td>63.217999999999996</td><td>3</td></tr><tr><td>TEC-PH-10001448</td><td>Anker Astro 15000mAh USB Portable Charger</td><td>599.88</td><td>119.976</td><td>5</td></tr><tr><td>OFF-LA-10002195</td><td>Avery 481</td><td>91.168</td><td>18.233600000000003</td><td>5</td></tr><tr><td>OFF-AR-10003772</td><td>Boston 16750 Black Compact Battery Pencil Sharpener</td><td>43.75</td><td>21.875</td><td>2</td></tr><tr><td>FUR-FU-10000448</td><td>Tenex Chairmats For Use With Carpeted Floors</td><td>175.78</td><td>43.945</td><td>4</td></tr><tr><td>TEC-PH-10001644</td><td>BlueLounge Milo Smartphone Stand, White/Metallic</td><td>335.88800000000003</td><td>111.96266666666668</td><td>3</td></tr><tr><td>OFF-AP-10004036</td><td>Bionaire 99.97% HEPA Air Cleaner</td><td>199.72799999999998</td><td>49.931999999999995</td><td>4</td></tr><tr><td>FUR-TA-10001691</td><td>Barricks Non-Folding Utility Table with Steel Legs, Laminate Tops</td><td>136.464</td><td>136.464</td><td>1</td></tr><tr><td>OFF-SU-10002503</td><td>Acme Preferred Stainless Steel Scissors</td><td>90.88</td><td>22.72</td><td>4</td></tr><tr><td>OFF-LA-10004055</td><td>Color-Coded Legal Exhibit Labels</td><td>14.73</td><td>7.365</td><td>2</td></tr><tr><td>OFF-ST-10001414</td><td>Decoflex Hanging Personal Folder File</td><td>46.26</td><td>46.26</td><td>1</td></tr><tr><td>FUR-CH-10000454</td><td>Hon Deluxe Fabric Upholstered Stacking Chairs, Rounded Back</td><td>5554.883</td><td>462.90691666666663</td><td>12</td></tr><tr><td>OFF-AR-10004582</td><td>BIC Brite Liner Grip Highlighters</td><td>24.272</td><td>4.8544</td><td>5</td></tr><tr><td>TEC-PH-10002185</td><td>QVS USB Car Charger 2-Port 2.1Amp for iPod/iPhone/iPad/iPad 2/iPad 3</td><td>79.22999999999999</td><td>15.845999999999998</td><td>5</td></tr><tr><td>TEC-AC-10003023</td><td>Logitech G105 Gaming Keyboard</td><td>759.936</td><td>151.9872</td><td>5</td></tr><tr><td>OFF-AP-10002734</td><td>Holmes Harmony HEPA Air Purifier for 17 x 20 Room</td><td>500.641</td><td>500.641</td><td>1</td></tr><tr><td>OFF-ST-10004946</td><td>Desktop 3-Pocket Hot File</td><td>259.68</td><td>129.84</td><td>2</td></tr><tr><td>OFF-BI-10003305</td><td>Avery Hanging File Binders</td><td>105.846</td><td>17.641000000000002</td><td>6</td></tr><tr><td>OFF-BI-10004352</td><td>Wilson Jones DublLock D-Ring Binders</td><td>35.775</td><td>17.8875</td><td>2</td></tr><tr><td>TEC-CO-10000971</td><td>Hewlett Packard 310 Color Digital Copier</td><td>2741.224</td><td>456.8706666666667</td><td>6</td></tr><tr><td>OFF-AR-10001177</td><td>Newell 349</td><td>42.64</td><td>14.213333333333333</td><td>3</td></tr><tr><td>OFF-LA-10004345</td><td>Avery 493</td><td>55.974</td><td>13.9935</td><td>4</td></tr><tr><td>FUR-TA-10001889</td><td>Bush Advantage Collection Racetrack Conference Table</td><td>2757.731</td><td>459.62183333333337</td><td>6</td></tr><tr><td>OFF-BI-10001097</td><td>Avery Hole Reinforcements</td><td>116.501</td><td>12.944555555555556</td><td>9</td></tr><tr><td>FUR-TA-10001039</td><td>KI Adjustable-Height Table</td><td>2678.277</td><td>267.8277</td><td>10</td></tr><tr><td>OFF-PA-10003016</td><td>Adams \"While You Were Out\" Message Pads</td><td>72.848</td><td>14.5696</td><td>5</td></tr><tr><td>OFF-PA-10003883</td><td>Message Book, Phone, Wirebound Standard Line Memo, 2 3/4\" X 5\"</td><td>119.21</td><td>23.842</td><td>5</td></tr><tr><td>OFF-ST-10001034</td><td>Eldon File Chest Portable File</td><td>79.4</td><td>79.4</td><td>1</td></tr><tr><td>FUR-FU-10004188</td><td>Luxo Professional Combination Clamp-On Lamps</td><td>818.3999999999999</td><td>204.59999999999997</td><td>4</td></tr><tr><td>OFF-PA-10000210</td><td>Xerox Blank Computer Paper</td><td>99.9</td><td>99.9</td><td>1</td></tr><tr><td>OFF-LA-10003537</td><td>Avery 515</td><td>62.650000000000006</td><td>31.325000000000003</td><td>2</td></tr><tr><td>OFF-AR-10000255</td><td>Newell 328</td><td>75.92</td><td>25.30666666666667</td><td>3</td></tr><tr><td>OFF-AR-10001662</td><td>Rogers Handheld Barrel Pencil Sharpener</td><td>75.62400000000001</td><td>10.803428571428572</td><td>7</td></tr><tr><td>OFF-BI-10001617</td><td>GBC Wire Binding Combs</td><td>184.05200000000002</td><td>26.29314285714286</td><td>7</td></tr><tr><td>OFF-AP-10002765</td><td>Fellowes Advanced Computer Series Surge Protectors</td><td>386.754</td><td>64.459</td><td>6</td></tr><tr><td>OFF-BI-10000494</td><td>Acco Economy Flexible Poly Round Ring Binder</td><td>8.352</td><td>2.7840000000000003</td><td>3</td></tr><tr><td>OFF-PA-10002659</td><td>Avoid Verbal Orders Carbonless Minifold Book</td><td>68.276</td><td>13.655199999999999</td><td>5</td></tr><tr><td>TEC-MA-10002073</td><td>3D Systems Cube Printer, 2nd Generation, White</td><td>1001.282</td><td>500.641</td><td>2</td></tr><tr><td>OFF-BI-10001460</td><td>Plastic Binding Combs</td><td>269.66999999999996</td><td>53.93399999999999</td><td>5</td></tr><tr><td>OFF-BI-10001757</td><td>Pressboard Hanging Data Binders for Unburst Sheets</td><td>112.668</td><td>11.2668</td><td>10</td></tr><tr><td>OFF-PA-10002751</td><td>Xerox 1920</td><td>89.7</td><td>22.425</td><td>4</td></tr><tr><td>OFF-SU-10002573</td><td>Acme 10\" Easy Grip Assistive Scissors</td><td>448.76800000000003</td><td>56.096000000000004</td><td>8</td></tr><tr><td>OFF-PA-10003072</td><td>Eureka Recycled Copy Paper 8 1/2\" x 11\", Ream</td><td>99.792</td><td>19.9584</td><td>5</td></tr><tr><td>FUR-CH-10000225</td><td>Global Geo Office Task Chair, Gray</td><td>1592.4360000000001</td><td>227.49085714285715</td><td>7</td></tr><tr><td>OFF-AR-10001374</td><td>BIC Brite Liner Highlighters, Chisel Tip</td><td>123.12000000000002</td><td>20.520000000000003</td><td>6</td></tr><tr><td>OFF-AR-10003183</td><td>Avery Fluorescent Highlighter Four-Color Set</td><td>65.464</td><td>8.183</td><td>8</td></tr><tr><td>OFF-PA-10002319</td><td>Xerox 1944</td><td>573.6479999999999</td><td>95.60799999999999</td><td>6</td></tr><tr><td>OFF-PA-10002245</td><td>Xerox 1895</td><td>191.35999999999999</td><td>27.337142857142855</td><td>7</td></tr><tr><td>OFF-SU-10004290</td><td>Acme Design Line 8\" Stainless Steel Bent Scissors w/Champagne Handles, 3-1/8\" Cut</td><td>45.144000000000005</td><td>15.048000000000002</td><td>3</td></tr><tr><td>FUR-FU-10003930</td><td>Howard Miller 12-3/4 Diameter Accuwave DS  Wall Clock</td><td>595.069</td><td>297.5345</td><td>2</td></tr><tr><td>OFF-AP-10004868</td><td>Hoover Commercial Soft Guard Upright Vacuum And Disposable Filtration Bags</td><td>91.68599999999999</td><td>22.921499999999998</td><td>4</td></tr><tr><td>FUR-FU-10001290</td><td>Executive Impressions Supervisor Wall Clock</td><td>820.601</td><td>205.15025</td><td>4</td></tr><tr><td>TEC-AC-10003441</td><td>Kingston Digital DataTraveler 32GB USB 2.0</td><td>355.95</td><td>50.85</td><td>7</td></tr><tr><td>TEC-PH-10002923</td><td>Logitech B530 USB Headset - headset - Full size, Binaural</td><td>739.7999999999998</td><td>73.97999999999999</td><td>10</td></tr><tr><td>OFF-PA-10000223</td><td>Xerox 2000</td><td>84.24000000000001</td><td>16.848000000000003</td><td>5</td></tr><tr><td>TEC-MA-10002927</td><td>Canon imageCLASS MF7460 Monochrome Digital Laser Multifunction Copier</td><td>500.641</td><td>500.641</td><td>1</td></tr><tr><td>FUR-FU-10001940</td><td>Staple-based wall hangings</td><td>219.696</td><td>21.9696</td><td>10</td></tr><tr><td>FUR-TA-10002530</td><td>Iceberg OfficeWorks 42\" Round Tables</td><td>2586.572</td><td>369.5102857142857</td><td>7</td></tr><tr><td>TEC-PH-10002496</td><td>Cisco SPA301</td><td>2559.709</td><td>319.963625</td><td>8</td></tr><tr><td>FUR-FU-10000820</td><td>Tensor Brushed Steel Torchiere Floor Lamp</td><td>146.114</td><td>36.5285</td><td>4</td></tr><tr><td>OFF-LA-10002381</td><td>Avery 497</td><td>24.023999999999997</td><td>12.011999999999999</td><td>2</td></tr><tr><td>OFF-ST-10004950</td><td>Tenex Personal Filing Tote With Secure Closure Lid, Black/Frost</td><td>279.18</td><td>55.836</td><td>5</td></tr><tr><td>TEC-AC-10000926</td><td>NETGEAR RangeMax WNR1000 Wireless Router</td><td>59.976</td><td>59.976</td><td>1</td></tr><tr><td>OFF-AP-10002534</td><td>3.6 Cubic Foot Counter Height Office Refrigerator</td><td>1531.598</td><td>306.3196</td><td>5</td></tr><tr><td>TEC-AC-10002558</td><td>Imation Swivel Flash Drive USB flash drive - 8 GB</td><td>54.57599999999999</td><td>27.287999999999997</td><td>2</td></tr><tr><td>OFF-FA-10000840</td><td>OIC Thumb-Tacks</td><td>12.996</td><td>4.332</td><td>3</td></tr><tr><td>OFF-BI-10004022</td><td>Acco Suede Grain Vinyl Round Ring Binder</td><td>38.642</td><td>4.83025</td><td>8</td></tr><tr><td>OFF-BI-10000778</td><td>GBC VeloBinder Electric Binding Machine</td><td>496.0179999999999</td><td>124.00449999999998</td><td>4</td></tr><tr><td>OFF-EN-10001532</td><td>Brown Kraft Recycled Envelopes</td><td>244.512</td><td>48.9024</td><td>5</td></tr><tr><td>OFF-AR-10003752</td><td>Deluxe Chalkboard Eraser Cleaner</td><td>182.49</td><td>36.498000000000005</td><td>5</td></tr><tr><td>OFF-LA-10001045</td><td>Permanent Self-Adhesive File Folder Labels for Typewriters by Universal</td><td>44.37</td><td>7.395</td><td>6</td></tr><tr><td>OFF-PA-10000357</td><td>White Dual Perf Computer Printout Paper, 2700 Sheets, 1 Part, Heavyweight, 20 lbs., 14 7/8 x 11</td><td>909.9780000000001</td><td>151.663</td><td>6</td></tr><tr><td>OFF-ST-10000344</td><td>Neat Ideas Personal Hanging Folder Files, Black</td><td>276.658</td><td>39.52257142857143</td><td>7</td></tr><tr><td>FUR-FU-10003731</td><td>Eldon Expressions Wood and Plastic Desk Accessories, Oak</td><td>149.70000000000002</td><td>29.940000000000005</td><td>5</td></tr><tr><td>OFF-BI-10004593</td><td>Ibico Laser Imprintable Binding System Covers</td><td>1100.4</td><td>137.55</td><td>8</td></tr><tr><td>OFF-BI-10003656</td><td>Fellowes PB200 Plastic Comb Binding Machine</td><td>2555.8610000000003</td><td>319.48262500000004</td><td>8</td></tr><tr><td>FUR-CH-10001394</td><td>Global Leather Executive Chair</td><td>3284.638</td><td>469.234</td><td>7</td></tr><tr><td>OFF-ST-10002406</td><td>Pizazz Global Quick File</td><td>353.292</td><td>58.882</td><td>6</td></tr><tr><td>OFF-PA-10004470</td><td>Adams Write n' Stick Phone Message Book, 11\" X 5 1/4\", 200 Messages</td><td>40.896</td><td>13.632</td><td>3</td></tr><tr><td>OFF-LA-10000414</td><td>Avery 503</td><td>124.19999999999999</td><td>41.4</td><td>3</td></tr><tr><td>OFF-SU-10004884</td><td>Acme Galleria Hot Forged Steel Scissors with Colored Handles</td><td>195.05200000000002</td><td>65.01733333333334</td><td>3</td></tr><tr><td>OFF-BI-10000136</td><td>Avery Non-Stick Heavy Duty View Round Locking Ring Binders</td><td>68.17200000000001</td><td>22.724000000000004</td><td>3</td></tr><tr><td>OFF-ST-10000798</td><td>2300 Heavy-Duty Transfer File Systems by Perma</td><td>344.724</td><td>86.181</td><td>4</td></tr><tr><td>FUR-CH-10000155</td><td>Global Comet Stacking Armless Chair</td><td>2197.482</td><td>439.4964</td><td>5</td></tr><tr><td>TEC-PH-10001254</td><td>Jabra BIZ 2300 Duo QD Duo Corded Headset</td><td>1414.969</td><td>353.74225</td><td>4</td></tr><tr><td>TEC-AC-10000991</td><td>Sony Micro Vault Click 8 GB USB 2.0 Flash Drive</td><td>582.6759999999999</td><td>145.66899999999998</td><td>4</td></tr><tr><td>OFF-AR-10004685</td><td>Binney & Smith Crayola Metallic Colored Pencils, 8-Color Set</td><td>88.896</td><td>12.699428571428571</td><td>7</td></tr><tr><td>TEC-PH-10004100</td><td>Griffin GC17055 Auxiliary Audio Cable</td><td>395.7799999999999</td><td>65.96333333333332</td><td>6</td></tr><tr><td>TEC-MA-10004679</td><td>StarTech.com 10/100 VDSL2 Ethernet Extender Kit</td><td>1800.362</td><td>450.0905</td><td>4</td></tr><tr><td>FUR-FU-10003142</td><td>Master Big Foot Doorstop, Beige</td><td>152.06400000000002</td><td>25.344000000000005</td><td>6</td></tr><tr><td>OFF-PA-10003465</td><td>Xerox 1912</td><td>201.082</td><td>50.2705</td><td>4</td></tr><tr><td>OFF-LA-10001474</td><td>Avery 477</td><td>573.9639999999999</td><td>143.49099999999999</td><td>4</td></tr><tr><td>OFF-PA-10001763</td><td>Xerox 1896</td><td>49.95</td><td>24.975</td><td>2</td></tr><tr><td>FUR-FU-10003976</td><td>DAX Executive Solid Wood Document Frame, Desktop or Hang, Mahogany, 5 x 7</td><td>196.248</td><td>39.2496</td><td>5</td></tr><tr><td>OFF-AP-10000159</td><td>Belkin F9M820V08 8 Outlet Surge</td><td>558.74</td><td>186.24666666666667</td><td>3</td></tr><tr><td>OFF-AR-10000588</td><td>Newell 345</td><td>476.15999999999997</td><td>52.906666666666666</td><td>9</td></tr><tr><td>FUR-FU-10003708</td><td>Tenex Traditional Chairmats for Medium Pile Carpet, Standard Lip, 36\" x 48\"</td><td>1276.961</td><td>212.82683333333333</td><td>6</td></tr><tr><td>OFF-AR-10004752</td><td>Blackstonian Pencils</td><td>30.438000000000002</td><td>10.146</td><td>3</td></tr><tr><td>OFF-BI-10001524</td><td>GBC Premium Transparent Covers with Diagonal Lined Pattern</td><td>780.4559999999999</td><td>55.74685714285714</td><td>14</td></tr><tr><td>OFF-PA-10000659</td><td>Adams Phone Message Book, Professional, 400 Message Capacity, 5 3/6” x 11”</td><td>94.928</td><td>31.642666666666667</td><td>3</td></tr><tr><td>OFF-PA-10004965</td><td>Xerox 1921</td><td>55.944</td><td>18.648</td><td>3</td></tr><tr><td>FUR-FU-10001706</td><td>Longer-Life Soft White Bulbs</td><td>106.568</td><td>11.84088888888889</td><td>9</td></tr><tr><td>OFF-AR-10001022</td><td>SANFORD Liquid Accent Tank-Style Highlighters</td><td>14.2</td><td>4.733333333333333</td><td>3</td></tr><tr><td>TEC-AC-10002550</td><td>Memorex 25GB 6X Branded Blu-Ray Recordable Disc, 30/Pack</td><td>472.86</td><td>118.215</td><td>4</td></tr><tr><td>OFF-BI-10001132</td><td>Acco PRESSTEX Data Binder with Storage Hooks, Dark Blue, 9 1/2\" X 11\"</td><td>62.946</td><td>15.7365</td><td>4</td></tr><tr><td>TEC-AC-10003116</td><td>Memorex Froggy Flash Drive 8 GB</td><td>411.79999999999995</td><td>58.82857142857142</td><td>7</td></tr><tr><td>OFF-ST-10004634</td><td>Personal Folder Holder, Ebony</td><td>145.73000000000002</td><td>24.288333333333338</td><td>6</td></tr><tr><td>OFF-BI-10003925</td><td>Fellowes PB300 Plastic Comb Binding Machine</td><td>2700.946</td><td>450.15766666666667</td><td>6</td></tr><tr><td>OFF-AP-10003860</td><td>Fellowes Advanced 8 Outlet Surge Suppressor with Phone/Fax Protection</td><td>244.288</td><td>81.42933333333333</td><td>3</td></tr><tr><td>OFF-PA-10002160</td><td>Xerox 1978</td><td>174.556</td><td>21.8195</td><td>8</td></tr><tr><td>OFF-AR-10003156</td><td>50 Colored Long Pencils</td><td>138.176</td><td>27.635199999999998</td><td>5</td></tr><tr><td>TEC-PH-10001580</td><td>Logitech Mobile Speakerphone P710e - speaker phone</td><td>1730.1740000000002</td><td>346.0348</td><td>5</td></tr><tr><td>TEC-PH-10004897</td><td>Mediabridge Sport Armband iPhone 5s</td><td>257.74199999999996</td><td>36.82028571428571</td><td>7</td></tr><tr><td>OFF-FA-10003472</td><td>Bagged Rubber Bands</td><td>23.184</td><td>5.796</td><td>4</td></tr><tr><td>TEC-PH-10003555</td><td>Motorola HK250 Universal Bluetooth Headset</td><td>832.238</td><td>92.4708888888889</td><td>9</td></tr><tr><td>OFF-BI-10004828</td><td>GBC Poly Designer Binding Covers</td><td>256.122</td><td>42.687000000000005</td><td>6</td></tr><tr><td>TEC-AC-10002800</td><td>Plantronics Audio 478 Stereo USB Headset</td><td>1619.6760000000002</td><td>179.96400000000003</td><td>9</td></tr><tr><td>OFF-PA-10001622</td><td>Ampad Poly Cover Wirebound Steno Book, 6\" x 9\" Assorted Colors, Gregg Ruled</td><td>38.135999999999996</td><td>9.533999999999999</td><td>4</td></tr><tr><td>OFF-PA-10000791</td><td>Wirebound Message Books, Four 2 3/4 x 5 Forms per Page, 200 Sets per Book</td><td>115.434</td><td>19.239</td><td>6</td></tr><tr><td>TEC-MA-10000597</td><td>Lexmark S315 Color Inkjet Printer</td><td>299.97</td><td>149.985</td><td>2</td></tr><tr><td>OFF-ST-10000604</td><td>Home/Office Personal File Carts</td><td>980.232</td><td>140.03314285714285</td><td>7</td></tr><tr><td>OFF-BI-10004094</td><td>GBC Standard Plastic Binding Systems Combs</td><td>55.755</td><td>11.151</td><td>5</td></tr><tr><td>OFF-BI-10003708</td><td>Acco Four Pocket Poly Ring Binder with Label Holder, Smoke, 1\"</td><td>122.17999999999999</td><td>20.363333333333333</td><td>6</td></tr><tr><td>OFF-PA-10004071</td><td>Eaton Premium Continuous-Feed Paper, 25% Cotton, Letter Size, White, 1000 Shts/Box</td><td>1098.5040000000001</td><td>109.85040000000001</td><td>10</td></tr><tr><td>TEC-AC-10002550</td><td>Maxell 4.7GB DVD-RW 3/Pack</td><td>146.55599999999998</td><td>36.638999999999996</td><td>4</td></tr><tr><td>OFF-BI-10004519</td><td>GBC DocuBind P100 Manual Binding Machine</td><td>2791.165</td><td>348.895625</td><td>8</td></tr><tr><td>FUR-FU-10000076</td><td>24-Hour Round Wall Clock</td><td>487.51200000000006</td><td>81.25200000000001</td><td>6</td></tr><tr><td>OFF-BI-10003784</td><td>Computer Printout Index Tabs</td><td>11.088</td><td>2.772</td><td>4</td></tr><tr><td>TEC-PH-10004188</td><td>OtterBox Commuter Series Case - Samsung Galaxy S4</td><td>384.84599999999995</td><td>96.21149999999999</td><td>4</td></tr><tr><td>TEC-PH-10000347</td><td>Cush Cases Heavy Duty Rugged Cover Case for Samsung Galaxy S5 - Purple</td><td>65.34</td><td>10.89</td><td>6</td></tr><tr><td>OFF-ST-10000649</td><td>Hanging Personal Folder File</td><td>251.2</td><td>50.239999999999995</td><td>5</td></tr><tr><td>TEC-AC-10003063</td><td>Micro Innovations USB RF Wireless Keyboard with Mouse</td><td>440.0</td><td>73.33333333333333</td><td>6</td></tr><tr><td>OFF-PA-10001246</td><td>Xerox 215</td><td>19.44</td><td>19.44</td><td>1</td></tr><tr><td>OFF-AR-10004999</td><td>Newell 315</td><td>145.91199999999998</td><td>24.31866666666666</td><td>6</td></tr><tr><td>FUR-BO-10000468</td><td>O'Sullivan 2-Shelf Heavy-Duty Bookcases</td><td>723.842</td><td>120.64033333333333</td><td>6</td></tr><tr><td>OFF-PA-10001639</td><td>Xerox 203</td><td>143.856</td><td>23.976</td><td>6</td></tr><tr><td>OFF-AR-10000411</td><td>Boston 16701 Slimline Battery Pencil Sharpener</td><td>86.076</td><td>43.038</td><td>2</td></tr><tr><td>OFF-ST-10000046</td><td>Fellowes Super Stor/Drawer Files</td><td>3036.812</td><td>379.6015</td><td>8</td></tr><tr><td>TEC-AC-10003038</td><td>Kingston Digital DataTraveler 16GB USB 2.0</td><td>477.92999999999995</td><td>36.76384615384615</td><td>13</td></tr><tr><td>FUR-FU-10001867</td><td>Eldon Expressions Punched Metal & Wood Desk Accessories, Pewter & Cherry</td><td>121.296</td><td>40.432</td><td>3</td></tr><tr><td>FUR-BO-10003546</td><td>Hon 4-Shelf Metal Bookcases</td><td>1470.0490000000002</td><td>367.51225000000005</td><td>4</td></tr><tr><td>OFF-EN-10002592</td><td>Peel & Seel Recycled Catalog Envelopes, Brown</td><td>176.01600000000002</td><td>44.004000000000005</td><td>4</td></tr><tr><td>OFF-PA-10001954</td><td>Xerox 1964</td><td>721.744</td><td>144.3488</td><td>5</td></tr><tr><td>OFF-BI-10000545</td><td>GBC Ibimaster 500 Manual ProClick Binding System</td><td>4461.716</td><td>495.7462222222223</td><td>9</td></tr><tr><td>FUR-CH-10001545</td><td>Hon Comfortask Task/Swivel Chairs</td><td>1549.2569999999998</td><td>258.2095</td><td>6</td></tr><tr><td>OFF-PA-10001001</td><td>Snap-A-Way Black Print Carbonless Speed Message, No Reply Area, Duplicate</td><td>93.248</td><td>93.248</td><td>1</td></tr><tr><td>FUR-CH-10004063</td><td>Global Deluxe High-Back Manager's Chair</td><td>3962.0550000000003</td><td>495.25687500000004</td><td>8</td></tr><tr><td>OFF-ST-10000078</td><td>Tennsco 6- and 18-Compartment Lockers</td><td>4694.57</td><td>469.457</td><td>10</td></tr><tr><td>FUR-FU-10004415</td><td>Stacking Tray, Side-Loading, Legal, Smoke</td><td>46.592000000000006</td><td>11.648000000000001</td><td>4</td></tr><tr><td>OFF-BI-10004970</td><td>ACCOHIDE 3-Ring Binder, Blue, 1\"</td><td>147.028</td><td>11.309846153846154</td><td>13</td></tr><tr><td>TEC-PH-10000376</td><td>Square Credit Card Reader</td><td>173.826</td><td>24.832285714285714</td><td>7</td></tr><tr><td>TEC-PH-10002310</td><td>Panasonic KX T7731-B Digital phone</td><td>459.95399999999995</td><td>229.97699999999998</td><td>2</td></tr><tr><td>OFF-EN-10003072</td><td>Peel & Seel Envelopes</td><td>62.856</td><td>15.714</td><td>4</td></tr><tr><td>OFF-AP-10000828</td><td>Avanti 4.4 Cu. Ft. Refrigerator</td><td>2979.856</td><td>425.6937142857143</td><td>7</td></tr><tr><td>TEC-PH-10003655</td><td>Sannysis Cute Owl Design Soft Skin Case Cover for Samsung Galaxy S4</td><td>13.86</td><td>6.93</td><td>2</td></tr><tr><td>OFF-BI-10000977</td><td>Ibico Plastic Spiral Binding Combs</td><td>1100.48</td><td>84.65230769230769</td><td>13</td></tr><tr><td>FUR-FU-10000550</td><td>Stacking Trays by OIC</td><td>72.708</td><td>12.118</td><td>6</td></tr><tr><td>FUR-FU-10004018</td><td>Tensor Computer Mounted Lamp</td><td>491.36999999999995</td><td>70.19571428571427</td><td>7</td></tr><tr><td>OFF-BI-10004308</td><td>Avery Legal 4-Ring Binder</td><td>258.054</td><td>64.5135</td><td>4</td></tr><tr><td>OFF-EN-10004955</td><td>Fashion Color Clasp Envelopes</td><td>77.904</td><td>25.968</td><td>3</td></tr><tr><td>FUR-FU-10000794</td><td>Eldon Stackable Tray, Side-Load, Legal, Smoke</td><td>155.38000000000002</td><td>31.076000000000004</td><td>5</td></tr><tr><td>TEC-AC-10000682</td><td>Kensington K72356US Mouse-in-a-Box USB Desktop Mouse</td><td>321.846</td><td>53.641</td><td>6</td></tr><tr><td>OFF-AR-10003732</td><td>Newell 333</td><td>86.736</td><td>7.885090909090909</td><td>11</td></tr><tr><td>OFF-PA-10000675</td><td>Xerox 1919</td><td>1500.2340000000002</td><td>187.52925000000002</td><td>8</td></tr><tr><td>FUR-TA-10003238</td><td>Chromcraft Bull-Nose Wood 48\" x 96\" Rectangular Conference Tables</td><td>2493.687</td><td>415.61449999999996</td><td>6</td></tr><tr><td>OFF-BI-10003355</td><td>Cardinal Holdit Business Card Pockets</td><td>87.648</td><td>10.956</td><td>8</td></tr><tr><td>OFF-ST-10002352</td><td>Iris Project Case</td><td>225.036</td><td>37.506</td><td>6</td></tr><tr><td>OFF-PA-10001970</td><td>Xerox 1908</td><td>1712.9879999999998</td><td>244.7125714285714</td><td>7</td></tr><tr><td>OFF-PA-10003953</td><td>Xerox 218</td><td>49.248</td><td>9.849599999999999</td><td>5</td></tr><tr><td>OFF-PA-10004438</td><td>Xerox 1907</td><td>98.24</td><td>49.12</td><td>2</td></tr><tr><td>FUR-FU-10003981</td><td>Eldon Wave Desk Accessories</td><td>29.951999999999998</td><td>5.990399999999999</td><td>5</td></tr><tr><td>OFF-ST-10001490</td><td>Hot File 7-Pocket, Floor Stand</td><td>5433.812999999999</td><td>417.9856153846153</td><td>13</td></tr><tr><td>FUR-CH-10001215</td><td>Global Troy Executive Leather Low-Back Tilter</td><td>4505.769</td><td>500.641</td><td>9</td></tr><tr><td>FUR-CH-10003312</td><td>Hon 2090 “Pillow Soft” Series Mid Back Swivel/Tilt Chairs</td><td>2952.773</td><td>492.1288333333334</td><td>6</td></tr><tr><td>FUR-BO-10002916</td><td>Rush Hierlooms Collection 1\" Thick Stackable Bookcases</td><td>1608.2610000000002</td><td>402.06525000000005</td><td>4</td></tr><tr><td>OFF-BI-10004965</td><td>Ibico Covers for Plastic or Wire Binding Elements</td><td>184.0</td><td>26.285714285714285</td><td>7</td></tr><tr><td>OFF-PA-10003228</td><td>Xerox 1917</td><td>1222.75</td><td>244.55</td><td>5</td></tr><tr><td>TEC-PH-10001809</td><td>Panasonic KX T7736-B Digital phone</td><td>1259.58</td><td>251.916</td><td>5</td></tr><tr><td>OFF-BI-10003707</td><td>Aluminum Screw Posts</td><td>354.03200000000004</td><td>32.18472727272728</td><td>11</td></tr><tr><td>OFF-AR-10004648</td><td>Boston 19500 Mighty Mite Electric Pencil Sharpener</td><td>342.55</td><td>85.6375</td><td>4</td></tr><tr><td>OFF-BI-10000138</td><td>Acco Translucent Poly Ring Binders</td><td>77.68799999999999</td><td>11.098285714285712</td><td>7</td></tr><tr><td>OFF-AP-10004655</td><td>Holmes Visible Mist Ultrasonic Humidifier with 2.3-Gallon Output per Day, Replacement Filter</td><td>47.544000000000004</td><td>23.772000000000002</td><td>2</td></tr><tr><td>FUR-CH-10001190</td><td>Global Deluxe High-Back Office Chair in Storm</td><td>1087.92</td><td>362.64000000000004</td><td>3</td></tr><tr><td>FUR-BO-10002202</td><td>Atlantic Metals Mobile 2-Shelf Bookcases, Custom Colors</td><td>400.027</td><td>200.0135</td><td>2</td></tr><tr><td>OFF-AP-10000938</td><td>Avanti 1.7 Cu. Ft. Refrigerator</td><td>1663.491</td><td>415.87275</td><td>4</td></tr><tr><td>OFF-LA-10003388</td><td>Avery 5</td><td>5.76</td><td>5.76</td><td>1</td></tr><tr><td>TEC-CO-10004115</td><td>Sharp AL-1530CS Digital Copier</td><td>2002.564</td><td>500.641</td><td>4</td></tr><tr><td>OFF-BI-10002429</td><td>Premier Elliptical Ring Binder, Black</td><td>508.34799999999996</td><td>63.543499999999995</td><td>8</td></tr><tr><td>FUR-FU-10000277</td><td>Deflect-o DuraMat Antistatic Studded Beveled Mat for Medium Pile Carpeting</td><td>1343.361</td><td>268.67220000000003</td><td>5</td></tr><tr><td>TEC-AC-10003610</td><td>Logitech Illuminated - Keyboard</td><td>1139.81</td><td>189.96833333333333</td><td>6</td></tr><tr><td>OFF-PA-10001815</td><td>Xerox 1885</td><td>960.8</td><td>192.16</td><td>5</td></tr><tr><td>OFF-AP-10001563</td><td>Belkin Premiere Surge Master II 8-outlet surge protector</td><td>952.168</td><td>136.024</td><td>7</td></tr><tr><td>OFF-PA-10004285</td><td>Xerox 1959</td><td>133.6</td><td>22.266666666666666</td><td>6</td></tr><tr><td>TEC-PH-10001300</td><td>iKross Bluetooth Portable Keyboard + Cell Phone Stand Holder + Brush for Apple iPhone 5S 5C 5, 4S 4</td><td>477.66</td><td>95.53200000000001</td><td>5</td></tr><tr><td>OFF-PA-10003739</td><td>Xerox 1969</td><td>11.56</td><td>11.56</td><td>1</td></tr><tr><td>OFF-LA-10004409</td><td>Avery 492</td><td>53.568</td><td>10.7136</td><td>5</td></tr><tr><td>FUR-FU-10000723</td><td>Deflect-o EconoMat Studded, No Bevel Mat for Low Pile Carpeting</td><td>1115.6399999999999</td><td>123.95999999999998</td><td>9</td></tr><tr><td>TEC-AC-10001465</td><td>SanDisk Cruzer 64 GB USB Flash Drive</td><td>1184.032</td><td>131.5591111111111</td><td>9</td></tr><tr><td>FUR-FU-10002553</td><td>Electrix Incandescent Magnifying Lamp, Black</td><td>117.28</td><td>58.64</td><td>2</td></tr><tr><td>OFF-AP-10001366</td><td>Staple holder</td><td>186.66000000000003</td><td>46.665000000000006</td><td>4</td></tr><tr><td>OFF-LA-10002475</td><td>Avery 519</td><td>121.346</td><td>20.224333333333334</td><td>6</td></tr><tr><td>OFF-PA-10003845</td><td>Xerox 1987</td><td>92.48</td><td>23.12</td><td>4</td></tr><tr><td>OFF-AR-10003856</td><td>Newell 344</td><td>41.144</td><td>8.2288</td><td>5</td></tr><tr><td>TEC-PH-10000011</td><td>PureGear Roll-On Screen Protector</td><td>571.7139999999999</td><td>114.34279999999998</td><td>5</td></tr><tr><td>FUR-FU-10001037</td><td>DAX Charcoal/Nickel-Tone Document Frame, 5 x 7</td><td>127.03199999999998</td><td>25.406399999999998</td><td>5</td></tr><tr><td>FUR-BO-10002853</td><td>O'Sullivan 5-Shelf Heavy-Duty Bookcases</td><td>540.8040000000001</td><td>135.20100000000002</td><td>4</td></tr><tr><td>TEC-AC-10002001</td><td>Logitech Wireless Gaming Headset G930</td><td>1983.8760000000002</td><td>396.77520000000004</td><td>5</td></tr><tr><td>FUR-CH-10001482</td><td>Office Star - Mesh Screen back chair with Vinyl seat</td><td>2200.4640000000004</td><td>314.35200000000003</td><td>7</td></tr><tr><td>OFF-AR-10003338</td><td>Eberhard Faber 3 1/2\" Golf Pencils</td><td>139.872</td><td>19.981714285714286</td><td>7</td></tr><tr><td>OFF-PA-10000100</td><td>Xerox 1945</td><td>1492.0360000000003</td><td>213.14800000000005</td><td>7</td></tr><tr><td>FUR-FU-10004091</td><td>Howard Miller 13\" Diameter Goldtone Round Wall Clock</td><td>1042.068</td><td>173.678</td><td>6</td></tr><tr><td>OFF-BI-10002931</td><td>Avery Trapezoid Extra Heavy Duty 4\" Binders</td><td>314.55</td><td>78.6375</td><td>4</td></tr><tr><td>TEC-AC-10000844</td><td>Logitech Gaming G510s - Keyboard</td><td>2362.7219999999998</td><td>295.34024999999997</td><td>8</td></tr><tr><td>OFF-AP-10001492</td><td>Acco Six-Outlet Power Strip, 4' Cord Length</td><td>299.976</td><td>37.497</td><td>8</td></tr><tr><td>TEC-PH-10000213</td><td>Seidio BD2-HK3IPH5-BK DILEX Case and Holster Combo for Apple iPhone 5/5s - Black</td><td>272.888</td><td>90.96266666666666</td><td>3</td></tr><tr><td>OFF-PA-10004255</td><td>Xerox 219</td><td>97.19999999999999</td><td>24.299999999999997</td><td>4</td></tr><tr><td>FUR-FU-10002703</td><td>Tenex Traditional Chairmats for Hard Floors, Average Lip, 36\" x 48\"</td><td>180.46</td><td>90.23</td><td>2</td></tr><tr><td>OFF-ST-10004835</td><td>Plastic Stacking Crates & Casters</td><td>35.712</td><td>8.928</td><td>4</td></tr><tr><td>OFF-ST-10003123</td><td>Fellowes Bases and Tops For Staxonsteel/High-Stak Systems</td><td>858.882</td><td>85.8882</td><td>10</td></tr><tr><td>TEC-AC-10003832</td><td>Imation 16GB Mini TravelDrive USB 2.0 Flash Drive</td><td>1007.1519999999999</td><td>111.90577777777777</td><td>9</td></tr><tr><td>OFF-BI-10001107</td><td>GBC White Gloss Covers, Plain Front</td><td>269.328</td><td>38.475428571428566</td><td>7</td></tr><tr><td>FUR-TA-10002774</td><td>Laminate Occasional Tables</td><td>1371.194</td><td>457.06466666666665</td><td>3</td></tr><tr><td>OFF-ST-10003994</td><td>Belkin 19\" Center-Weighted Shelf, Gray</td><td>849.312</td><td>212.328</td><td>4</td></tr><tr><td>FUR-FU-10004909</td><td>Contemporary Wood/Metal Frame</td><td>193.92</td><td>48.48</td><td>4</td></tr><tr><td>OFF-ST-10001272</td><td>Mini 13-1/2 Capacity Data Binder Rack, Pearl</td><td>1442.905</td><td>288.581</td><td>5</td></tr><tr><td>OFF-PA-10001826</td><td>Xerox 207</td><td>40.176</td><td>20.088</td><td>2</td></tr><tr><td>FUR-FU-10004164</td><td>Eldon 300 Class Desk Accessories, Black</td><td>29.7</td><td>14.85</td><td>2</td></tr><tr><td>FUR-FU-10001934</td><td>Magnifier Swing Arm Lamp</td><td>251.76000000000002</td><td>50.352000000000004</td><td>5</td></tr><tr><td>OFF-PA-10000659</td><td>TOPS Carbonless Receipt Book, Four 2-3/4 x 7-1/4 Money Receipts per Page</td><td>406.46399999999994</td><td>101.61599999999999</td><td>4</td></tr><tr><td>FUR-FU-10000409</td><td>GE 4 Foot Flourescent Tube, 40 Watt</td><td>98.86800000000001</td><td>32.956</td><td>3</td></tr><tr><td>OFF-AR-10003190</td><td>Newell 32</td><td>47.232</td><td>7.872</td><td>6</td></tr><tr><td>OFF-BI-10002432</td><td>Wilson Jones Standard D-Ring Binders</td><td>96.646</td><td>12.08075</td><td>8</td></tr><tr><td>TEC-MA-10002210</td><td>Epson TM-T88V Direct Thermal Printer - Monochrome - Desktop</td><td>1001.282</td><td>500.641</td><td>2</td></tr><tr><td>OFF-AR-10004441</td><td>BIC Brite Liner Highlighters</td><td>86.11200000000001</td><td>12.301714285714286</td><td>7</td></tr><tr><td>OFF-PA-10003724</td><td>Wirebound Message Book, 4 per Page</td><td>184.61999999999998</td><td>26.374285714285712</td><td>7</td></tr><tr><td>FUR-CH-10002774</td><td>Global Deluxe Stacking Chair, Gray</td><td>764.6999999999999</td><td>109.24285714285713</td><td>7</td></tr><tr><td>FUR-CH-10004875</td><td>Harbour Creations 67200 Series Stacking Chairs</td><td>1501.898</td><td>187.73725</td><td>8</td></tr><tr><td>OFF-PA-10004405</td><td>Rediform Voice Mail Log Books</td><td>29.204</td><td>14.602</td><td>2</td></tr><tr><td>OFF-PA-10001950</td><td>Southworth 25% Cotton Antique Laid Paper & Envelopes</td><td>193.488</td><td>48.372</td><td>4</td></tr><tr><td>TEC-MA-10004212</td><td>Cisco SPA525G2 5-Line IP Phone</td><td>500.641</td><td>500.641</td><td>1</td></tr><tr><td>OFF-ST-10001526</td><td>Iceberg Mobile Mega Data/Printer Cart</td><td>3566.8540000000007</td><td>445.8567500000001</td><td>8</td></tr><tr><td>TEC-MA-10004552</td><td>Star Micronics TSP100 TSP143LAN Receipt Printer</td><td>500.641</td><td>500.641</td><td>1</td></tr><tr><td>OFF-BI-10002414</td><td>GBC ProClick Spines for 32-Hole Punch</td><td>66.40899999999999</td><td>13.281799999999999</td><td>5</td></tr><tr><td>FUR-FU-10003919</td><td>Eldon Executive Woodline II Cherry Finish Desk Accessories</td><td>98.13600000000001</td><td>49.068000000000005</td><td>2</td></tr><tr><td>OFF-BI-10004187</td><td>3-ring staple pack</td><td>42.112</td><td>7.018666666666667</td><td>6</td></tr><tr><td>OFF-ST-10001469</td><td>Fellowes Bankers Box Recycled Super Stor/Drawer</td><td>1187.56</td><td>169.65142857142857</td><td>7</td></tr><tr><td>OFF-FA-10003495</td><td>Staples</td><td>192.12800000000001</td><td>27.446857142857144</td><td>7</td></tr><tr><td>FUR-CH-10002880</td><td>Global High-Back Leather Tilter, Burgundy</td><td>4342.992</td><td>310.2137142857143</td><td>14</td></tr><tr><td>TEC-AC-10001635</td><td>KeyTronic KT400U2 - Keyboard - Black</td><td>148.03199999999998</td><td>49.343999999999994</td><td>3</td></tr><tr><td>FUR-FU-10004665</td><td>3M Polarizing Task Lamp with Clamp Arm, Light Gray</td><td>1549.202</td><td>387.3005</td><td>4</td></tr><tr><td>FUR-FU-10001588</td><td>Deflect-o SuperTray Unbreakable Stackable Tray, Letter, Black</td><td>437.70000000000005</td><td>109.42500000000001</td><td>4</td></tr><tr><td>OFF-PA-10004609</td><td>Xerox 221</td><td>73.872</td><td>24.624</td><td>3</td></tr><tr><td>OFF-PA-10002968</td><td>Xerox 1973</td><td>169.01600000000002</td><td>84.50800000000001</td><td>2</td></tr><tr><td>OFF-PA-10000483</td><td>Xerox 19</td><td>415.132</td><td>103.783</td><td>4</td></tr><tr><td>FUR-CH-10003535</td><td>Global Armless Task Chair, Royal Blue</td><td>1396.442</td><td>174.55525</td><td>8</td></tr><tr><td>FUR-FU-10002445</td><td>DAX Two-Tone Rosewood/Black Document Frame, Desktop, 5 x 7</td><td>216.144</td><td>27.018</td><td>8</td></tr><tr><td>TEC-PH-10003601</td><td>Ativa D5772 2-Line 5.8GHz Digital Expandable Corded/Cordless Phone System with Answering & Caller ID/Call Waiting, Black/Silver</td><td>1655.5710000000001</td><td>413.89275000000004</td><td>4</td></tr><tr><td>TEC-MA-10001016</td><td>Canon PC170 Desktop Personal Copier</td><td>575.82</td><td>287.91</td><td>2</td></tr><tr><td>OFF-BI-10004318</td><td>Ibico EB-19 Dual Function Manual Binding System</td><td>2575.491</td><td>321.936375</td><td>8</td></tr><tr><td>FUR-TA-10003392</td><td>Global Adaptabilities Conference Tables</td><td>1839.0990000000002</td><td>459.77475000000004</td><td>4</td></tr><tr><td>TEC-AC-10001114</td><td>Microsoft Wireless Mobile Mouse 4000</td><td>591.852</td><td>147.963</td><td>4</td></tr><tr><td>FUR-CH-10002602</td><td>DMI Arturo Collection Mission-style Design Wood Chair</td><td>3706.231</td><td>336.93009090909095</td><td>11</td></tr><tr><td>OFF-ST-10003479</td><td>Eldon Base for stackable storage shelf, platinum</td><td>872.2559999999999</td><td>124.60799999999998</td><td>7</td></tr><tr><td>OFF-LA-10003498</td><td>Avery 475</td><td>266.4</td><td>66.6</td><td>4</td></tr><tr><td>FUR-FU-10004904</td><td>Eldon \"L\" Workstation Diamond Chairmat</td><td>1002.9360000000001</td><td>250.73400000000004</td><td>4</td></tr><tr><td>OFF-AP-10000804</td><td>Hoover Portapower Portable Vacuum</td><td>61.824</td><td>15.456</td><td>4</td></tr><tr><td>OFF-AP-10002906</td><td>Hoover Replacement Belt for Commercial Guardsman Heavy-Duty Upright Vacuum</td><td>9.768</td><td>2.442</td><td>4</td></tr><tr><td>FUR-TA-10003837</td><td>Anderson Hickey Conga Table Tops & Accessories</td><td>51.782</td><td>25.891</td><td>2</td></tr><tr><td>OFF-LA-10003714</td><td>Avery 510</td><td>21.75</td><td>7.25</td><td>3</td></tr><tr><td>TEC-AC-10000057</td><td>Microsoft Natural Ergonomic Keyboard 4000</td><td>557.814</td><td>111.5628</td><td>5</td></tr><tr><td>OFF-PA-10000241</td><td>IBM Multi-Purpose Copy Paper, 8 1/2 x 11\", Case</td><td>458.504</td><td>76.41733333333333</td><td>6</td></tr><tr><td>OFF-PA-10001461</td><td>HP Office Paper (20Lb. and 87 Bright)</td><td>86.84</td><td>43.42</td><td>2</td></tr><tr><td>FUR-CH-10003606</td><td>SAFCO Folding Chair Trolley</td><td>693.001</td><td>231.00033333333332</td><td>3</td></tr><tr><td>OFF-BI-10001758</td><td>Wilson Jones 14 Line Acrylic Coated Pressboard Data Binders</td><td>100.392</td><td>25.098</td><td>4</td></tr><tr><td>OFF-BI-10000848</td><td>Angle-D Ring Binders</td><td>39.384</td><td>6.564</td><td>6</td></tr><tr><td>OFF-AP-10001469</td><td>Fellowes 8 Outlet Superior Workstation Surge Protector</td><td>759.122</td><td>151.8244</td><td>5</td></tr><tr><td>FUR-FU-10002554</td><td>Westinghouse Floor Lamp with Metal Mesh Shade, Black</td><td>167.93</td><td>41.9825</td><td>4</td></tr><tr><td>OFF-AR-10003477</td><td>4009 Highlighters</td><td>8.04</td><td>8.04</td><td>1</td></tr><tr><td>OFF-AR-10003631</td><td>Staples in misc. colors</td><td>123.904</td><td>30.976</td><td>4</td></tr><tr><td>FUR-TA-10003473</td><td>Bretford Rectangular Conference Table Tops</td><td>5608.217999999999</td><td>467.35149999999993</td><td>12</td></tr><tr><td>TEC-AC-10000023</td><td>Maxell 74 Minute CD-R Spindle, 50/Pack</td><td>230.67</td><td>57.6675</td><td>4</td></tr><tr><td>OFF-AR-10003582</td><td>Boston Electric Pencil Sharpener, Model 1818, Charcoal Black</td><td>523.59</td><td>65.44875</td><td>8</td></tr><tr><td>FUR-FU-10003247</td><td>36X48 HARDFLOOR CHAIRMAT</td><td>369.248</td><td>61.541333333333334</td><td>6</td></tr><tr><td>FUR-FU-10002885</td><td>Magna Visual Magnetic Picture Hangers</td><td>84.83200000000001</td><td>14.138666666666667</td><td>6</td></tr><tr><td>OFF-AR-10000246</td><td>Newell 318</td><td>61.716</td><td>12.3432</td><td>5</td></tr><tr><td>OFF-PA-10000380</td><td>REDIFORM Incoming/Outgoing Call Register, 11\" X 8 1/2\", 100 Messages</td><td>281.892</td><td>35.2365</td><td>8</td></tr><tr><td>TEC-MA-10002412</td><td>Cisco TelePresence System EX90 Videoconferencing Unit</td><td>500.641</td><td>500.641</td><td>1</td></tr><tr><td>OFF-BI-10003981</td><td>Avery Durable Plastic 1\" Binders</td><td>116.224</td><td>16.603428571428573</td><td>7</td></tr><tr><td>OFF-AR-10001953</td><td>Boston 1645 Deluxe Heavier-Duty Electric Pencil Sharpener</td><td>1073.112</td><td>153.3017142857143</td><td>7</td></tr><tr><td>TEC-MA-10003979</td><td>Ativa V4110MDD Micro-Cut Shredder</td><td>1001.282</td><td>500.641</td><td>2</td></tr><tr><td>FUR-FU-10000193</td><td>Tenex Chairmats For Use with Hard Floors</td><td>467.712</td><td>77.952</td><td>6</td></tr><tr><td>OFF-ST-10004950</td><td>Acco Perma 3000 Stacking Storage Drawers</td><td>373.44399999999996</td><td>62.24066666666666</td><td>6</td></tr><tr><td>FUR-FU-10003095</td><td>Linden 12\" Wall Clock With Oak Frame</td><td>101.94</td><td>101.94</td><td>1</td></tr><tr><td>OFF-LA-10004272</td><td>Avery 482</td><td>11.56</td><td>5.78</td><td>2</td></tr><tr><td>OFF-PA-10003063</td><td>EcoTones Memo Sheets</td><td>52.8</td><td>17.599999999999998</td><td>3</td></tr><tr><td>OFF-AR-10004027</td><td>Binney & Smith inkTank Erasable Desk Highlighter, Chisel Tip, Yellow, 12/Box</td><td>17.64</td><td>5.88</td><td>3</td></tr><tr><td>OFF-BI-10003529</td><td>Avery Round Ring Poly Binders</td><td>36.92</td><td>6.153333333333333</td><td>6</td></tr><tr><td>FUR-TA-10002228</td><td>Bevis Traditional Conference Table Top, Plinth Base</td><td>1401.314</td><td>467.1046666666667</td><td>3</td></tr><tr><td>TEC-PH-10002563</td><td>Adtran 1202752G1</td><td>1609.353</td><td>321.8706</td><td>5</td></tr><tr><td>TEC-MA-10000423</td><td>Texas Instruments TI-34 Scientific Calculator</td><td>204.507</td><td>68.169</td><td>3</td></tr><tr><td>OFF-BI-10001098</td><td>Acco D-Ring Binder w/DublLock</td><td>235.18</td><td>26.13111111111111</td><td>9</td></tr><tr><td>FUR-TA-10002533</td><td>BPI Conference Tables</td><td>1804.557</td><td>360.9114</td><td>5</td></tr><tr><td>OFF-FA-10000490</td><td>OIC Binder Clips, Mini, 1/4\" Capacity, Black</td><td>15.623999999999999</td><td>3.1247999999999996</td><td>5</td></tr><tr><td>OFF-PA-10003127</td><td>Easy-staple paper</td><td>327.11199999999997</td><td>54.51866666666666</td><td>6</td></tr><tr><td>FUR-CH-10002073</td><td>Hon Olson Stacker Chairs</td><td>1925.571</td><td>481.39275</td><td>4</td></tr><tr><td>OFF-AP-10003040</td><td>Fellowes 8 Outlet Superior Workstation Surge Protector w/o Phone/Fax/Modem Protection</td><td>665.676</td><td>133.1352</td><td>5</td></tr><tr><td>OFF-PA-10000605</td><td>Xerox 1950</td><td>49.708</td><td>16.569333333333333</td><td>3</td></tr><tr><td>OFF-PA-10001534</td><td>Xerox 230</td><td>127.00800000000001</td><td>25.401600000000002</td><td>5</td></tr><tr><td>OFF-BI-10004632</td><td>Ibico Hi-Tech Manual Binding System</td><td>4155.336</td><td>377.7578181818182</td><td>11</td></tr><tr><td>OFF-PA-10003971</td><td>Xerox 1965</td><td>56.212</td><td>14.053</td><td>4</td></tr><tr><td>OFF-PA-10000349</td><td>Easy-staple paper</td><td>113.544</td><td>14.193</td><td>8</td></tr><tr><td>OFF-ST-10002615</td><td>Dual Level, Single-Width Filing Carts</td><td>3424.667</td><td>428.083375</td><td>8</td></tr><tr><td>FUR-TA-10000617</td><td>Hon Practical Foundations 30 x 60 Training Table, Light Gray/Charcoal</td><td>2605.51</td><td>434.2516666666667</td><td>6</td></tr><tr><td>OFF-AR-10003394</td><td>Newell 332</td><td>67.032</td><td>13.4064</td><td>5</td></tr><tr><td>OFF-BI-10004330</td><td>GBC Velobind Prepunched Cover Sets, Regency Series</td><td>514.0219999999999</td><td>85.67033333333332</td><td>6</td></tr><tr><td>TEC-PH-10002624</td><td>Samsung Galaxy S4 Mini</td><td>2472.554</td><td>494.5108</td><td>5</td></tr><tr><td>OFF-PA-10001745</td><td>Wirebound Message Books, 2 7/8\" x 5\", 3 Forms per Page</td><td>108.416</td><td>36.138666666666666</td><td>3</td></tr><tr><td>FUR-TA-10003715</td><td>Hon 2111 Invitation Series Corner Table</td><td>1878.789</td><td>469.69725</td><td>4</td></tr><tr><td>OFF-PA-10002259</td><td>Geographics Note Cards, Blank, White, 8 1/2\" x 11\"</td><td>76.092</td><td>25.364</td><td>3</td></tr><tr><td>OFF-EN-10001509</td><td>Poly String Tie Envelopes</td><td>68.13599999999998</td><td>6.194181818181817</td><td>11</td></tr><tr><td>OFF-AP-10000240</td><td>Belkin F9G930V10-GRY 9 Outlet Surge</td><td>770.1120000000001</td><td>154.0224</td><td>5</td></tr><tr><td>FUR-FU-10001731</td><td>Acrylic Self-Standing Desk Frames</td><td>93.984</td><td>11.748</td><td>8</td></tr><tr><td>OFF-LA-10004559</td><td>Avery 49</td><td>66.816</td><td>11.136000000000001</td><td>6</td></tr><tr><td>OFF-ST-10002370</td><td>Sortfiler Multipurpose Personal File Organizer, Black</td><td>483.414</td><td>80.569</td><td>6</td></tr><tr><td>OFF-LA-10003720</td><td>Avery 487</td><td>84.86999999999999</td><td>12.124285714285714</td><td>7</td></tr><tr><td>OFF-FA-10001229</td><td>Staples</td><td>29.868000000000002</td><td>9.956000000000001</td><td>3</td></tr><tr><td>FUR-CH-10003968</td><td>Novimex Turbo Task Chair</td><td>1341.5220000000002</td><td>223.58700000000002</td><td>6</td></tr><tr><td>OFF-PA-10000994</td><td>Xerox 1915</td><td>2322.392</td><td>290.299</td><td>8</td></tr><tr><td>OFF-FA-10001754</td><td>Stockwell Gold Paper Clips</td><td>8.096</td><td>4.048</td><td>2</td></tr><tr><td>OFF-PA-10000859</td><td>Unpadded Memo Slips</td><td>18.308</td><td>9.154</td><td>2</td></tr><tr><td>FUR-BO-10002206</td><td>Bush Saratoga Collection 5-Shelf Bookcase, Hanover Cherry, *Special Order</td><td>119.833</td><td>119.833</td><td>1</td></tr><tr><td>OFF-BI-10001525</td><td>Acco Pressboard Covers with Storage Hooks, 14 7/8\" x 11\", Executive Red</td><td>63.62700000000001</td><td>7.953375000000001</td><td>8</td></tr><tr><td>TEC-PH-10001760</td><td>Bose SoundLink Bluetooth Speaker</td><td>2155.482</td><td>431.0964</td><td>5</td></tr><tr><td>OFF-ST-10001476</td><td>Steel Personal Filing/Posting Tote</td><td>937.4639999999999</td><td>187.4928</td><td>5</td></tr><tr><td>OFF-AR-10003602</td><td>Quartet Omega Colored Chalk, 12/Pack</td><td>80.59199999999998</td><td>11.513142857142855</td><td>7</td></tr><tr><td>OFF-ST-10000352</td><td>Acco Perma 2700 Stacking Storage Drawers</td><td>208.18</td><td>52.045</td><td>4</td></tr><tr><td>OFF-LA-10001404</td><td>Avery 517</td><td>44.28</td><td>11.07</td><td>4</td></tr><tr><td>FUR-FU-10004091</td><td>Eldon 200 Class Desk Accessories, Black</td><td>75.36</td><td>37.68</td><td>2</td></tr><tr><td>OFF-ST-10002182</td><td>Iris 3-Drawer Stacking Bin, Black</td><td>284.104</td><td>94.70133333333332</td><td>3</td></tr><tr><td>OFF-PA-10001790</td><td>Xerox 1910</td><td>586.088</td><td>117.21759999999999</td><td>5</td></tr><tr><td>TEC-MA-10003673</td><td>Hewlett-Packard Desktjet 6988DT Refurbished Printer</td><td>500.641</td><td>500.641</td><td>1</td></tr><tr><td>OFF-AP-10000692</td><td>Fellowes Mighty 8 Compact Surge Protector</td><td>344.59</td><td>57.431666666666665</td><td>6</td></tr><tr><td>OFF-ST-10000321</td><td>Akro Stacking Bins</td><td>91.524</td><td>15.254</td><td>6</td></tr><tr><td>TEC-PH-10000215</td><td>Plantronics Cordless Phone Headset with In-line Volume - M214C</td><td>908.6999999999999</td><td>151.45</td><td>6</td></tr><tr><td>OFF-SU-10000898</td><td>Acme Hot Forged Carbon Steel Scissors with Nickel-Plated Handles, 3 7/8\" Cut, 8\"L</td><td>305.79999999999995</td><td>61.15999999999999</td><td>5</td></tr><tr><td>OFF-LA-10001158</td><td>Avery Address/Shipping Labels for Typewriters, 4\" x 2\"</td><td>277.38</td><td>39.62571428571429</td><td>7</td></tr><tr><td>OFF-BI-10001191</td><td>Canvas Sectional Post Binders</td><td>422.63599999999997</td><td>70.43933333333332</td><td>6</td></tr><tr><td>OFF-AP-10004980</td><td>3M Replacement Filter for Office Air Cleaner for 20' x 33' Room</td><td>303.36</td><td>75.84</td><td>4</td></tr><tr><td>FUR-FU-10002671</td><td>Electrix 20W Halogen Replacement Bulb for Zoom-In Desk Lamp</td><td>155.44</td><td>38.86</td><td>4</td></tr><tr><td>FUR-CH-10001146</td><td>Global Task Chair, Black</td><td>463.09900000000005</td><td>92.61980000000001</td><td>5</td></tr><tr><td>OFF-BI-10001196</td><td>Avery Flip-Chart Easel Binder, Black</td><td>239.466</td><td>59.8665</td><td>4</td></tr><tr><td>OFF-AP-10000124</td><td>Acco 6 Outlet Guardian Basic Surge Suppressor</td><td>38.272</td><td>19.136</td><td>2</td></tr><tr><td>OFF-LA-10001934</td><td>Avery 516</td><td>109.65</td><td>27.4125</td><td>4</td></tr><tr><td>FUR-FU-10002088</td><td>Nu-Dell Float Frame 11 x 14 1/2</td><td>170.62</td><td>24.374285714285715</td><td>7</td></tr><tr><td>OFF-PA-10003001</td><td>Xerox 1986</td><td>85.50399999999999</td><td>21.375999999999998</td><td>4</td></tr><tr><td>FUR-BO-10001798</td><td>Bush Somerset Collection Bookcase</td><td>1207.933</td><td>301.98325</td><td>4</td></tr><tr><td>OFF-BI-10004182</td><td>Economy Binders</td><td>26.624000000000002</td><td>8.874666666666668</td><td>3</td></tr><tr><td>TEC-PH-10001468</td><td>Panasonic Business Telephones KX-T7736</td><td>500.641</td><td>500.641</td><td>1</td></tr><tr><td>OFF-BI-10000042</td><td>Pressboard Data Binder, Crimson, 12\" X 8 1/2\"</td><td>33.108000000000004</td><td>11.036000000000001</td><td>3</td></tr><tr><td>FUR-FU-10001057</td><td>Tensor Track Tree Floor Lamp</td><td>299.85</td><td>74.9625</td><td>4</td></tr><tr><td>OFF-BI-10001679</td><td>GBC Instant Index System for Binding Systems</td><td>71.928</td><td>14.3856</td><td>5</td></tr><tr><td>TEC-MA-10004241</td><td>Star Micronics TSP800 TSP847IIU Receipt Printer</td><td>1001.282</td><td>500.641</td><td>2</td></tr><tr><td>FUR-FU-10000732</td><td>Eldon 200 Class Desk Accessories</td><td>120.57600000000001</td><td>20.096</td><td>6</td></tr><tr><td>OFF-FA-10001135</td><td>Brites Rubber Bands, 1 1/2 oz. Box</td><td>13.068000000000001</td><td>4.356000000000001</td><td>3</td></tr><tr><td>FUR-BO-10003034</td><td>O'Sullivan Elevations Bookcase, Cherry Finish</td><td>1833.005</td><td>366.601</td><td>5</td></tr><tr><td>OFF-BI-10002498</td><td>Clear Mylar Reinforcing Strips</td><td>377.538</td><td>53.934000000000005</td><td>7</td></tr><tr><td>OFF-AR-10004269</td><td>Newell 31</td><td>94.99</td><td>18.997999999999998</td><td>5</td></tr><tr><td>TEC-AC-10004859</td><td>Maxell Pro 80 Minute CD-R, 10/Pack</td><td>220.248</td><td>73.416</td><td>3</td></tr><tr><td>TEC-AC-10002637</td><td>Logitech VX Revolution Cordless Laser Mouse for Notebooks (Black)</td><td>2225.214</td><td>445.0428</td><td>5</td></tr><tr><td>OFF-EN-10001141</td><td>Manila Recycled Extra-Heavyweight Clasp Envelopes, 6\" x 9\"</td><td>125.172</td><td>31.293</td><td>4</td></tr><tr><td>OFF-BI-10004230</td><td>GBC Recycled Grain Textured Covers</td><td>466.29</td><td>93.25800000000001</td><td>5</td></tr><tr><td>OFF-AR-10001770</td><td>Economy #2 Pencils</td><td>34.58</td><td>8.645</td><td>4</td></tr><tr><td>FUR-FU-10002508</td><td>Document Clip Frames</td><td>45.036</td><td>22.518</td><td>2</td></tr><tr><td>TEC-AC-10001767</td><td>SanDisk Ultra 64 GB MicroSDHC Class 10 Memory Card</td><td>927.7679999999999</td><td>154.628</td><td>6</td></tr><tr><td>TEC-AC-10004633</td><td>Verbatim 25 GB 6x Blu-ray Single Layer Recordable Disc, 3/Pack</td><td>184.536</td><td>30.756</td><td>6</td></tr><tr><td>OFF-SU-10003567</td><td>Stiletto Hand Letter Openers</td><td>136.32000000000002</td><td>34.080000000000005</td><td>4</td></tr><tr><td>TEC-AC-10003447</td><td>Micropad Numeric Keypads</td><td>291.85400000000004</td><td>72.96350000000001</td><td>4</td></tr><tr><td>TEC-PH-10001494</td><td>Polycom CX600 IP Phone VoIP phone</td><td>1981.843</td><td>495.46075</td><td>4</td></tr><tr><td>OFF-AR-10001940</td><td>Sanford Colorific Eraseable Coloring Pencils, 12 Count</td><td>45.919999999999995</td><td>11.479999999999999</td><td>4</td></tr><tr><td>FUR-FU-10004963</td><td>Eldon 400 Class Desk Accessories, Black Carbon</td><td>145.25</td><td>29.05</td><td>5</td></tr><tr><td>TEC-MA-10003066</td><td>Wasp CCD Handheld Bar Code Reader</td><td>336.51</td><td>336.51</td><td>1</td></tr><tr><td>OFF-AP-10001293</td><td>Belkin 8 Outlet Surge Protector</td><td>1073.676</td><td>153.3822857142857</td><td>7</td></tr><tr><td>OFF-PA-10000418</td><td>Xerox 189</td><td>1782.4500000000003</td><td>297.07500000000005</td><td>6</td></tr><tr><td>OFF-BI-10001890</td><td>Avery Poly Binder Pockets</td><td>78.044</td><td>9.7555</td><td>8</td></tr><tr><td>OFF-AP-10003278</td><td>Belkin 7-Outlet SurgeMaster Home Series</td><td>72.64399999999999</td><td>18.160999999999998</td><td>4</td></tr><tr><td>OFF-SU-10001935</td><td>Staple remover</td><td>29.648</td><td>4.941333333333334</td><td>6</td></tr><tr><td>OFF-ST-10003282</td><td>Advantus 10-Drawer Portable Organizer, Chrome Metal Frame, Smoke Drawers</td><td>1051.776</td><td>262.944</td><td>4</td></tr><tr><td>OFF-AP-10000252</td><td>Harmony HEPA Quiet Air Purifiers</td><td>128.7</td><td>32.175</td><td>4</td></tr><tr><td>TEC-PH-10004977</td><td>GE 30524EE4</td><td>3962.4640000000004</td><td>440.2737777777778</td><td>9</td></tr><tr><td>FUR-CH-10001146</td><td>Global Value Mid-Back Manager's Chair, Gray</td><td>1784.0770000000002</td><td>198.2307777777778</td><td>9</td></tr><tr><td>OFF-BI-10004410</td><td>C-Line Peel & Stick Add-On Filing Pockets, 8-3/4 x 5-1/8, 10/Pack</td><td>85.995</td><td>21.49875</td><td>4</td></tr><tr><td>FUR-FU-10002878</td><td>Seth Thomas 14\" Day/Date Wall Clock</td><td>421.504</td><td>84.30080000000001</td><td>5</td></tr><tr><td>OFF-PA-10000019</td><td>Xerox 1931</td><td>209.952</td><td>26.244</td><td>8</td></tr><tr><td>TEC-PH-10002549</td><td>Polycom SoundPoint IP 450 VoIP phone</td><td>2360.191</td><td>393.36516666666665</td><td>6</td></tr><tr><td>TEC-PH-10001305</td><td>Panasonic KX TS208W Corded phone</td><td>1185.558</td><td>237.1116</td><td>5</td></tr><tr><td>FUR-FU-10001025</td><td>Eldon Imàge Series Desk Accessories, Clear</td><td>53.46</td><td>17.82</td><td>3</td></tr><tr><td>OFF-AP-10004540</td><td>Eureka The Boss Lite 10-Amp Upright Vacuum, Blue</td><td>1042.08</td><td>260.52</td><td>4</td></tr><tr><td>OFF-PA-10000809</td><td>Xerox 206</td><td>60.912000000000006</td><td>12.182400000000001</td><td>5</td></tr><tr><td>FUR-FU-10001617</td><td>Executive Impressions 8-1/2\" Career Panel/Partition Cubicle Clock</td><td>66.56</td><td>33.28</td><td>2</td></tr><tr><td>TEC-AC-10003133</td><td>Memorex Mini Travel Drive 4 GB USB 2.0 Flash Drive</td><td>13.616</td><td>13.616</td><td>1</td></tr><tr><td>OFF-AR-10004078</td><td>Newell 312</td><td>234.768</td><td>21.342545454545455</td><td>11</td></tr><tr><td>OFF-LA-10001641</td><td>Avery 518</td><td>106.47</td><td>13.30875</td><td>8</td></tr><tr><td>OFF-PA-10003797</td><td>Xerox 209</td><td>187.92</td><td>37.583999999999996</td><td>5</td></tr><tr><td>TEC-AC-10001606</td><td>Logitech Wireless Performance Mouse MX for PC and Mac</td><td>1799.82</td><td>257.1171428571428</td><td>7</td></tr><tr><td>OFF-AR-10002135</td><td>Boston Heavy-Duty Trimline Electric Pencil Sharpeners</td><td>1166.44</td><td>233.288</td><td>5</td></tr><tr><td>OFF-AR-10003469</td><td>Nontoxic Chalk</td><td>42.944</td><td>5.368</td><td>8</td></tr><tr><td>TEC-AC-10004114</td><td>KeyTronic 6101 Series - Keyboard - Black</td><td>360.712</td><td>180.356</td><td>2</td></tr><tr><td>FUR-TA-10004767</td><td>Safco Drafting Table</td><td>638.8199999999999</td><td>159.70499999999998</td><td>4</td></tr><tr><td>TEC-AC-10001314</td><td>Case Logic 2.4GHz Wireless Keyboard</td><td>1229.7540000000001</td><td>153.71925000000002</td><td>8</td></tr><tr><td>TEC-AC-10003499</td><td>Memorex Mini Travel Drive 8 GB USB 2.0 Flash Drive</td><td>194.54399999999998</td><td>38.9088</td><td>5</td></tr><tr><td>OFF-PA-10000477</td><td>Xerox 22</td><td>75.168</td><td>25.056</td><td>3</td></tr><tr><td>OFF-LA-10004545</td><td>Avery 50</td><td>235.564</td><td>47.1128</td><td>5</td></tr><tr><td>TEC-PH-10001198</td><td>Avaya 4621SW VoIP phone</td><td>709.92</td><td>177.48</td><td>4</td></tr><tr><td>FUR-FU-10003194</td><td>Eldon Expressions Desk Accessory, Wood Pencil Holder, Oak</td><td>108.08</td><td>27.02</td><td>4</td></tr><tr><td>FUR-TA-10003469</td><td>Balt Split Level Computer Training Table</td><td>1040.625</td><td>208.125</td><td>5</td></tr><tr><td>OFF-PA-10001593</td><td>Xerox 1947</td><td>136.344</td><td>27.2688</td><td>5</td></tr><tr><td>OFF-FA-10000936</td><td>Acco Hot Clips Clips to Go</td><td>67.116</td><td>11.186</td><td>6</td></tr><tr><td>OFF-AR-10001683</td><td>Lumber Crayons</td><td>171.39</td><td>28.564999999999998</td><td>6</td></tr><tr><td>TEC-PH-10004959</td><td>Classic Ivory Antique Telephone ZL1810</td><td>341.666</td><td>170.833</td><td>2</td></tr><tr><td>OFF-ST-10000885</td><td>Fellowes Desktop Hanging File Manager</td><td>201.45000000000002</td><td>50.362500000000004</td><td>4</td></tr><tr><td>TEC-AC-10000387</td><td>KeyTronic KT800P2 - Keyboard - Black</td><td>75.1</td><td>25.03333333333333</td><td>3</td></tr><tr><td>OFF-EN-10001028</td><td>Staple envelope</td><td>100.63199999999999</td><td>50.315999999999995</td><td>2</td></tr><tr><td>OFF-PA-10003129</td><td>Tops White Computer Printout Paper</td><td>684.74</td><td>171.185</td><td>4</td></tr><tr><td>TEC-PH-10000923</td><td>Belkin SportFit Armband For iPhone 5s/5c, Fuchsia</td><td>239.84</td><td>47.968</td><td>5</td></tr><tr><td>OFF-BI-10000773</td><td>Insertable Tab Post Binder Dividers</td><td>66.56599999999999</td><td>8.320749999999999</td><td>8</td></tr><tr><td>TEC-PH-10000576</td><td>AT&T 1080 Corded phone</td><td>1945.2579999999998</td><td>277.89399999999995</td><td>7</td></tr><tr><td>OFF-AR-10004511</td><td>Sanford Colorific Scented Colored Pencils, 12/Pack</td><td>47.080000000000005</td><td>23.540000000000003</td><td>2</td></tr><tr><td>TEC-PH-10001578</td><td>Polycom SoundStation2 EX Conference phone</td><td>1987.863</td><td>496.96575</td><td>4</td></tr><tr><td>FUR-TA-10001307</td><td>SAFCO PlanMaster Heigh-Adjustable Drafting Table Base, 43w x 30d x 30-37h, Black</td><td>1944.797</td><td>388.9594</td><td>5</td></tr><tr><td>OFF-FA-10000254</td><td>Sterling Rubber Bands by Alliance</td><td>19.782</td><td>9.891</td><td>2</td></tr><tr><td>TEC-CO-10002095</td><td>Hewlett Packard 610 Color Digital Copier / Printer</td><td>3504.487</td><td>500.641</td><td>7</td></tr><tr><td>FUR-CH-10000847</td><td>Global Executive Mid-Back Manager's Chair</td><td>2794.1850000000004</td><td>465.69750000000005</td><td>6</td></tr><tr><td>TEC-CO-10001766</td><td>Canon PC940 Copier</td><td>1501.923</td><td>500.641</td><td>3</td></tr><tr><td>TEC-AC-10003289</td><td>Anker Ultra-Slim Mini Bluetooth 3.0 Wireless Keyboard</td><td>499.75</td><td>99.95</td><td>5</td></tr><tr><td>FUR-FU-10000087</td><td>Executive Impressions 14\" Two-Color Numerals Wall Clock</td><td>308.99199999999996</td><td>51.49866666666666</td><td>6</td></tr><tr><td>OFF-BI-10001116</td><td>Wilson Jones 1\" Hanging DublLock Ring Binders</td><td>115.632</td><td>12.848</td><td>9</td></tr><tr><td>TEC-AC-10000158</td><td>Sony 64GB Class 10 Micro SDHC R40 Memory Card</td><td>899.75</td><td>99.97222222222223</td><td>9</td></tr><tr><td>OFF-PA-10001144</td><td>Xerox 1913</td><td>865.488</td><td>173.0976</td><td>5</td></tr><tr><td>TEC-AC-10003709</td><td>Maxell 4.7GB DVD-R 5/Pack</td><td>19.007999999999996</td><td>3.801599999999999</td><td>5</td></tr><tr><td>TEC-AC-10002567</td><td>Logitech G602 Wireless Gaming Mouse</td><td>1871.766</td><td>233.97075</td><td>8</td></tr><tr><td>OFF-BI-10001718</td><td>GBC DocuBind P50 Personal Binding Machine</td><td>2191.31</td><td>219.131</td><td>10</td></tr><tr><td>OFF-AP-10001634</td><td>Hoover Commercial Lightweight Upright Vacuum</td><td>18.096</td><td>9.048</td><td>2</td></tr><tr><td>OFF-PA-10001457</td><td>White GlueTop Scratch Pads</td><td>186.49599999999998</td><td>93.24799999999999</td><td>2</td></tr><tr><td>TEC-AC-10000927</td><td>Anker Ultrathin Bluetooth Wireless Keyboard Aluminum Cover with Stand</td><td>491.836</td><td>122.959</td><td>4</td></tr><tr><td>OFF-PA-10002377</td><td>Adams Telephone Message Book W/Dividers/Space For Phone Numbers, 5 1/4\"X8 1/2\", 200/Messages</td><td>172.67199999999997</td><td>24.667428571428566</td><td>7</td></tr><tr><td>OFF-PA-10001736</td><td>Xerox 1880</td><td>623.7439999999999</td><td>124.74879999999999</td><td>5</td></tr><tr><td>OFF-AR-10003087</td><td>Staples in misc. colors</td><td>24.92</td><td>8.306666666666667</td><td>3</td></tr><tr><td>TEC-PH-10004241</td><td>Nokia Lumia 1020</td><td>500.641</td><td>500.641</td><td>1</td></tr><tr><td>OFF-LA-10001297</td><td>Avery 473</td><td>248.39999999999998</td><td>41.4</td><td>6</td></tr><tr><td>TEC-AC-10004666</td><td>Maxell iVDR EX 500GB Cartridge</td><td>1001.282</td><td>500.641</td><td>2</td></tr><tr><td>FUR-TA-10002958</td><td>Bevis Oval Conference Table, Walnut</td><td>3630.1980000000003</td><td>453.77475000000004</td><td>8</td></tr><tr><td>OFF-PA-10003177</td><td>Xerox 1999</td><td>98.49600000000001</td><td>14.070857142857145</td><td>7</td></tr><tr><td>OFF-ST-10001321</td><td>Decoflex Hanging Personal Folder File, Blue</td><td>518.112</td><td>57.568</td><td>9</td></tr><tr><td>OFF-AR-10003876</td><td>Avery Hi-Liter GlideStik Fluorescent Highlighter, Yellow Ink</td><td>26.08</td><td>13.04</td><td>2</td></tr><tr><td>OFF-BI-10001900</td><td>DXL Angle-View Binders with Locking Rings, Black</td><td>124.59200000000001</td><td>31.148000000000003</td><td>4</td></tr><tr><td>OFF-PA-10003424</td><td>\"While you Were Out\" Message Book, One Form per Page</td><td>25.227999999999998</td><td>8.409333333333333</td><td>3</td></tr><tr><td>TEC-PH-10004539</td><td>Wireless Extenders zBoost YX545 SOHO Signal Booster</td><td>2900.4490000000005</td><td>414.3498571428572</td><td>7</td></tr><tr><td>OFF-AP-10003590</td><td>Hoover WindTunnel Plus Canister Vacuum</td><td>1501.923</td><td>500.641</td><td>3</td></tr><tr><td>FUR-TA-10002903</td><td>Bevis Round Bullnose 29\" High Table Top</td><td>2184.361</td><td>436.87219999999996</td><td>5</td></tr><tr><td>TEC-AC-10001553</td><td>Memorex 25GB 6X Branded Blu-Ray Recordable Disc, 15/Pack</td><td>373.78000000000003</td><td>74.756</td><td>5</td></tr><tr><td>OFF-BI-10004826</td><td>JM Magazine Binder</td><td>204.724</td><td>34.120666666666665</td><td>6</td></tr><tr><td>OFF-LA-10004008</td><td>Avery 507</td><td>24.192</td><td>12.096</td><td>2</td></tr><tr><td>FUR-FU-10002874</td><td>Ultra Commercial Grade Dual Valve Door Closer</td><td>63.824</td><td>63.824</td><td>1</td></tr><tr><td>FUR-FU-10004960</td><td>Seth Thomas 12\" Clock w/ Goldtone Case</td><td>390.65999999999997</td><td>130.22</td><td>3</td></tr><tr><td>TEC-MA-10001570</td><td>Cisco Desktop Collaboration Experience DX650 IP Video Phone</td><td>385.8</td><td>385.8</td><td>1</td></tr><tr><td>TEC-PH-10000486</td><td>Plantronics HL10 Handset Lifter</td><td>1372.45</td><td>457.48333333333335</td><td>3</td></tr><tr><td>OFF-PA-10004000</td><td>While You Were Out Pads, 50 per Pad, 4 x 5 1/4, Green Cycle</td><td>50.138000000000005</td><td>12.534500000000001</td><td>4</td></tr><tr><td>OFF-ST-10002554</td><td>Tennsco Industrial Shelving</td><td>1281.4420000000002</td><td>142.38244444444447</td><td>9</td></tr><tr><td>OFF-BI-10004236</td><td>XtraLife ClearVue Slant-D Ring Binder, White, 3\"</td><td>386.084</td><td>38.6084</td><td>10</td></tr><tr><td>FUR-BO-10001918</td><td>Sauder Forest Hills Library with Doors, Woodland Oak Finish</td><td>1014.174</td><td>338.058</td><td>3</td></tr><tr><td>OFF-SU-10001212</td><td>Kleencut Forged Office Shears by Acme United Corporation</td><td>9.568</td><td>4.784</td><td>2</td></tr><tr><td>OFF-AR-10000127</td><td>Newell 321</td><td>65.60000000000001</td><td>16.400000000000002</td><td>4</td></tr><tr><td>TEC-PH-10000038</td><td>Jawbone MINI JAMBOX Wireless Bluetooth Speaker</td><td>1870.441</td><td>374.08820000000003</td><td>5</td></tr><tr><td>OFF-ST-10004459</td><td>Tennsco Single-Tier Lockers</td><td>3754.5260000000003</td><td>469.31575000000004</td><td>8</td></tr><tr><td>OFF-BI-10002854</td><td>Performers Binder/Pad Holder, Black</td><td>611.0539999999999</td><td>76.38174999999998</td><td>8</td></tr><tr><td>TEC-AC-10002134</td><td>Rosewill 107 Normal Keys USB Wired Standard Keyboard</td><td>105.14399999999999</td><td>35.047999999999995</td><td>3</td></tr><tr><td>OFF-BI-10004040</td><td>Wilson Jones Impact Binders</td><td>134.68</td><td>14.964444444444446</td><td>9</td></tr><tr><td>TEC-MA-10003183</td><td>DYMO CardScan Personal V9 Business Card Scanner</td><td>1076.605</td><td>358.86833333333334</td><td>3</td></tr><tr><td>OFF-PA-10002254</td><td>Xerox 1883</td><td>881.0919999999999</td><td>125.8702857142857</td><td>7</td></tr><tr><td>FUR-FU-10002506</td><td>Tensor \"Hersey Kiss\" Styled Floor Lamp</td><td>93.52799999999999</td><td>31.176</td><td>3</td></tr><tr><td>TEC-MA-10003356</td><td>Panasonic KX MC6040 Color Laser Multifunction Printer</td><td>770.6110000000001</td><td>385.30550000000005</td><td>2</td></tr><tr><td>OFF-AR-10004260</td><td>Boston 1799 Powerhouse Electric Pencil Sharpener</td><td>389.70000000000005</td><td>129.9</td><td>3</td></tr><tr><td>FUR-FU-10000965</td><td>Howard Miller 11-1/2\" Diameter Ridgewood Wall Clock</td><td>1184.232</td><td>197.37199999999999</td><td>6</td></tr><tr><td>OFF-LA-10004544</td><td>Avery 505</td><td>372.96000000000004</td><td>53.28000000000001</td><td>7</td></tr><tr><td>OFF-BI-10002735</td><td>GBC Prestige Therm-A-Bind Covers</td><td>970.9730000000001</td><td>107.8858888888889</td><td>9</td></tr><tr><td>OFF-FA-10002780</td><td>Staples</td><td>92.976</td><td>18.5952</td><td>5</td></tr><tr><td>TEC-AC-10004227</td><td>SanDisk Ultra 16 GB MicroSDHC Class 10 Memory Card</td><td>329.94599999999997</td><td>47.13514285714285</td><td>7</td></tr><tr><td>OFF-PA-10000167</td><td>Xerox 1925</td><td>396.544</td><td>79.30879999999999</td><td>5</td></tr><tr><td>OFF-PA-10002109</td><td>Wirebound Voice Message Log Book</td><td>15.232</td><td>7.616</td><td>2</td></tr><tr><td>OFF-PA-10004947</td><td>Easy-staple paper</td><td>48.791999999999994</td><td>16.264</td><td>3</td></tr><tr><td>TEC-AC-10004864</td><td>Memorex Micro Travel Drive 32 GB</td><td>379.70399999999995</td><td>75.9408</td><td>5</td></tr><tr><td>FUR-FU-10004848</td><td>Howard Miller 13-3/4\" Diameter Brushed Chrome Round Wall Clock</td><td>1324.8</td><td>147.2</td><td>9</td></tr><tr><td>OFF-AP-10002203</td><td>Eureka Disposable Bags for Sanitaire Vibra Groomer I Upright Vac</td><td>1.624</td><td>1.624</td><td>1</td></tr><tr><td>OFF-ST-10000025</td><td>Fellowes Stor/Drawer Steel Plus Storage Drawers</td><td>2990.6310000000003</td><td>373.82887500000004</td><td>8</td></tr><tr><td>OFF-ST-10001031</td><td>Adjustable Personal File Tote</td><td>270.24800000000005</td><td>54.04960000000001</td><td>5</td></tr><tr><td>FUR-TA-10001086</td><td>SAFCO PlanMaster Boards, 60w x 37-1/2d, White Melamine</td><td>2263.7250000000004</td><td>452.74500000000006</td><td>5</td></tr><tr><td>OFF-AR-10002221</td><td>12 Colored Short Pencils</td><td>18.2</td><td>6.066666666666666</td><td>3</td></tr><tr><td>FUR-CH-10000988</td><td>Hon Olson Stacker Stools</td><td>3424.745</td><td>342.4745</td><td>10</td></tr><tr><td>OFF-LA-10003930</td><td>Dot Matrix Printer Tape Reel Labels, White, 5000/Box</td><td>2908.496</td><td>363.562</td><td>8</td></tr><tr><td>OFF-FA-10000624</td><td>OIC Binder Clips</td><td>128.164</td><td>18.309142857142856</td><td>7</td></tr><tr><td>OFF-AR-10003251</td><td>Prang Drawing Pencil Set</td><td>43.924</td><td>6.274857142857143</td><td>7</td></tr><tr><td>FUR-TA-10000198</td><td>Chromcraft Bull-Nose Wood Oval Conference Tables & Bases</td><td>2002.564</td><td>500.641</td><td>4</td></tr><tr><td>OFF-BI-10000285</td><td>XtraLife ClearVue Slant-D Ring Binders by Cardinal</td><td>72.912</td><td>14.582400000000002</td><td>5</td></tr><tr><td>OFF-AR-10000369</td><td>Design Ebony Sketching Pencil</td><td>13.622</td><td>4.540666666666667</td><td>3</td></tr><tr><td>OFF-AR-10002240</td><td>Panasonic KP-150 Electric Pencil Sharpener</td><td>452.88</td><td>150.96</td><td>3</td></tr><tr><td>TEC-MA-10000752</td><td>Texas Instrument TI-15 Fraction Calculator</td><td>41.905</td><td>20.9525</td><td>2</td></tr><tr><td>FUR-FU-10001852</td><td>Eldon Regeneration Recycled Desk Accessories, Smoke</td><td>33.756</td><td>6.7512</td><td>5</td></tr><tr><td>OFF-AP-10002191</td><td>Belkin 8 Outlet SurgeMaster II Gold Surge Protector</td><td>737.754</td><td>147.5508</td><td>5</td></tr><tr><td>TEC-AC-10000199</td><td>Kingston Digital DataTraveler 8GB USB 2.0</td><td>44.03</td><td>14.676666666666668</td><td>3</td></tr><tr><td>OFF-AP-10003287</td><td>Tripp Lite TLP810NET Broadband Surge for Modem/Fax</td><td>784.9380000000001</td><td>156.98760000000001</td><td>5</td></tr><tr><td>TEC-PH-10001619</td><td>LG G3</td><td>1628.45</td><td>407.1125</td><td>4</td></tr><tr><td>OFF-BI-10000404</td><td>Avery Printable Repositionable Plastic Tabs</td><td>115.24</td><td>19.206666666666667</td><td>6</td></tr><tr><td>TEC-PH-10002200</td><td>Samsung Galaxy Note 2</td><td>1001.282</td><td>500.641</td><td>2</td></tr><tr><td>FUR-TA-10001866</td><td>Bevis Round Conference Room Tables and Bases</td><td>519.941</td><td>259.9705</td><td>2</td></tr><tr><td>FUR-TA-10004575</td><td>Hon 5100 Series Wood Tables</td><td>3504.487</td><td>500.641</td><td>7</td></tr><tr><td>OFF-EN-10002600</td><td>Redi-Strip #10 Envelopes, 4 1/8 x 9 1/2</td><td>93.22</td><td>13.317142857142857</td><td>7</td></tr><tr><td>FUR-CH-10001708</td><td>Office Star - Contemporary Swivel Chair with Padded Adjustable Arms and Flex Back</td><td>2516.9790000000003</td><td>359.5684285714286</td><td>7</td></tr><tr><td>OFF-LA-10004178</td><td>Avery 491</td><td>45.43</td><td>15.143333333333333</td><td>3</td></tr><tr><td>OFF-AP-10000576</td><td>Belkin 325VA UPS Surge Protector, 6'</td><td>1379.172</td><td>344.793</td><td>4</td></tr><tr><td>TEC-AC-10003027</td><td>Imation 8GB Mini TravelDrive USB 2.0 Flash Drive</td><td>350.204</td><td>116.73466666666667</td><td>3</td></tr><tr><td>TEC-PH-10000586</td><td>AT&T SB67148 SynJ</td><td>475.128</td><td>158.376</td><td>3</td></tr><tr><td>OFF-SU-10000151</td><td>High Speed Automatic Electric Letter Opener</td><td>1501.923</td><td>500.641</td><td>3</td></tr><tr><td>OFF-FA-10000621</td><td>OIC Colored Binder Clips, Assorted Sizes</td><td>139.62</td><td>19.945714285714285</td><td>7</td></tr><tr><td>FUR-FU-10002960</td><td>Eldon 200 Class Desk Accessories, Burgundy</td><td>135.648</td><td>27.1296</td><td>5</td></tr><tr><td>OFF-AR-10004022</td><td>Panasonic KP-380BK Classic Electric Pencil Sharpener</td><td>705.208</td><td>117.53466666666667</td><td>6</td></tr><tr><td>OFF-BI-10004492</td><td>Tuf-Vin Binders</td><td>669.4960000000001</td><td>95.64228571428573</td><td>7</td></tr><tr><td>TEC-PH-10002564</td><td>OtterBox Defender Series Case - Samsung Galaxy S4</td><td>689.77</td><td>86.22125</td><td>8</td></tr><tr><td>TEC-CO-10003236</td><td>Canon Image Class D660 Copier</td><td>1001.282</td><td>500.641</td><td>2</td></tr><tr><td>TEC-PH-10003645</td><td>Aastra 57i VoIP phone</td><td>2197.196</td><td>366.1993333333333</td><td>6</td></tr><tr><td>OFF-FA-10003112</td><td>Staples</td><td>146.75400000000002</td><td>20.964857142857145</td><td>7</td></tr><tr><td>OFF-AP-10000891</td><td>Kensington 7 Outlet MasterPiece HOMEOFFICE Power Control Center</td><td>1287.361</td><td>257.47220000000004</td><td>5</td></tr><tr><td>OFF-AR-10001615</td><td>Newell 34</td><td>460.288</td><td>65.75542857142857</td><td>7</td></tr><tr><td>OFF-PA-10002195</td><td>RSVP Cards & Envelopes, Blank White, 8-1/2\" X 11\", 24 Cards/25 Envelopes/Set</td><td>53.848</td><td>10.7696</td><td>5</td></tr><tr><td>OFF-BI-10002571</td><td>Avery Framed View Binder, EZD Ring (Locking), Navy, 1 1/2\"</td><td>99.80000000000001</td><td>16.633333333333336</td><td>6</td></tr><tr><td>FUR-CH-10004754</td><td>Global Stack Chair with Arms, Black</td><td>803.464</td><td>114.78057142857143</td><td>7</td></tr><tr><td>FUR-FU-10003394</td><td>Tenex \"The Solids\" Textured Chair Mats</td><td>1340.161</td><td>191.45157142857144</td><td>7</td></tr><tr><td>TEC-PH-10004094</td><td>Motorola L703CM</td><td>2751.3160000000003</td><td>458.5526666666667</td><td>6</td></tr><tr><td>OFF-BI-10000014</td><td>Heavy-Duty E-Z-D Binders</td><td>176.742</td><td>22.09275</td><td>8</td></tr><tr><td>TEC-PH-10001557</td><td>Pyle PMP37LED</td><td>2978.6760000000004</td><td>297.86760000000004</td><td>10</td></tr><tr><td>OFF-FA-10000134</td><td>Advantus Push Pins, Aluminum Head</td><td>139.44</td><td>27.887999999999998</td><td>5</td></tr><tr><td>FUR-FU-10003489</td><td>Contemporary Borderless Frame</td><td>36.162</td><td>18.081</td><td>2</td></tr><tr><td>FUR-FU-10003878</td><td>Linden 10\" Round Wall Clock, Black</td><td>253.648</td><td>42.27466666666667</td><td>6</td></tr><tr><td>FUR-TA-10001932</td><td>Chromcraft 48\" x 96\" Racetrack Double Pedestal Table</td><td>2868.292</td><td>478.04866666666663</td><td>6</td></tr><tr><td>OFF-AR-10003696</td><td>Panasonic KP-350BK Electric Pencil Sharpener with Auto Stop</td><td>124.488</td><td>41.496</td><td>3</td></tr><tr><td>OFF-PA-10002749</td><td>Wirebound Message Books, 5-1/2 x 4 Forms, 2 or 4 Forms per Page</td><td>72.252</td><td>24.084</td><td>3</td></tr><tr><td>FUR-TA-10001095</td><td>Chromcraft Round Conference Tables</td><td>5182.4710000000005</td><td>398.6516153846154</td><td>13</td></tr><tr><td>OFF-AR-10003759</td><td>Crayola Anti Dust Chalk, 12/Pack</td><td>59.696</td><td>8.528</td><td>7</td></tr><tr><td>TEC-AC-10000420</td><td>Logitech G500s Laser Gaming Mouse with Adjustable Weight Tuning</td><td>1340.521</td><td>335.13025</td><td>4</td></tr><tr><td>FUR-TA-10004915</td><td>Office Impressions End Table, 20-1/2\"H x 24\"W x 20\"D</td><td>2503.205</td><td>500.64099999999996</td><td>5</td></tr><tr><td>OFF-BI-10004584</td><td>GBC ProClick 150 Presentation Binding System</td><td>1701.3650000000002</td><td>340.273</td><td>5</td></tr><tr><td>FUR-BO-10003441</td><td>Bush Westfield Collection Bookcases, Fully Assembled</td><td>1473.298</td><td>245.54966666666667</td><td>6</td></tr><tr><td>OFF-AR-10003560</td><td>Zebra Zazzle Fluorescent Highlighters</td><td>100.92799999999998</td><td>16.82133333333333</td><td>6</td></tr><tr><td>FUR-CH-10003981</td><td>Global Commerce Series Low-Back Swivel/Tilt Chairs</td><td>3004.786</td><td>429.25514285714286</td><td>7</td></tr><tr><td>OFF-EN-10000461</td><td>#10- 4 1/8\" x 9 1/2\" Recycled Envelopes</td><td>211.50799999999998</td><td>26.438499999999998</td><td>8</td></tr><tr><td>TEC-AC-10002253</td><td>Imation Bio 8GB USB Flash Drive Imation Corp</td><td>1333.7620000000002</td><td>333.44050000000004</td><td>4</td></tr><tr><td>TEC-AC-10002335</td><td>Logitech Media Keyboard K200</td><td>503.856</td><td>125.964</td><td>4</td></tr><tr><td>OFF-PA-10000807</td><td>TOPS \"Important Message\" Pads, Canary, 4-1/4 x 5-1/2, 50 Sheets per Pad</td><td>70.19200000000001</td><td>23.397333333333336</td><td>3</td></tr><tr><td>FUR-FU-10000755</td><td>Eldon Expressions Mahogany Wood Desk Collection</td><td>93.6</td><td>46.8</td><td>2</td></tr><tr><td>OFF-AR-10004456</td><td>Panasonic KP-4ABK Battery-Operated Pencil Sharpener</td><td>234.24</td><td>58.56</td><td>4</td></tr><tr><td>FUR-CH-10004495</td><td>Global Leather and Oak Executive Chair, Black</td><td>3447.2680000000005</td><td>430.90850000000006</td><td>8</td></tr><tr><td>OFF-EN-10001749</td><td>Jiffy Padded Mailers with Self-Seal Closure</td><td>29.808</td><td>29.808</td><td>1</td></tr><tr><td>FUR-FU-10004671</td><td>Executive Impressions 12\" Wall Clock</td><td>176.7</td><td>29.45</td><td>6</td></tr><tr><td>TEC-MA-10003230</td><td>Okidata C610n Printer</td><td>500.641</td><td>500.641</td><td>1</td></tr><tr><td>OFF-EN-10002504</td><td>Tyvek  Top-Opening Peel & Seel Envelopes, Plain White</td><td>570.78</td><td>81.53999999999999</td><td>7</td></tr><tr><td>OFF-PA-10002365</td><td>Xerox 1967</td><td>89.424</td><td>17.884800000000002</td><td>5</td></tr><tr><td>OFF-LA-10002312</td><td>Avery 490</td><td>177.6</td><td>35.519999999999996</td><td>5</td></tr><tr><td>OFF-ST-10004180</td><td>Safco Commercial Shelving</td><td>483.70399999999995</td><td>96.7408</td><td>5</td></tr><tr><td>FUR-FU-10003623</td><td>DataProducts Ampli Magnifier Task Lamp, Black,</td><td>508.728</td><td>101.7456</td><td>5</td></tr><tr><td>OFF-AR-10002445</td><td>SANFORD Major Accent Highlighters</td><td>209.568</td><td>29.938285714285715</td><td>7</td></tr><tr><td>OFF-BI-10000474</td><td>Avery Recycled Flexi-View Covers for Binding Systems</td><td>197.169</td><td>28.167</td><td>7</td></tr><tr><td>OFF-AP-10001242</td><td>APC 7 Outlet Network SurgeArrest Surge Protector</td><td>1207.2</td><td>150.9</td><td>8</td></tr><tr><td>TEC-MA-10004458</td><td>Lexmark X 9575 Professional All-in-One Color Printer</td><td>396.0</td><td>396.0</td><td>1</td></tr><tr><td>OFF-PA-10000673</td><td>Post-it “Important Message” Note Pad, Neon Colors, 50 Sheets/Pad</td><td>62.608000000000004</td><td>31.304000000000002</td><td>2</td></tr><tr><td>OFF-BI-10004390</td><td>GBC DocuBind 200 Manual Binding Machine</td><td>2002.564</td><td>500.641</td><td>4</td></tr><tr><td>FUR-FU-10000747</td><td>Tenex B1-RE Series Chair Mats for Low Pile Carpets</td><td>910.4039999999999</td><td>151.73399999999998</td><td>6</td></tr><tr><td>OFF-ST-10002574</td><td>SAFCO Commercial Wire Shelving, Black</td><td>3604.9880000000003</td><td>360.4988</td><td>10</td></tr><tr><td>TEC-PH-10003988</td><td>LF Elite 3D Dazzle Designer Hard Case Cover, Lf Stylus Pen and Wiper For Apple Iphone 5c Mini Lite</td><td>261.6</td><td>32.7</td><td>8</td></tr><tr><td>OFF-BI-10001787</td><td>Wilson Jones Four-Pocket Poly Binders</td><td>62.129999999999995</td><td>15.532499999999999</td><td>4</td></tr><tr><td>FUR-FU-10000758</td><td>DAX Natural Wood-Tone Poster Frame</td><td>513.712</td><td>102.7424</td><td>5</td></tr><tr><td>TEC-AC-10002331</td><td>Maxell 74 Minute CDR, 10/Pack</td><td>232.76399999999998</td><td>46.5528</td><td>5</td></tr><tr><td>OFF-AR-10001419</td><td>Newell 325</td><td>128.03</td><td>21.338333333333335</td><td>6</td></tr><tr><td>TEC-PH-10004434</td><td>Cisco IP Phone 7961G VoIP phone - Dark gray</td><td>908.491</td><td>302.83033333333333</td><td>3</td></tr><tr><td>TEC-PH-10004896</td><td>Nokia Lumia 521 (T-Mobile)</td><td>515.828</td><td>103.1656</td><td>5</td></tr><tr><td>OFF-ST-10000689</td><td>Fellowes Strictly Business Drawer File, Letter/Legal Size</td><td>3179.2850000000003</td><td>454.1835714285715</td><td>7</td></tr><tr><td>TEC-PH-10004908</td><td>Panasonic KX TS3282W Corded phone</td><td>1665.8039999999999</td><td>237.97199999999998</td><td>7</td></tr><tr><td>TEC-PH-10000912</td><td>Anker 24W Portable Micro USB Car Charger</td><td>61.544</td><td>30.772</td><td>2</td></tr><tr><td>FUR-FU-10000175</td><td>DAX Wood Document Frame.</td><td>159.268</td><td>39.817</td><td>4</td></tr><tr><td>TEC-PH-10003215</td><td>Jackery Bar Premium Fast-charging Portable Charger</td><td>467.22</td><td>116.805</td><td>4</td></tr><tr><td>TEC-PH-10001527</td><td>Plantronics MX500i Earset</td><td>618.48</td><td>88.35428571428572</td><td>7</td></tr><tr><td>FUR-BO-10000780</td><td>O'Sullivan Plantations 2-Door Library in Landvery Oak</td><td>2034.3190000000002</td><td>406.8638</td><td>5</td></tr><tr><td>OFF-PA-10001497</td><td>Xerox 1914</td><td>956.3040000000001</td><td>191.26080000000002</td><td>5</td></tr><tr><td>FUR-BO-10003404</td><td>Global Adaptabilites Bookcase, Cherry/Storm Gray Finish</td><td>1001.282</td><td>500.641</td><td>2</td></tr><tr><td>OFF-ST-10000991</td><td>Space Solutions HD Industrial Steel Shelving.</td><td>2846.0289999999995</td><td>355.75362499999994</td><td>8</td></tr><tr><td>OFF-AR-10001231</td><td>Sanford EarthWrite Recycled Pencils, Medium Soft, #2</td><td>29.4</td><td>9.799999999999999</td><td>3</td></tr><tr><td>FUR-FU-10003724</td><td>Westinghouse Clip-On Gooseneck Lamps</td><td>279.558</td><td>31.061999999999998</td><td>9</td></tr><tr><td>FUR-FU-10001979</td><td>Dana Halogen Swing-Arm Architect Lamp</td><td>1114.384</td><td>185.73066666666668</td><td>6</td></tr><tr><td>OFF-PA-10004327</td><td>Xerox 1911</td><td>603.54</td><td>120.708</td><td>5</td></tr><tr><td>TEC-PH-10002415</td><td>Polycom VoiceStation 500 Conference phone</td><td>2445.763</td><td>489.1526</td><td>5</td></tr><tr><td>OFF-ST-10003442</td><td>Eldon Portable Mobile Manager</td><td>899.3040000000001</td><td>99.92266666666667</td><td>9</td></tr><tr><td>OFF-LA-10003121</td><td>Avery 506</td><td>66.08</td><td>22.026666666666667</td><td>3</td></tr><tr><td>OFF-BI-10001072</td><td>GBC Clear Cover, 8-1/2 x 11, unpunched, 25 covers per pack</td><td>136.44</td><td>34.11</td><td>4</td></tr><tr><td>OFF-LA-10003923</td><td>Alphabetical Labels for Top Tab Filing</td><td>488.4</td><td>61.05</td><td>8</td></tr><tr><td>OFF-BI-10002982</td><td>Avery Self-Adhesive Photo Pockets for Polaroid Photos</td><td>143.01</td><td>13.00090909090909</td><td>11</td></tr><tr><td>OFF-SU-10004261</td><td>Fiskars 8\" Scissors, 2/Pack</td><td>217.224</td><td>54.306</td><td>4</td></tr><tr><td>TEC-AC-10002049</td><td>Logitech G19 Programmable Gaming Keyboard</td><td>3416.0499999999997</td><td>427.00624999999997</td><td>8</td></tr><tr><td>OFF-BI-10003166</td><td>GBC Plasticlear Binding Covers</td><td>68.88</td><td>9.84</td><td>7</td></tr><tr><td>OFF-AR-10000823</td><td>Newell 307</td><td>19.292</td><td>6.430666666666667</td><td>3</td></tr><tr><td>OFF-PA-10002893</td><td>Wirebound Service Call Books, 5 1/2\" x 4\"</td><td>125.83999999999997</td><td>25.167999999999996</td><td>5</td></tr><tr><td>OFF-ST-10001558</td><td>Acco Perma 4000 Stacking Storage Drawers</td><td>457.968</td><td>41.63345454545455</td><td>11</td></tr><tr><td>OFF-AR-10001915</td><td>Peel-Off China Markers</td><td>287.96999999999997</td><td>41.138571428571424</td><td>7</td></tr><tr><td>OFF-FA-10000611</td><td>Binder Clips by OIC</td><td>36.112</td><td>5.158857142857143</td><td>7</td></tr><tr><td>OFF-AP-10000576</td><td>Belkin 7 Outlet SurgeMaster II</td><td>631.6800000000001</td><td>210.56000000000003</td><td>3</td></tr><tr><td>OFF-PA-10000130</td><td>Xerox 199</td><td>57.352</td><td>14.338</td><td>4</td></tr><tr><td>OFF-PA-10001972</td><td>Xerox 214</td><td>215.136</td><td>23.904</td><td>9</td></tr><tr><td>TEC-PH-10003811</td><td>Jabra Supreme Plus Driver Edition Headset</td><td>1796.5330000000001</td><td>359.3066</td><td>5</td></tr><tr><td>TEC-PH-10002310</td><td>Plantronics Calisto P620-M USB Wireless Speakerphone System</td><td>1658.7150000000001</td><td>414.67875000000004</td><td>4</td></tr><tr><td>TEC-PH-10003187</td><td>Anker Astro Mini 3000mAh Ultra-Compact Portable Charger</td><td>147.92600000000002</td><td>36.981500000000004</td><td>4</td></tr><tr><td>FUR-BO-10004834</td><td>Riverside Palais Royal Lawyers Bookcase, Royale Cherry Finish</td><td>2503.205</td><td>500.64099999999996</td><td>5</td></tr><tr><td>TEC-MA-10000984</td><td>Okidata MB760 Printer</td><td>1001.282</td><td>500.641</td><td>2</td></tr><tr><td>OFF-BI-10001543</td><td>GBC VeloBinder Manual Binding System</td><td>842.1659999999999</td><td>105.27074999999999</td><td>8</td></tr><tr><td>OFF-BI-10004817</td><td>GBC Personal VeloBind Strips</td><td>128.186</td><td>21.364333333333335</td><td>6</td></tr><tr><td>OFF-SU-10001574</td><td>Acme Value Line Scissors</td><td>69.35000000000001</td><td>7.705555555555557</td><td>9</td></tr><tr><td>TEC-MA-10002694</td><td>Hewlett-Packard Deskjet F4180 All-in-One Color Ink-jet - Printer / copier / scanner</td><td>101.994</td><td>101.994</td><td>1</td></tr><tr><td>FUR-BO-10004690</td><td>O'Sullivan Cherrywood Estates Traditional Barrister Bookcase</td><td>885.585</td><td>442.7925</td><td>2</td></tr><tr><td>TEC-MA-10000045</td><td>Zebra ZM400 Thermal Label Printer</td><td>1001.282</td><td>500.641</td><td>2</td></tr><tr><td>TEC-AC-10004001</td><td>Logitech Wireless Headset H600 Over-The-Head Design</td><td>386.90999999999997</td><td>193.45499999999998</td><td>2</td></tr><tr><td>OFF-PA-10002001</td><td>Xerox 1984</td><td>12.96</td><td>12.96</td><td>1</td></tr><tr><td>OFF-BI-10002764</td><td>Recycled Pressboard Report Cover with Reinforced Top Hinge</td><td>69.768</td><td>8.721</td><td>8</td></tr><tr><td>OFF-AP-10004249</td><td>Staple holder</td><td>234.612</td><td>46.922399999999996</td><td>5</td></tr><tr><td>TEC-AC-10002217</td><td>Imation Clip USB flash drive - 8 GB</td><td>443.68</td><td>63.38285714285714</td><td>7</td></tr><tr><td>FUR-FU-10000246</td><td>Aluminum Document Frame</td><td>244.39999999999998</td><td>48.879999999999995</td><td>5</td></tr><tr><td>OFF-ST-10000532</td><td>Advantus Rolling Drawer Organizers</td><td>1115.9199999999998</td><td>185.98666666666665</td><td>6</td></tr><tr><td>OFF-PA-10001184</td><td>Xerox 1903</td><td>138.736</td><td>23.122666666666664</td><td>6</td></tr><tr><td>FUR-CH-10003774</td><td>Global Wood Trimmed Manager's Task Chair, Khaki</td><td>4121.6449999999995</td><td>294.4032142857142</td><td>14</td></tr><tr><td>TEC-AC-10000358</td><td>Imation Secure Drive + Hardware Encrypted USB flash drive - 16 GB</td><td>888.9660000000001</td><td>148.16100000000003</td><td>6</td></tr><tr><td>OFF-ST-10001780</td><td>Tennsco 16-Compartment Lockers with Coat Rack</td><td>2503.205</td><td>500.64099999999996</td><td>5</td></tr><tr><td>OFF-PA-10002421</td><td>Embossed Ink Jet Note Cards</td><td>284.382</td><td>71.0955</td><td>4</td></tr><tr><td>OFF-ST-10001580</td><td>Super Decoflex Portable Personal File</td><td>179.76</td><td>35.952</td><td>5</td></tr><tr><td>OFF-FA-10002983</td><td>Advantus SlideClip Paper Clips</td><td>46.376000000000005</td><td>15.458666666666668</td><td>3</td></tr><tr><td>OFF-ST-10003692</td><td>Recycled Steel Personal File for Hanging File Folders</td><td>1053.032</td><td>175.5053333333333</td><td>6</td></tr><tr><td>OFF-PA-10003641</td><td>Xerox 1909</td><td>970.784</td><td>107.86488888888888</td><td>9</td></tr><tr><td>TEC-AC-10002647</td><td>Logitech Wireless Boombox Speaker - portable - wireless, wired</td><td>383.04</td><td>191.52</td><td>2</td></tr><tr><td>OFF-ST-10002957</td><td>Sterilite Show Offs Storage Containers</td><td>78.144</td><td>15.628800000000002</td><td>5</td></tr><tr><td>TEC-PH-10002660</td><td>Nortel Networks T7316 E Nt8 B27</td><td>1789.9660000000001</td><td>298.3276666666667</td><td>6</td></tr><tr><td>FUR-TA-10003569</td><td>Bretford CR8500 Series Meeting Room Furniture</td><td>2984.3810000000003</td><td>497.3968333333334</td><td>6</td></tr><tr><td>OFF-ST-10001713</td><td>Gould Plastics 9-Pocket Panel Bin, 18-3/8w x 5-1/4d x 20-1/2h, Black</td><td>953.8199999999999</td><td>158.97</td><td>6</td></tr><tr><td>TEC-AC-10000892</td><td>NETGEAR N750 Dual Band Wi-Fi Gigabit Router</td><td>1890.0</td><td>270.0</td><td>7</td></tr><tr><td>OFF-AP-10000179</td><td>Honeywell Enviracaire Portable HEPA Air Cleaner for up to 10 x 16 Room</td><td>1265.597</td><td>421.86566666666664</td><td>3</td></tr><tr><td>TEC-PH-10002365</td><td>Belkin Grip Candy Sheer Case / Cover for iPhone 5 and 5S</td><td>64.972</td><td>21.65733333333333</td><td>3</td></tr><tr><td>FUR-FU-10004864</td><td>Eldon 500 Class Desk Accessories</td><td>137.598</td><td>27.519600000000004</td><td>5</td></tr><tr><td>OFF-PA-10003673</td><td>Strathmore Photo Mount Cards</td><td>245.43599999999998</td><td>27.270666666666664</td><td>9</td></tr><tr><td>TEC-PH-10000730</td><td>Samsung Galaxy S4 Active</td><td>1000.6310000000001</td><td>500.31550000000004</td><td>2</td></tr><tr><td>OFF-AP-10000696</td><td>Holmes Odor Grabber</td><td>357.616</td><td>44.702</td><td>8</td></tr><tr><td>FUR-FU-10001487</td><td>Eldon Expressions Wood and Plastic Desk Accessories, Cherry Wood</td><td>160.54000000000002</td><td>32.108000000000004</td><td>5</td></tr><tr><td>FUR-FU-10003577</td><td>Nu-Dell Leatherette Frames</td><td>246.64800000000002</td><td>82.21600000000001</td><td>3</td></tr><tr><td>FUR-CH-10004997</td><td>Hon Every-Day Series Multi-Task Chairs</td><td>4907.432</td><td>490.7432</td><td>10</td></tr><tr><td>FUR-BO-10002545</td><td>Atlantic Metals Mobile 3-Shelf Bookcases, Custom Colors</td><td>4005.128</td><td>500.641</td><td>8</td></tr><tr><td>OFF-EN-10003068</td><td>#6 3/4 Gummed Flap White Envelopes</td><td>71.28</td><td>17.82</td><td>4</td></tr><tr><td>OFF-EN-10001539</td><td>Staple envelope</td><td>196.056</td><td>28.008000000000003</td><td>7</td></tr><tr><td>OFF-BI-10002071</td><td>Fellowes Black Plastic Comb Bindings</td><td>102.256</td><td>11.361777777777778</td><td>9</td></tr><tr><td>OFF-ST-10004804</td><td>Belkin 19\" Vented Equipment Shelf, Black</td><td>1400.2560000000003</td><td>140.02560000000003</td><td>10</td></tr><tr><td>OFF-PA-10001934</td><td>Xerox 1993</td><td>147.744</td><td>18.468</td><td>8</td></tr><tr><td>OFF-SU-10004661</td><td>Acme Titanium Bonded Scissors</td><td>102.0</td><td>20.4</td><td>5</td></tr><tr><td>OFF-AR-10003770</td><td>Newell 340</td><td>25.92</td><td>12.96</td><td>2</td></tr><tr><td>OFF-BI-10004716</td><td>Wilson Jones Hanging Recycled Pressboard Data Binders</td><td>32.647999999999996</td><td>16.323999999999998</td><td>2</td></tr><tr><td>OFF-BI-10000822</td><td>Acco PRESSTEX Data Binder with Storage Hooks, Light Blue, 9 1/2\" X 11\"</td><td>67.25</td><td>13.45</td><td>5</td></tr><tr><td>FUR-BO-10004015</td><td>Bush Andora Bookcase, Maple/Graphite Gray Finish</td><td>2891.125</td><td>321.2361111111111</td><td>9</td></tr><tr><td>FUR-CH-10001714</td><td>Global Leather & Oak Executive Chair, Burgundy</td><td>1074.0230000000001</td><td>268.50575000000003</td><td>4</td></tr><tr><td>OFF-AR-10003896</td><td>Stride Job 150 Highlighters, Chisel Tip, Assorted Colors</td><td>17.94</td><td>17.94</td><td>1</td></tr><tr><td>OFF-PA-10001804</td><td>Xerox 195</td><td>164.32799999999997</td><td>20.540999999999997</td><td>8</td></tr><tr><td>OFF-BI-10002012</td><td>Wilson Jones Easy Flow II Sheet Lifters</td><td>51.48</td><td>4.29</td><td>12</td></tr><tr><td>OFF-ST-10001370</td><td>Sensible Storage WireTech Storage Systems</td><td>2473.885</td><td>309.235625</td><td>8</td></tr><tr><td>TEC-PH-10003092</td><td>Motorola L804</td><td>607.068</td><td>101.178</td><td>6</td></tr><tr><td>OFF-AP-10004336</td><td>Conquest 14 Commercial Heavy-Duty Upright Vacuum, Collection System, Accessory Kit</td><td>546.816</td><td>136.704</td><td>4</td></tr><tr><td>FUR-CH-10004540</td><td>Global Chrome Stack Chair</td><td>815.8639999999999</td><td>135.97733333333332</td><td>6</td></tr><tr><td>OFF-PA-10002464</td><td>HP Office Recycled Paper (20Lb. and 87 Bright)</td><td>106.352</td><td>26.588</td><td>4</td></tr><tr><td>TEC-AC-10001552</td><td>Logitech K350 2.4Ghz Wireless Keyboard</td><td>1154.6640000000002</td><td>230.93280000000004</td><td>5</td></tr><tr><td>FUR-FU-10004017</td><td>Tenex Contemporary Contur Chairmats for Low and Medium Pile Carpet, Computer, 39\" x 49\"</td><td>1010.7819999999999</td><td>252.69549999999998</td><td>4</td></tr><tr><td>FUR-FU-10004712</td><td>Westinghouse Mesh Shade Clip-On Gooseneck Lamp, Black</td><td>84.84</td><td>42.42</td><td>2</td></tr></tbody></table></div>"
      ]
     },
     "metadata": {
      "application/vnd.databricks.v1+output": {
       "addedWidgets": {},
       "aggData": [],
       "aggError": "",
       "aggOverflow": false,
       "aggSchema": [],
       "aggSeriesLimitReached": false,
       "aggType": "",
       "arguments": {},
       "columnCustomDisplayInfos": {},
       "data": [
        [
         "FUR-BO-10003966",
         "Sauder Facets Collection Library, Sky Alder Finish",
         1427.683,
         356.92075,
         4
        ],
        [
         "OFF-BI-10000320",
         "GBC Plastic Binding Combs",
         172.69199999999998,
         17.269199999999998,
         10
        ],
        [
         "TEC-MA-10003626",
         "Hewlett-Packard Deskjet 6540 Color Inkjet Printer",
         1001.282,
         500.641,
         2
        ],
        [
         "OFF-SU-10004737",
         "Acme Design Stainless Steel Bent Scissors",
         88.92000000000002,
         29.640000000000004,
         3
        ],
        [
         "OFF-AP-10002892",
         "Belkin F5C206VTEL 6 Outlet Surge",
         464.19599999999997,
         66.31371428571428,
         7
        ],
        [
         "OFF-BI-10003314",
         "Tuff Stuff Recycled Round Ring Binders",
         80.49399999999999,
         8.943777777777775,
         9
        ],
        [
         "OFF-PA-10001837",
         "Xerox 1976",
         36.288,
         18.144,
         2
        ],
        [
         "TEC-MA-10003329",
         "Vtech AT&T CL2940 Corded Speakerphone, Black",
         71.976,
         71.976,
         1
        ],
        [
         "FUR-BO-10001619",
         "O'Sullivan Cherrywood Estates Traditional Bookcase",
         424.90000000000003,
         212.45000000000002,
         2
        ],
        [
         "OFF-BI-10003676",
         "GBC Standard Recycled Report Covers, Clear Plastic Sheets",
         258.72,
         21.560000000000002,
         12
        ],
        [
         "FUR-BO-10004409",
         "Safco Value Mate Series Steel Bookcases, Baked Enamel Finish on Steel, Gray",
         858.858,
         143.143,
         6
        ],
        [
         "FUR-FU-10002298",
         "Rubbermaid ClusterMat Chairmats, Mat Size- 66\" x 60\", Lip 20\" x 11\" -90 Degree Angle",
         1866.926,
         373.3852,
         5
        ],
        [
         "TEC-PH-10004093",
         "Panasonic Kx-TS550",
         846.216,
         120.888,
         7
        ],
        [
         "OFF-PA-10000304",
         "Xerox 1995",
         95.90400000000002,
         19.180800000000005,
         5
        ],
        [
         "FUR-FU-10003274",
         "Regeneration Desk Collection",
         35.903999999999996,
         7.1808,
         5
        ],
        [
         "OFF-FA-10002280",
         "Advantus Plastic Paper Clips",
         225,
         22.5,
         10
        ],
        [
         "OFF-AR-10004707",
         "Staples in misc. colors",
         9.92,
         4.96,
         2
        ],
        [
         "OFF-EN-10004147",
         "Wausau Papers Astrobrights Colored Envelopes",
         50.232,
         16.744,
         3
        ],
        [
         "TEC-MA-10002930",
         "Ricoh - Ink Collector Unit for GX3000 Series Printers",
         465.64500000000004,
         155.215,
         3
        ],
        [
         "OFF-LA-10002034",
         "Avery 478",
         88.38,
         22.095,
         4
        ],
        [
         "TEC-AC-10001432",
         "Enermax Aurora Lite Keyboard",
         1641.15,
         328.23,
         5
        ],
        [
         "OFF-AR-10003723",
         "Avery Hi-Liter Fluorescent Desk Style Markers",
         20.279999999999998,
         10.139999999999999,
         2
        ],
        [
         "FUR-FU-10004351",
         "Staple-based wall hangings",
         202.592,
         33.76533333333334,
         6
        ],
        [
         "OFF-BI-10000632",
         "Satellite Sectional Post Binders",
         1219.821,
         110.89281818181817,
         11
        ],
        [
         "FUR-FU-10003464",
         "Seth Thomas 8 1/2\" Cubicle Clock",
         210.912,
         52.728,
         4
        ],
        [
         "OFF-PA-10004610",
         "Xerox 1900",
         75.328,
         12.554666666666668,
         6
        ],
        [
         "TEC-AC-10004568",
         "Maxell LTO Ultrium - 800 GB",
         1002.042,
         143.14885714285714,
         7
        ],
        [
         "OFF-PA-10001295",
         "Computer Printout Paper with Letter-Trim Perforations",
         405.95799999999997,
         57.99399999999999,
         7
        ],
        [
         "OFF-FA-10003485",
         "Staples",
         26.724,
         13.362,
         2
        ],
        [
         "FUR-FU-10002963",
         "Master Caster Door Stop, Gray",
         47.751999999999995,
         11.937999999999999,
         4
        ],
        [
         "OFF-LA-10000081",
         "Avery 496",
         50.25,
         12.5625,
         4
        ],
        [
         "OFF-AP-10000390",
         "Euro Pro Shark Stick Mini Vacuum",
         170.744,
         56.91466666666667,
         3
        ],
        [
         "OFF-BI-10000279",
         "Acco Recycled 2\" Capacity Laser Printer Hanging Data Binders",
         85.255,
         21.31375,
         4
        ],
        [
         "OFF-BI-10000216",
         "Mead 1st Gear 2\" Zipper Binder, Asst. Colors",
         54.474000000000004,
         18.158,
         3
        ],
        [
         "OFF-ST-10000934",
         "Contico 72\"H Heavy-Duty Storage System",
         598.308,
         119.66159999999999,
         5
        ],
        [
         "OFF-EN-10000056",
         "Cameo Buff Policy Envelopes",
         1456.1820000000002,
         208.02600000000004,
         7
        ],
        [
         "FUR-FU-10004306",
         "Electrix Halogen Magnifier Lamp",
         1700.762,
         340.1524,
         5
        ],
        [
         "OFF-FA-10004854",
         "Vinyl Coated Wire Paper Clips in Organizer Box, 800/Box",
         296.184,
         37.023,
         8
        ],
        [
         "TEC-MA-10000822",
         "Lexmark MX611dhe Monochrome Laser Printer",
         2002.564,
         500.641,
         4
        ],
        [
         "OFF-LA-10004689",
         "Avery 512",
         84.388,
         16.8776,
         5
        ],
        [
         "OFF-AP-10004052",
         "Hoover Replacement Belts For Soft Guard & Commercial Ltweight Upright Vacs, 2/Pk",
         56.09,
         11.218,
         5
        ],
        [
         "OFF-BI-10004001",
         "GBC Recycled VeloBinder Covers",
         487.34399999999994,
         60.91799999999999,
         8
        ],
        [
         "FUR-FU-10002505",
         "Eldon 100 Class Desk Accessories",
         36.395999999999994,
         9.098999999999998,
         4
        ],
        [
         "TEC-PH-10002170",
         "ClearSounds CSC500 Amplified Spirit Phone Corded phone",
         1119.84,
         186.64,
         6
        ],
        [
         "OFF-BI-10004967",
         "Round Ring Binders",
         29.952,
         4.992,
         6
        ],
        [
         "OFF-BI-10003476",
         "Avery Metallic Poly Binders",
         135.801,
         22.633499999999998,
         6
        ],
        [
         "TEC-AC-10003399",
         "Memorex Mini Travel Drive 64 GB USB 2.0 Flash Drive",
         507.36,
         101.47200000000001,
         5
        ],
        [
         "TEC-PH-10000673",
         "Plantronics Voyager Pro HD - Bluetooth Headset",
         1176.537,
         235.3074,
         5
        ],
        [
         "FUR-FU-10004270",
         "Eldon Image Series Desk Accessories, Burgundy",
         111.18799999999999,
         13.898499999999999,
         8
        ],
        [
         "OFF-LA-10003190",
         "Avery 474",
         78.336,
         8.704,
         9
        ],
        [
         "TEC-PH-10003535",
         "RCA ViSYS 25423RE1 Corded phone",
         159.984,
         159.984,
         1
        ],
        [
         "OFF-AP-10000055",
         "Belkin F9S820V06 8 Outlet Surge",
         266.336,
         66.584,
         4
        ],
        [
         "OFF-SU-10000157",
         "Compact Automatic Electric Letter Opener",
         2648.221,
         331.027625,
         8
        ],
        [
         "TEC-PH-10002275",
         "Mitel 5320 IP Phone VoIP phone",
         1606.0500000000002,
         401.51250000000005,
         4
        ],
        [
         "OFF-BI-10002215",
         "Wilson Jones Hanging View Binder, White, 1\"",
         143.42,
         20.488571428571426,
         7
        ],
        [
         "TEC-PH-10001536",
         "Spigen Samsung Galaxy S5 Case Wallet",
         234.462,
         46.892399999999995,
         5
        ],
        [
         "TEC-CO-10002313",
         "Canon PC1080F Personal Copier",
         2002.564,
         500.641,
         4
        ],
        [
         "FUR-CH-10004983",
         "Office Star - Mid Back Dual function Ergonomic High Back Chair with 2-Way Adjustable Arms",
         2437.21,
         487.442,
         5
        ],
        [
         "OFF-PA-10000062",
         "Green Bar Computer Printout Paper",
         857.376,
         171.4752,
         5
        ],
        [
         "OFF-PA-10002615",
         "Ampad Gold Fibre Wirebound Steno Books, 6\" x 9\", Gregg Ruled",
         106.722,
         13.34025,
         8
        ],
        [
         "FUR-BO-10001567",
         "Bush Westfield Collection Bookcases, Dark Cherry Finish, Fully Assembled",
         90.882,
         90.882,
         1
        ],
        [
         "OFF-BI-10004364",
         "Storex Dura Pro Binders",
         125.334,
         10.4445,
         12
        ],
        [
         "OFF-PA-10003036",
         "Black Print Carbonless 8 1/2\" x 8 1/4\" Rapid Memo Book",
         64.06400000000001,
         16.016000000000002,
         4
        ],
        [
         "OFF-AR-10001427",
         "Newell 330",
         59.80000000000001,
         14.950000000000003,
         4
        ],
        [
         "OFF-BI-10003719",
         "Large Capacity Hanging Post Binders",
         276.945,
         55.388999999999996,
         5
        ],
        [
         "TEC-PH-10000702",
         "Square Credit Card Reader, 4 1/2\" x 4 1/2\" x 1\", White",
         197.80200000000002,
         39.5604,
         5
        ],
        [
         "FUR-TA-10004152",
         "Barricks 18\" x 48\" Non-Folding Utility Table with Bottom Storage Shelf",
         1088.6399999999999,
         217.72799999999998,
         5
        ],
        [
         "FUR-CH-10000553",
         "Metal Folding Chairs, Beige, 4/Carton",
         685.588,
         137.11759999999998,
         5
        ],
        [
         "OFF-ST-10003805",
         "24 Capacity Maxi Data Binder Racks, Pearl",
         1923.0230000000001,
         480.75575000000003,
         4
        ],
        [
         "FUR-FU-10004460",
         "Howard Miller 12\" Round Wall Clock",
         479.33799999999997,
         239.66899999999998,
         2
        ],
        [
         "TEC-AC-10004518",
         "Memorex Mini Travel Drive 32 GB USB 2.0 Flash Drive",
         280,
         140,
         2
        ],
        [
         "OFF-PA-10000308",
         "Xerox 1901",
         16.896,
         16.896,
         1
        ],
        [
         "OFF-PA-10002195",
         "Xerox 1966",
         79.056,
         13.176,
         6
        ],
        [
         "FUR-FU-10000308",
         "Deflect-o Glass Clear Studded Chair Mats",
         1579.3719999999996,
         225.6245714285714,
         7
        ],
        [
         "OFF-AR-10003405",
         "Dixon My First Ticonderoga Pencil, #2",
         95.94,
         23.985,
         4
        ],
        [
         "OFF-AR-10000658",
         "Newell 324",
         228.68999999999997,
         38.114999999999995,
         6
        ],
        [
         "TEC-AC-10002842",
         "WD My Passport Ultra 2TB Portable External Hard Drive",
         3073.5640000000003,
         384.19550000000004,
         8
        ],
        [
         "OFF-PA-10001838",
         "Adams Telephone Message Book W/Dividers/Space For Phone Numbers, 5 1/4\"X8 1/2\", 300/Messages",
         132.888,
         13.2888,
         10
        ],
        [
         "FUR-FU-10000397",
         "Luxo Economy Swing Arm Lamp",
         338.98,
         67.796,
         5
        ],
        [
         "FUR-TA-10002356",
         "Bevis Boat-Shaped Conference Table",
         2364.2540000000004,
         394.0423333333334,
         6
        ],
        [
         "OFF-PA-10004359",
         "Multicolor Computer Printout Paper",
         1758.841,
         351.7682,
         5
        ],
        [
         "FUR-FU-10001889",
         "Ultra Door Pull Handle",
         239.85600000000002,
         47.9712,
         5
        ],
        [
         "OFF-PA-10004735",
         "Xerox 1905",
         146.448,
         29.2896,
         5
        ],
        [
         "TEC-MA-10003173",
         "Hewlett-Packard 300S Scientific Calculator",
         131.1,
         65.55,
         2
        ],
        [
         "OFF-BI-10000666",
         "Surelock Post Binders",
         653.9839999999999,
         81.74799999999999,
         8
        ],
        [
         "OFF-PA-10000466",
         "Memo Book, 100 Message Capacity, 5 3/8” x 11”",
         76.836,
         25.612,
         3
        ],
        [
         "OFF-PA-10000029",
         "Xerox 224",
         95.904,
         15.984,
         6
        ],
        [
         "FUR-TA-10004147",
         "Hon 4060 Series Tables",
         1231.56,
         307.89,
         4
        ],
        [
         "OFF-EN-10001453",
         "Tyvek Interoffice Envelopes, 9 1/2\" x 12 1/2\", 100/Box",
         939.0919999999999,
         187.81839999999997,
         5
        ],
        [
         "OFF-PA-10004041",
         "It's Hot Message Books with Stickers, 2 3/4\" x 5\"",
         131.72,
         26.344,
         5
        ],
        [
         "OFF-AR-10004691",
         "Boston 1730 StandUp Electric Pencil Sharpener",
         171.04000000000002,
         57.01333333333334,
         3
        ],
        [
         "OFF-PA-10001870",
         "Xerox 202",
         171.07200000000003,
         21.384000000000004,
         8
        ],
        [
         "OFF-PA-10000501",
         "Petty Cash Envelope",
         231.856,
         77.28533333333333,
         3
        ],
        [
         "FUR-FU-10000305",
         "Tenex V2T-RE Standard Weight Series Chair Mat, 45\" x 53\", Lip 25\" x 12\"",
         468.46799999999996,
         156.15599999999998,
         3
        ],
        [
         "FUR-CH-10002331",
         "Hon 4700 Series Mobuis Mid-Back Task Chairs with Adjustable Arms",
         3003.846,
         500.641,
         6
        ],
        [
         "OFF-ST-10002583",
         "Fellowes Neat Ideas Storage Cubes",
         480.7039999999999,
         68.67199999999998,
         7
        ],
        [
         "OFF-ST-10000563",
         "Fellowes Bankers Box Stor/Drawer Steel Plus",
         1426.308,
         118.859,
         12
        ],
        [
         "OFF-AR-10003158",
         "Fluorescent Highlighters by Dixon",
         90.744,
         18.1488,
         5
        ],
        [
         "TEC-AC-10001142",
         "First Data FD10 PIN Pad",
         1722.1999999999998,
         344.43999999999994,
         5
        ],
        [
         "OFF-AP-10004233",
         "Honeywell Enviracaire Portable Air Cleaner for up to 8 x 10 Room",
         299.20799999999997,
         149.60399999999998,
         2
        ],
        [
         "OFF-PA-10004243",
         "Xerox 1939",
         417.34,
         83.46799999999999,
         5
        ],
        [
         "TEC-AC-10004992",
         "Kingston Digital DataTraveler 64GB USB 2.0",
         202.68,
         101.34,
         2
        ],
        [
         "OFF-PA-10004948",
         "Xerox 190",
         29.88,
         14.94,
         2
        ],
        [
         "OFF-AR-10004344",
         "Bulldog Vacuum Base Pencil Sharpener",
         330.924,
         55.153999999999996,
         6
        ],
        [
         "FUR-TA-10001676",
         "Hon 61000 Series Interactive Training Tables",
         582.0329999999999,
         72.75412499999999,
         8
        ],
        [
         "TEC-AC-10004396",
         "Logitech Keyboard K120",
         174.24,
         58.080000000000005,
         3
        ],
        [
         "TEC-MA-10001148",
         "Swingline SM12-08 MicroCut Jam Free Shredder",
         1481.27,
         493.75666666666666,
         3
        ],
        [
         "OFF-ST-10000585",
         "Economy Rollaway Files",
         2322.882,
         331.8402857142857,
         7
        ],
        [
         "TEC-PH-10001819",
         "Innergie mMini Combo Duo USB Travel Charging Kit",
         746.8340000000001,
         124.47233333333334,
         6
        ],
        [
         "OFF-PA-10002689",
         "Weyerhaeuser First Choice Laser/Copy Paper (20Lb. and 88 Bright)",
         155.52,
         31.104000000000003,
         5
        ],
        [
         "OFF-BI-10001249",
         "Avery Heavy-Duty EZD View Binder with Locking Rings",
         170.984,
         17.0984,
         10
        ],
        [
         "TEC-PH-10002033",
         "Konftel 250 Conference phone - Charcoal black",
         1741.814,
         435.4535,
         4
        ],
        [
         "OFF-PA-10001937",
         "Xerox 21",
         124.416,
         17.773714285714284,
         7
        ],
        [
         "TEC-PH-10000526",
         "Vtech CS6719",
         2421.934,
         345.99057142857146,
         7
        ],
        [
         "OFF-AR-10000940",
         "Newell 343",
         65.268,
         9.324,
         7
        ],
        [
         "OFF-BI-10000591",
         "Avery Binder Labels",
         26.063000000000002,
         6.515750000000001,
         4
        ],
        [
         "TEC-AC-10003095",
         "Logitech G35 7.1-Channel Surround Sound Headset",
         2138.5150000000003,
         356.41916666666674,
         6
        ],
        [
         "FUR-FU-10002918",
         "Eldon ClusterMat Chair Mat with Cordless Antistatic Protection",
         1200.9360000000001,
         240.18720000000002,
         5
        ],
        [
         "OFF-BI-10000605",
         "Acco Pressboard Covers with Storage Hooks, 9 1/2\" x 11\", Executive Red",
         91.44000000000001,
         10.160000000000002,
         9
        ],
        [
         "OFF-ST-10003221",
         "Staple magnet",
         53.4,
         17.8,
         3
        ],
        [
         "OFF-BI-10003694",
         "Avery 3 1/2\" Diskette Storage Pages, 10/Pack",
         137.808,
         22.968,
         6
        ],
        [
         "OFF-LA-10000262",
         "Avery 494",
         56.376000000000005,
         9.396,
         6
        ],
        [
         "FUR-CH-10003761",
         "Global Italian Leather Office Chair",
         684.013,
         342.0065,
         2
        ],
        [
         "FUR-BO-10002824",
         "Bush Mission Pointe Library",
         748.861,
         249.62033333333332,
         3
        ],
        [
         "OFF-BI-10004528",
         "Cardinal Poly Pocket Divider Pockets for Ring Binders",
         40.32,
         10.08,
         4
        ],
        [
         "OFF-BI-10002954",
         "Newell 3-Hole Punched Plastic Slotted Magazine Holders for Binders",
         51.184000000000005,
         8.530666666666667,
         6
        ],
        [
         "OFF-BI-10004506",
         "Wilson Jones data.warehouse D-Ring Binders with DublLock",
         66.663,
         13.3326,
         5
        ],
        [
         "TEC-PH-10002468",
         "Plantronics CS 50-USB - headset - Convertible, Monaural",
         1071.799,
         267.94975,
         4
        ],
        [
         "TEC-AC-10004209",
         "Memorex Froggy Flash Drive 4 GB",
         136.276,
         27.255200000000002,
         5
        ],
        [
         "FUR-CH-10000665",
         "Global Airflow Leather Mesh Back Chair, Black",
         3210.404,
         401.3005,
         8
        ],
        [
         "TEC-PH-10003095",
         "Samsung HM1900 Bluetooth Headset",
         491.68,
         70.24,
         7
        ],
        [
         "TEC-PH-10004348",
         "OtterBox Defender Series Case - iPhone 5c",
         133.128,
         66.564,
         2
        ],
        [
         "OFF-PA-10000474",
         "Easy-staple paper",
         1020.6719999999998,
         92.78836363636361,
         11
        ],
        [
         "OFF-SU-10003002",
         "Letter Slitter",
         10.08,
         5.04,
         2
        ],
        [
         "OFF-AR-10001026",
         "Sanford Uni-Blazer View Highlighters, Chisel Tip, Yellow",
         30.8,
         10.266666666666667,
         3
        ],
        [
         "OFF-PA-10004983",
         "Xerox 23",
         134.78400000000002,
         26.956800000000005,
         5
        ],
        [
         "OFF-AP-10004532",
         "Kensington 6 Outlet Guardian Standard Surge Protector",
         409.6,
         68.26666666666667,
         6
        ],
        [
         "OFF-BI-10004654",
         "Avery Binding System Hidden Tab Executive Style Index Sets",
         91.743,
         11.467875,
         8
        ],
        [
         "OFF-EN-10002621",
         "Staple envelope",
         78.24,
         15.648,
         5
        ],
        [
         "TEC-PH-10000307",
         "Shocksock Galaxy S4 Armband",
         63.50999999999999,
         21.169999999999998,
         3
        ],
        [
         "TEC-PH-10004924",
         "SKILCRAFT Telephone Shoulder Rest, 2\" x 6.5\" x 2.5\", Black",
         56.164,
         18.721333333333334,
         3
        ],
        [
         "OFF-PA-10000232",
         "Xerox 1975",
         69.98400000000001,
         13.996800000000002,
         5
        ],
        [
         "FUR-FU-10003806",
         "Tenex Chairmat w/ Average Lip, 45\" x 53\"",
         1546.178,
         386.5445,
         4
        ],
        [
         "OFF-PA-10002333",
         "Universal Ultra Bright White Copier/Laser Paper, 8 1/2\" x 11\", Ream",
         15.552,
         15.552,
         1
        ],
        [
         "TEC-PH-10000127",
         "iOttie XL Car Mount",
         223.88799999999998,
         111.94399999999999,
         2
        ],
        [
         "OFF-BI-10001031",
         "Pressboard Data Binders by Wilson Jones",
         99.324,
         12.4155,
         8
        ],
        [
         "TEC-AC-10003911",
         "NETGEAR AC1750 Dual Band Gigabit Smart WiFi Router",
         2100.541,
         420.1082,
         5
        ],
        [
         "OFF-SU-10004664",
         "Acme Softgrip Scissors",
         166.056,
         41.514,
         4
        ],
        [
         "OFF-LA-10000407",
         "Avery White Multi-Purpose Labels",
         95.61600000000001,
         23.904000000000003,
         4
        ],
        [
         "OFF-PA-10003657",
         "Xerox 1927",
         65.056,
         13.011199999999999,
         5
        ],
        [
         "OFF-BI-10002072",
         "Cardinal Slant-D Ring Binders",
         102.542,
         25.6355,
         4
        ],
        [
         "FUR-FU-10002240",
         "Nu-Dell EZ-Mount Plastic Wall Frames",
         19.7,
         9.85,
         2
        ],
        [
         "OFF-PA-10000556",
         "Xerox 208",
         54.432,
         27.216,
         2
        ],
        [
         "TEC-AC-10004595",
         "First Data TMFD35 PIN Pad",
         571.2,
         285.6,
         2
        ],
        [
         "TEC-PH-10002645",
         "LG G2",
         500.641,
         500.641,
         1
        ],
        [
         "FUR-FU-10004245",
         "Career Cubicle Clock, 8 1/4\", Black",
         194.68800000000002,
         64.896,
         3
        ],
        [
         "FUR-FU-10001935",
         "3M Hangers With Command Adhesive",
         108.04,
         13.505,
         8
        ],
        [
         "OFF-BI-10004141",
         "Insertable Tab Indexes For Data Binders",
         17.49,
         3.4979999999999998,
         5
        ],
        [
         "OFF-AR-10003045",
         "Prang Colored Pencils",
         90.552,
         12.936000000000002,
         7
        ],
        [
         "OFF-PA-10000327",
         "Xerox 1971",
         110.424,
         22.0848,
         5
        ],
        [
         "OFF-AP-10003266",
         "Holmes Replacement Filter for HEPA Air Cleaner, Large Room",
         151.062,
         37.7655,
         4
        ],
        [
         "OFF-PA-10000048",
         "Xerox 20",
         6.48,
         6.48,
         1
        ],
        [
         "TEC-AC-10004803",
         "Sony Micro Vault Click 4 GB USB 2.0 Flash Drive",
         250.92,
         83.64,
         3
        ],
        [
         "OFF-ST-10000136",
         "Letter Size File",
         341.41999999999996,
         170.70999999999998,
         2
        ],
        [
         "OFF-ST-10002743",
         "SAFCO Boltless Steel Shelving",
         3774.7230000000004,
         377.4723,
         10
        ],
        [
         "FUR-FU-10002456",
         "Master Caster Door Stop, Large Neon Orange",
         154.33599999999998,
         22.048,
         7
        ],
        [
         "FUR-FU-10001967",
         "Telescoping Adjustable Floor Lamp",
         143.928,
         23.988,
         6
        ],
        [
         "OFF-ST-10003722",
         "Project Tote Personal File",
         193.61399999999998,
         48.403499999999994,
         4
        ],
        [
         "FUR-CH-10000749",
         "Office Star - Ergonomic Mid Back Chair with 2-Way Adjustable Arms",
         1001.282,
         500.641,
         2
        ],
        [
         "FUR-CH-10000513",
         "High-Back Leather Manager's Chair",
         3120.119,
         346.6798888888889,
         9
        ],
        [
         "OFF-PA-10004996",
         "Speediset Carbonless Redi-Letter 7\" x 8 1/2\"",
         160.836,
         40.209,
         4
        ],
        [
         "FUR-CH-10001802",
         "Hon Every-Day Chair Series Swivel Task Chairs",
         967.84,
         322.61333333333334,
         3
        ],
        [
         "OFF-BI-10004654",
         "VariCap6 Expandable Binder",
         122.82999999999998,
         40.94333333333333,
         3
        ],
        [
         "OFF-EN-10002230",
         "Airmail Envelopes",
         1359.6660000000002,
         226.61100000000002,
         6
        ],
        [
         "OFF-BI-10000756",
         "Storex DuraTech Recycled Plastic Frosted Binders",
         94.128,
         11.766,
         8
        ],
        [
         "OFF-AR-10004930",
         "Turquoise Lead Holder with Pocket Clip",
         37.52,
         12.506666666666668,
         3
        ],
        [
         "OFF-ST-10001932",
         "Fellowes Staxonsteel Drawer Files",
         3390.186,
         484.31228571428574,
         7
        ],
        [
         "OFF-EN-10001219",
         "#10- 4 1/8\" x 9 1/2\" Security-Tint Envelopes",
         146.688,
         18.336,
         8
        ],
        [
         "OFF-PA-10000141",
         "Ampad Evidence Wirebond Steno Books, 6\" x 9\"",
         16.568,
         5.522666666666667,
         3
        ],
        [
         "FUR-FU-10003773",
         "Eldon Cleatmat Plus Chair Mats for High Pile Carpets",
         1304.128,
         260.8256,
         5
        ],
        [
         "FUR-FU-10003849",
         "DAX Metal Frame, Desktop, Stepped-Edge",
         161.92,
         32.384,
         5
        ],
        [
         "OFF-AR-10002257",
         "Eldon Spacemaker Box, Quick-Snap Lid, Clear",
         50.768,
         8.461333333333334,
         6
        ],
        [
         "OFF-EN-10002973",
         "Ampad #10 Peel & Seel Holiday Envelopes",
         53.76,
         17.919999999999998,
         3
        ],
        [
         "FUR-TA-10004442",
         "Riverside Furniture Stanwyck Manor Table Series",
         917.9200000000001,
         305.97333333333336,
         3
        ],
        [
         "OFF-BI-10002706",
         "Avery Premier Heavy-Duty Binder with Round Locking Rings",
         191.352,
         27.336000000000002,
         7
        ],
        [
         "OFF-BI-10000069",
         "GBC Prepunched Paper, 19-Hole, for Binding Systems, 24-lb",
         433.789,
         54.223625,
         8
        ],
        [
         "OFF-ST-10000943",
         "Eldon ProFile File 'N Store Portable File Tub Letter/Legal Size Black",
         614.058,
         87.72257142857143,
         7
        ],
        [
         "TEC-AC-10002370",
         "Maxell CD-R Discs",
         15.76,
         5.253333333333333,
         3
        ],
        [
         "OFF-BI-10001308",
         "GBC Standard Plastic Binding Systems' Combs",
         108.644,
         13.5805,
         8
        ],
        [
         "OFF-PA-10001776",
         "Wirebound Message Books, Four 2 3/4\" x 5\" Forms per Page, 600 Sets per Book",
         200.23199999999997,
         25.028999999999996,
         8
        ],
        [
         "TEC-MA-10000029",
         "Epson WorkForce WF-2530 All-in-One Printer, Copier Scanner",
         279.96,
         139.98,
         2
        ],
        [
         "FUR-CH-10002961",
         "Leather Task Chair, Black",
         864.3100000000001,
         172.86200000000002,
         5
        ],
        [
         "OFF-PA-10003823",
         "Xerox 197",
         501.876,
         167.292,
         3
        ],
        [
         "OFF-SU-10000646",
         "Premier Automatic Letter Opener",
         2106.9840000000004,
         421.3968000000001,
         5
        ],
        [
         "TEC-PH-10001336",
         "Digium D40 VoIP phone",
         2652.3540000000003,
         294.706,
         9
        ],
        [
         "OFF-FA-10000585",
         "OIC Bulk Pack Metal Binder Clips",
         92.136,
         11.517,
         8
        ],
        [
         "OFF-BI-10001036",
         "Cardinal EasyOpen D-Ring Binders",
         209.306,
         26.16325,
         8
        ],
        [
         "OFF-AP-10002350",
         "Belkin F9H710-06 7 Outlet SurgeMaster Surge Protector",
         516.216,
         64.527,
         8
        ],
        [
         "OFF-AR-10000462",
         "Sanford Pocket Accent Highlighters",
         11.2,
         5.6,
         2
        ],
        [
         "TEC-MA-10003337",
         "Okidata B401 Printer",
         179.991,
         179.991,
         1
        ],
        [
         "OFF-AR-10003514",
         "4009 Highlighters by Sanford",
         171.14,
         21.3925,
         8
        ],
        [
         "OFF-ST-10000636",
         "Rogers Profile Extra Capacity Storage Tub",
         518.94,
         74.13428571428572,
         7
        ],
        [
         "OFF-BI-10001658",
         "GBC Standard Therm-A-Bind Covers",
         443.576,
         40.32509090909091,
         11
        ],
        [
         "FUR-FU-10000719",
         "DAX Cubicle Frames, 8-1/2 x 11",
         145.69,
         36.4225,
         4
        ],
        [
         "OFF-FA-10002676",
         "Colored Push Pins",
         24.977999999999998,
         4.9956,
         5
        ],
        [
         "OFF-AR-10000538",
         "Boston Model 1800 Electric Pencil Sharpener, Gray",
         264.61,
         132.305,
         2
        ],
        [
         "TEC-MA-10003176",
         "Okidata B400 Printer",
         843.841,
         421.9205,
         2
        ],
        [
         "TEC-AC-10002323",
         "SanDisk Ultra 32 GB MicroSDHC Class 10 Memory Card",
         884.0000000000001,
         80.36363636363637,
         11
        ],
        [
         "OFF-PA-10002986",
         "Xerox 1898",
         280.56,
         25.505454545454544,
         11
        ],
        [
         "OFF-BI-10001765",
         "Wilson Jones Heavy-Duty Casebound Ring Binders with Metal Hinges",
         554.24,
         92.37333333333333,
         6
        ],
        [
         "TEC-AC-10002718",
         "Belkin Standard 104 key USB Keyboard",
         265.538,
         44.25633333333334,
         6
        ],
        [
         "TEC-PH-10001079",
         "Polycom SoundPoint Pro SE-225 Corded phone",
         1405.848,
         351.462,
         4
        ],
        [
         "OFF-EN-10004007",
         "Park Ridge Embossed Executive Business Envelopes",
         62.28,
         62.28,
         1
        ],
        [
         "OFF-ST-10001496",
         "Standard Rollaway File with Lock",
         4517.442,
         451.7442,
         10
        ],
        [
         "FUR-FU-10004090",
         "Executive Impressions 14\" Contract Wall Clock",
         346.78800000000007,
         49.541142857142866,
         7
        ],
        [
         "OFF-ST-10001291",
         "Tenex Personal Self-Stacking Standard File Box, Black/Gray",
         229.976,
         45.9952,
         5
        ],
        [
         "OFF-EN-10003296",
         "Tyvek Side-Opening Peel & Seel Expanding Envelopes",
         1266.72,
         253.344,
         5
        ],
        [
         "TEC-PH-10001433",
         "Cisco Small Business SPA 502G VoIP phone",
         882.102,
         220.5255,
         4
        ],
        [
         "TEC-PH-10002293",
         "Anker 36W 4-Port USB Wall Charger Travel Power Adapter for iPhone 5s 5c 5",
         339.83,
         56.63833333333333,
         6
        ],
        [
         "FUR-BO-10004360",
         "Rush Hierlooms Collection Rich Wood Bookcases",
         489.379,
         244.6895,
         2
        ],
        [
         "TEC-PH-10004345",
         "Cisco SPA 502G IP Phone",
         1700.1409999999998,
         340.02819999999997,
         5
        ],
        [
         "OFF-ST-10000760",
         "Eldon Fold 'N Roll Cart System",
         301.96799999999996,
         60.39359999999999,
         5
        ],
        [
         "TEC-PH-10001363",
         "Apple iPhone 5S",
         2002.564,
         500.641,
         4
        ],
        [
         "OFF-PA-10000246",
         "Riverleaf Stik-Withit Designer Note Cubes",
         136.816,
         27.3632,
         5
        ],
        [
         "FUR-CH-10004626",
         "Office Star Flex Back Scooter Chair with Aluminum Finish Frame",
         1438.9180000000001,
         287.78360000000004,
         5
        ],
        [
         "OFF-LA-10002043",
         "Avery 489",
         159.39,
         31.877999999999997,
         5
        ],
        [
         "TEC-MA-10001681",
         "Lexmark MarkNet N8150 Wireless Print Server",
         723.51,
         361.755,
         2
        ],
        [
         "TEC-MA-10002937",
         "Canon Color ImageCLASS MF8580Cdw Wireless Laser All-In-One Printer, Copier, Scanner",
         500.641,
         500.641,
         1
        ],
        [
         "TEC-PH-10004071",
         "PayAnywhere Card Reader",
         199.8,
         39.96,
         5
        ],
        [
         "FUR-CH-10000863",
         "Novimex Swivel Fabric Task Chair",
         2148.73,
         306.9614285714286,
         7
        ],
        [
         "OFF-BI-10003684",
         "Wilson Jones Legal Size Ring Binders",
         532.158,
         59.12866666666667,
         9
        ],
        [
         "FUR-CH-10004698",
         "Padded Folding Chairs, Black, 4/Carton",
         1830.1480000000001,
         228.76850000000002,
         8
        ],
        [
         "TEC-MA-10003246",
         "Hewlett-Packard Deskjet D4360 Printer",
         447.968,
         447.968,
         1
        ],
        [
         "OFF-AR-10001315",
         "Newell 310",
         38.72,
         5.531428571428571,
         7
        ],
        [
         "FUR-FU-10003268",
         "Eldon Radial Chair Mat for Low to Medium Pile Carpets",
         775.612,
         129.26866666666666,
         6
        ],
        [
         "FUR-FU-10002597",
         "C-Line Magnetic Cubicle Keepers, Clear Polypropylene",
         136.344,
         19.477714285714285,
         7
        ],
        [
         "OFF-PA-10001215",
         "Xerox 1963",
         34.848,
         17.424,
         2
        ],
        [
         "OFF-ST-10002289",
         "Safco Wire Cube Shelving System, For Use as 4 or 5 14\" Cubes, Black",
         406.784,
         101.696,
         4
        ],
        [
         "TEC-PH-10000562",
         "Samsung Convoy 3",
         688.138,
         344.069,
         2
        ],
        [
         "OFF-PA-10001307",
         "Important Message Pads, 50 4-1/4 x 5-1/2 Forms per Pad",
         54.599999999999994,
         13.649999999999999,
         4
        ],
        [
         "FUR-FU-10004597",
         "Eldon Cleatmat Chair Mats for Medium Pile Carpets",
         344.09999999999997,
         86.02499999999999,
         4
        ],
        [
         "OFF-EN-10003134",
         "Staple envelope",
         247.61599999999999,
         35.373714285714286,
         7
        ],
        [
         "OFF-PA-10001712",
         "Xerox 1948",
         149.85000000000002,
         49.95000000000001,
         3
        ],
        [
         "OFF-ST-10002444",
         "Recycled Eldon Regeneration Jumbo File",
         235.776,
         39.296,
         6
        ],
        [
         "OFF-EN-10002500",
         "Globe Weis Peel & Seel First Class Envelopes",
         375.73199999999997,
         53.675999999999995,
         7
        ],
        [
         "OFF-PA-10004621",
         "Xerox 212",
         141.26399999999998,
         20.180571428571426,
         7
        ],
        [
         "OFF-AR-10001545",
         "Newell 326",
         36.608,
         6.101333333333333,
         6
        ],
        [
         "OFF-PA-10000174",
         "Message Book, Wirebound, Four 5 1/2\" X 4\" Forms/Pg., 200 Dupl. Sets/Book",
         152.144,
         25.357333333333333,
         6
        ],
        [
         "OFF-AR-10000390",
         "Newell Chalk Holder",
         83.42600000000002,
         11.918000000000003,
         7
        ],
        [
         "OFF-FA-10000304",
         "Advantus Push Pins",
         54.936,
         7.848,
         7
        ],
        [
         "OFF-LA-10002762",
         "Avery 485",
         639.03,
         79.87875,
         8
        ],
        [
         "OFF-PA-10003936",
         "Xerox 1994",
         76.464,
         19.116,
         4
        ],
        [
         "OFF-BI-10003274",
         "Avery Durable Slant Ring Binders, No Labels",
         89.55,
         9.95,
         9
        ],
        [
         "TEC-PH-10003800",
         "i.Sound Portable Power - 8000 mAh",
         413.322,
         82.6644,
         5
        ],
        [
         "OFF-PA-10003134",
         "Xerox 1937",
         499.616,
         124.904,
         4
        ],
        [
         "OFF-PA-10004971",
         "Xerox 196",
         92.48,
         11.56,
         8
        ],
        [
         "OFF-PA-10003892",
         "Xerox 1943",
         743.432,
         185.858,
         4
        ],
        [
         "OFF-EN-10002312",
         "#10 Self-Seal White Envelopes",
         108.68200000000002,
         27.170500000000004,
         4
        ],
        [
         "OFF-LA-10000973",
         "Avery 502",
         17.64,
         5.88,
         3
        ],
        [
         "OFF-AR-10001988",
         "Bulldog Table or Wall-Mount Pencil Sharpener",
         77.87,
         25.956666666666667,
         3
        ],
        [
         "FUR-CH-10003379",
         "Global Commerce Series High-Back Swivel/Tilt Chairs",
         4404.1,
         489.3444444444445,
         9
        ],
        [
         "OFF-ST-10002301",
         "Tennsco Commercial Shelving",
         374.256,
         41.583999999999996,
         9
        ],
        [
         "TEC-MA-10002859",
         "Ativa MDM8000 8-Sheet Micro-Cut Shredder",
         788.609,
         394.3045,
         2
        ],
        [
         "OFF-AR-10002656",
         "Sanford Liquid Accent Highlighters",
         149.632,
         29.9264,
         5
        ],
        [
         "OFF-PA-10000788",
         "Xerox 210",
         95.904,
         15.984,
         6
        ],
        [
         "FUR-FU-10002364",
         "Eldon Expressions Wood Desk Accessories, Oak",
         175.644,
         15.967636363636364,
         11
        ],
        [
         "OFF-LA-10000634",
         "Avery 509",
         32.364,
         8.091,
         4
        ],
        [
         "FUR-FU-10001085",
         "3M Polarizing Light Filter Sleeves",
         216.34,
         54.085,
         4
        ],
        [
         "TEC-PH-10002922",
         "ShoreTel ShorePhone IP 230 VoIP phone",
         1839.9030000000002,
         459.97575000000006,
         4
        ],
        [
         "OFF-SU-10002557",
         "Fiskars Spring-Action Scissors",
         75.492,
         18.873,
         4
        ],
        [
         "TEC-AC-10001990",
         "Kensington Orbit Wireless Mobile Trackball for PC and Mac",
         1412.4889999999998,
         353.12224999999995,
         4
        ],
        [
         "OFF-BI-10002194",
         "Cardinal Hold-It CD Pocket",
         38.304,
         9.576,
         4
        ],
        [
         "OFF-AR-10001216",
         "Newell 339",
         26.688000000000002,
         8.896,
         3
        ],
        [
         "OFF-LA-10002473",
         "Avery 484",
         9.216,
         9.216,
         1
        ],
        [
         "OFF-BI-10003196",
         "Accohide Poly Flexible Ring Binders",
         43.758,
         5.46975,
         8
        ],
        [
         "OFF-BI-10001634",
         "Wilson Jones Active Use Binders",
         115.024,
         19.170666666666666,
         6
        ],
        [
         "OFF-BI-10003364",
         "Binding Machine Supplies",
         667.9930000000002,
         74.22144444444446,
         9
        ],
        [
         "TEC-PH-10004830",
         "Pyle PRT45 Retro Home Telephone",
         201.568,
         201.568,
         1
        ],
        [
         "OFF-AP-10002082",
         "Holmes HEPA Air Purifier",
         239.57999999999998,
         39.93,
         6
        ],
        [
         "TEC-PH-10002789",
         "LG Exalt",
         906.215,
         302.07166666666666,
         3
        ],
        [
         "OFF-BI-10003091",
         "GBC DocuBind TL200 Manual Binding Machine",
         2570.3990000000003,
         428.3998333333334,
         6
        ],
        [
         "OFF-SU-10000381",
         "Acme Forged Steel Scissors with Black Enamel Handles",
         279.3,
         34.9125,
         8
        ],
        [
         "TEC-CO-10001571",
         "Sharp 1540cs Digital Laser Copier",
         3383.1890000000003,
         483.3127142857143,
         7
        ],
        [
         "OFF-AR-10002956",
         "Boston 16801 Nautilus Battery Pencil Sharpener",
         444.602,
         74.10033333333332,
         6
        ],
        [
         "OFF-PA-10004092",
         "Tops Green Bar Computer Printout Paper",
         342.58,
         114.19333333333333,
         3
        ],
        [
         "OFF-PA-10001243",
         "Xerox 1983",
         29.900000000000002,
         14.950000000000001,
         2
        ],
        [
         "OFF-AP-10003099",
         "Eureka Hand Vacuum, Bagless",
         197.72,
         197.72,
         1
        ],
        [
         "OFF-AR-10004974",
         "Newell 342",
         9.84,
         9.84,
         1
        ],
        [
         "FUR-FU-10003664",
         "Electrix Architect's Clamp-On Swing Arm Lamp, Black",
         1955.8819999999998,
         391.17639999999994,
         5
        ],
        [
         "FUR-CH-10003973",
         "GuestStacker Chair with Chrome Finish Legs",
         4005.128,
         500.641,
         8
        ],
        [
         "OFF-PA-10004569",
         "Wirebound Message Books, Two 4 1/4\" x 5\" Forms per Page",
         109.58399999999999,
         18.264,
         6
        ],
        [
         "OFF-AP-10004708",
         "Fellowes Superior 10 Outlet Split Surge Protector",
         867.7680000000001,
         96.41866666666668,
         9
        ],
        [
         "TEC-PH-10003931",
         "JBL Micro Wireless Portable Bluetooth Speaker",
         779.87,
         129.97833333333332,
         6
        ],
        [
         "OFF-EN-10004483",
         "#10 White Business Envelopes,4 1/8 x 9 1/2",
         379.214,
         63.202333333333335,
         6
        ],
        [
         "FUR-CH-10000595",
         "Safco Contoured Stacking Chairs",
         3552.1650000000004,
         444.02062500000005,
         8
        ],
        [
         "TEC-AC-10004145",
         "Logitech diNovo Edge Keyboard",
         2502.544,
         500.50879999999995,
         5
        ],
        [
         "OFF-AR-10004956",
         "Newell 33",
         47.988,
         15.996,
         3
        ],
        [
         "FUR-FU-10001847",
         "Eldon Image Series Black Desk Accessories",
         48.852,
         9.770399999999999,
         5
        ],
        [
         "OFF-AR-10001955",
         "Newell 319",
         511.872,
         63.984,
         8
        ],
        [
         "OFF-FA-10001332",
         "Acco Banker's Clasps, 5 3/4\"-Long",
         40.896,
         8.1792,
         5
        ],
        [
         "TEC-PH-10001552",
         "I Need's 3d Hello Kitty Hybrid Silicone Case Cover for HTC One X 4g with 3d Hello Kitty Stylus Pen Green/pink",
         542.984,
         54.2984,
         10
        ],
        [
         "OFF-EN-10004459",
         "Security-Tint Envelopes",
         163.496,
         18.166222222222224,
         9
        ],
        [
         "OFF-SU-10002537",
         "Acme Box Cutter Scissors",
         255.75,
         51.15,
         5
        ],
        [
         "TEC-AC-10001542",
         "SanDisk Cruzer 16 GB USB Flash Drive",
         107.912,
         35.970666666666666,
         3
        ],
        [
         "OFF-ST-10000615",
         "SimpliFile Personal File, Black Granite, 15w x 6-15/16d x 11-1/4h",
         347.31,
         43.41375,
         8
        ],
        [
         "OFF-ST-10001963",
         "Tennsco Regal Shelving Units",
         1453.895,
         363.47375,
         4
        ],
        [
         "OFF-AR-10003217",
         "Newell 316",
         46.944,
         23.472,
         2
        ],
        [
         "FUR-FU-10000576",
         "Luxo Professional Fluorescent Magnifier Lamp with Clamp-Mount Base",
         2257.347,
         451.46940000000006,
         5
        ],
        [
         "FUR-BO-10004467",
         "Bestar Classic Bookcase",
         1897.8110000000001,
         237.22637500000002,
         8
        ],
        [
         "OFF-BI-10002225",
         "Square Ring Data Binders, Rigid 75 Pt. Covers, 11\" x 14-7/8\"",
         334.36800000000005,
         47.76685714285715,
         7
        ],
        [
         "OFF-ST-10004963",
         "Eldon Gobal File Keepers",
         348.21999999999997,
         58.03666666666666,
         6
        ],
        [
         "OFF-ST-10002974",
         "Trav-L-File Heavy-Duty Shuttle II, Black",
         1193.818,
         170.54542857142857,
         7
        ],
        [
         "OFF-ST-10002562",
         "Staple magnet",
         200.73200000000003,
         33.455333333333336,
         6
        ],
        [
         "FUR-CH-10002044",
         "Office Star - Contemporary Task Swivel chair with 2-way adjustable arms, Plum",
         694.194,
         347.097,
         2
        ],
        [
         "OFF-AP-10003842",
         "Euro-Pro Shark Turbo Vacuum",
         693.952,
         115.65866666666666,
         6
        ],
        [
         "FUR-TA-10001857",
         "Balt Solid Wood Rectangular Table",
         828.097,
         207.02425,
         4
        ],
        [
         "FUR-TA-10004154",
         "Riverside Furniture Oval Coffee Table, Oval End Table, End Table with Drawer",
         1833.147,
         366.6294,
         5
        ],
        [
         "TEC-PH-10001299",
         "Polycom CX300 Desktop Phone USB VoIP phone",
         1640.565,
         328.113,
         5
        ],
        [
         "TEC-AC-10002942",
         "WD My Passport Ultra 1TB Portable External Hard Drive",
         1007.4000000000001,
         167.9,
         6
        ],
        [
         "TEC-AC-10003280",
         "Belkin F8E887 USB Wired Ergonomic Keyboard",
         563.812,
         70.4765,
         8
        ],
        [
         "TEC-AC-10003614",
         "Verbatim 25 GB 6x Blu-ray Single Layer Recordable Disc, 10/Pack",
         150.67,
         30.133999999999997,
         5
        ],
        [
         "TEC-MA-10000864",
         "Cisco 9971 IP Video Phone Charcoal",
         1001.282,
         500.641,
         2
        ],
        [
         "FUR-FU-10003347",
         "Coloredge Poster Frame",
         298.2,
         49.699999999999996,
         6
        ],
        [
         "OFF-PA-10002250",
         "Things To Do Today Pad",
         138.532,
         19.790285714285716,
         7
        ],
        [
         "OFF-PA-10001293",
         "Xerox 1946",
         79.05600000000001,
         26.352000000000004,
         3
        ],
        [
         "TEC-PH-10004389",
         "Nokia Lumia 925",
         1180.987,
         393.6623333333334,
         3
        ],
        [
         "OFF-ST-10000736",
         "Carina Double Wide Media Storage Towers in Natural & Black",
         2800.4730000000004,
         233.37275000000002,
         12
        ],
        [
         "OFF-BI-10000309",
         "GBC Twin Loop Wire Binding Elements, 9/16\" Spine, Black",
         269.39399999999995,
         29.932666666666663,
         9
        ],
        [
         "FUR-TA-10001705",
         "Bush Advantage Collection Round Conference Table",
         1735.7830000000001,
         433.94575000000003,
         4
        ],
        [
         "OFF-BI-10000948",
         "GBC Laser Imprintable Binding System Covers, Desert Sand",
         112.733,
         22.5466,
         5
        ],
        [
         "TEC-PH-10003589",
         "invisibleSHIELD by ZAGG Smudge-Free Screen Protector",
         442.5539999999999,
         63.22199999999999,
         7
        ],
        [
         "TEC-MA-10004086",
         "Plantronics Single Ear Headset",
         29.925,
         29.925,
         1
        ],
        [
         "OFF-FA-10000735",
         "Staples",
         54.312000000000005,
         10.862400000000001,
         5
        ],
        [
         "FUR-TA-10000577",
         "Bretford CR4500 Series Slim Rectangular Table",
         3696.003,
         462.000375,
         8
        ],
        [
         "OFF-ST-10002205",
         "File Shuttle I and Handi-File",
         262.668,
         87.556,
         3
        ],
        [
         "OFF-ST-10002756",
         "Tennsco Stur-D-Stor Boltless Shelving, 5 Shelves, 24\" Deep, Sand",
         3098.569,
         442.6527142857143,
         7
        ],
        [
         "OFF-AR-10002987",
         "Prismacolor Color Pencil Set",
         396.79999999999995,
         66.13333333333333,
         6
        ],
        [
         "TEC-PH-10000193",
         "Jensen SMPS-640 - speaker phone",
         496.584,
         124.146,
         4
        ],
        [
         "TEC-AC-10001714",
         "Logitech MX Performance Wireless Mouse",
         749.9319999999999,
         124.98866666666665,
         6
        ],
        [
         "OFF-EN-10004386",
         "Recycled Interoffice Envelopes with String and Button Closure, 10 x 13",
         235.10199999999998,
         58.775499999999994,
         4
        ],
        [
         "OFF-AP-10001303",
         "Holmes Cool Mist Humidifier for the Whole House with 8-Gallon Output per Day, Extended Life Filter",
         147.26,
         36.815,
         4
        ],
        [
         "OFF-PA-10002377",
         "Xerox 1916",
         831.98,
         118.85428571428572,
         7
        ],
        [
         "FUR-FU-10001602",
         "Eldon Delta Triangular Chair Mat, 52\" x 58\", Clear",
         546.192,
         91.032,
         6
        ],
        [
         "OFF-BI-10002799",
         "SlimView Poly Binder, 3/8\"",
         117.58600000000001,
         16.798000000000002,
         7
        ],
        [
         "OFF-ST-10000142",
         "Deluxe Rollaway Locking File with Drawer",
         2335.268,
         467.0536,
         5
        ],
        [
         "OFF-AP-10000595",
         "Disposable Triple-Filter Dust Bags",
         30.59,
         10.196666666666667,
         3
        ],
        [
         "OFF-BI-10000546",
         "Avery Durable Binders",
         87.264,
         7.271999999999999,
         12
        ],
        [
         "FUR-FU-10002116",
         "Tenex Carpeted, Granite-Look or Clear Contemporary Contour Shape Chair Mats",
         763.668,
         152.7336,
         5
        ],
        [
         "OFF-ST-10000464",
         "Multi-Use Personal File Cart and Caster Set, Three Stacking Bins",
         368.45599999999996,
         73.6912,
         5
        ],
        [
         "OFF-AR-10001761",
         "Avery Hi-Liter Smear-Safe Highlighters",
         114.46400000000001,
         22.8928,
         5
        ],
        [
         "OFF-AP-10003779",
         "Kensington 7 Outlet MasterPiece Power Center with Fax/Phone Line Protection",
         1309.813,
         327.45325,
         4
        ],
        [
         "OFF-BI-10001922",
         "Storex Dura Pro Binders",
         153.252,
         30.6504,
         5
        ],
        [
         "OFF-BI-10002813",
         "Avery Reinforcements for Hole-Punch Pages",
         28.512,
         3.564,
         8
        ],
        [
         "FUR-FU-10001185",
         "Advantus Employee of the Month Certificate Frame, 11 x 13-1/2",
         649.53,
         162.3825,
         4
        ],
        [
         "FUR-CH-10000422",
         "Global Highback Leather Tilter in Burgundy",
         2520.815,
         280.09055555555557,
         9
        ],
        [
         "OFF-EN-10003286",
         "Staple envelope",
         284.832,
         40.690285714285714,
         7
        ],
        [
         "TEC-CO-10001046",
         "Canon Imageclass D680 Copier / Fax",
         2503.205,
         500.64099999999996,
         5
        ],
        [
         "OFF-PA-10000552",
         "Xerox 200",
         84.24000000000001,
         16.848000000000003,
         5
        ],
        [
         "TEC-PH-10000675",
         "Panasonic KX TS3282B Corded phone",
         590.328,
         196.77599999999998,
         3
        ],
        [
         "TEC-AC-10003433",
         "Maxell 4.7GB DVD+R 5/Pack",
         11.682,
         2.3364000000000003,
         5
        ],
        [
         "OFF-EN-10003040",
         "Quality Park Security Envelopes",
         240.764,
         60.191,
         4
        ],
        [
         "OFF-BI-10003650",
         "GBC DocuBind 300 Electric Binding Machine",
         3372.032,
         421.504,
         8
        ],
        [
         "OFF-PA-10003172",
         "Xerox 1996",
         176.256,
         22.032,
         8
        ],
        [
         "OFF-ST-10001418",
         "Carina Media Storage Towers in Natural & Black",
         1073.248,
         214.64960000000002,
         5
        ],
        [
         "OFF-AR-10000422",
         "Pencil and Crayon Sharpener",
         29.346,
         7.3365,
         4
        ],
        [
         "OFF-PA-10004353",
         "Southworth 25% Cotton Premium Laser Paper and Envelopes",
         527.472,
         105.4944,
         5
        ],
        [
         "OFF-AP-10002945",
         "Honeywell Enviracaire Portable HEPA Air Cleaner for 17' x 22' Room",
         3504.487,
         500.641,
         7
        ],
        [
         "FUR-BO-10000711",
         "Hon Metal Bookcases, Gray",
         713.581,
         356.7905,
         2
        ],
        [
         "OFF-AP-10002403",
         "Acco Smartsocket Color-Coded Six-Outlet AC Adapter Model Surge Protectors",
         448.90199999999993,
         112.22549999999998,
         4
        ],
        [
         "TEC-PH-10000455",
         "GE 30522EE2",
         1080.591,
         360.19699999999995,
         3
        ],
        [
         "FUR-TA-10004607",
         "Hon 2111 Invitation Series Straight Table",
         1932.611,
         276.0872857142857,
         7
        ],
        [
         "FUR-TA-10001768",
         "Hon Racetrack Conference Tables",
         2685.0899999999997,
         447.51499999999993,
         6
        ],
        [
         "TEC-AC-10001772",
         "Memorex Mini Travel Drive 16 GB USB 2.0 Flash Drive",
         495.07000000000005,
         99.01400000000001,
         5
        ],
        [
         "TEC-PH-10001944",
         "Wi-Ex zBoost YX540 Cellular Phone Signal Booster",
         2397.991,
         399.66516666666666,
         6
        ],
        [
         "TEC-PH-10002844",
         "Speck Products Candyshell Flip Case",
         188.946,
         47.2365,
         4
        ],
        [
         "OFF-AP-10002287",
         "Eureka Sanitaire  Multi-Pro Heavy-Duty Upright, Disposable Bags",
         83.90400000000001,
         16.780800000000003,
         5
        ],
        [
         "OFF-LA-10003766",
         "Self-Adhesive Removable Labels",
         78.75,
         13.125,
         6
        ],
        [
         "TEC-AC-10001838",
         "Razer Tiamat Over Ear 7.1 Surround Sound PC Gaming Headset",
         2922.518,
         417.50257142857146,
         7
        ],
        [
         "FUR-BO-10003965",
         "O'Sullivan Manor Hill 2-Door Library in Brianna Oak",
         1423.6390000000001,
         355.90975000000003,
         4
        ],
        [
         "OFF-AR-10002255",
         "Newell 346",
         25.344,
         6.336,
         4
        ],
        [
         "OFF-LA-10003223",
         "Avery 508",
         87.398,
         14.566333333333333,
         6
        ],
        [
         "OFF-AP-10003971",
         "Belkin 6 Outlet Metallic Surge Strip",
         262.449,
         29.161,
         9
        ],
        [
         "FUR-BO-10004218",
         "Bush Heritage Pine Collection 5-Shelf Bookcase, Albany Pine Finish, *Special Order",
         2446.327,
         349.47528571428575,
         7
        ],
        [
         "FUR-FU-10003192",
         "Luxo Adjustable Task Clamp Lamp",
         1246.8970000000002,
         311.72425000000004,
         4
        ],
        [
         "OFF-AR-10003504",
         "Newell 347",
         127.54400000000001,
         18.22057142857143,
         7
        ],
        [
         "FUR-FU-10003039",
         "Howard Miller 11-1/2\" Diameter Grantwood Wall Clock",
         500.308,
         83.38466666666666,
         6
        ],
        [
         "TEC-AC-10004571",
         "Logitech G700s Rechargeable Gaming Mouse",
         1940.4969999999998,
         215.61077777777777,
         9
        ],
        [
         "OFF-AP-10004785",
         "Holmes Replacement Filter for HEPA Air Cleaner, Medium Room",
         203.94,
         50.985,
         4
        ],
        [
         "OFF-AP-10002518",
         "Kensington 7 Outlet MasterPiece Power Center",
         2035.863,
         407.1726,
         5
        ],
        [
         "OFF-PA-10003270",
         "Xerox 1954",
         84.48000000000002,
         21.120000000000005,
         4
        ],
        [
         "OFF-AP-10000275",
         "Sanyo Counter Height Refrigerator with Crisper, 3.6 Cubic Foot, Stainless Steel/Black",
         1501.923,
         500.641,
         3
        ],
        [
         "TEC-AC-10004127",
         "SanDisk Cruzer 8 GB USB Flash Drive",
         27.168,
         27.168,
         1
        ],
        [
         "OFF-AP-10001058",
         "Sanyo 2.5 Cubic Foot Mid-Size Office Refrigerators",
         1949.6190000000001,
         487.40475000000004,
         4
        ],
        [
         "FUR-FU-10004587",
         "GE General Use Halogen Bulbs, 100 Watts, 1 Bulb per Pack",
         138.204,
         69.102,
         2
        ],
        [
         "OFF-PA-10000919",
         "Xerox 1918",
         155.04,
         155.04,
         1
        ],
        [
         "OFF-AR-10000034",
         "BIC Brite Liner Grip Highlighters, Assorted, 5/Pack",
         118.72,
         19.786666666666665,
         6
        ],
        [
         "OFF-BI-10004139",
         "Fellowes Presentation Covers for Comb Binding Machines",
         133.86,
         66.93,
         2
        ],
        [
         "TEC-PH-10002115",
         "Plantronics 81402",
         844.672,
         211.168,
         4
        ],
        [
         "OFF-BI-10002103",
         "Cardinal Slant-D Ring Binder, Heavy Gauge Vinyl",
         179.01399999999998,
         17.9014,
         10
        ],
        [
         "OFF-ST-10004258",
         "Portable Personal File Box",
         224.664,
         37.443999999999996,
         6
        ],
        [
         "OFF-ST-10003656",
         "Safco Industrial Wire Shelving",
         1191.769,
         238.3538,
         5
        ],
        [
         "OFF-ST-10001228",
         "Personal File Boxes with Fold-Down Carry Handle",
         177.612,
         35.5224,
         5
        ],
        [
         "OFF-BI-10002026",
         "Ibico Recycled Linen-Style Covers",
         312.48,
         104.16000000000001,
         3
        ],
        [
         "TEC-MA-10001047",
         "3D Systems Cube Printer, 2nd Generation, Magenta",
         1001.282,
         500.641,
         2
        ],
        [
         "FUR-BO-10003894",
         "Safco Value Mate Steel Bookcase, Baked Enamel Finish on Steel, Black",
         802.074,
         267.358,
         3
        ],
        [
         "TEC-PH-10004531",
         "AT&T CL2909",
         755.9399999999999,
         251.98,
         3
        ],
        [
         "OFF-PA-10002230",
         "Xerox 1897",
         67.72800000000001,
         16.932000000000002,
         4
        ],
        [
         "OFF-AR-10004042",
         "BOSTON Model 1800 Electric Pencil Sharpeners, Putty/Woodgrain",
         496.248,
         82.708,
         6
        ],
        [
         "FUR-FU-10004952",
         "C-Line Cubicle Keepers Polyproplyene Holder w/Velcro Back, 8-1/2x11, 25/Bx",
         514.556,
         128.639,
         4
        ],
        [
         "OFF-BI-10001267",
         "Universal Recycled Hanging Pressboard Report Binders, Letter Size",
         62.934,
         15.7335,
         4
        ],
        [
         "TEC-AC-10004708",
         "Sony 32GB Class 10 Micro SDHC R40 Memory Card",
         251.4,
         62.85,
         4
        ],
        [
         "FUR-FU-10003799",
         "Seth Thomas 13 1/2\" Wall Clock",
         316.484,
         63.2968,
         5
        ],
        [
         "OFF-AR-10001149",
         "Sanford Colorific Colored Pencils, 12/Box",
         73.15200000000002,
         14.630400000000003,
         5
        ],
        [
         "TEC-PH-10001128",
         "Motorola Droid Maxx",
         1801.9030000000002,
         450.47575000000006,
         4
        ],
        [
         "OFF-SU-10002881",
         "Martin Yale Chadless Opener Electric Letter Opener",
         3003.846,
         500.641,
         6
        ],
        [
         "OFF-AR-10001246",
         "Newell 317",
         79.96799999999999,
         11.423999999999998,
         7
        ],
        [
         "OFF-PA-10004475",
         "Xerox 1940",
         615.552,
         153.888,
         4
        ],
        [
         "OFF-ST-10004340",
         "Fellowes Mobile File Cart, Black",
         2241.681,
         224.1681,
         10
        ],
        [
         "TEC-PH-10001051",
         "HTC One",
         1119.888,
         279.972,
         4
        ],
        [
         "TEC-AC-10003657",
         "Lenovo 17-Key USB Numeric Keypad",
         367.092,
         73.41839999999999,
         5
        ],
        [
         "OFF-PA-10002120",
         "Xerox 1889",
         516.624,
         172.208,
         3
        ],
        [
         "OFF-EN-10004773",
         "Staple envelope",
         433.71999999999997,
         108.42999999999999,
         4
        ],
        [
         "OFF-BI-10001078",
         "Acco PRESSTEX Data Binder with Storage Hooks, Dark Blue, 14 7/8\" X 11\"",
         175.388,
         25.05542857142857,
         7
        ],
        [
         "OFF-ST-10001328",
         "Personal Filing Tote with Lid, Black/Gray",
         459.09599999999995,
         57.38699999999999,
         8
        ],
        [
         "FUR-CH-10002084",
         "Hon Mobius Operator's Chair",
         2181.986,
         436.3972,
         5
        ],
        [
         "TEC-AC-10001590",
         "Dell Slim USB Multimedia Keyboard",
         125,
         62.5,
         2
        ],
        [
         "OFF-PA-10003651",
         "Xerox 1968",
         165.664,
         33.132799999999996,
         5
        ],
        [
         "TEC-AC-10003174",
         "Plantronics S12 Corded Telephone Headset System",
         2095.9329999999995,
         349.3221666666666,
         6
        ],
        [
         "FUR-FU-10001095",
         "DAX Black Cherry Wood-Tone Poster Frame",
         455.4560000000001,
         56.93200000000001,
         8
        ],
        [
         "OFF-BI-10000145",
         "Zipper Ring Binder Pockets",
         81.74400000000001,
         6.288000000000001,
         13
        ],
        [
         "OFF-AR-10001868",
         "Prang Dustless Chalk Sticks",
         38.976,
         4.872,
         8
        ],
        [
         "OFF-AR-10001897",
         "Model L Table or Wall-Mount Pencil Sharpener",
         402.97599999999994,
         80.59519999999999,
         5
        ],
        [
         "TEC-PH-10002726",
         "netTALK DUO VoIP Telephone Service",
         1112.788,
         158.96971428571428,
         7
        ],
        [
         "TEC-AC-10000303",
         "Logitech M510 Wireless Mouse",
         239.94,
         79.98,
         3
        ],
        [
         "TEC-PH-10000149",
         "Cisco SPA525G2 IP Phone - Wireless",
         426.93,
         85.386,
         5
        ],
        [
         "TEC-PH-10002075",
         "AT&T EL51110 DECT",
         377.97,
         377.97,
         1
        ],
        [
         "OFF-BI-10002353",
         "GBC VeloBind Cover Sets",
         342.768,
         31.16072727272727,
         11
        ],
        [
         "OFF-PA-10002262",
         "Xerox 192",
         142.56,
         23.76,
         6
        ],
        [
         "OFF-AR-10000614",
         "Barrel Sharpener",
         67.83,
         16.9575,
         4
        ],
        [
         "OFF-ST-10001325",
         "Sterilite Officeware Hinged File Box",
         345.84,
         31.439999999999998,
         11
        ],
        [
         "OFF-PA-10003919",
         "Xerox 1989",
         7.968,
         7.968,
         1
        ],
        [
         "TEC-PH-10004833",
         "Macally Suction Cup Mount",
         279.63,
         69.9075,
         4
        ],
        [
         "FUR-FU-10001473",
         "DAX Wood Document Frame",
         477.804,
         53.08933333333333,
         9
        ],
        [
         "TEC-AC-10002857",
         "Verbatim 25 GB 6x Blu-ray Single Layer Recordable Disc, 1/Pack",
         83.44,
         27.813333333333333,
         3
        ],
        [
         "OFF-BI-10004656",
         "Peel & Stick Add-On Corner Pockets",
         38.016000000000005,
         5.4308571428571435,
         7
        ],
        [
         "TEC-MA-10002178",
         "Cisco CP-7937G Unified IP Conference Station Phone",
         1001.282,
         500.641,
         2
        ],
        [
         "TEC-MA-10001695",
         "Zebra GK420t Direct Thermal/Thermal Transfer Printer",
         500.641,
         500.641,
         1
        ],
        [
         "OFF-PA-10000176",
         "Xerox 1887",
         417.34,
         59.62,
         7
        ],
        [
         "FUR-FU-10004017",
         "Executive Impressions 13\" Chairman Wall Clock",
         253.8,
         84.60000000000001,
         3
        ],
        [
         "OFF-ST-10000036",
         "Recycled Data-Pak for Archival Bound Computer Printouts, 12-1/2 x 12-1/2 x 16",
         1528.0570000000002,
         305.61140000000006,
         5
        ],
        [
         "OFF-EN-10001415",
         "Staple envelope",
         43.524,
         10.881,
         4
        ],
        [
         "TEC-MA-10003589",
         "Cisco 8961 IP Phone Charcoal",
         224.937,
         224.937,
         1
        ],
        [
         "OFF-PA-10000955",
         "Southworth 25% Cotton Granite Paper & Envelopes",
         37.932,
         12.644,
         3
        ],
        [
         "FUR-CH-10002965",
         "Global Leather Highback Executive Chair with Pneumatic Height Adjustment, Black",
         4492.907,
         408.4460909090909,
         11
        ],
        [
         "OFF-PA-10001363",
         "Xerox 1933",
         294.72,
         58.944,
         5
        ],
        [
         "OFF-BI-10002852",
         "Ibico Standard Transparent Covers",
         275.216,
         30.579555555555558,
         9
        ],
        [
         "FUR-FU-10001591",
         "Advantus Panel Wall Certificate Holder - 8.5x11",
         270.84,
         45.13999999999999,
         6
        ],
        [
         "OFF-AP-10003622",
         "Bravo II Megaboss 12-Amp Hard Body Upright, Replacement Belts, 2 Belts per Pack",
         65,
         16.25,
         4
        ],
        [
         "FUR-BO-10002213",
         "DMI Eclipse Executive Suite Bookcases",
         2829.181,
         471.5301666666667,
         6
        ],
        [
         "OFF-BI-10003669",
         "3M Organizer Strips",
         83.16,
         11.879999999999999,
         7
        ],
        [
         "OFF-AR-10001547",
         "Newell 311",
         61.438,
         7.67975,
         8
        ],
        [
         "FUR-BO-10004709",
         "Bush Westfield Collection Bookcases, Medium Cherry Finish",
         1426.888,
         158.5431111111111,
         9
        ],
        [
         "TEC-AC-10004420",
         "Cherry 142-key Programmable Keyboard",
         479.72,
         479.72,
         1
        ],
        [
         "OFF-AP-10002311",
         "Holmes Replacement Filter for HEPA Air Cleaner, Very Large Room, HEPA Filter",
         1383.081,
         138.3081,
         10
        ],
        [
         "OFF-PA-10000069",
         "TOPS 4 x 6 Fluorescent Color Memo Sheets, 500 Sheets per Pack",
         102.492,
         34.164,
         3
        ],
        [
         "OFF-AR-10001044",
         "BOSTON Ranger #55 Pencil Sharpener, Black",
         618.562,
         68.72911111111111,
         9
        ],
        [
         "FUR-FU-10004270",
         "Executive Impressions 13\" Clairmont Wall Clock",
         315.372,
         39.4215,
         8
        ],
        [
         "TEC-AC-10001908",
         "Logitech Wireless Headset h800",
         2180.473,
         363.4121666666667,
         6
        ],
        [
         "TEC-PH-10002885",
         "Apple iPhone 5",
         3003.846,
         500.641,
         6
        ],
        [
         "OFF-BI-10002160",
         "Acco Hanging Data Binders",
         41.910000000000004,
         5.9871428571428575,
         7
        ],
        [
         "TEC-AC-10001101",
         "Sony 16GB Class 10 Micro SDHC R40 Memory Card",
         190.772,
         47.693,
         4
        ],
        [
         "OFF-LA-10003510",
         "Avery 4027 File Folder Labels for Dot Matrix Printers, 5000 Labels per Box, White",
         1233.412,
         112.12836363636364,
         11
        ],
        [
         "OFF-ST-10004186",
         "Stur-D-Stor Shelving, Vertical 5-Shelf: 72\"H x 36\"W x 18 1/2\"D",
         2000.102,
         400.0204,
         5
        ],
        [
         "TEC-PH-10004875",
         "PNY Rapid USB Car Charger - Black",
         9.588,
         9.588,
         1
        ],
        [
         "FUR-BO-10002613",
         "Atlantic Metals Mobile 4-Shelf Bookcases, Custom Colors",
         2929.7980000000002,
         488.2996666666667,
         6
        ],
        [
         "OFF-AR-10004817",
         "Colorific Watercolor Pencils",
         51.6,
         17.2,
         3
        ],
        [
         "TEC-AC-10004877",
         "Imation 30456 USB Flash Drive 8GB",
         154.56,
         30.912,
         5
        ],
        [
         "OFF-ST-10000876",
         "Eldon Simplefile Box Office",
         345.832,
         43.229,
         8
        ],
        [
         "OFF-PA-10000289",
         "Xerox 213",
         111.45599999999999,
         18.575999999999997,
         6
        ],
        [
         "TEC-PH-10001425",
         "Mophie Juice Pack Helium for iPhone",
         1508.5149999999999,
         251.41916666666665,
         6
        ],
        [
         "OFF-SU-10001664",
         "Acme Office Executive Series Stainless Steel Trimmers",
         159.40200000000002,
         22.77171428571429,
         7
        ],
        [
         "OFF-AR-10000896",
         "Newell 329",
         24.272,
         12.136,
         2
        ],
        [
         "OFF-LA-10002945",
         "Permanent Self-Adhesive File Folder Labels for Typewriters, 1 1/8 x 3 1/2, White",
         153.72,
         25.62,
         6
        ],
        [
         "OFF-AP-10003217",
         "Eureka Sanitaire  Commercial Upright",
         1067.566,
         355.85533333333336,
         3
        ],
        [
         "OFF-ST-10003208",
         "Adjustable Depth Letter/Legal Cart",
         5101.334999999999,
         463.7577272727272,
         11
        ],
        [
         "TEC-AC-10000290",
         "Sabrent 4-Port USB 2.0 Hub",
         96.41800000000002,
         24.104500000000005,
         4
        ],
        [
         "OFF-AP-10002439",
         "Tripp Lite Isotel 8 Ultra 8 Outlet Metal Surge",
         685.163,
         228.38766666666666,
         3
        ],
        [
         "TEC-MA-10002790",
         "NeatDesk Desktop Scanner & Digital Filing System",
         479.988,
         479.988,
         1
        ],
        [
         "TEC-PH-10002262",
         "LG Electronics Tone+ HBS-730 Bluetooth Headset",
         499.88399999999996,
         249.94199999999998,
         2
        ],
        [
         "TEC-PH-10004006",
         "Panasonic KX - TS880B Telephone",
         247.32,
         123.66,
         2
        ],
        [
         "OFF-FA-10001883",
         "Alliance Super-Size Bands, Assorted Sizes",
         197.61200000000002,
         49.403000000000006,
         4
        ],
        [
         "OFF-PA-10004082",
         "Adams Telephone Message Book w/Frequently-Called Numbers Space, 400 Messages per Book",
         223.44,
         31.919999999999998,
         7
        ],
        [
         "OFF-AP-10003914",
         "Sanitaire Vibra Groomer IR Commercial Upright Vacuum, Replacement Belts",
         13,
         13,
         1
        ],
        [
         "OFF-AR-10004062",
         "Staples in misc. colors",
         157.2,
         52.4,
         3
        ],
        [
         "OFF-SU-10004782",
         "Elite 5\" Scissors",
         179.14,
         25.59142857142857,
         7
        ],
        [
         "OFF-ST-10000060",
         "Fellowes Bankers Box Staxonsteel Drawer File/Stacking System",
         2528.0170000000003,
         316.00212500000004,
         8
        ],
        [
         "OFF-PA-10000007",
         "Telephone Message Books with Fax/Mobile Section, 4 1/4\" x 6\"",
         51.120000000000005,
         17.040000000000003,
         3
        ],
        [
         "OFF-EN-10001535",
         "Grip Seal Envelopes",
         7.072,
         7.072,
         1
        ],
        [
         "TEC-PH-10004536",
         "Avaya 5420 Digital phone",
         1094.5970000000002,
         364.86566666666675,
         3
        ],
        [
         "OFF-AR-10002375",
         "Newell 351",
         82.656,
         11.808000000000002,
         7
        ],
        [
         "OFF-LA-10000443",
         "Avery 501",
         66.42,
         8.3025,
         8
        ],
        [
         "FUR-TA-10002607",
         "KI Conference Tables",
         2074.399,
         259.299875,
         8
        ],
        [
         "FUR-TA-10002041",
         "Bevis Round Conference Table Top, X-Base",
         2094.951,
         349.1585,
         6
        ],
        [
         "OFF-ST-10001522",
         "Gould Plastics 18-Pocket Panel Bin, 34w x 5-1/4d x 20-1/2h",
         2299.75,
         229.975,
         10
        ],
        [
         "FUR-CH-10002126",
         "Hon Deluxe Fabric Upholstered Stacking Chairs",
         1697.1070000000002,
         424.27675000000005,
         4
        ],
        [
         "OFF-AR-10002053",
         "Premium Writing Pencils, Soft, #2 by Central Association for the Blind",
         81.65199999999999,
         11.664571428571426,
         7
        ],
        [
         "FUR-CH-10004287",
         "SAFCO Arco Folding Chair",
         6055.969999999998,
         465.843846153846,
         13
        ],
        [
         "OFF-PA-10003039",
         "Xerox 1960",
         879.8320000000001,
         146.6386666666667,
         6
        ],
        [
         "OFF-LA-10001317",
         "Avery 520",
         46.62,
         9.324,
         5
        ],
        [
         "FUR-CH-10004860",
         "Global Low Back Tilter Chair",
         1746.9540000000002,
         218.36925000000002,
         8
        ],
        [
         "TEC-AC-10000487",
         "SanDisk Cruzer 4 GB USB Flash Drive",
         25.96,
         12.98,
         2
        ],
        [
         "OFF-PA-10003790",
         "Xerox 1991",
         575.568,
         95.928,
         6
        ],
        [
         "FUR-FU-10001215",
         "Howard Miller 11-1/2\" Diameter Brentwood Wall Clock",
         681.454,
         170.3635,
         4
        ],
        [
         "OFF-SU-10001165",
         "Acme Elite Stainless Steel Scissors",
         95.076,
         19.0152,
         5
        ],
        [
         "OFF-ST-10003638",
         "Mobile Personal File Cube",
         449.664,
         89.9328,
         5
        ],
        [
         "OFF-AP-10003057",
         "Honeywell Enviracaire Portable HEPA Air Cleaner for 16' x 20' Room",
         1501.923,
         500.641,
         3
        ],
        [
         "FUR-FU-10003374",
         "Electrix Fluorescent Magnifier Lamps & Weighted Base",
         463.79600000000005,
         231.89800000000002,
         2
        ],
        [
         "OFF-BI-10000831",
         "Storex Flexible Poly Binders with Double Pockets",
         10.824000000000002,
         3.6080000000000005,
         3
        ],
        [
         "OFF-EN-10001990",
         "Staple envelope",
         130.64,
         21.77333333333333,
         6
        ],
        [
         "TEC-PH-10002890",
         "AT&T 17929 Lendline Telephone",
         1339.104,
         133.9104,
         10
        ],
        [
         "TEC-PH-10000369",
         "HTC One Mini",
         1703.507,
         425.87675,
         4
        ],
        [
         "OFF-FA-10002975",
         "Staples",
         77.112,
         19.278,
         4
        ],
        [
         "OFF-SU-10002189",
         "Acme Rosewood Handle Letter Opener",
         43.67,
         14.556666666666667,
         3
        ],
        [
         "OFF-BI-10002309",
         "Avery Heavy-Duty EZD  Binder With Locking Rings",
         92.62799999999999,
         18.525599999999997,
         5
        ],
        [
         "OFF-AR-10003478",
         "Avery Hi-Liter EverBold Pen Style Fluorescent Highlighters, 4/Pack",
         219.78,
         36.63,
         6
        ],
        [
         "OFF-AR-10001725",
         "Boston Home & Office Model 2000 Electric Pencil Sharpeners",
         297.99,
         49.665,
         6
        ],
        [
         "OFF-PA-10001569",
         "Xerox 232",
         120.528,
         30.132,
         4
        ],
        [
         "OFF-LA-10000452",
         "Avery 488",
         51.029999999999994,
         8.504999999999999,
         6
        ],
        [
         "OFF-PA-10004530",
         "Personal Creations Ink Jet Cards and Labels",
         321.44,
         80.36,
         4
        ],
        [
         "FUR-FU-10001488",
         "Tenex 46\" x 60\" Computer Anti-Static Chairmat, Rectangular Shaped",
         2230.65,
         318.6642857142857,
         7
        ],
        [
         "OFF-PA-10002947",
         "Xerox 1923",
         94.85600000000001,
         18.971200000000003,
         5
        ],
        [
         "OFF-LA-10002787",
         "Avery 480",
         89.25,
         14.875,
         6
        ],
        [
         "FUR-CH-10002304",
         "Global Stack Chair without Arms, Black",
         901.506,
         128.78657142857142,
         7
        ],
        [
         "OFF-BI-10001636",
         "Ibico Plastic and Wire Spiral Binding Combs",
         208.22099999999998,
         23.135666666666665,
         9
        ],
        [
         "TEC-PH-10003171",
         "Plantronics Encore H101 Dual Earpieces Headset",
         746.1700000000001,
         106.5957142857143,
         7
        ],
        [
         "TEC-AC-10000865",
         "WD My Passport Ultra 500GB Portable External Hard Drive",
         708,
         177,
         4
        ],
        [
         "OFF-PA-10001274",
         "Loose Memo Sheets",
         18.25,
         9.125,
         2
        ],
        [
         "OFF-BI-10002393",
         "Binder Posts",
         57.400000000000006,
         9.566666666666668,
         6
        ],
        [
         "OFF-PA-10002666",
         "Southworth 25% Cotton Linen-Finish Paper & Envelopes",
         166.704,
         41.676,
         4
        ],
        [
         "FUR-FU-10001379",
         "Executive Impressions 16-1/2\" Circular Wall Clock",
         58.784,
         29.392,
         2
        ],
        [
         "OFF-EN-10004206",
         "Multimedia Mailers",
         325.86,
         325.86,
         1
        ],
        [
         "FUR-FU-10002191",
         "G.E. Halogen Desk Lamp Bulbs",
         62.82000000000001,
         12.564000000000002,
         5
        ],
        [
         "FUR-BO-10000362",
         "Sauder Inglewood Library Bookcases",
         1629.109,
         325.8218,
         5
        ],
        [
         "TEC-PH-10002538",
         "Grandstream GXP1160 VoIP phone",
         803.692,
         133.94866666666667,
         6
        ],
        [
         "OFF-SU-10002301",
         "Serrated Blade or Curved Handle Hand Letter Openers",
         23.864,
         11.932,
         2
        ],
        [
         "OFF-PA-10001752",
         "Hammermill CopyPlus Copy Paper (20Lb. and 84 Bright)",
         32.867999999999995,
         10.955999999999998,
         3
        ],
        [
         "TEC-PH-10001870",
         "Lunatik TT5L-002 Taktik Strike Impact Protection System for iPhone 5",
         281.658,
         93.88600000000001,
         3
        ],
        [
         "OFF-FA-10002701",
         "Alliance Rubber Bands",
         13.440000000000001,
         6.720000000000001,
         2
        ],
        [
         "OFF-AR-10001958",
         "Stanley Bostitch Contemporary Electric Pencil Sharpeners",
         275.076,
         39.29657142857143,
         7
        ],
        [
         "OFF-BI-10004140",
         "Avery Non-Stick Binders",
         75.432,
         5.802461538461539,
         13
        ],
        [
         "OFF-ST-10003455",
         "Tenex File Box, Personal Filing Tote with Lid, Black",
         338.118,
         48.302571428571426,
         7
        ],
        [
         "TEC-PH-10001817",
         "Wilson Electronics DB Pro Signal Booster",
         4721.128,
         472.1128,
         10
        ],
        [
         "OFF-AR-10003056",
         "Newell 341",
         96.728,
         13.818285714285713,
         7
        ],
        [
         "OFF-LA-10001175",
         "Avery 514",
         47.808,
         11.952,
         4
        ],
        [
         "OFF-BI-10002133",
         "Wilson Jones Elliptical Ring 3 1/2\" Capacity Binders, 800 sheets",
         834.6000000000001,
         104.32500000000002,
         8
        ],
        [
         "FUR-FU-10001196",
         "DAX Cubicle Frames - 8x10",
         125.786,
         25.1572,
         5
        ],
        [
         "OFF-PA-10000357",
         "Xerox 1888",
         1231.656,
         205.27599999999998,
         6
        ],
        [
         "TEC-PH-10002555",
         "Nortel Meridian M5316 Digital phone",
         1657.2930000000001,
         414.32325000000003,
         4
        ],
        [
         "OFF-ST-10001590",
         "Tenex Personal Project File with Scoop Front Design, Black",
         436.75199999999995,
         54.593999999999994,
         8
        ],
        [
         "OFF-ST-10003324",
         "Belkin OmniView SE Rackmount Kit",
         248.35999999999999,
         124.17999999999999,
         2
        ],
        [
         "OFF-LA-10004484",
         "Avery 476",
         120.596,
         13.399555555555557,
         9
        ],
        [
         "TEC-AC-10002926",
         "Logitech Wireless Marathon Mouse M705",
         1409.7179999999998,
         176.21474999999998,
         8
        ],
        [
         "OFF-PA-10003022",
         "Xerox 1992",
         86.112,
         21.528,
         4
        ],
        [
         "OFF-BI-10003655",
         "Durable Pressboard Binders",
         37.239999999999995,
         18.619999999999997,
         2
        ],
        [
         "FUR-FU-10000206",
         "GE General Purpose, Extra Long Life, Showcase & Floodlight Incandescent Bulbs",
         45.396,
         6.485142857142857,
         7
        ],
        [
         "OFF-BI-10001575",
         "GBC Linen Binding Covers",
         207.56600000000003,
         34.59433333333334,
         6
        ],
        [
         "OFF-FA-10001843",
         "Staples",
         50.388,
         12.597,
         4
        ],
        [
         "OFF-FA-10004395",
         "Plymouth Boxed Rubber Bands by Plymouth",
         77.244,
         15.4488,
         5
        ],
        [
         "TEC-AC-10001874",
         "Logitech Wireless Anywhere Mouse MX for PC and Mac",
         551.908,
         183.96933333333334,
         3
        ],
        [
         "OFF-AP-10004859",
         "Acco 6 Outlet Guardian Premium Surge Suppressor",
         432.4320000000001,
         54.05400000000001,
         8
        ],
        [
         "OFF-PA-10000312",
         "Xerox 1955",
         182.72,
         91.36,
         2
        ],
        [
         "OFF-BI-10003712",
         "Acco Pressboard Covers with Storage Hooks, 14 7/8\" x 11\", Light Blue",
         131.097,
         11.917909090909092,
         11
        ],
        [
         "OFF-BI-10003727",
         "Avery Durable Slant Ring Binders With Label Holder",
         77.32999999999998,
         9.666249999999998,
         8
        ],
        [
         "OFF-PA-10001509",
         "Recycled Desk Saver Line \"While You Were Out\" Book, 5 1/2\" X 4\"",
         268.5,
         53.7,
         5
        ],
        [
         "OFF-PA-10003591",
         "Southworth 100% Cotton The Best Paper",
         151.536,
         50.512,
         3
        ],
        [
         "TEC-AC-10000171",
         "Verbatim 25 GB 6x Blu-ray Single Layer Recordable Disc, 25/Pack",
         248.29199999999997,
         49.65839999999999,
         5
        ],
        [
         "OFF-LA-10003663",
         "Avery 498",
         35.257999999999996,
         11.752666666666665,
         3
        ],
        [
         "OFF-AR-10000799",
         "Col-Erase Pencils with Erasers",
         37.696,
         18.848,
         2
        ],
        [
         "OFF-BI-10002794",
         "Avery Trapezoid Ring Binder, 3\" Capacity, Black, 1040 sheets",
         545.034,
         77.862,
         7
        ],
        [
         "OFF-PA-10001970",
         "Xerox 1881",
         454.36,
         37.86333333333334,
         12
        ],
        [
         "TEC-AC-10004353",
         "Hypercom P1300 Pinpad",
         957.5999999999999,
         159.6,
         6
        ],
        [
         "FUR-TA-10002645",
         "Hon Rectangular Conference Tables",
         1410.872,
         352.718,
         4
        ],
        [
         "OFF-AP-10002651",
         "Hoover Upright Vacuum With Dirt Cup",
         2966.453,
         494.40883333333335,
         6
        ],
        [
         "OFF-PA-10004040",
         "Universal Premium White Copier/Laser Paper (20Lb. and 87 Bright)",
         129.168,
         25.8336,
         5
        ],
        [
         "TEC-AC-10004761",
         "Maxell 4.7GB DVD+RW 3/Pack",
         264.438,
         66.1095,
         4
        ],
        [
         "OFF-EN-10003798",
         "Recycled Interoffice Envelopes with Re-Use-A-Seal Closure, 10 x 13",
         68.28,
         34.14,
         2
        ],
        [
         "OFF-AP-10002578",
         "Fellowes Premier Superior Surge Suppressor, 10-Outlet, With Phone and Remote",
         929.4800000000001,
         132.78285714285715,
         7
        ],
        [
         "FUR-CH-10003396",
         "Global Deluxe Steno Chair",
         1770.5400000000002,
         177.05400000000003,
         10
        ],
        [
         "OFF-BI-10003982",
         "Wilson Jones Century Plastic Molded Ring Binders",
         533.789,
         59.309888888888885,
         9
        ],
        [
         "OFF-AP-10002495",
         "Acco Smartsocket Table Surge Protector, 6 Color-Coded Adapter Outlets",
         452.96500000000003,
         150.98833333333334,
         3
        ],
        [
         "TEC-PH-10001530",
         "Cisco Unified IP Phone 7945G VoIP phone",
         3003.846,
         500.641,
         6
        ],
        [
         "TEC-PH-10003072",
         "Panasonic KX-TG9541B DECT 6.0 Digital 2-Line Expandable Cordless Phone With Digital Answering System",
         2081.21,
         416.242,
         5
        ],
        [
         "TEC-AC-10003198",
         "Enermax Acrylux Wireless Keyboard",
         2096.882,
         349.48033333333336,
         6
        ],
        [
         "OFF-PA-10003848",
         "Xerox 1997",
         165.88800000000003,
         23.69828571428572,
         7
        ],
        [
         "TEC-PH-10004522",
         "Dexim XPower Skin Super-Thin Power Case for iPhone 5 - Black",
         467.92,
         155.97333333333333,
         3
        ],
        [
         "TEC-PH-10003273",
         "AT&T TR1909W",
         1606.034,
         401.5085,
         4
        ],
        [
         "OFF-ST-10001511",
         "Space Solutions Commercial Steel Shelving",
         1599.691,
         266.61516666666665,
         6
        ],
        [
         "OFF-ST-10000107",
         "Fellowes Super Stor/Drawer",
         477.3,
         119.325,
         4
        ],
        [
         "OFF-BI-10004995",
         "GBC DocuBind P400 Electric Binding System",
         3003.846,
         500.641,
         6
        ],
        [
         "OFF-PA-10004734",
         "Southworth Structures Collection",
         72.8,
         36.4,
         2
        ],
        [
         "OFF-EN-10003845",
         "Colored Envelopes",
         50.922,
         10.1844,
         5
        ],
        [
         "FUR-FU-10000521",
         "Seth Thomas 14\" Putty-Colored Wall Clock",
         357.948,
         89.487,
         4
        ],
        [
         "OFF-AR-10002467",
         "Dixon Ticonderoga Pencils",
         28.608,
         14.304,
         2
        ],
        [
         "TEC-MA-10000418",
         "Cubify CubeX 3D Printer Double Head Print",
         1501.923,
         500.641,
         3
        ],
        [
         "OFF-AP-10000326",
         "Belkin 7 Outlet SurgeMaster Surge Protector with Phone Protection",
         157.92,
         157.92,
         1
        ],
        [
         "TEC-PH-10001924",
         "iHome FM Clock Radio with Lightning Dock",
         699.9000000000001,
         139.98000000000002,
         5
        ],
        [
         "TEC-AC-10003628",
         "Logitech 910-002974 M325 Wireless Mouse for Web Scrolling",
         1409.53,
         93.96866666666666,
         15
        ],
        [
         "TEC-PH-10002103",
         "Jabra SPEAK 410",
         2899.88,
         322.2088888888889,
         9
        ],
        [
         "TEC-PH-10001615",
         "AT&T CL82213",
         481.23400000000004,
         96.24680000000001,
         5
        ],
        [
         "FUR-CH-10001973",
         "Office Star Flex Back Scooter Chair with White Frame",
         1743.6170000000002,
         249.08814285714288,
         7
        ],
        [
         "FUR-CH-10004086",
         "Hon 4070 Series Pagoda Armless Upholstered Stacking Chairs",
         3786.8170000000005,
         473.35212500000006,
         8
        ],
        [
         "OFF-PA-10002870",
         "Ampad Phone Message Book, Recycled, 400 Message Capacity, 5 ¾” x 11”",
         124.8,
         24.96,
         5
        ],
        [
         "OFF-AR-10001972",
         "Newell 323",
         21.168,
         7.056,
         3
        ],
        [
         "OFF-AR-10001221",
         "Dixon Ticonderoga Erasable Colored Pencil Set, 12-Color",
         75.348,
         37.674,
         2
        ],
        [
         "OFF-PA-10002960",
         "Xerox 1926",
         34.86,
         34.86,
         1
        ],
        [
         "TEC-PH-10001530",
         "Plantronics Voyager Pro Legend",
         1242.205,
         414.0683333333333,
         3
        ],
        [
         "OFF-AP-10001394",
         "Harmony Air Purifier",
         1596.841,
         319.3682,
         5
        ],
        [
         "TEC-PH-10002680",
         "Samsung Galaxy Note 3",
         1501.923,
         500.641,
         3
        ],
        [
         "OFF-PA-10003395",
         "Xerox 1941",
         1507.201,
         301.4402,
         5
        ],
        [
         "FUR-BO-10000330",
         "Sauder Camden County Barrister Bookcase, Planked Cherry Finish",
         1064.624,
         354.87466666666666,
         3
        ],
        [
         "TEC-PH-10003357",
         "Grandstream GXP2100 Mainstream Business Phone",
         596.622,
         149.1555,
         4
        ],
        [
         "TEC-PH-10004080",
         "Avaya 5410 Digital phone",
         231.166,
         115.583,
         2
        ],
        [
         "OFF-PA-10001166",
         "Xerox 2",
         137.376,
         15.264000000000001,
         9
        ],
        [
         "OFF-AR-10000937",
         "Dixon Ticonderoga Core-Lock Colored Pencils, 48-Color Set",
         431.28999999999996,
         215.64499999999998,
         2
        ],
        [
         "TEC-AC-10003832",
         "Logitech P710e Mobile Speakerphone",
         4211.12,
         467.90222222222224,
         9
        ],
        [
         "OFF-PA-10002586",
         "Xerox 1970",
         101.59200000000001,
         16.932000000000002,
         6
        ],
        [
         "TEC-AC-10004469",
         "Microsoft Sculpt Comfort Mouse",
         1414.2299999999998,
         157.13666666666666,
         9
        ],
        [
         "OFF-AR-10004587",
         "Boston 1827 Commercial Additional Cutter, Drive Gear & Gear Rack for 1606",
         59.489999999999995,
         29.744999999999997,
         2
        ],
        [
         "FUR-FU-10003424",
         "Nu-Dell Oak Frame",
         151.656,
         50.552,
         3
        ],
        [
         "OFF-PA-10000697",
         "TOPS Voice Message Log Book, Flash Format",
         49.504,
         16.50133333333333,
         3
        ],
        [
         "TEC-MA-10004626",
         "Lexmark 20R1285 X6650 Wireless All-in-One Printer",
         600,
         300,
         2
        ],
        [
         "OFF-PA-10000350",
         "Message Book, Standard Line \"While You Were Out\", 5 1/2\" X 4\", 200 Sets/Book",
         51.36,
         25.68,
         2
        ],
        [
         "OFF-BI-10003429",
         "Cardinal HOLDit! Binder Insert Strips,Extra Strips",
         136.72800000000004,
         15.192000000000004,
         9
        ],
        [
         "FUR-CH-10004675",
         "Lifetime Advantage Folding Chairs, 4/Carton",
         3157.445,
         451.06357142857144,
         7
        ],
        [
         "OFF-AR-10000716",
         "DIXON Ticonderoga Erasable Checking Pencils",
         94.85999999999999,
         13.55142857142857,
         7
        ],
        [
         "OFF-SU-10001225",
         "Staple remover",
         80.224,
         10.028,
         8
        ],
        [
         "OFF-BI-10001670",
         "Vinyl Sectional Post Binders",
         810.5500000000001,
         81.055,
         10
        ],
        [
         "OFF-PA-10001846",
         "Xerox 1899",
         69.35999999999999,
         13.871999999999996,
         5
        ],
        [
         "FUR-FU-10001861",
         "Floodlight Indoor Halogen Bulbs, 1 Bulb per Pack, 60 Watts",
         434.56000000000006,
         72.42666666666668,
         6
        ],
        [
         "FUR-CH-10003746",
         "Hon 4070 Series Pagoda Round Back Stacking Chairs",
         2952.577,
         492.0961666666667,
         6
        ],
        [
         "OFF-FA-10004076",
         "Translucent Push Pins by OIC",
         24.552,
         8.184,
         3
        ],
        [
         "OFF-AR-10002280",
         "Staples in misc. colors",
         54.348,
         27.174,
         2
        ],
        [
         "OFF-PA-10002005",
         "Xerox 225",
         196.99200000000002,
         21.888,
         9
        ],
        [
         "TEC-PH-10004614",
         "AT&T 841000 Phone",
         1563.241,
         223.32014285714286,
         7
        ],
        [
         "OFF-ST-10002486",
         "Eldon Shelf Savers Cubes and Bins",
         300.14,
         37.5175,
         8
        ],
        [
         "TEC-PH-10001835",
         "Jawbone JAMBOX Wireless Bluetooth Speaker",
         1501.923,
         500.641,
         3
        ],
        [
         "OFF-BI-10002557",
         "Presstex Flexible Ring Binders",
         92.82000000000001,
         11.602500000000001,
         8
        ],
        [
         "OFF-BI-10001553",
         "SpineVue Locking Slant-D Ring Binders by Cardinal",
         110.594,
         13.82425,
         8
        ],
        [
         "OFF-FA-10000992",
         "Acco Clips to Go Binder Clips, 24 Clips in Two Sizes",
         66.03,
         13.206,
         5
        ],
        [
         "TEC-PH-10000560",
         "Samsung Galaxy S III - 16GB - pebble blue (T-Mobile)",
         3003.846,
         500.641,
         6
        ],
        [
         "OFF-BI-10003984",
         "Lock-Up Easel 'Spel-Binder'",
         704.6909999999999,
         100.67014285714285,
         7
        ],
        [
         "TEC-PH-10000148",
         "Cyber Acoustics AC-202b Speech Recognition Stereo Headset",
         119.508,
         23.9016,
         5
        ],
        [
         "TEC-PH-10000141",
         "Clearsounds A400",
         488.326,
         162.77533333333335,
         3
        ],
        [
         "OFF-AR-10004790",
         "Staples in misc. colors",
         28.728,
         28.728,
         1
        ],
        [
         "OFF-ST-10003058",
         "Eldon Mobile Mega Data Cart  Mega Stackable  Add-On Trays",
         709.5,
         118.25,
         6
        ],
        [
         "FUR-CH-10004289",
         "Global Super Steno Chair",
         2276.271,
         325.18157142857143,
         7
        ],
        [
         "OFF-PA-10000477",
         "Xerox 1952",
         87.648,
         29.215999999999998,
         3
        ],
        [
         "FUR-FU-10003975",
         "Eldon Advantage Chair Mats for Low to Medium Pile Carpets",
         563.03,
         112.606,
         5
        ],
        [
         "FUR-FU-10003096",
         "Master Giant Foot Doorstop, Safety Yellow",
         83.49,
         27.83,
         3
        ],
        [
         "FUR-FU-10002685",
         "Executive Impressions 13-1/2\" Indoor/Outdoor Wall Clock",
         56.099999999999994,
         28.049999999999997,
         2
        ],
        [
         "OFF-BI-10002867",
         "GBC Recycled Regency Composition Covers",
         1171.688,
         234.3376,
         5
        ],
        [
         "TEC-AC-10002076",
         "Microsoft Natural Keyboard Elite",
         1458.721,
         364.68025,
         4
        ],
        [
         "OFF-EN-10001099",
         "Staple envelope",
         160.392,
         32.0784,
         5
        ],
        [
         "OFF-EN-10001335",
         "White Business Envelopes with Contemporary Seam, Recycled White Business Envelopes",
         336.95199999999994,
         56.158666666666655,
         6
        ],
        [
         "OFF-FA-10004248",
         "Advantus T-Pin Paper Clips",
         64.042,
         12.8084,
         5
        ],
        [
         "OFF-AR-10002704",
         "Boston 1900 Electric Pencil Sharpener",
         14.98,
         14.98,
         1
        ],
        [
         "TEC-PH-10003174",
         "RCA ViSYS 25825 Wireless digital phone",
         727.944,
         363.972,
         2
        ],
        [
         "OFF-BI-10002003",
         "Ibico Presentation Index for Binding Systems",
         72.038,
         10.291142857142857,
         7
        ],
        [
         "OFF-BI-10004632",
         "GBC Binding covers",
         137.26999999999998,
         45.75666666666666,
         3
        ],
        [
         "TEC-PH-10003580",
         "Cisco IP Phone 7961G-GE VoIP phone",
         1521.074,
         380.2685,
         4
        ],
        [
         "OFF-PA-10000565",
         "Easy-staple paper",
         279.9,
         139.95,
         2
        ],
        [
         "OFF-ST-10002292",
         "Sauder Facets Collection Locker/File Cabinet, Sky Alder Finish",
         1001.282,
         500.641,
         2
        ],
        [
         "TEC-PH-10003885",
         "Cisco SPA508G",
         910.662,
         182.13240000000002,
         5
        ],
        [
         "FUR-BO-10003159",
         "Sauder Camden County Collection Libraries, Planked Cherry Finish",
         1909.8180000000002,
         272.8311428571429,
         7
        ],
        [
         "OFF-LA-10000248",
         "Avery 52",
         68.634,
         11.439,
         6
        ],
        [
         "FUR-BO-10002213",
         "Sauder Forest Hills Library, Woodland Oak Finish",
         1670.775,
         417.69375,
         4
        ],
        [
         "OFF-AR-10000817",
         "Manco Dry-Lighter Erasable Highlighter",
         88.16,
         12.594285714285714,
         7
        ],
        [
         "TEC-PH-10003875",
         "KLD Oscar II Style Snap-on Ultra Thin Side Flip Synthetic Leather Cover Case for HTC One HTC M7",
         126.36,
         42.12,
         3
        ],
        [
         "OFF-PA-10003656",
         "Xerox 1935",
         538.1519999999999,
         134.53799999999998,
         4
        ],
        [
         "TEC-MA-10003493",
         "Penpower WorldCard Pro Card Scanner",
         91.475,
         91.475,
         1
        ],
        [
         "FUR-FU-10003691",
         "Eldon Image Series Desk Accessories, Ebony",
         180.30999999999997,
         36.062,
         5
        ],
        [
         "OFF-BI-10001359",
         "GBC DocuBind TL300 Electric Binding System",
         5507.0509999999995,
         500.64099999999996,
         11
        ],
        [
         "OFF-LA-10003148",
         "Avery 51",
         95.75999999999999,
         19.151999999999997,
         5
        ],
        [
         "OFF-BI-10003460",
         "Acco 3-Hole Punch",
         137.53199999999998,
         15.28133333333333,
         9
        ],
        [
         "OFF-PA-10001947",
         "Xerox 1974",
         57.408,
         14.352,
         4
        ],
        [
         "FUR-CH-10001854",
         "Office Star - Professional Matrix Back Chair with 2-to-1 Synchro Tilt and Mesh Fabric Seat",
         3855.467,
         481.933375,
         8
        ],
        [
         "TEC-PH-10002200",
         "Aastra 6757i CT Wireless VoIP phone",
         2380.098,
         396.683,
         6
        ],
        [
         "OFF-EN-10002986",
         "#10-4 1/8\" x 9 1/2\" Premium Diagonal Seam Envelopes",
         176.288,
         88.144,
         2
        ],
        [
         "OFF-PA-10000587",
         "Array Parchment Paper, Assorted Colors",
         62.608000000000004,
         20.869333333333334,
         3
        ],
        [
         "OFF-LA-10002368",
         "Avery 479",
         16.704,
         5.5680000000000005,
         3
        ],
        [
         "FUR-CH-10001797",
         "Safco Chair Connectors, 6/Carton",
         881.192,
         220.298,
         4
        ],
        [
         "TEC-PH-10001949",
         "Cisco SPA 501G IP Phone",
         213.48,
         213.48,
         1
        ],
        [
         "OFF-AR-10002671",
         "Hunt BOSTON Model 1606 High-Volume Electric Pencil Sharpener, Beige",
         500.641,
         500.641,
         1
        ],
        [
         "FUR-FU-10003829",
         "Stackable Trays",
         65.296,
         9.328000000000001,
         7
        ],
        [
         "TEC-AC-10002600",
         "Belkin QODE FastFit Bluetooth Keyboard",
         495.6,
         247.8,
         2
        ],
        [
         "OFF-EN-10000927",
         "Jet-Pak Recycled Peel 'N' Seal Padded Mailers",
         552.706,
         138.1765,
         4
        ],
        [
         "OFF-PA-10003022",
         "Standard Line “While You Were Out” Hardbound Telephone Message Book",
         211.00799999999998,
         105.50399999999999,
         2
        ],
        [
         "TEC-PH-10002114",
         "Xiaomi Mi3",
         500.641,
         500.641,
         1
        ],
        [
         "TEC-PH-10004912",
         "Cisco SPA112 2 Port Phone Adapter",
         351.68,
         175.84,
         2
        ],
        [
         "OFF-ST-10000918",
         "Crate-A-Files",
         176.58,
         25.225714285714286,
         7
        ],
        [
         "OFF-AR-10002952",
         "Stanley Contemporary Battery Pencil Sharpeners",
         293.70000000000005,
         73.42500000000001,
         4
        ],
        [
         "OFF-AR-10004010",
         "Hunt Boston Vacuum Mount KS Pencil Sharpener",
         671.8080000000001,
         134.3616,
         5
        ],
        [
         "OFF-AP-10001005",
         "Honeywell Quietcare HEPA Air Cleaner",
         1761.7599999999998,
         293.6266666666666,
         6
        ],
        [
         "OFF-AR-10002804",
         "Faber Castell Col-Erase Pencils",
         37.164,
         7.4328,
         5
        ],
        [
         "OFF-LA-10004677",
         "Self-Adhesive Address Labels for Typewriters with Dispenser Box",
         26.568,
         13.284,
         2
        ],
        [
         "TEC-PH-10004165",
         "Mitel MiVoice 5330e IP Phone",
         4329.456999999999,
         481.05077777777774,
         9
        ],
        [
         "OFF-PA-10001357",
         "Xerox 1886",
         651.4399999999999,
         130.28799999999998,
         5
        ],
        [
         "TEC-AC-10001998",
         "Logitech LS21 Speaker System - PC Multimedia - 2.1-CH - Wired",
         207.896,
         34.64933333333333,
         6
        ],
        [
         "OFF-BI-10003718",
         "GBC Therma-A-Bind 250T Electric Binding System",
         1001.282,
         500.641,
         2
        ],
        [
         "TEC-MA-10002981",
         "I.R.I.S IRISCard Anywhere 5 Card Scanner",
         350.973,
         350.973,
         1
        ],
        [
         "TEC-MA-10001031",
         "Socket Bluetooth Cordless Hand Scanner (CHS)",
         500.641,
         500.641,
         1
        ],
        [
         "OFF-BI-10003291",
         "Wilson Jones Leather-Like Binders with DublLock Round Rings",
         238.32900000000004,
         19.860750000000003,
         12
        ],
        [
         "OFF-AR-10001573",
         "American Pencil",
         48.93,
         8.155,
         6
        ],
        [
         "OFF-PA-10003543",
         "Xerox 1985",
         25.92,
         12.96,
         2
        ],
        [
         "TEC-MA-10001972",
         "Okidata C331dn Printer",
         2421.364,
         484.2728,
         5
        ],
        [
         "OFF-BI-10001759",
         "Acco Pressboard Covers with Storage Hooks, 14 7/8\" x 11\", Dark Blue",
         59.817,
         11.9634,
         5
        ],
        [
         "OFF-BI-10000201",
         "Avery Triangle Shaped Sheet Lifters, Black, 2/Pack",
         25.830000000000002,
         4.305000000000001,
         6
        ],
        [
         "OFF-AP-10002222",
         "Staple holder",
         107.50800000000001,
         26.877000000000002,
         4
        ],
        [
         "TEC-MA-10002428",
         "Fellowes Powershred HS-440 4-Sheet High Security Shredder",
         1337.587,
         445.8623333333333,
         3
        ],
        [
         "OFF-SU-10001218",
         "Fiskars Softgrip Scissors",
         307.44,
         43.92,
         7
        ],
        [
         "OFF-LA-10004853",
         "Avery 483",
         83.66400000000002,
         13.944000000000003,
         6
        ],
        [
         "OFF-BI-10003638",
         "GBC Durable Plastic Covers",
         323.14500000000004,
         46.16357142857144,
         7
        ],
        [
         "OFF-PA-10001685",
         "Easy-staple paper",
         257.556,
         51.511199999999995,
         5
        ],
        [
         "TEC-MA-10001127",
         "HP Designjet T520 Inkjet Large Format Printer - 24\" Color",
         1501.923,
         500.641,
         3
        ],
        [
         "OFF-SU-10004115",
         "Acme Stainless Steel Office Snips",
         81.42399999999999,
         20.355999999999998,
         4
        ],
        [
         "OFF-PA-10002222",
         "Xerox Color Copier Paper, 11\" x 17\", Ream",
         593.84,
         98.97333333333334,
         6
        ],
        [
         "OFF-PA-10002499",
         "Xerox 1890",
         244.7,
         122.35,
         2
        ],
        [
         "OFF-LA-10000134",
         "Avery 511",
         56.672,
         9.445333333333332,
         6
        ],
        [
         "TEC-AC-10000397",
         "Perixx PERIBOARD-512B, Ergonomic Split Keyboard",
         419.88,
         139.96,
         3
        ],
        [
         "OFF-AP-10002472",
         "3M Office Air Cleaner",
         259.8,
         129.9,
         2
        ],
        [
         "TEC-AC-10002380",
         "Sony 8GB Class 10 Micro SDHC R40 Memory Card",
         27.192,
         27.192,
         1
        ],
        [
         "OFF-FA-10001561",
         "Stockwell Push Pins",
         69.76,
         8.72,
         8
        ],
        [
         "OFF-EN-10001434",
         "Strathmore #10 Envelopes, Ultimate White",
         632.52,
         158.13,
         4
        ],
        [
         "OFF-ST-10002276",
         "Safco Steel Mobile File Cart",
         683.552,
         136.7104,
         5
        ],
        [
         "FUR-FU-10004071",
         "Luxo Professional Magnifying Clamp-On Fluorescent Lamps",
         1249.513,
         312.37825,
         4
        ],
        [
         "TEC-PH-10002583",
         "iOttie HLCRIO102 Car Mount",
         215.892,
         43.178399999999996,
         5
        ],
        [
         "FUR-TA-10004619",
         "Hon Non-Folding Utility Tables",
         2448.632,
         489.7264,
         5
        ],
        [
         "TEC-PH-10004531",
         "OtterBox Commuter Series Case - iPhone 5 & 5s",
         285.87,
         71.4675,
         4
        ],
        [
         "TEC-PH-10001795",
         "RCA H5401RE1 DECT 6.0 4-Line Cordless Handset With Caller ID/Call Waiting",
         239.97,
         239.97,
         1
        ],
        [
         "OFF-BI-10001510",
         "Deluxe Heavy-Duty Vinyl Round Ring Binder",
         504.24,
         72.03428571428572,
         7
        ],
        [
         "OFF-BI-10004465",
         "Avery Durable Slant Ring Binders",
         51.480000000000004,
         10.296000000000001,
         5
        ],
        [
         "TEC-PH-10002447",
         "AT&T CL83451 4-Handset Telephone",
         1406.997,
         351.74925,
         4
        ],
        [
         "FUR-FU-10000221",
         "Master Caster Door Stop, Brown",
         176.78400000000002,
         19.64266666666667,
         9
        ],
        [
         "OFF-ST-10000877",
         "Recycled Steel Personal File for Standard File Folders",
         939.93,
         313.31,
         3
        ],
        [
         "OFF-BI-10004099",
         "GBC VeloBinder Strips",
         52.99199999999999,
         13.247999999999998,
         4
        ],
        [
         "FUR-FU-10001546",
         "Dana Swing-Arm Lamps",
         108.93599999999998,
         15.56228571428571,
         7
        ],
        [
         "OFF-ST-10000675",
         "File Shuttle II and Handi-File, Black",
         1125.1480000000001,
         160.7354285714286,
         7
        ],
        [
         "OFF-BI-10003350",
         "Acco Expandable Hanging Binders",
         33.176,
         11.058666666666667,
         3
        ],
        [
         "FUR-FU-10001756",
         "Eldon Expressions Desk Accessory, Wood Photo Frame, Mahogany",
         167.55200000000002,
         33.510400000000004,
         5
        ],
        [
         "FUR-TA-10003748",
         "Bevis 36 x 72 Conference Tables",
         2697.027,
         337.128375,
         8
        ],
        [
         "OFF-PA-10001471",
         "Strathmore Photo Frame Cards",
         116.96000000000001,
         29.240000000000002,
         4
        ],
        [
         "OFF-PA-10000533",
         "Southworth Parchment Paper & Envelopes",
         70.632,
         14.1264,
         5
        ],
        [
         "OFF-ST-10003996",
         "Letter/Legal File Tote with Clear Snap-On Lid, Black Granite",
         218.416,
         54.604,
         4
        ],
        [
         "OFF-PA-10000743",
         "Xerox 1977",
         117.56799999999998,
         23.513599999999997,
         5
        ],
        [
         "FUR-BO-10004357",
         "O'Sullivan Living Dimensions 3-Shelf Bookcases",
         1302.752,
         434.25066666666663,
         3
        ],
        [
         "TEC-PH-10001061",
         "Apple iPhone 5C",
         1140.577,
         285.14425,
         4
        ],
        [
         "OFF-BI-10003094",
         "Self-Adhesive Ring Binder Labels",
         22.88,
         5.72,
         4
        ],
        [
         "OFF-PA-10001289",
         "White Computer Printout Paper by Universal",
         1279.08,
         159.885,
         8
        ],
        [
         "OFF-PA-10000806",
         "Xerox 1934",
         1097.208,
         219.44160000000002,
         5
        ],
        [
         "OFF-ST-10003641",
         "Space Solutions Industrial Galvanized Steel Shelving.",
         520.08,
         173.36,
         3
        ],
        [
         "FUR-FU-10002030",
         "Executive Impressions 14\" Contract Wall Clock with Quartz Movement",
         97.812,
         48.906,
         2
        ],
        [
         "TEC-MA-10000112",
         "Panasonic KX MB2061 Multifunction Printer",
         500.641,
         500.641,
         1
        ],
        [
         "TEC-AC-10000580",
         "Logitech G13 Programmable Gameboard with LCD Display",
         1039.8700000000001,
         259.96750000000003,
         4
        ],
        [
         "OFF-PA-10003363",
         "Xerox 204",
         110.16000000000001,
         27.540000000000003,
         4
        ],
        [
         "FUR-CH-10002372",
         "Office Star - Ergonomically Designed Knee Chair",
         1311.8760000000002,
         187.41085714285717,
         7
        ],
        [
         "OFF-LA-10000240",
         "Self-Adhesive Address Labels for Typewriters by Universal",
         153.51,
         21.93,
         7
        ],
        [
         "TEC-AC-10002399",
         "SanDisk Cruzer 32 GB USB Flash Drive",
         361.38,
         60.23,
         6
        ],
        [
         "OFF-AR-10000634",
         "Newell 320",
         81.32000000000001,
         11.617142857142857,
         7
        ],
        [
         "OFF-PA-10004665",
         "Advantus Motivational Note Cards",
         227.94,
         45.588,
         5
        ],
        [
         "OFF-PA-10000575",
         "Wirebound Message Books, Four 2 3/4 x 5 White Forms per Page",
         218.094,
         31.156285714285712,
         7
        ],
        [
         "OFF-ST-10002790",
         "Safco Industrial Shelving",
         827.12,
         165.424,
         5
        ],
        [
         "OFF-SU-10000952",
         "Fiskars Home & Office Scissors",
         62.16,
         31.08,
         2
        ],
        [
         "OFF-AR-10001227",
         "Newell 338",
         23.52,
         11.76,
         2
        ],
        [
         "FUR-FU-10002813",
         "DAX Contemporary Wood Frame with Silver Metal Mat, Desktop, 11 x 14 Size",
         291.45599999999996,
         58.29119999999999,
         5
        ],
        [
         "OFF-AR-10004272",
         "Newell 308",
         8.4,
         4.2,
         2
        ],
        [
         "TEC-AC-10000474",
         "Kensington Expert Mouse Optical USB Trackball for PC or Mac",
         1690.822,
         281.80366666666663,
         6
        ],
        [
         "OFF-AR-10003651",
         "Newell 350",
         62.32,
         10.386666666666667,
         6
        ],
        [
         "OFF-AR-10002578",
         "Newell 335",
         34.56,
         8.64,
         4
        ],
        [
         "OFF-ST-10001837",
         "SAFCO Mobile Desk Side File, Wire Frame",
         1240.04,
         155.005,
         8
        ],
        [
         "OFF-ST-10001097",
         "Office Impressions Heavy Duty Welded Shelving & Multimedia Storage Drawers",
         2503.205,
         500.64099999999996,
         5
        ],
        [
         "OFF-AP-10001271",
         "Eureka The Boss Cordless Rechargeable Stick Vac",
         948.228,
         158.03799999999998,
         6
        ],
        [
         "OFF-ST-10000419",
         "Rogers Jumbo File, Granite",
         277.03200000000004,
         46.172000000000004,
         6
        ],
        [
         "OFF-PA-10001661",
         "Xerox 1922",
         11.952,
         11.952,
         1
        ],
        [
         "OFF-PA-10001801",
         "Xerox 193",
         77.74000000000001,
         25.913333333333338,
         3
        ],
        [
         "TEC-AC-10002018",
         "AmazonBasics 3-Button USB Wired Mouse",
         88.074,
         17.6148,
         5
        ],
        [
         "TEC-MA-10002109",
         "HP Officejet Pro 8600 e-All-In-One Printer, Copier, Scanner, Fax",
         449.97,
         224.985,
         2
        ],
        [
         "OFF-BI-10000343",
         "Pressboard Covers with Storage Hooks, 9 1/2\" x 11\", Light Blue",
         102.619,
         8.551583333333333,
         12
        ],
        [
         "FUR-FU-10002111",
         "Master Caster Door Stop, Large Brown",
         59.696,
         19.898666666666667,
         3
        ],
        [
         "FUR-CH-10002780",
         "Office Star - Task Chair with Contemporary Loop Arms",
         600.4680000000001,
         300.23400000000004,
         2
        ],
        [
         "TEC-AC-10000109",
         "Sony Micro Vault Click 16 GB USB 2.0 Flash Drive",
         1489.334,
         165.48155555555556,
         9
        ],
        [
         "FUR-CH-10000015",
         "Hon Multipurpose Stacking Arm Chairs",
         3003.846,
         500.641,
         6
        ],
        [
         "FUR-TA-10001520",
         "Lesro Sheffield Collection Coffee Table, End Table, Center Table, Corner Table",
         2298.114,
         255.346,
         9
        ],
        [
         "FUR-CH-10003817",
         "Global Value Steno Chair, Gray",
         2158.843,
         215.8843,
         10
        ],
        [
         "OFF-LA-10002271",
         "Smead Alpha-Z Color-Coded Second Alphabetical Labels and Starter Set",
         48.04799999999999,
         9.609599999999997,
         5
        ],
        [
         "OFF-PA-10004355",
         "Xerox 231",
         79.05600000000001,
         15.811200000000003,
         5
        ],
        [
         "TEC-AC-10001266",
         "Memorex Micro Travel Drive 8 GB",
         299,
         37.375,
         8
        ],
        [
         "OFF-BI-10003007",
         "Premium Transparent Presentation Covers, No Pattern/Clear, 8 1/2\" x 11\"",
         698.04,
         99.72,
         7
        ],
        [
         "OFF-PA-10004733",
         "Things To Do Today Spiral Book",
         82.368,
         27.456,
         3
        ],
        [
         "TEC-CO-10004202",
         "Brother DCP1000 Digital 3 in 1 Multifunction Machine",
         3442.516,
         491.788,
         7
        ],
        [
         "TEC-AC-10001013",
         "Logitech ClearChat Comfort/USB Headset H390",
         533.078,
         88.84633333333333,
         6
        ],
        [
         "OFF-AP-10001626",
         "Commercial WindTunnel Clean Air Upright Vacuum, Replacement Belts, Filtration Bags",
         50.57,
         7.224285714285714,
         7
        ],
        [
         "OFF-ST-10003306",
         "Letter Size Cart",
         3103.217,
         387.902125,
         8
        ],
        [
         "OFF-AR-10003481",
         "Newell 348",
         65.6,
         10.933333333333332,
         6
        ],
        [
         "OFF-PA-10001019",
         "Xerox 1884",
         543.456,
         67.932,
         8
        ],
        [
         "TEC-AC-10001383",
         "Logitech Wireless Touch Keyboard K400",
         364.854,
         121.618,
         3
        ],
        [
         "FUR-FU-10000023",
         "Eldon Wave Desk Accessories",
         236.778,
         26.308666666666667,
         9
        ],
        [
         "FUR-CH-10002017",
         "SAFCO Optional Arm Kit for Workspace Cribbage Stacking Chair",
         245.08800000000002,
         49.0176,
         5
        ],
        [
         "TEC-AC-10002345",
         "HP Standard 104 key PS/2 Keyboard",
         275.5,
         45.916666666666664,
         6
        ],
        [
         "OFF-SU-10004231",
         "Acme Tagit Stainless Steel Antibacterial Scissors",
         196.01999999999998,
         32.669999999999995,
         6
        ],
        [
         "TEC-PH-10002807",
         "Motorla HX550 Universal Bluetooth Headset",
         419.23,
         104.8075,
         4
        ],
        [
         "OFF-SU-10000946",
         "Staple remover",
         153.216,
         38.304,
         4
        ],
        [
         "FUR-FU-10003798",
         "Ultra Door Kickplate, 8\"H x 34\"W",
         158.24,
         79.12,
         2
        ],
        [
         "OFF-AP-10001564",
         "Hoover Commercial Lightweight Upright Vacuum with E-Z Empty Dirt Cup",
         1023.3520000000001,
         341.11733333333336,
         3
        ],
        [
         "TEC-PH-10004700",
         "PowerGen Dual USB Car Charger",
         127.87200000000001,
         31.968000000000004,
         4
        ],
        [
         "FUR-TA-10003954",
         "Hon 94000 Series Round Tables",
         2503.205,
         500.64099999999996,
         5
        ],
        [
         "OFF-ST-10003470",
         "Tennsco Snap-Together Open Shelving Units, Starter Sets and Add-On Units",
         3003.846,
         500.641,
         6
        ],
        [
         "TEC-PH-10002584",
         "Samsung Galaxy S4",
         2503.205,
         500.64099999999996,
         5
        ],
        [
         "OFF-ST-10002485",
         "Rogers Deluxe File Chest",
         443.99600000000004,
         55.499500000000005,
         8
        ],
        [
         "OFF-AP-10002998",
         "Holmes 99% HEPA Air Purifier",
         333.564,
         83.391,
         4
        ],
        [
         "OFF-PA-10000300",
         "Xerox 1936",
         155.844,
         51.948,
         3
        ],
        [
         "OFF-ST-10000676",
         "Fellowes Econo/Stor Drawers",
         581.58,
         290.79,
         2
        ],
        [
         "FUR-BO-10003433",
         "Sauder Cornerstone Collection Library",
         322.192,
         107.39733333333334,
         3
        ],
        [
         "OFF-AR-10003811",
         "Newell 327",
         39.78,
         9.945,
         4
        ],
        [
         "OFF-PA-10002137",
         "Southworth 100% Résumé Paper, 24lb.",
         262.964,
         37.56628571428571,
         7
        ],
        [
         "FUR-TA-10004534",
         "Bevis 44 x 96 Conference Tables",
         2195.502,
         439.1004,
         5
        ],
        [
         "TEC-PH-10002398",
         "AT&T 1070 Corded Phone",
         1070.3039999999999,
         356.768,
         3
        ],
        [
         "OFF-AR-10003903",
         "Sanford 52201 APSCO Electric Pencil Sharpener",
         565.386,
         141.3465,
         4
        ],
        [
         "FUR-CH-10003833",
         "Novimex Fabric Task Chair",
         1695.2440000000001,
         211.90550000000002,
         8
        ],
        [
         "OFF-FA-10003021",
         "Staples",
         34.592,
         5.765333333333333,
         6
        ],
        [
         "FUR-BO-10001601",
         "Sauder Mission Library with Doors, Fruitwood Finish",
         812.373,
         270.791,
         3
        ],
        [
         "FUR-FU-10002045",
         "Executive Impressions 14\"",
         377.91,
         94.4775,
         4
        ],
        [
         "OFF-AR-10001954",
         "Newell 331",
         75.306,
         18.8265,
         4
        ],
        [
         "FUR-BO-10001519",
         "O'Sullivan 3-Shelf Heavy-Duty Bookcases",
         1096.576,
         219.3152,
         5
        ],
        [
         "OFF-PA-10000551",
         "Array Memo Cubes",
         54.908,
         18.302666666666667,
         3
        ],
        [
         "FUR-FU-10002396",
         "DAX Copper Panel Document Frame, 5 x 7 Size",
         120.768,
         30.192,
         4
        ],
        [
         "FUR-CH-10004886",
         "Bevis Steel Folding Chairs",
         1775.075,
         295.84583333333336,
         6
        ],
        [
         "FUR-TA-10001539",
         "Chromcraft Rectangular Conference Tables",
         3258.505,
         362.05611111111114,
         9
        ],
        [
         "OFF-EN-10003567",
         "Inter-Office Recycled Envelopes, Brown Kraft, Button-String,10\" x 13\" , 100/Box",
         197.82,
         65.94,
         3
        ],
        [
         "OFF-BI-10001989",
         "Premium Transparent Presentation Covers by GBC",
         753.182,
         75.3182,
         10
        ],
        [
         "OFF-LA-10001569",
         "Avery 499",
         176.29199999999997,
         16.026545454545452,
         11
        ],
        [
         "TEC-AC-10003590",
         "TRENDnet 56K USB 2.0 Phone, Internet and Fax Modem",
         626.538,
         125.30760000000001,
         5
        ],
        [
         "OFF-PA-10004451",
         "Xerox 222",
         134.784,
         19.25485714285714,
         7
        ],
        [
         "FUR-BO-10003450",
         "Bush Westfield Collection Bookcases, Dark Cherry Finish",
         649.376,
         216.45866666666666,
         3
        ],
        [
         "OFF-PA-10002036",
         "Xerox 1930",
         138.67200000000003,
         27.734400000000004,
         5
        ],
        [
         "OFF-AR-10003958",
         "Newell 337",
         10.496,
         5.248,
         2
        ],
        [
         "OFF-AP-10003884",
         "Fellowes Smart Surge Ten-Outlet Protector, Platinum",
         180.66,
         180.66,
         1
        ],
        [
         "OFF-AR-10002818",
         "Panasonic KP-310 Heavy-Duty Electric Pencil Sharpener",
         197.82,
         98.91,
         2
        ],
        [
         "OFF-AR-10003829",
         "Newell 35",
         93.15200000000002,
         10.350222222222223,
         9
        ],
        [
         "OFF-AR-10002067",
         "Newell 334",
         531.7120000000001,
         88.61866666666668,
         6
        ],
        [
         "OFF-BI-10002824",
         "Recycled Easel Ring Binders",
         308.844,
         34.316,
         9
        ],
        [
         "TEC-AC-10002305",
         "KeyTronic E03601U1 - Keyboard - Beige",
         306,
         61.2,
         5
        ],
        [
         "OFF-PA-10001892",
         "Rediform Wirebound \"Phone Memo\" Message Book, 11 x 5-3/4",
         110.01599999999999,
         22.0032,
         5
        ],
        [
         "OFF-BI-10002827",
         "Avery Durable Poly Binders",
         82.95,
         13.825000000000001,
         6
        ],
        [
         "FUR-CH-10000229",
         "Global Enterprise Series Seating High-Back Swivel/Tilt Chairs",
         1814.2220000000002,
         453.55550000000005,
         4
        ],
        [
         "FUR-FU-10002107",
         "Eldon Pizzaz Desk Accessories",
         37.464,
         9.366,
         4
        ],
        [
         "OFF-PA-10003625",
         "Xerox 1979",
         328.38800000000003,
         109.46266666666668,
         3
        ],
        [
         "OFF-PA-10001033",
         "Xerox 1893",
         1434.6500000000003,
         130.42272727272731,
         11
        ],
        [
         "OFF-AP-10003849",
         "Hoover Shoulder Vac Commercial Portable Vacuum",
         2431.9480000000003,
         405.3246666666667,
         6
        ],
        [
         "OFF-FA-10000089",
         "Acco Glide Clips",
         19.6,
         19.6,
         1
        ],
        [
         "FUR-CH-10001270",
         "Harbour Creations Steel Folding Chair",
         2372.266,
         296.53325,
         8
        ],
        [
         "FUR-FU-10004020",
         "Advantus Panel Wall Acrylic Frame",
         87.52,
         17.503999999999998,
         5
        ],
        [
         "TEC-PH-10004447",
         "Toshiba IPT2010-SD IP Telephone",
         2836.2270000000003,
         354.52837500000004,
         8
        ],
        [
         "OFF-AP-10001947",
         "Acco 6 Outlet Guardian Premium Plus Surge Suppressor",
         289.456,
         48.24266666666667,
         6
        ],
        [
         "OFF-BI-10002082",
         "GBC Twin Loop Wire Binding Elements",
         1041.664,
         104.1664,
         10
        ],
        [
         "OFF-PA-10001281",
         "Computer Printout Paper with Letter-Trim Fine Perforations",
         191.6,
         191.6,
         1
        ],
        [
         "OFF-PA-10003205",
         "Wirebound Message Forms, Four 2 3/4 x 5 Forms per Page, Pink Paper",
         35.948,
         17.974,
         2
        ],
        [
         "OFF-PA-10001878",
         "Xerox 1891",
         1320.57,
         188.65285714285713,
         7
        ],
        [
         "OFF-ST-10001809",
         "Fellowes Officeware Wire Shelving",
         4017.1630000000005,
         365.1966363636364,
         11
        ],
        [
         "OFF-AR-10001149",
         "Avery Hi-Liter Comfort Grip Fluorescent Highlighter, Yellow Ink",
         7.8,
         3.9,
         2
        ],
        [
         "TEC-AC-10001267",
         "Imation 32GB Pocket Pro USB 3.0 Flash Drive - 32 GB - Black - 1 P ...",
         467.22,
         93.444,
         5
        ],
        [
         "OFF-AR-10001468",
         "Sanford Prismacolor Professional Thick Lead Art Pencils, 36-Color Set",
         209.664,
         69.88799999999999,
         3
        ],
        [
         "OFF-PA-10000726",
         "Black Print Carbonless Snap-Off Rapid Letter, 8 1/2\" x 7\"",
         160.336,
         40.084,
         4
        ],
        [
         "OFF-PA-10002713",
         "Adams Phone Message Book, 200 Message Capacity, 8 1/16” x 11”",
         227.04,
         28.38,
         8
        ],
        [
         "OFF-PA-10000740",
         "Xerox 1982",
         237.536,
         79.17866666666667,
         3
        ],
        [
         "FUR-FU-10001986",
         "Dana Fluorescent Magnifying Lamp, White, 36\"",
         581.172,
         145.293,
         4
        ],
        [
         "TEC-PH-10000441",
         "VTech DS6151",
         2509.8430000000003,
         313.73037500000004,
         8
        ],
        [
         "OFF-PA-10004100",
         "Xerox 216",
         238.464,
         29.808,
         8
        ],
        [
         "OFF-BI-10000315",
         "Poly Designer Cover & Back",
         451.96199999999993,
         64.56599999999999,
         7
        ],
        [
         "FUR-FU-10002937",
         "GE 48\" Fluorescent Tube, Cool White Energy Saver, 34 Watts, 30/Box",
         2509.578,
         313.69725,
         8
        ],
        [
         "TEC-AC-10000990",
         "Imation Bio 2GB USB Flash Drive Imation Corp",
         1394.8220000000001,
         464.9406666666667,
         3
        ],
        [
         "OFF-PA-10002581",
         "Xerox 1951",
         582.424,
         116.48479999999999,
         5
        ],
        [
         "OFF-PA-10001952",
         "Xerox 1902",
         82.22399999999999,
         41.111999999999995,
         2
        ],
        [
         "FUR-BO-10001608",
         "Hon Metal Bookcases, Black",
         1389.3110000000001,
         277.86220000000003,
         5
        ],
        [
         "OFF-ST-10001505",
         "Perma STOR-ALL Hanging File Box, 13 1/8\"W x 12 1/4\"D x 10 1/2\"H",
         180.59599999999998,
         22.574499999999997,
         8
        ],
        [
         "FUR-TA-10004289",
         "BoxOffice By Design Rectangular and Half-Moon Meeting Room Tables",
         1220.0320000000002,
         406.67733333333337,
         3
        ],
        [
         "OFF-BI-10000050",
         "Angle-D Binders with Locking Rings, Label Holders",
         197.83000000000004,
         19.783000000000005,
         10
        ],
        [
         "FUR-TA-10003008",
         "Lesro Round Back Collection Coffee Table, End Table",
         2206.112,
         275.764,
         8
        ],
        [
         "OFF-AP-10002670",
         "Belkin 8-Outlet Premiere SurgeMaster II Surge Protectors",
         277.92,
         138.96,
         2
        ],
        [
         "TEC-AC-10000736",
         "Logitech G600 MMO Gaming Mouse",
         1375.828,
         229.30466666666666,
         6
        ],
        [
         "TEC-PH-10000895",
         "Polycom VVX 310 VoIP phone",
         3727.1370000000006,
         465.8921250000001,
         8
        ],
        [
         "OFF-EN-10000781",
         "#10- 4 1/8\" x 9 1/2\" Recycled Envelopes",
         75.164,
         37.582,
         2
        ],
        [
         "OFF-ST-10002011",
         "Smead Adjustable Mobile File Trolley with Lockable Top",
         1501.923,
         500.641,
         3
        ],
        [
         "OFF-PA-10000482",
         "Snap-A-Way Black Print Carbonless Ruled Speed Letter, Triplicate",
         1016.7919999999999,
         169.46533333333332,
         6
        ],
        [
         "FUR-FU-10000222",
         "Seth Thomas 16\" Steel Case Clock",
         441.72799999999995,
         88.34559999999999,
         5
        ],
        [
         "TEC-PH-10002817",
         "RCA ViSYS 25425RE1 Corded phone",
         323.976,
         323.976,
         1
        ],
        [
         "FUR-CH-10001891",
         "Global Deluxe Office Fabric Chairs",
         1420.504,
         236.75066666666666,
         6
        ],
        [
         "TEC-AC-10002402",
         "Razer Kraken PRO Over Ear PC and Music Headset",
         2100.441,
         262.555125,
         8
        ],
        [
         "OFF-PA-10004782",
         "Xerox 228",
         97.20000000000002,
         24.300000000000004,
         4
        ],
        [
         "OFF-AR-10000315",
         "Dixon Ticonderoga Maple Cedar Pencil, #2",
         23.332,
         7.777333333333334,
         3
        ],
        [
         "FUR-FU-10004053",
         "DAX Two-Tone Silver Metal Document Frame",
         234.784,
         39.13066666666666,
         6
        ],
        [
         "OFF-PA-10002552",
         "Xerox 1958",
         32.400000000000006,
         16.200000000000003,
         2
        ],
        [
         "OFF-LA-10001074",
         "Round Specialty Laser Printer Labels",
         421.008,
         70.16799999999999,
         6
        ],
        [
         "OFF-BI-10004728",
         "Wilson Jones Turn Tabs Binder Tool for Ring Binders",
         200.512,
         16.709333333333333,
         12
        ],
        [
         "OFF-BI-10004876",
         "Wilson Jones Suede Grain Vinyl Binders",
         16.402,
         5.467333333333333,
         3
        ],
        [
         "OFF-BI-10002026",
         "Avery Arch Ring Binders",
         1318.8700000000001,
         131.887,
         10
        ],
        [
         "OFF-AR-10002766",
         "Prang Drawing Pencil Set",
         56.156,
         14.039,
         4
        ],
        [
         "FUR-CH-10000309",
         "Global Comet Stacking Arm Chair",
         2503.205,
         500.64099999999996,
         5
        ],
        [
         "OFF-PA-10000157",
         "Xerox 191",
         767.232,
         76.72319999999999,
         10
        ],
        [
         "FUR-FU-10004748",
         "Howard Miller 16\" Diameter Gallery Wall Clock",
         575.46,
         143.865,
         4
        ],
        [
         "FUR-TA-10004256",
         "Bretford “Just In Time” Height-Adjustable Multi-Task Work Tables",
         2002.564,
         500.641,
         4
        ],
        [
         "OFF-SU-10003505",
         "Premier Electric Letter Opener",
         2368.43,
         296.05375,
         8
        ],
        [
         "TEC-PH-10002824",
         "Jabra SPEAK 410 Multidevice Speakerphone",
         1372.064,
         457.3546666666667,
         3
        ],
        [
         "TEC-MA-10000904",
         "Brother MFC-9340CDW LED All-In-One Printer, Copier Scanner",
         341.991,
         341.991,
         1
        ],
        [
         "TEC-PH-10000984",
         "Panasonic KX-TG9471B",
         3365.561,
         480.79442857142857,
         7
        ],
        [
         "OFF-ST-10001228",
         "Fellowes Personal Hanging Folder Files, Navy",
         284.716,
         71.179,
         4
        ],
        [
         "OFF-LA-10000121",
         "Avery 48",
         90.72,
         30.24,
         3
        ],
        [
         "OFF-BI-10003527",
         "Fellowes PB500 Electric Punch Plastic Comb Binding Machine with Manual Bind",
         5006.41,
         500.64099999999996,
         10
        ],
        [
         "OFF-AR-10003373",
         "Boston School Pro Electric Pencil Sharpener, 1670",
         873.6359999999999,
         124.80514285714284,
         7
        ],
        [
         "OFF-PA-10001725",
         "Xerox 1892",
         116.28,
         116.28,
         1
        ],
        [
         "OFF-AR-10001130",
         "Quartet Alpha White Chalk, 12/Pack",
         15.469999999999999,
         7.734999999999999,
         2
        ],
        [
         "FUR-FU-10003535",
         "Howard Miller Distant Time Traveler Alarm Clock",
         531.948,
         88.658,
         6
        ],
        [
         "OFF-AP-10002457",
         "Eureka The Boss Plus 12-Amp Hard Box Upright Vacuum, Red",
         1651.791,
         275.2985,
         6
        ],
        [
         "OFF-PA-10002558",
         "Xerox 1938",
         268.24,
         268.24,
         1
        ],
        [
         "OFF-PA-10001125",
         "Xerox 1988",
         1102.8880000000001,
         122.54311111111113,
         9
        ],
        [
         "OFF-FA-10000053",
         "Revere Boxed Rubber Bands by Revere",
         48.006,
         8.001,
         6
        ],
        [
         "OFF-PA-10002105",
         "Xerox 223",
         58.32,
         19.44,
         3
        ],
        [
         "TEC-AC-10002049",
         "Plantronics Savi W720 Multi-Device Wireless Headset System",
         3504.487,
         500.641,
         7
        ],
        [
         "OFF-AR-10001166",
         "Staples in misc. colors",
         60.64,
         20.213333333333335,
         3
        ],
        [
         "FUR-FU-10002157",
         "Artistic Insta-Plaque",
         156.8,
         52.26666666666667,
         3
        ],
        [
         "OFF-PA-10003441",
         "Xerox 226",
         334.368,
         30.39709090909091,
         11
        ],
        [
         "OFF-ST-10000642",
         "Tennsco Lockers, Gray",
         402.816,
         67.136,
         6
        ],
        [
         "FUR-BO-10004695",
         "O'Sullivan 2-Door Barrister Bookcase in Odessa Pine",
         2913.5670000000005,
         416.2238571428572,
         7
        ],
        [
         "FUR-FU-10003832",
         "Eldon Expressions Punched Metal & Wood Desk Accessories, Black & Cherry",
         155.708,
         31.1416,
         5
        ],
        [
         "OFF-PA-10004101",
         "Xerox 1894",
         169.77599999999998,
         33.9552,
         5
        ],
        [
         "FUR-CH-10003199",
         "Office Star - Contemporary Task Swivel Chair",
         1743.617,
         290.6028333333333,
         6
        ],
        [
         "FUR-CH-10004853",
         "Global Manager's Adjustable Task Chair, Storm",
         2058.142,
         343.02366666666666,
         6
        ],
        [
         "FUR-CH-10002439",
         "Iceberg Nesting Folding Chair, 19w x 6d x 43h",
         1589.406,
         264.901,
         6
        ],
        [
         "OFF-LA-10001982",
         "Smead Alpha-Z Color-Coded Name Labels First Letter Starter Set",
         62.25,
         15.5625,
         4
        ],
        [
         "OFF-AR-10000122",
         "Newell 314",
         118.29599999999999,
         16.89942857142857,
         7
        ],
        [
         "OFF-LA-10001613",
         "Avery File Folder Labels",
         113.472,
         8.728615384615384,
         13
        ],
        [
         "FUR-FU-10001468",
         "Tenex Antistatic Computer Chair Mats",
         2527.803,
         421.3005,
         6
        ],
        [
         "OFF-PA-10002764",
         "Easy-staple paper",
         170.10000000000002,
         56.70000000000001,
         3
        ],
        [
         "TEC-AC-10004855",
         "V7 USB Numeric Keypad",
         461.868,
         115.467,
         4
        ],
        [
         "FUR-TA-10001771",
         "Bush Cubix Conference Tables, Fully Assembled",
         1640.5110000000002,
         410.12775000000005,
         4
        ],
        [
         "OFF-AR-10000475",
         "Hunt BOSTON Vista Battery-Operated Pencil Sharpener, Black",
         83.952,
         20.988,
         4
        ],
        [
         "TEC-AC-10004814",
         "Logitech Illuminated Ultrathin Keyboard with Backlighting",
         170.97,
         170.97,
         1
        ],
        [
         "TEC-AC-10002473",
         "Maxell 4.7GB DVD-R",
         1231.692,
         111.972,
         11
        ],
        [
         "OFF-BI-10002949",
         "Prestige Round Ring Binders",
         85.72800000000001,
         10.716000000000001,
         8
        ],
        [
         "OFF-PA-10002246",
         "Wirebound Four 2-3/4 x 5 Forms per Page, 400 Sets per Book",
         119.97,
         19.995,
         6
        ],
        [
         "OFF-AP-10000358",
         "Fellowes Basic Home/Office Series Surge Protectors",
         436.12800000000004,
         48.45866666666667,
         9
        ],
        [
         "OFF-AP-10000026",
         "Tripp Lite Isotel 6 Outlet Surge Protector with Fax/Modem Protection",
         1243.788,
         207.298,
         6
        ],
        [
         "FUR-CH-10003846",
         "Hon Valutask Swivel Chairs",
         1237.795,
         309.44875,
         4
        ],
        [
         "OFF-AP-10001124",
         "Belkin 8 Outlet SurgeMaster II Gold Surge Protector with Phone Protection",
         500.641,
         500.641,
         1
        ],
        [
         "OFF-PA-10003309",
         "Xerox 211",
         104.976,
         26.244,
         4
        ],
        [
         "OFF-ST-10002214",
         "X-Rack File for Hanging Folders",
         318.378,
         35.37533333333333,
         9
        ],
        [
         "TEC-PH-10001459",
         "Samsung Galaxy Mega 6.3",
         3003.846,
         500.641,
         6
        ],
        [
         "OFF-ST-10004123",
         "Safco Industrial Wire Shelving System",
         2365.982,
         295.74775,
         8
        ],
        [
         "OFF-AR-10001919",
         "OIC #2 Pencils, Medium Soft",
         30.831999999999994,
         4.404571428571428,
         7
        ],
        [
         "OFF-SU-10003936",
         "Acme Serrated Blade Letter Opener",
         7.632,
         7.632,
         1
        ],
        [
         "OFF-EN-10000483",
         "White Envelopes, White Envelopes with Clear Poly Window",
         320.25,
         64.05,
         5
        ],
        [
         "FUR-CH-10000785",
         "Global Ergonomic Managers Chair",
         4451.686000000001,
         404.69872727272735,
         11
        ],
        [
         "OFF-BI-10002437",
         "Recycled Premium Regency Composition Covers",
         110.01599999999999,
         36.672,
         3
        ],
        [
         "TEC-AC-10004975",
         "Plantronics Audio 995 Wireless Stereo Headset",
         1314.271,
         328.56775,
         4
        ],
        [
         "OFF-AP-10002867",
         "Fellowes Command Center 5-outlet power strip",
         664.832,
         166.208,
         4
        ],
        [
         "OFF-FA-10003467",
         "Alliance Big Bands Rubber Bands, 12/Pack",
         9.9,
         4.95,
         2
        ],
        [
         "TEC-PH-10000004",
         "Belkin iPhone and iPad Lightning Cable",
         83.944,
         41.972,
         2
        ],
        [
         "FUR-BO-10001972",
         "O'Sullivan 4-Shelf Bookcase in Odessa Pine",
         1904.009,
         272.0012857142857,
         7
        ],
        [
         "TEC-AC-10000710",
         "Maxell DVD-RAM Discs",
         296.64,
         98.88,
         3
        ],
        [
         "TEC-AC-10004901",
         "Kensington SlimBlade Notebook Wireless Mouse with Nano Receiver",
         549.89,
         137.4725,
         4
        ],
        [
         "OFF-AR-10000657",
         "Binney & Smith inkTank Desk Highlighter, Chisel Tip, Yellow, 12/Box",
         45.15,
         9.03,
         5
        ],
        [
         "FUR-BO-10003272",
         "O'Sullivan Living Dimensions 5-Shelf Bookcases",
         2185.7349999999997,
         364.28916666666663,
         6
        ],
        [
         "TEC-AC-10001109",
         "Logitech Trackman Marble Mouse",
         773.7420000000001,
         85.97133333333335,
         9
        ],
        [
         "FUR-FU-10002379",
         "Eldon Econocleat Chair Mats for Low Pile Carpets",
         124.41,
         124.41,
         1
        ],
        [
         "FUR-TA-10000849",
         "Bevis Rectangular Conference Tables",
         1007.262,
         251.8155,
         4
        ],
        [
         "TEC-PH-10000169",
         "ARKON Windshield Dashboard Air Vent Car Mount Holder",
         149.16,
         49.72,
         3
        ],
        [
         "TEC-PH-10002085",
         "Clarity 53712",
         752.2860000000001,
         188.07150000000001,
         4
        ],
        [
         "OFF-AP-10004487",
         "Kensington 4 Outlet MasterPiece Compact Power Control Center",
         2143.3050000000003,
         306.1864285714286,
         7
        ],
        [
         "FUR-FU-10002253",
         "Howard Miller 13\" Diameter Pewter Finish Round Wall Clock",
         764.332,
         152.8664,
         5
        ],
        [
         "FUR-BO-10003660",
         "Bush Cubix Collection Bookcases, Fully Assembled",
         729.2339999999999,
         243.07799999999997,
         3
        ],
        [
         "FUR-BO-10002268",
         "Sauder Barrister Bookcases",
         754.734,
         251.578,
         3
        ],
        [
         "OFF-EN-10002831",
         "Tyvek  Top-Opening Peel & Seel  Envelopes, Gray",
         610.98,
         203.66,
         3
        ],
        [
         "OFF-AR-10003727",
         "Berol Giant Pencil Sharpener",
         254.85000000000002,
         63.712500000000006,
         4
        ],
        [
         "TEC-MA-10000010",
         "Hewlett-Packard Deskjet 3050a All-in-One Color Inkjet Printer",
         500.641,
         500.641,
         1
        ],
        [
         "OFF-AR-10002399",
         "Dixon Prang Watercolor Pencils, 10-Color Set with Brush",
         110.76,
         15.822857142857144,
         7
        ],
        [
         "FUR-FU-10002268",
         "Ultra Door Push Plate",
         149.264,
         21.323428571428572,
         7
        ],
        [
         "OFF-ST-10002344",
         "Carina 42\"Hx23 3/4\"W Media Storage Unit",
         1635.796,
         204.4745,
         8
        ],
        [
         "FUR-FU-10001424",
         "Dax Clear Box Frame",
         96.03,
         16.005,
         6
        ],
        [
         "OFF-BI-10004233",
         "GBC Pre-Punched Binding Paper, Plastic, White, 8-1/2\" x 11\"",
         207.87,
         34.645,
         6
        ],
        [
         "TEC-PH-10004586",
         "Wilson SignalBoost 841262 DB PRO Amplifier Kit",
         2935.145,
         489.19083333333333,
         6
        ],
        [
         "OFF-BI-10001982",
         "Wilson Jones Custom Binder Spines & Labels",
         41.344,
         5.906285714285715,
         7
        ],
        [
         "FUR-CH-10002335",
         "Hon GuestStacker Chair",
         4320.499,
         480.05544444444445,
         9
        ],
        [
         "OFF-PA-10000143",
         "Astroparche Fine Business Paper",
         144.67200000000003,
         24.112000000000005,
         6
        ],
        [
         "FUR-FU-10003026",
         "Eldon Regeneration Recycled Desk Accessories, Black",
         39.688,
         13.229333333333335,
         3
        ],
        [
         "FUR-TA-10000688",
         "Chromcraft Bull-Nose Wood Round Conference Table Top, Wood Base",
         2568.974,
         428.1623333333334,
         6
        ],
        [
         "FUR-CH-10002320",
         "Hon Pagoda Stacking Chairs",
         1758.707,
         439.67675,
         4
        ],
        [
         "OFF-BI-10000829",
         "Avery Non-Stick Binders",
         141.88400000000001,
         20.26914285714286,
         7
        ],
        [
         "OFF-PA-10002479",
         "Xerox 4200 Series MultiUse Premium Copy Paper (20Lb. and 84 Bright)",
         139.392,
         17.424,
         8
        ],
        [
         "FUR-BO-10001811",
         "Atlantic Metals Mobile 5-Shelf Bookcases, Custom Colors",
         3129.2430000000004,
         391.15537500000005,
         8
        ],
        [
         "FUR-FU-10004864",
         "Howard Miller 14-1/2\" Diameter Chrome Round Wall Clock",
         1636.864,
         233.8377142857143,
         7
        ],
        [
         "OFF-FA-10002815",
         "Staples",
         50.616,
         16.872,
         3
        ],
        [
         "TEC-PH-10003012",
         "Nortel Meridian M3904 Professional Digital phone",
         3803.9000000000005,
         380.39000000000004,
         10
        ],
        [
         "OFF-EN-10004846",
         "Letter or Legal Size Expandable Poly String Tie Envelopes",
         36.708,
         9.177,
         4
        ],
        [
         "FUR-CH-10003298",
         "Office Star - Contemporary Task Swivel chair with Loop Arms, Charcoal",
         3479.721,
         386.6356666666667,
         9
        ],
        [
         "OFF-AP-10001205",
         "Belkin 5 Outlet SurgeMaster Power Centers",
         1776.0480000000005,
         177.60480000000004,
         10
        ],
        [
         "OFF-ST-10001172",
         "Tennsco Lockers, Sand",
         323.092,
         80.773,
         4
        ],
        [
         "TEC-MA-10003674",
         "Hewlett-Packard Deskjet 5550 Printer",
         500.641,
         500.641,
         1
        ],
        [
         "OFF-ST-10004337",
         "SAFCO Commercial Wire Shelving, 72h",
         1445.264,
         289.0528,
         5
        ],
        [
         "OFF-PA-10001560",
         "Adams Telephone Message Books, 5 1/4” x 11”",
         80.936,
         16.1872,
         5
        ],
        [
         "OFF-SU-10000432",
         "Acco Side-Punched Conventional Columnar Pads",
         41.64,
         10.41,
         4
        ],
        [
         "FUR-CH-10003956",
         "Novimex High-Tech Fabric Mesh Task Chair",
         922.74,
         230.685,
         4
        ],
        [
         "OFF-PA-10002741",
         "Xerox 1980",
         34.24,
         17.12,
         2
        ],
        [
         "TEC-AC-10002006",
         "Memorex Micro Travel Drive 16 GB",
         556.452,
         79.49314285714286,
         7
        ],
        [
         "OFF-FA-10004968",
         "Rubber Band Ball",
         58.344,
         14.586,
         4
        ],
        [
         "OFF-PA-10003256",
         "Avery Personal Creations Heavyweight Cards",
         103.85999999999999,
         34.62,
         3
        ],
        [
         "OFF-EN-10003448",
         "Peel & Seel Recycled Catalog Envelopes, Brown",
         88.008,
         44.004,
         2
        ],
        [
         "OFF-PA-10000213",
         "Xerox 198",
         75.696,
         25.232,
         3
        ],
        [
         "OFF-SU-10004768",
         "Acme Kleencut Forged Steel Scissors",
         35.587999999999994,
         11.862666666666664,
         3
        ],
        [
         "OFF-FA-10002988",
         "Ideal Clamps",
         58.69199999999999,
         7.336499999999999,
         8
        ],
        [
         "TEC-AC-10001445",
         "Imation USB 2.0 Swivel Flash Drive USB flash drive - 4 GB - Pink",
         30.3,
         15.15,
         2
        ],
        [
         "TEC-PH-10001750",
         "Samsung Rugby III",
         1385.79,
         173.22375,
         8
        ],
        [
         "OFF-ST-10000777",
         "Companion Letter/Legal File, Black",
         611.712,
         122.3424,
         5
        ],
        [
         "OFF-LA-10003077",
         "Avery 500",
         58.48,
         29.24,
         2
        ],
        [
         "OFF-PA-10000249",
         "Easy-staple paper",
         196.48,
         32.74666666666666,
         6
        ],
        [
         "FUR-FU-10004848",
         "DAX Solid Wood Frames",
         113.33200000000001,
         37.77733333333334,
         3
        ],
        [
         "OFF-AR-10003986",
         "Avery Hi-Liter Pen Style Six-Color Fluorescent Set",
         7.7,
         7.7,
         1
        ],
        [
         "OFF-AR-10004165",
         "Binney & Smith inkTank Erasable Pocket Highlighter, Chisel Tip, Yellow",
         25.992,
         8.664,
         3
        ],
        [
         "OFF-EN-10004030",
         "Convenience Packs of Business Envelopes",
         58.644,
         9.774,
         6
        ],
        [
         "OFF-FA-10003059",
         "Assorted Color Push Pins",
         34.39,
         4.29875,
         8
        ],
        [
         "OFF-LA-10000476",
         "Avery 05222 Permanent Self-Adhesive File Folder Labels for Typewriters, on Rolls, White, 250/Roll",
         20.65,
         10.325,
         2
        ],
        [
         "OFF-AP-10002684",
         "Acco 7-Outlet Masterpiece Power Center, Wihtout Fax/Phone Line Protection",
         1594.861,
         265.8101666666667,
         6
        ],
        [
         "OFF-ST-10000129",
         "Fellowes Recycled Storage Drawers",
         1011.3789999999999,
         337.1263333333333,
         3
        ],
        [
         "TEC-PH-10003437",
         "Blue Parrot B250XT Professional Grade Wireless Bluetooth Headset with",
         1229.836,
         307.459,
         4
        ],
        [
         "FUR-CH-10002317",
         "Global Enterprise Series Seating Low-Back Swivel/Tilt Chairs",
         207.184,
         207.184,
         1
        ],
        [
         "FUR-FU-10000010",
         "DAX Value U-Channel Document Frames, Easel Back",
         161.028,
         17.892,
         9
        ],
        [
         "OFF-BI-10004224",
         "Catalog Binders with Expanding Posts",
         1089.936,
         136.242,
         8
        ],
        [
         "OFF-SU-10004498",
         "Martin-Yale Premier Letter Opener",
         236.99200000000002,
         33.856,
         7
        ],
        [
         "OFF-PA-10000295",
         "Xerox 229",
         85.536,
         28.512,
         3
        ],
        [
         "FUR-FU-10002501",
         "Nu-Dell Executive Frame",
         409.536,
         68.256,
         6
        ],
        [
         "FUR-FU-10001876",
         "Computer Room Manger, 14\"",
         636.6080000000001,
         90.944,
         7
        ],
        [
         "OFF-BI-10000962",
         "Acco Flexible ACCOHIDE Square Ring Data Binder, Dark Blue, 11 1/2\" X 14\" 7/8\"",
         410.00399999999996,
         41.0004,
         10
        ],
        [
         "OFF-PA-10001609",
         "Tops Wirebound Message Log Books",
         73.69600000000001,
         12.28266666666667,
         6
        ],
        [
         "TEC-PH-10003356",
         "SmartStand Mobile Device Holder, Assorted Colors",
         30.756,
         15.378,
         2
        ],
        [
         "TEC-MA-10001148",
         "Okidata MB491 Multifunction Printer",
         949.741,
         474.8705,
         2
        ],
        [
         "OFF-PA-10004675",
         "Telephone Message Books with Fax/Mobile Section, 5 1/2\" x 3 3/16\"",
         99.05999999999999,
         16.509999999999998,
         6
        ],
        [
         "FUR-FU-10000260",
         "6\" Cubicle Wall Clock, Black",
         100.316,
         33.43866666666667,
         3
        ],
        [
         "OFF-PA-10000061",
         "Xerox 205",
         150.336,
         37.584,
         4
        ],
        [
         "OFF-PA-10000595",
         "Xerox 1929",
         351.736,
         87.934,
         4
        ],
        [
         "OFF-BI-10000301",
         "GBC Instant Report Kit",
         164.985,
         12.691153846153847,
         13
        ],
        [
         "FUR-CH-10004218",
         "Global Fabric Manager's Chair, Dark Gray",
         2394.8060000000005,
         299.35075000000006,
         8
        ],
        [
         "TEC-AC-10001956",
         "Microsoft Arc Touch Mouse",
         359.70000000000005,
         179.85000000000002,
         2
        ],
        [
         "OFF-EN-10001137",
         "#10 Gummed Flap White Envelopes, 100/Box",
         41.3,
         10.325,
         4
        ],
        [
         "OFF-ST-10003572",
         "Portfile Personal File Boxes",
         99.11999999999999,
         49.559999999999995,
         2
        ],
        [
         "OFF-BI-10003963",
         "Cardinal Holdit Data Disk Pockets",
         100.464,
         33.488,
         3
        ],
        [
         "OFF-PA-10002709",
         "Xerox 1956",
         89.7,
         44.85,
         2
        ],
        [
         "OFF-BI-10001721",
         "Trimflex Flexible Post Binders",
         346.356,
         86.589,
         4
        ],
        [
         "OFF-ST-10003716",
         "Tennsco Double-Tier Lockers",
         5636.465999999999,
         469.7055,
         12
        ],
        [
         "FUR-FU-10001473",
         "Eldon Executive Woodline II Desk Accessories, Mahogany",
         361.87199999999996,
         72.3744,
         5
        ],
        [
         "TEC-MA-10000488",
         "Bady BDG101FRU Card Printer",
         2002.564,
         500.641,
         4
        ],
        [
         "TEC-PH-10004120",
         "AT&T 1080 Phone",
         1110.874,
         370.29133333333334,
         3
        ],
        [
         "OFF-EN-10003055",
         "Blue String-Tie & Button Interoffice Envelopes, 10 x 13",
         679.6600000000001,
         135.93200000000002,
         5
        ],
        [
         "OFF-PA-10004248",
         "Xerox 1990",
         36.96,
         18.48,
         2
        ],
        [
         "OFF-ST-10001128",
         "Carina Mini System Audio Rack, Model AR050B",
         1731.2880000000002,
         346.2576,
         5
        ],
        [
         "OFF-LA-10001771",
         "Avery 513",
         72.708,
         24.236,
         3
        ],
        [
         "OFF-PA-10002606",
         "Xerox 1928",
         124.608,
         31.152,
         4
        ],
        [
         "OFF-BI-10004002",
         "Wilson Jones International Size A4 Ring Binders",
         174.73,
         24.96142857142857,
         7
        ],
        [
         "OFF-BI-10002412",
         "Wilson Jones “Snap” Scratch Pad Binder Tool for Ring Binders",
         100.92,
         20.184,
         5
        ],
        [
         "FUR-TA-10001950",
         "Balt Solid Wood Round Tables",
         2002.564,
         500.641,
         4
        ],
        [
         "OFF-BI-10004209",
         "Fellowes Twister Kit, Gray/Clear, 3/pkg",
         142.308,
         15.812,
         9
        ],
        [
         "TEC-PH-10000439",
         "GE DSL Phone Line Filter",
         495.876,
         123.969,
         4
        ],
        [
         "FUR-CH-10002024",
         "HON 5400 Series Task Chairs for Big and Tall",
         4005.128,
         500.641,
         8
        ],
        [
         "TEC-AC-10003237",
         "Memorex Micro Travel Drive 4 GB",
         103.88,
         34.626666666666665,
         3
        ],
        [
         "OFF-ST-10003327",
         "Akro-Mils 12-Gallon Tote",
         113.202,
         28.3005,
         4
        ],
        [
         "OFF-ST-10003816",
         "Fellowes High-Stak Drawer Files",
         3412.0840000000003,
         426.51050000000004,
         8
        ],
        [
         "TEC-PH-10002352",
         "Avaya IP Phone 1140E VoIP phone",
         500.641,
         500.641,
         1
        ],
        [
         "TEC-PH-10001795",
         "ClearOne CHATAttach 160 - speaker phone",
         2002.564,
         500.641,
         4
        ],
        [
         "OFF-BI-10002049",
         "UniKeep View Case Binders",
         28.851,
         5.7702,
         5
        ],
        [
         "TEC-AC-10003033",
         "Plantronics CS510 - Over-the-Head monaural Wireless Headset System",
         4769.728999999999,
         476.9728999999999,
         10
        ],
        [
         "FUR-FU-10000672",
         "Executive Impressions 10\" Spectator Wall Clock",
         258.72,
         51.74400000000001,
         5
        ],
        [
         "OFF-PA-10002787",
         "Xerox 227",
         120.528,
         15.066,
         8
        ],
        [
         "OFF-AR-10000914",
         "Boston 16765 Mini Stand Up Battery Pencil Sharpener",
         102.608,
         25.652,
         4
        ],
        [
         "OFF-PA-10001526",
         "Xerox 1949",
         110.55600000000003,
         15.79371428571429,
         7
        ],
        [
         "OFF-BI-10004600",
         "Ibico Ibimaster 300 Manual Binding System",
         3504.487,
         500.641,
         7
        ],
        [
         "OFF-PA-10002923",
         "Xerox 1942",
         597.0679999999999,
         99.51133333333331,
         6
        ],
        [
         "TEC-CO-10003763",
         "Canon PC1060 Personal Laser Copier",
         1501.923,
         500.641,
         3
        ],
        [
         "FUR-FU-10004622",
         "Eldon Advantage Foldable Chair Mats for Low Pile Carpets",
         379.4,
         126.46666666666665,
         3
        ],
        [
         "TEC-CO-10001943",
         "Canon PC-428 Personal Copier",
         2301.8830000000003,
         460.37660000000005,
         5
        ],
        [
         "TEC-PH-10001918",
         "Nortel Business Series Terminal T7208 Digital phone",
         1000.7280000000001,
         333.576,
         3
        ],
        [
         "TEC-PH-10002483",
         "Motorola Moto X",
         772.633,
         386.3165,
         2
        ],
        [
         "FUR-CH-10004477",
         "Global Push Button Manager's Chair, Indigo",
         1919.3780000000004,
         213.26422222222226,
         9
        ],
        [
         "FUR-BO-10001337",
         "O'Sullivan Living Dimensions 2-Shelf Bookcases",
         2840.1780000000003,
         284.0178,
         10
        ],
        [
         "OFF-BI-10001628",
         "Acco Data Flex Cable Posts For Top & Bottom Load Binders, 6\" Capacity",
         262.836,
         29.204,
         9
        ],
        [
         "OFF-AR-10002335",
         "DIXON Oriole Pencils",
         44.891999999999996,
         7.481999999999999,
         6
        ],
        [
         "FUR-FU-10000629",
         "9-3/4 Diameter Round Wall Clock",
         455.07,
         56.88375,
         8
        ],
        [
         "FUR-FU-10000320",
         "OIC Stacking Trays",
         82.832,
         13.805333333333332,
         6
        ],
        [
         "OFF-AR-10000203",
         "Newell 336",
         68.48,
         17.12,
         4
        ],
        [
         "TEC-PH-10004042",
         "ClearOne Communications CHAT 70 OC Speaker Phone",
         1541.8480000000002,
         385.46200000000005,
         4
        ],
        [
         "OFF-PA-10001260",
         "TOPS Money Receipt Book, Consecutively Numbered in Red,",
         88.11,
         44.055,
         2
        ],
        [
         "TEC-MA-10004255",
         "Konica Minolta magicolor 1690MF Multifunction Printer",
         319.92,
         319.92,
         1
        ],
        [
         "OFF-LA-10000305",
         "Avery 495",
         97.02,
         24.255,
         4
        ],
        [
         "OFF-BI-10001597",
         "Wilson Jones Ledger-Size, Piano-Hinge Binder, 2\", Blue",
         1200.714,
         109.15581818181818,
         11
        ],
        [
         "TEC-PH-10004922",
         "RCA Visys Integrated PBX 8-Line Router",
         1085.238,
         217.04760000000002,
         5
        ],
        [
         "TEC-PH-10002597",
         "Xblue XB-1670-86 X16 Small Office Telephone - Titanium",
         601.433,
         300.7165,
         2
        ],
        [
         "TEC-PH-10003963",
         "GE 2-Jack Phone Line Splitter",
         1495.658,
         498.55266666666665,
         3
        ],
        [
         "OFF-BI-10002609",
         "Avery Hidden Tab Dividers for Binding Systems",
         31.588,
         4.5125714285714285,
         7
        ],
        [
         "FUR-FU-10004586",
         "G.E. Longer-Life Indoor Recessed Floodlight Bulbs",
         81.00800000000001,
         13.501333333333335,
         6
        ],
        [
         "OFF-PA-10000682",
         "Xerox 1924",
         60.112,
         15.028,
         4
        ],
        [
         "OFF-BI-10004738",
         "Flexible Leather- Look Classic Collection Ring Binder",
         142.04999999999998,
         23.674999999999997,
         6
        ],
        [
         "FUR-FU-10002759",
         "12-1/2 Diameter Round Wall Clock",
         551.4480000000001,
         68.93100000000001,
         8
        ],
        [
         "OFF-PA-10000520",
         "Xerox 201",
         110.16,
         22.032,
         5
        ],
        [
         "OFF-BI-10001153",
         "Ibico Recycled Grain-Textured Covers",
         86.35,
         28.78333333333333,
         3
        ],
        [
         "OFF-PA-10001994",
         "Ink Jet Note and Greeting Cards, 8-1/2\" x 5-1/2\" Card Size",
         121.392,
         40.464,
         3
        ],
        [
         "OFF-PA-10003729",
         "Xerox 1998",
         46.656,
         23.328,
         2
        ],
        [
         "OFF-BI-10001294",
         "Fellowes Binding Cases",
         271.44,
         54.288,
         5
        ],
        [
         "TEC-CO-10001449",
         "Hewlett Packard LaserJet 3310 Copier",
         4005.128,
         500.641,
         8
        ],
        [
         "OFF-BI-10003910",
         "DXL Angle-View Binders with Locking Rings by Samsill",
         215.109,
         21.5109,
         10
        ],
        [
         "OFF-AR-10004602",
         "Boston KS Multi-Size Manual Pencil Sharpener",
         533.3679999999999,
         76.19542857142856,
         7
        ],
        [
         "OFF-EN-10003862",
         "Laser & Ink Jet Business Envelopes",
         198.46200000000002,
         39.692400000000006,
         5
        ],
        [
         "OFF-BI-10000088",
         "GBC Imprintable Covers",
         241.56000000000003,
         30.195000000000004,
         8
        ],
        [
         "FUR-CH-10003061",
         "Global Leather Task Chair, Black",
         1448.839,
         181.104875,
         8
        ],
        [
         "OFF-AR-10001118",
         "Binney & Smith Crayola Metallic Crayons, 16-Color Pack",
         16.176000000000002,
         8.088000000000001,
         2
        ],
        [
         "FUR-FU-10000073",
         "Deflect-O Glasstique Clear Desk Accessories",
         124.74,
         41.58,
         3
        ],
        [
         "TEC-AC-10001090",
         "Micro Innovations Wireless Classic Keyboard with Mouse",
         107.964,
         53.982,
         2
        ],
        [
         "OFF-LA-10004425",
         "Staple-on labels",
         53.754000000000005,
         10.750800000000002,
         5
        ],
        [
         "OFF-PA-10003349",
         "Xerox 1957",
         95.90400000000001,
         15.984000000000002,
         6
        ],
        [
         "TEC-PH-10003484",
         "Ooma Telo VoIP Home Phone System",
         1782.42,
         356.48400000000004,
         5
        ],
        [
         "FUR-FU-10001918",
         "C-Line Cubicle Keepers Polyproplyene Holder With Velcro Backings",
         137.17,
         17.14625,
         8
        ],
        [
         "FUR-CH-10002758",
         "Hon Deluxe Fabric Upholstered Stacking Chairs, Squared Back",
         1001.282,
         500.641,
         2
        ],
        [
         "OFF-BI-10001120",
         "Ibico EPK-21 Electric Binding System",
         1501.923,
         500.641,
         3
        ],
        [
         "OFF-PA-10003302",
         "Xerox 1906",
         1098.64,
         156.94857142857146,
         7
        ],
        [
         "OFF-PA-10004022",
         "Hammermill Color Copier Paper (28Lb. and 96 Bright)",
         29.97,
         14.985,
         2
        ],
        [
         "OFF-PA-10001800",
         "Xerox 220",
         145.152,
         18.144,
         8
        ],
        [
         "FUR-TA-10004175",
         "Hon 30\" x 60\" Table with Locking Drawer",
         1182.761,
         394.2536666666667,
         3
        ],
        [
         "OFF-BI-10001071",
         "GBC ProClick Punch Binding System",
         1573.9080000000001,
         224.84400000000002,
         7
        ],
        [
         "OFF-BI-10003876",
         "Green Canvas Binder for 8-1/2\" x 14\" Sheets",
         569.24,
         113.848,
         5
        ],
        [
         "TEC-PH-10003505",
         "Geemarc AmpliPOWER60",
         3228.482,
         293.49836363636365,
         11
        ],
        [
         "FUR-CH-10002647",
         "Situations Contoured Folding Chairs, 4/Set",
         3460.5070000000005,
         230.7004666666667,
         15
        ],
        [
         "FUR-FU-10004006",
         "Deflect-o DuraMat Lighweight, Studded, Beveled Mat for Low Pile Carpeting",
         673.8700000000001,
         112.31166666666668,
         6
        ],
        [
         "OFF-PA-10004888",
         "Xerox 217",
         151.63199999999998,
         18.953999999999997,
         8
        ],
        [
         "OFF-ST-10004507",
         "Advantus Rolling Storage Box",
         428.74999999999994,
         42.87499999999999,
         10
        ],
        [
         "FUR-FU-10004093",
         "Hand-Finished Solid Wood Document Frame",
         260.14799999999997,
         86.716,
         3
        ],
        [
         "OFF-BI-10002897",
         "Black Avery Memo-Size 3-Ring Binder, 5 1/2\" x 8 1/2\"",
         45.507999999999996,
         11.376999999999999,
         4
        ],
        [
         "FUR-BO-10000112",
         "Bush Birmingham Collection Bookcase, Dark Cherry",
         500.641,
         500.641,
         1
        ],
        [
         "TEC-MA-10004125",
         "Cubify CubeX 3D Printer Triple Head Print",
         500.641,
         500.641,
         1
        ],
        [
         "TEC-MA-10004521",
         "Epson Perfection V600 Photo Scanner",
         206.991,
         206.991,
         1
        ],
        [
         "OFF-AP-10003281",
         "Acco 6 Outlet Guardian Standard Surge Suppressor",
         149.91600000000003,
         29.983200000000004,
         5
        ],
        [
         "OFF-AP-10001962",
         "Black & Decker Filter for Double Action Dustbuster Cordless Vac BLDV7210",
         229.886,
         38.31433333333333,
         6
        ],
        [
         "OFF-ST-10000617",
         "Woodgrain Magazine Files by Perma",
         69.136,
         11.522666666666666,
         6
        ],
        [
         "TEC-AC-10001539",
         "Logitech G430 Surround Sound Gaming Headset with Dolby 7.1 Technology",
         1167.854,
         389.2846666666667,
         3
        ],
        [
         "OFF-PA-10000528",
         "Xerox 1981",
         70.752,
         17.688,
         4
        ],
        [
         "FUR-FU-10004973",
         "Flat Face Poster Frame",
         546.36,
         49.66909090909091,
         11
        ],
        [
         "OFF-PA-10004156",
         "Xerox 188",
         201.852,
         28.836000000000002,
         7
        ],
        [
         "FUR-FU-10000293",
         "Eldon Antistatic Chair Mats for Low to Medium Pile Carpets",
         1380.326,
         345.0815,
         4
        ],
        [
         "OFF-PA-10001166",
         "Xerox 1932",
         85.056,
         85.056,
         1
        ],
        [
         "OFF-PA-10004039",
         "Xerox 1882",
         391.86,
         97.965,
         4
        ],
        [
         "OFF-AR-10004757",
         "Crayola Colored Pencils",
         120.70400000000001,
         10.97309090909091,
         11
        ],
        [
         "OFF-BI-10002976",
         "ACCOHIDE Binder by Acco",
         65.254,
         16.3135,
         4
        ],
        [
         "OFF-FA-10004838",
         "Super Bands, 12/Pack",
         33.48,
         8.37,
         4
        ],
        [
         "FUR-FU-10004845",
         "Deflect-o EconoMat Nonstudded, No Bevel Mat",
         619.8,
         309.9,
         2
        ],
        [
         "OFF-PA-10003893",
         "Xerox 1962",
         109.568,
         15.652571428571429,
         7
        ],
        [
         "TEC-PH-10001700",
         "Panasonic KX-TG6844B Expandable Digital Cordless Telephone",
         1135.028,
         162.14685714285716,
         7
        ],
        [
         "OFF-AP-10000027",
         "Hoover Commercial SteamVac",
         168.392,
         42.098,
         4
        ],
        [
         "TEC-PH-10004667",
         "Cisco 8x8 Inc. 6753i IP Business Phone System",
         2162.196,
         360.366,
         6
        ],
        [
         "OFF-AP-10001391",
         "Kensington 6 Outlet MasterPiece HOMEOFFICE Power Control Center",
         771.3610000000001,
         385.68050000000005,
         2
        ],
        [
         "OFF-AR-10002833",
         "Newell 322",
         30.576,
         5.096,
         6
        ],
        [
         "OFF-SU-10002522",
         "Acme Kleen Earth Office Shears",
         44.232,
         8.8464,
         5
        ],
        [
         "OFF-PA-10001667",
         "Great White Multi-Use Recycled Paper (20Lb. and 84 Bright)",
         169.832,
         21.229,
         8
        ],
        [
         "TEC-MA-10003353",
         "Xerox WorkCentre 6505DN Laser Multifunction Printer",
         500.641,
         500.641,
         1
        ],
        [
         "OFF-FA-10002763",
         "Advantus Map Pennant Flags and Round Head Tacks",
         87.69,
         14.615,
         6
        ],
        [
         "FUR-FU-10003553",
         "Howard Miller 13-1/2\" Diameter Rosebrook Wall Clock",
         949.026,
         189.80519999999999,
         5
        ],
        [
         "OFF-LA-10004093",
         "Avery 486",
         168.13000000000002,
         18.681111111111115,
         9
        ],
        [
         "TEC-MA-10004002",
         "Zebra GX420t Direct Thermal/Thermal Transfer Printer",
         1266.757,
         422.25233333333335,
         3
        ],
        [
         "OFF-AR-10001446",
         "Newell 309",
         196.35,
         39.269999999999996,
         5
        ],
        [
         "OFF-PA-10001450",
         "Rediform S.O.S. Phone Message Books",
         19.92,
         19.92,
         1
        ],
        [
         "FUR-TA-10002622",
         "Bush Andora Conference Table, Maple/Graphite Gray Finish",
         945.1890000000001,
         315.06300000000005,
         3
        ],
        [
         "OFF-PA-10004381",
         "14-7/8 x 11 Blue Bar Computer Printout Paper",
         422.752,
         105.688,
         4
        ],
        [
         "OFF-AP-10004136",
         "Kensington 6 Outlet SmartSocket Surge Protector",
         147.528,
         73.764,
         2
        ],
        [
         "OFF-PA-10004239",
         "Xerox 1953",
         47.08,
         11.77,
         4
        ],
        [
         "TEC-AC-10003870",
         "Logitech Z-906 Speaker sys - home theater - 5.1-CH",
         2002.564,
         500.641,
         4
        ],
        [
         "FUR-BO-10003893",
         "Sauder Camden County Collection Library",
         1001.282,
         500.641,
         2
        ],
        [
         "OFF-PA-10004911",
         "Rediform S.O.S. 1-Up Phone Message Bk, 4-1/4x3-1/16 Bk, 1 Form/Pg, 40 Messages/Bk, 3/Pk",
         196.98,
         39.396,
         5
        ],
        [
         "TEC-MA-10001856",
         "Okidata C610n Printer",
         500.641,
         500.641,
         1
        ],
        [
         "FUR-FU-10004666",
         "DAX Clear Channel Poster Frame",
         119.55600000000001,
         39.852000000000004,
         3
        ],
        [
         "TEC-AC-10004510",
         "Logitech Desktop MK120 Mouse and keyboard Combo",
         778.736,
         64.89466666666667,
         12
        ],
        [
         "OFF-EN-10003001",
         "Ames Color-File Green Diamond Border X-ray Mailers",
         1256.461,
         314.11525,
         4
        ],
        [
         "FUR-BO-10002598",
         "Hon Metal Bookcases, Putty",
         1182.049,
         236.4098,
         5
        ],
        [
         "TEC-PH-10002834",
         "Google Nexus 5",
         2257.8810000000003,
         451.5762000000001,
         5
        ],
        [
         "OFF-BI-10004781",
         "GBC Wire Binding Strips",
         212.658,
         42.5316,
         5
        ],
        [
         "FUR-FU-10001475",
         "Contract Clock, 14\", Brown",
         272.552,
         68.138,
         4
        ],
        [
         "TEC-CO-10004722",
         "Canon imageCLASS 2200 Advanced Copier",
         2503.205,
         500.64099999999996,
         5
        ],
        [
         "OFF-AR-10001860",
         "BIC Liqua Brite Liner",
         173.5,
         28.916666666666668,
         6
        ],
        [
         "OFF-PA-10001204",
         "Xerox 1972",
         46.464000000000006,
         9.292800000000002,
         5
        ],
        [
         "OFF-AP-10001154",
         "Bionaire Personal Warm Mist Humidifier/Vaporizer",
         515.79,
         171.92999999999998,
         3
        ],
        [
         "TEC-AC-10004659",
         "Imation Secure+ Hardware Encrypted USB 2.0 Flash Drive; 16GB",
         1926.9360000000001,
         321.156,
         6
        ],
        [
         "TEC-PH-10002070",
         "Griffin GC36547 PowerJolt SE Lightning Charger",
         175.422,
         58.474,
         3
        ],
        [
         "TEC-PH-10002350",
         "Apple EarPods with Remote and Mic",
         251.91,
         62.9775,
         4
        ],
        [
         "FUR-FU-10003601",
         "Deflect-o RollaMat Studded, Beveled Mat for Medium Pile Carpeting",
         1607.401,
         267.9001666666667,
         6
        ],
        [
         "TEC-PH-10003442",
         "Samsung Replacement EH64AVFWE Premium Headset",
         104.5,
         20.9,
         5
        ],
        [
         "TEC-AC-10001284",
         "Enermax Briskie RF Wireless Keyboard and Mouse Combo",
         407.092,
         101.773,
         4
        ],
        [
         "TEC-AC-10004171",
         "Razer Kraken 7.1 Surround Sound Over Ear USB Gaming Headset",
         1601.2220000000002,
         320.24440000000004,
         5
        ],
        [
         "OFF-BI-10000174",
         "Wilson Jones Clip & Carry Folder Binder Tool for Ring Binders, Clear",
         183.27999999999997,
         22.909999999999997,
         8
        ],
        [
         "FUR-TA-10002855",
         "Bevis Round Conference Table Top & Single Column Base",
         1762.2500000000002,
         352.45000000000005,
         5
        ],
        [
         "TEC-AC-10002167",
         "Imation 8gb Micro Traveldrive Usb 2.0 Flash Drive",
         357,
         44.625,
         8
        ],
        [
         "TEC-PH-10003691",
         "BlackBerry Q10",
         2409.0510000000004,
         401.5085000000001,
         6
        ],
        [
         "FUR-FU-10000771",
         "Eldon 200 Class Desk Accessories, Smoke",
         138.16,
         34.54,
         4
        ],
        [
         "OFF-AR-10000380",
         "Hunt PowerHouse Electric Pencil Sharpener, Blue",
         1617.9480000000003,
         161.79480000000004,
         10
        ],
        [
         "OFF-EN-10003160",
         "Pastel Pink Envelopes",
         65.52,
         21.84,
         3
        ],
        [
         "OFF-PA-10004519",
         "Spiral Phone Message Books with Labels by Adams",
         60.032,
         15.008,
         4
        ],
        [
         "OFF-AR-10003179",
         "Dixon Ticonderoga Core-Lock Colored Pencils",
         229.57199999999997,
         32.796,
         7
        ],
        [
         "OFF-PA-10001977",
         "Xerox 194",
         443.84000000000003,
         110.96000000000001,
         4
        ],
        [
         "OFF-AP-10002118",
         "1.7 Cubic Foot Compact \"Cube\" Office Refrigerators",
         2165.921,
         360.9868333333333,
         6
        ],
        [
         "FUR-TA-10004086",
         "KI Adjustable-Height Table",
         1773.1450000000002,
         253.3064285714286,
         7
        ],
        [
         "OFF-AR-10001473",
         "Newell 313",
         28.208,
         9.402666666666667,
         3
        ],
        [
         "OFF-PA-10001583",
         "1/4 Fold Party Design Invitations & White Envelopes, 24 8-1/2\" X 11\" Cards, 25 Env./Pack",
         49.980000000000004,
         24.990000000000002,
         2
        ],
        [
         "TEC-AC-10000521",
         "Verbatim Slim CD and DVD Storage Cases, 50/Pack",
         80.78,
         20.195,
         4
        ],
        [
         "TEC-PH-10004774",
         "Gear Head AU3700S Headset",
         189.654,
         63.217999999999996,
         3
        ],
        [
         "TEC-PH-10001448",
         "Anker Astro 15000mAh USB Portable Charger",
         599.88,
         119.976,
         5
        ],
        [
         "OFF-LA-10002195",
         "Avery 481",
         91.168,
         18.233600000000003,
         5
        ],
        [
         "OFF-AR-10003772",
         "Boston 16750 Black Compact Battery Pencil Sharpener",
         43.75,
         21.875,
         2
        ],
        [
         "FUR-FU-10000448",
         "Tenex Chairmats For Use With Carpeted Floors",
         175.78,
         43.945,
         4
        ],
        [
         "TEC-PH-10001644",
         "BlueLounge Milo Smartphone Stand, White/Metallic",
         335.88800000000003,
         111.96266666666668,
         3
        ],
        [
         "OFF-AP-10004036",
         "Bionaire 99.97% HEPA Air Cleaner",
         199.72799999999998,
         49.931999999999995,
         4
        ],
        [
         "FUR-TA-10001691",
         "Barricks Non-Folding Utility Table with Steel Legs, Laminate Tops",
         136.464,
         136.464,
         1
        ],
        [
         "OFF-SU-10002503",
         "Acme Preferred Stainless Steel Scissors",
         90.88,
         22.72,
         4
        ],
        [
         "OFF-LA-10004055",
         "Color-Coded Legal Exhibit Labels",
         14.73,
         7.365,
         2
        ],
        [
         "OFF-ST-10001414",
         "Decoflex Hanging Personal Folder File",
         46.26,
         46.26,
         1
        ],
        [
         "FUR-CH-10000454",
         "Hon Deluxe Fabric Upholstered Stacking Chairs, Rounded Back",
         5554.883,
         462.90691666666663,
         12
        ],
        [
         "OFF-AR-10004582",
         "BIC Brite Liner Grip Highlighters",
         24.272,
         4.8544,
         5
        ],
        [
         "TEC-PH-10002185",
         "QVS USB Car Charger 2-Port 2.1Amp for iPod/iPhone/iPad/iPad 2/iPad 3",
         79.22999999999999,
         15.845999999999998,
         5
        ],
        [
         "TEC-AC-10003023",
         "Logitech G105 Gaming Keyboard",
         759.936,
         151.9872,
         5
        ],
        [
         "OFF-AP-10002734",
         "Holmes Harmony HEPA Air Purifier for 17 x 20 Room",
         500.641,
         500.641,
         1
        ],
        [
         "OFF-ST-10004946",
         "Desktop 3-Pocket Hot File",
         259.68,
         129.84,
         2
        ],
        [
         "OFF-BI-10003305",
         "Avery Hanging File Binders",
         105.846,
         17.641000000000002,
         6
        ],
        [
         "OFF-BI-10004352",
         "Wilson Jones DublLock D-Ring Binders",
         35.775,
         17.8875,
         2
        ],
        [
         "TEC-CO-10000971",
         "Hewlett Packard 310 Color Digital Copier",
         2741.224,
         456.8706666666667,
         6
        ],
        [
         "OFF-AR-10001177",
         "Newell 349",
         42.64,
         14.213333333333333,
         3
        ],
        [
         "OFF-LA-10004345",
         "Avery 493",
         55.974,
         13.9935,
         4
        ],
        [
         "FUR-TA-10001889",
         "Bush Advantage Collection Racetrack Conference Table",
         2757.731,
         459.62183333333337,
         6
        ],
        [
         "OFF-BI-10001097",
         "Avery Hole Reinforcements",
         116.501,
         12.944555555555556,
         9
        ],
        [
         "FUR-TA-10001039",
         "KI Adjustable-Height Table",
         2678.277,
         267.8277,
         10
        ],
        [
         "OFF-PA-10003016",
         "Adams \"While You Were Out\" Message Pads",
         72.848,
         14.5696,
         5
        ],
        [
         "OFF-PA-10003883",
         "Message Book, Phone, Wirebound Standard Line Memo, 2 3/4\" X 5\"",
         119.21,
         23.842,
         5
        ],
        [
         "OFF-ST-10001034",
         "Eldon File Chest Portable File",
         79.4,
         79.4,
         1
        ],
        [
         "FUR-FU-10004188",
         "Luxo Professional Combination Clamp-On Lamps",
         818.3999999999999,
         204.59999999999997,
         4
        ],
        [
         "OFF-PA-10000210",
         "Xerox Blank Computer Paper",
         99.9,
         99.9,
         1
        ],
        [
         "OFF-LA-10003537",
         "Avery 515",
         62.650000000000006,
         31.325000000000003,
         2
        ],
        [
         "OFF-AR-10000255",
         "Newell 328",
         75.92,
         25.30666666666667,
         3
        ],
        [
         "OFF-AR-10001662",
         "Rogers Handheld Barrel Pencil Sharpener",
         75.62400000000001,
         10.803428571428572,
         7
        ],
        [
         "OFF-BI-10001617",
         "GBC Wire Binding Combs",
         184.05200000000002,
         26.29314285714286,
         7
        ],
        [
         "OFF-AP-10002765",
         "Fellowes Advanced Computer Series Surge Protectors",
         386.754,
         64.459,
         6
        ],
        [
         "OFF-BI-10000494",
         "Acco Economy Flexible Poly Round Ring Binder",
         8.352,
         2.7840000000000003,
         3
        ],
        [
         "OFF-PA-10002659",
         "Avoid Verbal Orders Carbonless Minifold Book",
         68.276,
         13.655199999999999,
         5
        ],
        [
         "TEC-MA-10002073",
         "3D Systems Cube Printer, 2nd Generation, White",
         1001.282,
         500.641,
         2
        ],
        [
         "OFF-BI-10001460",
         "Plastic Binding Combs",
         269.66999999999996,
         53.93399999999999,
         5
        ],
        [
         "OFF-BI-10001757",
         "Pressboard Hanging Data Binders for Unburst Sheets",
         112.668,
         11.2668,
         10
        ],
        [
         "OFF-PA-10002751",
         "Xerox 1920",
         89.7,
         22.425,
         4
        ],
        [
         "OFF-SU-10002573",
         "Acme 10\" Easy Grip Assistive Scissors",
         448.76800000000003,
         56.096000000000004,
         8
        ],
        [
         "OFF-PA-10003072",
         "Eureka Recycled Copy Paper 8 1/2\" x 11\", Ream",
         99.792,
         19.9584,
         5
        ],
        [
         "FUR-CH-10000225",
         "Global Geo Office Task Chair, Gray",
         1592.4360000000001,
         227.49085714285715,
         7
        ],
        [
         "OFF-AR-10001374",
         "BIC Brite Liner Highlighters, Chisel Tip",
         123.12000000000002,
         20.520000000000003,
         6
        ],
        [
         "OFF-AR-10003183",
         "Avery Fluorescent Highlighter Four-Color Set",
         65.464,
         8.183,
         8
        ],
        [
         "OFF-PA-10002319",
         "Xerox 1944",
         573.6479999999999,
         95.60799999999999,
         6
        ],
        [
         "OFF-PA-10002245",
         "Xerox 1895",
         191.35999999999999,
         27.337142857142855,
         7
        ],
        [
         "OFF-SU-10004290",
         "Acme Design Line 8\" Stainless Steel Bent Scissors w/Champagne Handles, 3-1/8\" Cut",
         45.144000000000005,
         15.048000000000002,
         3
        ],
        [
         "FUR-FU-10003930",
         "Howard Miller 12-3/4 Diameter Accuwave DS  Wall Clock",
         595.069,
         297.5345,
         2
        ],
        [
         "OFF-AP-10004868",
         "Hoover Commercial Soft Guard Upright Vacuum And Disposable Filtration Bags",
         91.68599999999999,
         22.921499999999998,
         4
        ],
        [
         "FUR-FU-10001290",
         "Executive Impressions Supervisor Wall Clock",
         820.601,
         205.15025,
         4
        ],
        [
         "TEC-AC-10003441",
         "Kingston Digital DataTraveler 32GB USB 2.0",
         355.95,
         50.85,
         7
        ],
        [
         "TEC-PH-10002923",
         "Logitech B530 USB Headset - headset - Full size, Binaural",
         739.7999999999998,
         73.97999999999999,
         10
        ],
        [
         "OFF-PA-10000223",
         "Xerox 2000",
         84.24000000000001,
         16.848000000000003,
         5
        ],
        [
         "TEC-MA-10002927",
         "Canon imageCLASS MF7460 Monochrome Digital Laser Multifunction Copier",
         500.641,
         500.641,
         1
        ],
        [
         "FUR-FU-10001940",
         "Staple-based wall hangings",
         219.696,
         21.9696,
         10
        ],
        [
         "FUR-TA-10002530",
         "Iceberg OfficeWorks 42\" Round Tables",
         2586.572,
         369.5102857142857,
         7
        ],
        [
         "TEC-PH-10002496",
         "Cisco SPA301",
         2559.709,
         319.963625,
         8
        ],
        [
         "FUR-FU-10000820",
         "Tensor Brushed Steel Torchiere Floor Lamp",
         146.114,
         36.5285,
         4
        ],
        [
         "OFF-LA-10002381",
         "Avery 497",
         24.023999999999997,
         12.011999999999999,
         2
        ],
        [
         "OFF-ST-10004950",
         "Tenex Personal Filing Tote With Secure Closure Lid, Black/Frost",
         279.18,
         55.836,
         5
        ],
        [
         "TEC-AC-10000926",
         "NETGEAR RangeMax WNR1000 Wireless Router",
         59.976,
         59.976,
         1
        ],
        [
         "OFF-AP-10002534",
         "3.6 Cubic Foot Counter Height Office Refrigerator",
         1531.598,
         306.3196,
         5
        ],
        [
         "TEC-AC-10002558",
         "Imation Swivel Flash Drive USB flash drive - 8 GB",
         54.57599999999999,
         27.287999999999997,
         2
        ],
        [
         "OFF-FA-10000840",
         "OIC Thumb-Tacks",
         12.996,
         4.332,
         3
        ],
        [
         "OFF-BI-10004022",
         "Acco Suede Grain Vinyl Round Ring Binder",
         38.642,
         4.83025,
         8
        ],
        [
         "OFF-BI-10000778",
         "GBC VeloBinder Electric Binding Machine",
         496.0179999999999,
         124.00449999999998,
         4
        ],
        [
         "OFF-EN-10001532",
         "Brown Kraft Recycled Envelopes",
         244.512,
         48.9024,
         5
        ],
        [
         "OFF-AR-10003752",
         "Deluxe Chalkboard Eraser Cleaner",
         182.49,
         36.498000000000005,
         5
        ],
        [
         "OFF-LA-10001045",
         "Permanent Self-Adhesive File Folder Labels for Typewriters by Universal",
         44.37,
         7.395,
         6
        ],
        [
         "OFF-PA-10000357",
         "White Dual Perf Computer Printout Paper, 2700 Sheets, 1 Part, Heavyweight, 20 lbs., 14 7/8 x 11",
         909.9780000000001,
         151.663,
         6
        ],
        [
         "OFF-ST-10000344",
         "Neat Ideas Personal Hanging Folder Files, Black",
         276.658,
         39.52257142857143,
         7
        ],
        [
         "FUR-FU-10003731",
         "Eldon Expressions Wood and Plastic Desk Accessories, Oak",
         149.70000000000002,
         29.940000000000005,
         5
        ],
        [
         "OFF-BI-10004593",
         "Ibico Laser Imprintable Binding System Covers",
         1100.4,
         137.55,
         8
        ],
        [
         "OFF-BI-10003656",
         "Fellowes PB200 Plastic Comb Binding Machine",
         2555.8610000000003,
         319.48262500000004,
         8
        ],
        [
         "FUR-CH-10001394",
         "Global Leather Executive Chair",
         3284.638,
         469.234,
         7
        ],
        [
         "OFF-ST-10002406",
         "Pizazz Global Quick File",
         353.292,
         58.882,
         6
        ],
        [
         "OFF-PA-10004470",
         "Adams Write n' Stick Phone Message Book, 11\" X 5 1/4\", 200 Messages",
         40.896,
         13.632,
         3
        ],
        [
         "OFF-LA-10000414",
         "Avery 503",
         124.19999999999999,
         41.4,
         3
        ],
        [
         "OFF-SU-10004884",
         "Acme Galleria Hot Forged Steel Scissors with Colored Handles",
         195.05200000000002,
         65.01733333333334,
         3
        ],
        [
         "OFF-BI-10000136",
         "Avery Non-Stick Heavy Duty View Round Locking Ring Binders",
         68.17200000000001,
         22.724000000000004,
         3
        ],
        [
         "OFF-ST-10000798",
         "2300 Heavy-Duty Transfer File Systems by Perma",
         344.724,
         86.181,
         4
        ],
        [
         "FUR-CH-10000155",
         "Global Comet Stacking Armless Chair",
         2197.482,
         439.4964,
         5
        ],
        [
         "TEC-PH-10001254",
         "Jabra BIZ 2300 Duo QD Duo Corded Headset",
         1414.969,
         353.74225,
         4
        ],
        [
         "TEC-AC-10000991",
         "Sony Micro Vault Click 8 GB USB 2.0 Flash Drive",
         582.6759999999999,
         145.66899999999998,
         4
        ],
        [
         "OFF-AR-10004685",
         "Binney & Smith Crayola Metallic Colored Pencils, 8-Color Set",
         88.896,
         12.699428571428571,
         7
        ],
        [
         "TEC-PH-10004100",
         "Griffin GC17055 Auxiliary Audio Cable",
         395.7799999999999,
         65.96333333333332,
         6
        ],
        [
         "TEC-MA-10004679",
         "StarTech.com 10/100 VDSL2 Ethernet Extender Kit",
         1800.362,
         450.0905,
         4
        ],
        [
         "FUR-FU-10003142",
         "Master Big Foot Doorstop, Beige",
         152.06400000000002,
         25.344000000000005,
         6
        ],
        [
         "OFF-PA-10003465",
         "Xerox 1912",
         201.082,
         50.2705,
         4
        ],
        [
         "OFF-LA-10001474",
         "Avery 477",
         573.9639999999999,
         143.49099999999999,
         4
        ],
        [
         "OFF-PA-10001763",
         "Xerox 1896",
         49.95,
         24.975,
         2
        ],
        [
         "FUR-FU-10003976",
         "DAX Executive Solid Wood Document Frame, Desktop or Hang, Mahogany, 5 x 7",
         196.248,
         39.2496,
         5
        ],
        [
         "OFF-AP-10000159",
         "Belkin F9M820V08 8 Outlet Surge",
         558.74,
         186.24666666666667,
         3
        ],
        [
         "OFF-AR-10000588",
         "Newell 345",
         476.15999999999997,
         52.906666666666666,
         9
        ],
        [
         "FUR-FU-10003708",
         "Tenex Traditional Chairmats for Medium Pile Carpet, Standard Lip, 36\" x 48\"",
         1276.961,
         212.82683333333333,
         6
        ],
        [
         "OFF-AR-10004752",
         "Blackstonian Pencils",
         30.438000000000002,
         10.146,
         3
        ],
        [
         "OFF-BI-10001524",
         "GBC Premium Transparent Covers with Diagonal Lined Pattern",
         780.4559999999999,
         55.74685714285714,
         14
        ],
        [
         "OFF-PA-10000659",
         "Adams Phone Message Book, Professional, 400 Message Capacity, 5 3/6” x 11”",
         94.928,
         31.642666666666667,
         3
        ],
        [
         "OFF-PA-10004965",
         "Xerox 1921",
         55.944,
         18.648,
         3
        ],
        [
         "FUR-FU-10001706",
         "Longer-Life Soft White Bulbs",
         106.568,
         11.84088888888889,
         9
        ],
        [
         "OFF-AR-10001022",
         "SANFORD Liquid Accent Tank-Style Highlighters",
         14.2,
         4.733333333333333,
         3
        ],
        [
         "TEC-AC-10002550",
         "Memorex 25GB 6X Branded Blu-Ray Recordable Disc, 30/Pack",
         472.86,
         118.215,
         4
        ],
        [
         "OFF-BI-10001132",
         "Acco PRESSTEX Data Binder with Storage Hooks, Dark Blue, 9 1/2\" X 11\"",
         62.946,
         15.7365,
         4
        ],
        [
         "TEC-AC-10003116",
         "Memorex Froggy Flash Drive 8 GB",
         411.79999999999995,
         58.82857142857142,
         7
        ],
        [
         "OFF-ST-10004634",
         "Personal Folder Holder, Ebony",
         145.73000000000002,
         24.288333333333338,
         6
        ],
        [
         "OFF-BI-10003925",
         "Fellowes PB300 Plastic Comb Binding Machine",
         2700.946,
         450.15766666666667,
         6
        ],
        [
         "OFF-AP-10003860",
         "Fellowes Advanced 8 Outlet Surge Suppressor with Phone/Fax Protection",
         244.288,
         81.42933333333333,
         3
        ],
        [
         "OFF-PA-10002160",
         "Xerox 1978",
         174.556,
         21.8195,
         8
        ],
        [
         "OFF-AR-10003156",
         "50 Colored Long Pencils",
         138.176,
         27.635199999999998,
         5
        ],
        [
         "TEC-PH-10001580",
         "Logitech Mobile Speakerphone P710e - speaker phone",
         1730.1740000000002,
         346.0348,
         5
        ],
        [
         "TEC-PH-10004897",
         "Mediabridge Sport Armband iPhone 5s",
         257.74199999999996,
         36.82028571428571,
         7
        ],
        [
         "OFF-FA-10003472",
         "Bagged Rubber Bands",
         23.184,
         5.796,
         4
        ],
        [
         "TEC-PH-10003555",
         "Motorola HK250 Universal Bluetooth Headset",
         832.238,
         92.4708888888889,
         9
        ],
        [
         "OFF-BI-10004828",
         "GBC Poly Designer Binding Covers",
         256.122,
         42.687000000000005,
         6
        ],
        [
         "TEC-AC-10002800",
         "Plantronics Audio 478 Stereo USB Headset",
         1619.6760000000002,
         179.96400000000003,
         9
        ],
        [
         "OFF-PA-10001622",
         "Ampad Poly Cover Wirebound Steno Book, 6\" x 9\" Assorted Colors, Gregg Ruled",
         38.135999999999996,
         9.533999999999999,
         4
        ],
        [
         "OFF-PA-10000791",
         "Wirebound Message Books, Four 2 3/4 x 5 Forms per Page, 200 Sets per Book",
         115.434,
         19.239,
         6
        ],
        [
         "TEC-MA-10000597",
         "Lexmark S315 Color Inkjet Printer",
         299.97,
         149.985,
         2
        ],
        [
         "OFF-ST-10000604",
         "Home/Office Personal File Carts",
         980.232,
         140.03314285714285,
         7
        ],
        [
         "OFF-BI-10004094",
         "GBC Standard Plastic Binding Systems Combs",
         55.755,
         11.151,
         5
        ],
        [
         "OFF-BI-10003708",
         "Acco Four Pocket Poly Ring Binder with Label Holder, Smoke, 1\"",
         122.17999999999999,
         20.363333333333333,
         6
        ],
        [
         "OFF-PA-10004071",
         "Eaton Premium Continuous-Feed Paper, 25% Cotton, Letter Size, White, 1000 Shts/Box",
         1098.5040000000001,
         109.85040000000001,
         10
        ],
        [
         "TEC-AC-10002550",
         "Maxell 4.7GB DVD-RW 3/Pack",
         146.55599999999998,
         36.638999999999996,
         4
        ],
        [
         "OFF-BI-10004519",
         "GBC DocuBind P100 Manual Binding Machine",
         2791.165,
         348.895625,
         8
        ],
        [
         "FUR-FU-10000076",
         "24-Hour Round Wall Clock",
         487.51200000000006,
         81.25200000000001,
         6
        ],
        [
         "OFF-BI-10003784",
         "Computer Printout Index Tabs",
         11.088,
         2.772,
         4
        ],
        [
         "TEC-PH-10004188",
         "OtterBox Commuter Series Case - Samsung Galaxy S4",
         384.84599999999995,
         96.21149999999999,
         4
        ],
        [
         "TEC-PH-10000347",
         "Cush Cases Heavy Duty Rugged Cover Case for Samsung Galaxy S5 - Purple",
         65.34,
         10.89,
         6
        ],
        [
         "OFF-ST-10000649",
         "Hanging Personal Folder File",
         251.2,
         50.239999999999995,
         5
        ],
        [
         "TEC-AC-10003063",
         "Micro Innovations USB RF Wireless Keyboard with Mouse",
         440,
         73.33333333333333,
         6
        ],
        [
         "OFF-PA-10001246",
         "Xerox 215",
         19.44,
         19.44,
         1
        ],
        [
         "OFF-AR-10004999",
         "Newell 315",
         145.91199999999998,
         24.31866666666666,
         6
        ],
        [
         "FUR-BO-10000468",
         "O'Sullivan 2-Shelf Heavy-Duty Bookcases",
         723.842,
         120.64033333333333,
         6
        ],
        [
         "OFF-PA-10001639",
         "Xerox 203",
         143.856,
         23.976,
         6
        ],
        [
         "OFF-AR-10000411",
         "Boston 16701 Slimline Battery Pencil Sharpener",
         86.076,
         43.038,
         2
        ],
        [
         "OFF-ST-10000046",
         "Fellowes Super Stor/Drawer Files",
         3036.812,
         379.6015,
         8
        ],
        [
         "TEC-AC-10003038",
         "Kingston Digital DataTraveler 16GB USB 2.0",
         477.92999999999995,
         36.76384615384615,
         13
        ],
        [
         "FUR-FU-10001867",
         "Eldon Expressions Punched Metal & Wood Desk Accessories, Pewter & Cherry",
         121.296,
         40.432,
         3
        ],
        [
         "FUR-BO-10003546",
         "Hon 4-Shelf Metal Bookcases",
         1470.0490000000002,
         367.51225000000005,
         4
        ],
        [
         "OFF-EN-10002592",
         "Peel & Seel Recycled Catalog Envelopes, Brown",
         176.01600000000002,
         44.004000000000005,
         4
        ],
        [
         "OFF-PA-10001954",
         "Xerox 1964",
         721.744,
         144.3488,
         5
        ],
        [
         "OFF-BI-10000545",
         "GBC Ibimaster 500 Manual ProClick Binding System",
         4461.716,
         495.7462222222223,
         9
        ],
        [
         "FUR-CH-10001545",
         "Hon Comfortask Task/Swivel Chairs",
         1549.2569999999998,
         258.2095,
         6
        ],
        [
         "OFF-PA-10001001",
         "Snap-A-Way Black Print Carbonless Speed Message, No Reply Area, Duplicate",
         93.248,
         93.248,
         1
        ],
        [
         "FUR-CH-10004063",
         "Global Deluxe High-Back Manager's Chair",
         3962.0550000000003,
         495.25687500000004,
         8
        ],
        [
         "OFF-ST-10000078",
         "Tennsco 6- and 18-Compartment Lockers",
         4694.57,
         469.457,
         10
        ],
        [
         "FUR-FU-10004415",
         "Stacking Tray, Side-Loading, Legal, Smoke",
         46.592000000000006,
         11.648000000000001,
         4
        ],
        [
         "OFF-BI-10004970",
         "ACCOHIDE 3-Ring Binder, Blue, 1\"",
         147.028,
         11.309846153846154,
         13
        ],
        [
         "TEC-PH-10000376",
         "Square Credit Card Reader",
         173.826,
         24.832285714285714,
         7
        ],
        [
         "TEC-PH-10002310",
         "Panasonic KX T7731-B Digital phone",
         459.95399999999995,
         229.97699999999998,
         2
        ],
        [
         "OFF-EN-10003072",
         "Peel & Seel Envelopes",
         62.856,
         15.714,
         4
        ],
        [
         "OFF-AP-10000828",
         "Avanti 4.4 Cu. Ft. Refrigerator",
         2979.856,
         425.6937142857143,
         7
        ],
        [
         "TEC-PH-10003655",
         "Sannysis Cute Owl Design Soft Skin Case Cover for Samsung Galaxy S4",
         13.86,
         6.93,
         2
        ],
        [
         "OFF-BI-10000977",
         "Ibico Plastic Spiral Binding Combs",
         1100.48,
         84.65230769230769,
         13
        ],
        [
         "FUR-FU-10000550",
         "Stacking Trays by OIC",
         72.708,
         12.118,
         6
        ],
        [
         "FUR-FU-10004018",
         "Tensor Computer Mounted Lamp",
         491.36999999999995,
         70.19571428571427,
         7
        ],
        [
         "OFF-BI-10004308",
         "Avery Legal 4-Ring Binder",
         258.054,
         64.5135,
         4
        ],
        [
         "OFF-EN-10004955",
         "Fashion Color Clasp Envelopes",
         77.904,
         25.968,
         3
        ],
        [
         "FUR-FU-10000794",
         "Eldon Stackable Tray, Side-Load, Legal, Smoke",
         155.38000000000002,
         31.076000000000004,
         5
        ],
        [
         "TEC-AC-10000682",
         "Kensington K72356US Mouse-in-a-Box USB Desktop Mouse",
         321.846,
         53.641,
         6
        ],
        [
         "OFF-AR-10003732",
         "Newell 333",
         86.736,
         7.885090909090909,
         11
        ],
        [
         "OFF-PA-10000675",
         "Xerox 1919",
         1500.2340000000002,
         187.52925000000002,
         8
        ],
        [
         "FUR-TA-10003238",
         "Chromcraft Bull-Nose Wood 48\" x 96\" Rectangular Conference Tables",
         2493.687,
         415.61449999999996,
         6
        ],
        [
         "OFF-BI-10003355",
         "Cardinal Holdit Business Card Pockets",
         87.648,
         10.956,
         8
        ],
        [
         "OFF-ST-10002352",
         "Iris Project Case",
         225.036,
         37.506,
         6
        ],
        [
         "OFF-PA-10001970",
         "Xerox 1908",
         1712.9879999999998,
         244.7125714285714,
         7
        ],
        [
         "OFF-PA-10003953",
         "Xerox 218",
         49.248,
         9.849599999999999,
         5
        ],
        [
         "OFF-PA-10004438",
         "Xerox 1907",
         98.24,
         49.12,
         2
        ],
        [
         "FUR-FU-10003981",
         "Eldon Wave Desk Accessories",
         29.951999999999998,
         5.990399999999999,
         5
        ],
        [
         "OFF-ST-10001490",
         "Hot File 7-Pocket, Floor Stand",
         5433.812999999999,
         417.9856153846153,
         13
        ],
        [
         "FUR-CH-10001215",
         "Global Troy Executive Leather Low-Back Tilter",
         4505.769,
         500.641,
         9
        ],
        [
         "FUR-CH-10003312",
         "Hon 2090 “Pillow Soft” Series Mid Back Swivel/Tilt Chairs",
         2952.773,
         492.1288333333334,
         6
        ],
        [
         "FUR-BO-10002916",
         "Rush Hierlooms Collection 1\" Thick Stackable Bookcases",
         1608.2610000000002,
         402.06525000000005,
         4
        ],
        [
         "OFF-BI-10004965",
         "Ibico Covers for Plastic or Wire Binding Elements",
         184,
         26.285714285714285,
         7
        ],
        [
         "OFF-PA-10003228",
         "Xerox 1917",
         1222.75,
         244.55,
         5
        ],
        [
         "TEC-PH-10001809",
         "Panasonic KX T7736-B Digital phone",
         1259.58,
         251.916,
         5
        ],
        [
         "OFF-BI-10003707",
         "Aluminum Screw Posts",
         354.03200000000004,
         32.18472727272728,
         11
        ],
        [
         "OFF-AR-10004648",
         "Boston 19500 Mighty Mite Electric Pencil Sharpener",
         342.55,
         85.6375,
         4
        ],
        [
         "OFF-BI-10000138",
         "Acco Translucent Poly Ring Binders",
         77.68799999999999,
         11.098285714285712,
         7
        ],
        [
         "OFF-AP-10004655",
         "Holmes Visible Mist Ultrasonic Humidifier with 2.3-Gallon Output per Day, Replacement Filter",
         47.544000000000004,
         23.772000000000002,
         2
        ],
        [
         "FUR-CH-10001190",
         "Global Deluxe High-Back Office Chair in Storm",
         1087.92,
         362.64000000000004,
         3
        ],
        [
         "FUR-BO-10002202",
         "Atlantic Metals Mobile 2-Shelf Bookcases, Custom Colors",
         400.027,
         200.0135,
         2
        ],
        [
         "OFF-AP-10000938",
         "Avanti 1.7 Cu. Ft. Refrigerator",
         1663.491,
         415.87275,
         4
        ],
        [
         "OFF-LA-10003388",
         "Avery 5",
         5.76,
         5.76,
         1
        ],
        [
         "TEC-CO-10004115",
         "Sharp AL-1530CS Digital Copier",
         2002.564,
         500.641,
         4
        ],
        [
         "OFF-BI-10002429",
         "Premier Elliptical Ring Binder, Black",
         508.34799999999996,
         63.543499999999995,
         8
        ],
        [
         "FUR-FU-10000277",
         "Deflect-o DuraMat Antistatic Studded Beveled Mat for Medium Pile Carpeting",
         1343.361,
         268.67220000000003,
         5
        ],
        [
         "TEC-AC-10003610",
         "Logitech Illuminated - Keyboard",
         1139.81,
         189.96833333333333,
         6
        ],
        [
         "OFF-PA-10001815",
         "Xerox 1885",
         960.8,
         192.16,
         5
        ],
        [
         "OFF-AP-10001563",
         "Belkin Premiere Surge Master II 8-outlet surge protector",
         952.168,
         136.024,
         7
        ],
        [
         "OFF-PA-10004285",
         "Xerox 1959",
         133.6,
         22.266666666666666,
         6
        ],
        [
         "TEC-PH-10001300",
         "iKross Bluetooth Portable Keyboard + Cell Phone Stand Holder + Brush for Apple iPhone 5S 5C 5, 4S 4",
         477.66,
         95.53200000000001,
         5
        ],
        [
         "OFF-PA-10003739",
         "Xerox 1969",
         11.56,
         11.56,
         1
        ],
        [
         "OFF-LA-10004409",
         "Avery 492",
         53.568,
         10.7136,
         5
        ],
        [
         "FUR-FU-10000723",
         "Deflect-o EconoMat Studded, No Bevel Mat for Low Pile Carpeting",
         1115.6399999999999,
         123.95999999999998,
         9
        ],
        [
         "TEC-AC-10001465",
         "SanDisk Cruzer 64 GB USB Flash Drive",
         1184.032,
         131.5591111111111,
         9
        ],
        [
         "FUR-FU-10002553",
         "Electrix Incandescent Magnifying Lamp, Black",
         117.28,
         58.64,
         2
        ],
        [
         "OFF-AP-10001366",
         "Staple holder",
         186.66000000000003,
         46.665000000000006,
         4
        ],
        [
         "OFF-LA-10002475",
         "Avery 519",
         121.346,
         20.224333333333334,
         6
        ],
        [
         "OFF-PA-10003845",
         "Xerox 1987",
         92.48,
         23.12,
         4
        ],
        [
         "OFF-AR-10003856",
         "Newell 344",
         41.144,
         8.2288,
         5
        ],
        [
         "TEC-PH-10000011",
         "PureGear Roll-On Screen Protector",
         571.7139999999999,
         114.34279999999998,
         5
        ],
        [
         "FUR-FU-10001037",
         "DAX Charcoal/Nickel-Tone Document Frame, 5 x 7",
         127.03199999999998,
         25.406399999999998,
         5
        ],
        [
         "FUR-BO-10002853",
         "O'Sullivan 5-Shelf Heavy-Duty Bookcases",
         540.8040000000001,
         135.20100000000002,
         4
        ],
        [
         "TEC-AC-10002001",
         "Logitech Wireless Gaming Headset G930",
         1983.8760000000002,
         396.77520000000004,
         5
        ],
        [
         "FUR-CH-10001482",
         "Office Star - Mesh Screen back chair with Vinyl seat",
         2200.4640000000004,
         314.35200000000003,
         7
        ],
        [
         "OFF-AR-10003338",
         "Eberhard Faber 3 1/2\" Golf Pencils",
         139.872,
         19.981714285714286,
         7
        ],
        [
         "OFF-PA-10000100",
         "Xerox 1945",
         1492.0360000000003,
         213.14800000000005,
         7
        ],
        [
         "FUR-FU-10004091",
         "Howard Miller 13\" Diameter Goldtone Round Wall Clock",
         1042.068,
         173.678,
         6
        ],
        [
         "OFF-BI-10002931",
         "Avery Trapezoid Extra Heavy Duty 4\" Binders",
         314.55,
         78.6375,
         4
        ],
        [
         "TEC-AC-10000844",
         "Logitech Gaming G510s - Keyboard",
         2362.7219999999998,
         295.34024999999997,
         8
        ],
        [
         "OFF-AP-10001492",
         "Acco Six-Outlet Power Strip, 4' Cord Length",
         299.976,
         37.497,
         8
        ],
        [
         "TEC-PH-10000213",
         "Seidio BD2-HK3IPH5-BK DILEX Case and Holster Combo for Apple iPhone 5/5s - Black",
         272.888,
         90.96266666666666,
         3
        ],
        [
         "OFF-PA-10004255",
         "Xerox 219",
         97.19999999999999,
         24.299999999999997,
         4
        ],
        [
         "FUR-FU-10002703",
         "Tenex Traditional Chairmats for Hard Floors, Average Lip, 36\" x 48\"",
         180.46,
         90.23,
         2
        ],
        [
         "OFF-ST-10004835",
         "Plastic Stacking Crates & Casters",
         35.712,
         8.928,
         4
        ],
        [
         "OFF-ST-10003123",
         "Fellowes Bases and Tops For Staxonsteel/High-Stak Systems",
         858.882,
         85.8882,
         10
        ],
        [
         "TEC-AC-10003832",
         "Imation 16GB Mini TravelDrive USB 2.0 Flash Drive",
         1007.1519999999999,
         111.90577777777777,
         9
        ],
        [
         "OFF-BI-10001107",
         "GBC White Gloss Covers, Plain Front",
         269.328,
         38.475428571428566,
         7
        ],
        [
         "FUR-TA-10002774",
         "Laminate Occasional Tables",
         1371.194,
         457.06466666666665,
         3
        ],
        [
         "OFF-ST-10003994",
         "Belkin 19\" Center-Weighted Shelf, Gray",
         849.312,
         212.328,
         4
        ],
        [
         "FUR-FU-10004909",
         "Contemporary Wood/Metal Frame",
         193.92,
         48.48,
         4
        ],
        [
         "OFF-ST-10001272",
         "Mini 13-1/2 Capacity Data Binder Rack, Pearl",
         1442.905,
         288.581,
         5
        ],
        [
         "OFF-PA-10001826",
         "Xerox 207",
         40.176,
         20.088,
         2
        ],
        [
         "FUR-FU-10004164",
         "Eldon 300 Class Desk Accessories, Black",
         29.7,
         14.85,
         2
        ],
        [
         "FUR-FU-10001934",
         "Magnifier Swing Arm Lamp",
         251.76000000000002,
         50.352000000000004,
         5
        ],
        [
         "OFF-PA-10000659",
         "TOPS Carbonless Receipt Book, Four 2-3/4 x 7-1/4 Money Receipts per Page",
         406.46399999999994,
         101.61599999999999,
         4
        ],
        [
         "FUR-FU-10000409",
         "GE 4 Foot Flourescent Tube, 40 Watt",
         98.86800000000001,
         32.956,
         3
        ],
        [
         "OFF-AR-10003190",
         "Newell 32",
         47.232,
         7.872,
         6
        ],
        [
         "OFF-BI-10002432",
         "Wilson Jones Standard D-Ring Binders",
         96.646,
         12.08075,
         8
        ],
        [
         "TEC-MA-10002210",
         "Epson TM-T88V Direct Thermal Printer - Monochrome - Desktop",
         1001.282,
         500.641,
         2
        ],
        [
         "OFF-AR-10004441",
         "BIC Brite Liner Highlighters",
         86.11200000000001,
         12.301714285714286,
         7
        ],
        [
         "OFF-PA-10003724",
         "Wirebound Message Book, 4 per Page",
         184.61999999999998,
         26.374285714285712,
         7
        ],
        [
         "FUR-CH-10002774",
         "Global Deluxe Stacking Chair, Gray",
         764.6999999999999,
         109.24285714285713,
         7
        ],
        [
         "FUR-CH-10004875",
         "Harbour Creations 67200 Series Stacking Chairs",
         1501.898,
         187.73725,
         8
        ],
        [
         "OFF-PA-10004405",
         "Rediform Voice Mail Log Books",
         29.204,
         14.602,
         2
        ],
        [
         "OFF-PA-10001950",
         "Southworth 25% Cotton Antique Laid Paper & Envelopes",
         193.488,
         48.372,
         4
        ],
        [
         "TEC-MA-10004212",
         "Cisco SPA525G2 5-Line IP Phone",
         500.641,
         500.641,
         1
        ],
        [
         "OFF-ST-10001526",
         "Iceberg Mobile Mega Data/Printer Cart",
         3566.8540000000007,
         445.8567500000001,
         8
        ],
        [
         "TEC-MA-10004552",
         "Star Micronics TSP100 TSP143LAN Receipt Printer",
         500.641,
         500.641,
         1
        ],
        [
         "OFF-BI-10002414",
         "GBC ProClick Spines for 32-Hole Punch",
         66.40899999999999,
         13.281799999999999,
         5
        ],
        [
         "FUR-FU-10003919",
         "Eldon Executive Woodline II Cherry Finish Desk Accessories",
         98.13600000000001,
         49.068000000000005,
         2
        ],
        [
         "OFF-BI-10004187",
         "3-ring staple pack",
         42.112,
         7.018666666666667,
         6
        ],
        [
         "OFF-ST-10001469",
         "Fellowes Bankers Box Recycled Super Stor/Drawer",
         1187.56,
         169.65142857142857,
         7
        ],
        [
         "OFF-FA-10003495",
         "Staples",
         192.12800000000001,
         27.446857142857144,
         7
        ],
        [
         "FUR-CH-10002880",
         "Global High-Back Leather Tilter, Burgundy",
         4342.992,
         310.2137142857143,
         14
        ],
        [
         "TEC-AC-10001635",
         "KeyTronic KT400U2 - Keyboard - Black",
         148.03199999999998,
         49.343999999999994,
         3
        ],
        [
         "FUR-FU-10004665",
         "3M Polarizing Task Lamp with Clamp Arm, Light Gray",
         1549.202,
         387.3005,
         4
        ],
        [
         "FUR-FU-10001588",
         "Deflect-o SuperTray Unbreakable Stackable Tray, Letter, Black",
         437.70000000000005,
         109.42500000000001,
         4
        ],
        [
         "OFF-PA-10004609",
         "Xerox 221",
         73.872,
         24.624,
         3
        ],
        [
         "OFF-PA-10002968",
         "Xerox 1973",
         169.01600000000002,
         84.50800000000001,
         2
        ],
        [
         "OFF-PA-10000483",
         "Xerox 19",
         415.132,
         103.783,
         4
        ],
        [
         "FUR-CH-10003535",
         "Global Armless Task Chair, Royal Blue",
         1396.442,
         174.55525,
         8
        ],
        [
         "FUR-FU-10002445",
         "DAX Two-Tone Rosewood/Black Document Frame, Desktop, 5 x 7",
         216.144,
         27.018,
         8
        ],
        [
         "TEC-PH-10003601",
         "Ativa D5772 2-Line 5.8GHz Digital Expandable Corded/Cordless Phone System with Answering & Caller ID/Call Waiting, Black/Silver",
         1655.5710000000001,
         413.89275000000004,
         4
        ],
        [
         "TEC-MA-10001016",
         "Canon PC170 Desktop Personal Copier",
         575.82,
         287.91,
         2
        ],
        [
         "OFF-BI-10004318",
         "Ibico EB-19 Dual Function Manual Binding System",
         2575.491,
         321.936375,
         8
        ],
        [
         "FUR-TA-10003392",
         "Global Adaptabilities Conference Tables",
         1839.0990000000002,
         459.77475000000004,
         4
        ],
        [
         "TEC-AC-10001114",
         "Microsoft Wireless Mobile Mouse 4000",
         591.852,
         147.963,
         4
        ],
        [
         "FUR-CH-10002602",
         "DMI Arturo Collection Mission-style Design Wood Chair",
         3706.231,
         336.93009090909095,
         11
        ],
        [
         "OFF-ST-10003479",
         "Eldon Base for stackable storage shelf, platinum",
         872.2559999999999,
         124.60799999999998,
         7
        ],
        [
         "OFF-LA-10003498",
         "Avery 475",
         266.4,
         66.6,
         4
        ],
        [
         "FUR-FU-10004904",
         "Eldon \"L\" Workstation Diamond Chairmat",
         1002.9360000000001,
         250.73400000000004,
         4
        ],
        [
         "OFF-AP-10000804",
         "Hoover Portapower Portable Vacuum",
         61.824,
         15.456,
         4
        ],
        [
         "OFF-AP-10002906",
         "Hoover Replacement Belt for Commercial Guardsman Heavy-Duty Upright Vacuum",
         9.768,
         2.442,
         4
        ],
        [
         "FUR-TA-10003837",
         "Anderson Hickey Conga Table Tops & Accessories",
         51.782,
         25.891,
         2
        ],
        [
         "OFF-LA-10003714",
         "Avery 510",
         21.75,
         7.25,
         3
        ],
        [
         "TEC-AC-10000057",
         "Microsoft Natural Ergonomic Keyboard 4000",
         557.814,
         111.5628,
         5
        ],
        [
         "OFF-PA-10000241",
         "IBM Multi-Purpose Copy Paper, 8 1/2 x 11\", Case",
         458.504,
         76.41733333333333,
         6
        ],
        [
         "OFF-PA-10001461",
         "HP Office Paper (20Lb. and 87 Bright)",
         86.84,
         43.42,
         2
        ],
        [
         "FUR-CH-10003606",
         "SAFCO Folding Chair Trolley",
         693.001,
         231.00033333333332,
         3
        ],
        [
         "OFF-BI-10001758",
         "Wilson Jones 14 Line Acrylic Coated Pressboard Data Binders",
         100.392,
         25.098,
         4
        ],
        [
         "OFF-BI-10000848",
         "Angle-D Ring Binders",
         39.384,
         6.564,
         6
        ],
        [
         "OFF-AP-10001469",
         "Fellowes 8 Outlet Superior Workstation Surge Protector",
         759.122,
         151.8244,
         5
        ],
        [
         "FUR-FU-10002554",
         "Westinghouse Floor Lamp with Metal Mesh Shade, Black",
         167.93,
         41.9825,
         4
        ],
        [
         "OFF-AR-10003477",
         "4009 Highlighters",
         8.04,
         8.04,
         1
        ],
        [
         "OFF-AR-10003631",
         "Staples in misc. colors",
         123.904,
         30.976,
         4
        ],
        [
         "FUR-TA-10003473",
         "Bretford Rectangular Conference Table Tops",
         5608.217999999999,
         467.35149999999993,
         12
        ],
        [
         "TEC-AC-10000023",
         "Maxell 74 Minute CD-R Spindle, 50/Pack",
         230.67,
         57.6675,
         4
        ],
        [
         "OFF-AR-10003582",
         "Boston Electric Pencil Sharpener, Model 1818, Charcoal Black",
         523.59,
         65.44875,
         8
        ],
        [
         "FUR-FU-10003247",
         "36X48 HARDFLOOR CHAIRMAT",
         369.248,
         61.541333333333334,
         6
        ],
        [
         "FUR-FU-10002885",
         "Magna Visual Magnetic Picture Hangers",
         84.83200000000001,
         14.138666666666667,
         6
        ],
        [
         "OFF-AR-10000246",
         "Newell 318",
         61.716,
         12.3432,
         5
        ],
        [
         "OFF-PA-10000380",
         "REDIFORM Incoming/Outgoing Call Register, 11\" X 8 1/2\", 100 Messages",
         281.892,
         35.2365,
         8
        ],
        [
         "TEC-MA-10002412",
         "Cisco TelePresence System EX90 Videoconferencing Unit",
         500.641,
         500.641,
         1
        ],
        [
         "OFF-BI-10003981",
         "Avery Durable Plastic 1\" Binders",
         116.224,
         16.603428571428573,
         7
        ],
        [
         "OFF-AR-10001953",
         "Boston 1645 Deluxe Heavier-Duty Electric Pencil Sharpener",
         1073.112,
         153.3017142857143,
         7
        ],
        [
         "TEC-MA-10003979",
         "Ativa V4110MDD Micro-Cut Shredder",
         1001.282,
         500.641,
         2
        ],
        [
         "FUR-FU-10000193",
         "Tenex Chairmats For Use with Hard Floors",
         467.712,
         77.952,
         6
        ],
        [
         "OFF-ST-10004950",
         "Acco Perma 3000 Stacking Storage Drawers",
         373.44399999999996,
         62.24066666666666,
         6
        ],
        [
         "FUR-FU-10003095",
         "Linden 12\" Wall Clock With Oak Frame",
         101.94,
         101.94,
         1
        ],
        [
         "OFF-LA-10004272",
         "Avery 482",
         11.56,
         5.78,
         2
        ],
        [
         "OFF-PA-10003063",
         "EcoTones Memo Sheets",
         52.8,
         17.599999999999998,
         3
        ],
        [
         "OFF-AR-10004027",
         "Binney & Smith inkTank Erasable Desk Highlighter, Chisel Tip, Yellow, 12/Box",
         17.64,
         5.88,
         3
        ],
        [
         "OFF-BI-10003529",
         "Avery Round Ring Poly Binders",
         36.92,
         6.153333333333333,
         6
        ],
        [
         "FUR-TA-10002228",
         "Bevis Traditional Conference Table Top, Plinth Base",
         1401.314,
         467.1046666666667,
         3
        ],
        [
         "TEC-PH-10002563",
         "Adtran 1202752G1",
         1609.353,
         321.8706,
         5
        ],
        [
         "TEC-MA-10000423",
         "Texas Instruments TI-34 Scientific Calculator",
         204.507,
         68.169,
         3
        ],
        [
         "OFF-BI-10001098",
         "Acco D-Ring Binder w/DublLock",
         235.18,
         26.13111111111111,
         9
        ],
        [
         "FUR-TA-10002533",
         "BPI Conference Tables",
         1804.557,
         360.9114,
         5
        ],
        [
         "OFF-FA-10000490",
         "OIC Binder Clips, Mini, 1/4\" Capacity, Black",
         15.623999999999999,
         3.1247999999999996,
         5
        ],
        [
         "OFF-PA-10003127",
         "Easy-staple paper",
         327.11199999999997,
         54.51866666666666,
         6
        ],
        [
         "FUR-CH-10002073",
         "Hon Olson Stacker Chairs",
         1925.571,
         481.39275,
         4
        ],
        [
         "OFF-AP-10003040",
         "Fellowes 8 Outlet Superior Workstation Surge Protector w/o Phone/Fax/Modem Protection",
         665.676,
         133.1352,
         5
        ],
        [
         "OFF-PA-10000605",
         "Xerox 1950",
         49.708,
         16.569333333333333,
         3
        ],
        [
         "OFF-PA-10001534",
         "Xerox 230",
         127.00800000000001,
         25.401600000000002,
         5
        ],
        [
         "OFF-BI-10004632",
         "Ibico Hi-Tech Manual Binding System",
         4155.336,
         377.7578181818182,
         11
        ],
        [
         "OFF-PA-10003971",
         "Xerox 1965",
         56.212,
         14.053,
         4
        ],
        [
         "OFF-PA-10000349",
         "Easy-staple paper",
         113.544,
         14.193,
         8
        ],
        [
         "OFF-ST-10002615",
         "Dual Level, Single-Width Filing Carts",
         3424.667,
         428.083375,
         8
        ],
        [
         "FUR-TA-10000617",
         "Hon Practical Foundations 30 x 60 Training Table, Light Gray/Charcoal",
         2605.51,
         434.2516666666667,
         6
        ],
        [
         "OFF-AR-10003394",
         "Newell 332",
         67.032,
         13.4064,
         5
        ],
        [
         "OFF-BI-10004330",
         "GBC Velobind Prepunched Cover Sets, Regency Series",
         514.0219999999999,
         85.67033333333332,
         6
        ],
        [
         "TEC-PH-10002624",
         "Samsung Galaxy S4 Mini",
         2472.554,
         494.5108,
         5
        ],
        [
         "OFF-PA-10001745",
         "Wirebound Message Books, 2 7/8\" x 5\", 3 Forms per Page",
         108.416,
         36.138666666666666,
         3
        ],
        [
         "FUR-TA-10003715",
         "Hon 2111 Invitation Series Corner Table",
         1878.789,
         469.69725,
         4
        ],
        [
         "OFF-PA-10002259",
         "Geographics Note Cards, Blank, White, 8 1/2\" x 11\"",
         76.092,
         25.364,
         3
        ],
        [
         "OFF-EN-10001509",
         "Poly String Tie Envelopes",
         68.13599999999998,
         6.194181818181817,
         11
        ],
        [
         "OFF-AP-10000240",
         "Belkin F9G930V10-GRY 9 Outlet Surge",
         770.1120000000001,
         154.0224,
         5
        ],
        [
         "FUR-FU-10001731",
         "Acrylic Self-Standing Desk Frames",
         93.984,
         11.748,
         8
        ],
        [
         "OFF-LA-10004559",
         "Avery 49",
         66.816,
         11.136000000000001,
         6
        ],
        [
         "OFF-ST-10002370",
         "Sortfiler Multipurpose Personal File Organizer, Black",
         483.414,
         80.569,
         6
        ],
        [
         "OFF-LA-10003720",
         "Avery 487",
         84.86999999999999,
         12.124285714285714,
         7
        ],
        [
         "OFF-FA-10001229",
         "Staples",
         29.868000000000002,
         9.956000000000001,
         3
        ],
        [
         "FUR-CH-10003968",
         "Novimex Turbo Task Chair",
         1341.5220000000002,
         223.58700000000002,
         6
        ],
        [
         "OFF-PA-10000994",
         "Xerox 1915",
         2322.392,
         290.299,
         8
        ],
        [
         "OFF-FA-10001754",
         "Stockwell Gold Paper Clips",
         8.096,
         4.048,
         2
        ],
        [
         "OFF-PA-10000859",
         "Unpadded Memo Slips",
         18.308,
         9.154,
         2
        ],
        [
         "FUR-BO-10002206",
         "Bush Saratoga Collection 5-Shelf Bookcase, Hanover Cherry, *Special Order",
         119.833,
         119.833,
         1
        ],
        [
         "OFF-BI-10001525",
         "Acco Pressboard Covers with Storage Hooks, 14 7/8\" x 11\", Executive Red",
         63.62700000000001,
         7.953375000000001,
         8
        ],
        [
         "TEC-PH-10001760",
         "Bose SoundLink Bluetooth Speaker",
         2155.482,
         431.0964,
         5
        ],
        [
         "OFF-ST-10001476",
         "Steel Personal Filing/Posting Tote",
         937.4639999999999,
         187.4928,
         5
        ],
        [
         "OFF-AR-10003602",
         "Quartet Omega Colored Chalk, 12/Pack",
         80.59199999999998,
         11.513142857142855,
         7
        ],
        [
         "OFF-ST-10000352",
         "Acco Perma 2700 Stacking Storage Drawers",
         208.18,
         52.045,
         4
        ],
        [
         "OFF-LA-10001404",
         "Avery 517",
         44.28,
         11.07,
         4
        ],
        [
         "FUR-FU-10004091",
         "Eldon 200 Class Desk Accessories, Black",
         75.36,
         37.68,
         2
        ],
        [
         "OFF-ST-10002182",
         "Iris 3-Drawer Stacking Bin, Black",
         284.104,
         94.70133333333332,
         3
        ],
        [
         "OFF-PA-10001790",
         "Xerox 1910",
         586.088,
         117.21759999999999,
         5
        ],
        [
         "TEC-MA-10003673",
         "Hewlett-Packard Desktjet 6988DT Refurbished Printer",
         500.641,
         500.641,
         1
        ],
        [
         "OFF-AP-10000692",
         "Fellowes Mighty 8 Compact Surge Protector",
         344.59,
         57.431666666666665,
         6
        ],
        [
         "OFF-ST-10000321",
         "Akro Stacking Bins",
         91.524,
         15.254,
         6
        ],
        [
         "TEC-PH-10000215",
         "Plantronics Cordless Phone Headset with In-line Volume - M214C",
         908.6999999999999,
         151.45,
         6
        ],
        [
         "OFF-SU-10000898",
         "Acme Hot Forged Carbon Steel Scissors with Nickel-Plated Handles, 3 7/8\" Cut, 8\"L",
         305.79999999999995,
         61.15999999999999,
         5
        ],
        [
         "OFF-LA-10001158",
         "Avery Address/Shipping Labels for Typewriters, 4\" x 2\"",
         277.38,
         39.62571428571429,
         7
        ],
        [
         "OFF-BI-10001191",
         "Canvas Sectional Post Binders",
         422.63599999999997,
         70.43933333333332,
         6
        ],
        [
         "OFF-AP-10004980",
         "3M Replacement Filter for Office Air Cleaner for 20' x 33' Room",
         303.36,
         75.84,
         4
        ],
        [
         "FUR-FU-10002671",
         "Electrix 20W Halogen Replacement Bulb for Zoom-In Desk Lamp",
         155.44,
         38.86,
         4
        ],
        [
         "FUR-CH-10001146",
         "Global Task Chair, Black",
         463.09900000000005,
         92.61980000000001,
         5
        ],
        [
         "OFF-BI-10001196",
         "Avery Flip-Chart Easel Binder, Black",
         239.466,
         59.8665,
         4
        ],
        [
         "OFF-AP-10000124",
         "Acco 6 Outlet Guardian Basic Surge Suppressor",
         38.272,
         19.136,
         2
        ],
        [
         "OFF-LA-10001934",
         "Avery 516",
         109.65,
         27.4125,
         4
        ],
        [
         "FUR-FU-10002088",
         "Nu-Dell Float Frame 11 x 14 1/2",
         170.62,
         24.374285714285715,
         7
        ],
        [
         "OFF-PA-10003001",
         "Xerox 1986",
         85.50399999999999,
         21.375999999999998,
         4
        ],
        [
         "FUR-BO-10001798",
         "Bush Somerset Collection Bookcase",
         1207.933,
         301.98325,
         4
        ],
        [
         "OFF-BI-10004182",
         "Economy Binders",
         26.624000000000002,
         8.874666666666668,
         3
        ],
        [
         "TEC-PH-10001468",
         "Panasonic Business Telephones KX-T7736",
         500.641,
         500.641,
         1
        ],
        [
         "OFF-BI-10000042",
         "Pressboard Data Binder, Crimson, 12\" X 8 1/2\"",
         33.108000000000004,
         11.036000000000001,
         3
        ],
        [
         "FUR-FU-10001057",
         "Tensor Track Tree Floor Lamp",
         299.85,
         74.9625,
         4
        ],
        [
         "OFF-BI-10001679",
         "GBC Instant Index System for Binding Systems",
         71.928,
         14.3856,
         5
        ],
        [
         "TEC-MA-10004241",
         "Star Micronics TSP800 TSP847IIU Receipt Printer",
         1001.282,
         500.641,
         2
        ],
        [
         "FUR-FU-10000732",
         "Eldon 200 Class Desk Accessories",
         120.57600000000001,
         20.096,
         6
        ],
        [
         "OFF-FA-10001135",
         "Brites Rubber Bands, 1 1/2 oz. Box",
         13.068000000000001,
         4.356000000000001,
         3
        ],
        [
         "FUR-BO-10003034",
         "O'Sullivan Elevations Bookcase, Cherry Finish",
         1833.005,
         366.601,
         5
        ],
        [
         "OFF-BI-10002498",
         "Clear Mylar Reinforcing Strips",
         377.538,
         53.934000000000005,
         7
        ],
        [
         "OFF-AR-10004269",
         "Newell 31",
         94.99,
         18.997999999999998,
         5
        ],
        [
         "TEC-AC-10004859",
         "Maxell Pro 80 Minute CD-R, 10/Pack",
         220.248,
         73.416,
         3
        ],
        [
         "TEC-AC-10002637",
         "Logitech VX Revolution Cordless Laser Mouse for Notebooks (Black)",
         2225.214,
         445.0428,
         5
        ],
        [
         "OFF-EN-10001141",
         "Manila Recycled Extra-Heavyweight Clasp Envelopes, 6\" x 9\"",
         125.172,
         31.293,
         4
        ],
        [
         "OFF-BI-10004230",
         "GBC Recycled Grain Textured Covers",
         466.29,
         93.25800000000001,
         5
        ],
        [
         "OFF-AR-10001770",
         "Economy #2 Pencils",
         34.58,
         8.645,
         4
        ],
        [
         "FUR-FU-10002508",
         "Document Clip Frames",
         45.036,
         22.518,
         2
        ],
        [
         "TEC-AC-10001767",
         "SanDisk Ultra 64 GB MicroSDHC Class 10 Memory Card",
         927.7679999999999,
         154.628,
         6
        ],
        [
         "TEC-AC-10004633",
         "Verbatim 25 GB 6x Blu-ray Single Layer Recordable Disc, 3/Pack",
         184.536,
         30.756,
         6
        ],
        [
         "OFF-SU-10003567",
         "Stiletto Hand Letter Openers",
         136.32000000000002,
         34.080000000000005,
         4
        ],
        [
         "TEC-AC-10003447",
         "Micropad Numeric Keypads",
         291.85400000000004,
         72.96350000000001,
         4
        ],
        [
         "TEC-PH-10001494",
         "Polycom CX600 IP Phone VoIP phone",
         1981.843,
         495.46075,
         4
        ],
        [
         "OFF-AR-10001940",
         "Sanford Colorific Eraseable Coloring Pencils, 12 Count",
         45.919999999999995,
         11.479999999999999,
         4
        ],
        [
         "FUR-FU-10004963",
         "Eldon 400 Class Desk Accessories, Black Carbon",
         145.25,
         29.05,
         5
        ],
        [
         "TEC-MA-10003066",
         "Wasp CCD Handheld Bar Code Reader",
         336.51,
         336.51,
         1
        ],
        [
         "OFF-AP-10001293",
         "Belkin 8 Outlet Surge Protector",
         1073.676,
         153.3822857142857,
         7
        ],
        [
         "OFF-PA-10000418",
         "Xerox 189",
         1782.4500000000003,
         297.07500000000005,
         6
        ],
        [
         "OFF-BI-10001890",
         "Avery Poly Binder Pockets",
         78.044,
         9.7555,
         8
        ],
        [
         "OFF-AP-10003278",
         "Belkin 7-Outlet SurgeMaster Home Series",
         72.64399999999999,
         18.160999999999998,
         4
        ],
        [
         "OFF-SU-10001935",
         "Staple remover",
         29.648,
         4.941333333333334,
         6
        ],
        [
         "OFF-ST-10003282",
         "Advantus 10-Drawer Portable Organizer, Chrome Metal Frame, Smoke Drawers",
         1051.776,
         262.944,
         4
        ],
        [
         "OFF-AP-10000252",
         "Harmony HEPA Quiet Air Purifiers",
         128.7,
         32.175,
         4
        ],
        [
         "TEC-PH-10004977",
         "GE 30524EE4",
         3962.4640000000004,
         440.2737777777778,
         9
        ],
        [
         "FUR-CH-10001146",
         "Global Value Mid-Back Manager's Chair, Gray",
         1784.0770000000002,
         198.2307777777778,
         9
        ],
        [
         "OFF-BI-10004410",
         "C-Line Peel & Stick Add-On Filing Pockets, 8-3/4 x 5-1/8, 10/Pack",
         85.995,
         21.49875,
         4
        ],
        [
         "FUR-FU-10002878",
         "Seth Thomas 14\" Day/Date Wall Clock",
         421.504,
         84.30080000000001,
         5
        ],
        [
         "OFF-PA-10000019",
         "Xerox 1931",
         209.952,
         26.244,
         8
        ],
        [
         "TEC-PH-10002549",
         "Polycom SoundPoint IP 450 VoIP phone",
         2360.191,
         393.36516666666665,
         6
        ],
        [
         "TEC-PH-10001305",
         "Panasonic KX TS208W Corded phone",
         1185.558,
         237.1116,
         5
        ],
        [
         "FUR-FU-10001025",
         "Eldon Imàge Series Desk Accessories, Clear",
         53.46,
         17.82,
         3
        ],
        [
         "OFF-AP-10004540",
         "Eureka The Boss Lite 10-Amp Upright Vacuum, Blue",
         1042.08,
         260.52,
         4
        ],
        [
         "OFF-PA-10000809",
         "Xerox 206",
         60.912000000000006,
         12.182400000000001,
         5
        ],
        [
         "FUR-FU-10001617",
         "Executive Impressions 8-1/2\" Career Panel/Partition Cubicle Clock",
         66.56,
         33.28,
         2
        ],
        [
         "TEC-AC-10003133",
         "Memorex Mini Travel Drive 4 GB USB 2.0 Flash Drive",
         13.616,
         13.616,
         1
        ],
        [
         "OFF-AR-10004078",
         "Newell 312",
         234.768,
         21.342545454545455,
         11
        ],
        [
         "OFF-LA-10001641",
         "Avery 518",
         106.47,
         13.30875,
         8
        ],
        [
         "OFF-PA-10003797",
         "Xerox 209",
         187.92,
         37.583999999999996,
         5
        ],
        [
         "TEC-AC-10001606",
         "Logitech Wireless Performance Mouse MX for PC and Mac",
         1799.82,
         257.1171428571428,
         7
        ],
        [
         "OFF-AR-10002135",
         "Boston Heavy-Duty Trimline Electric Pencil Sharpeners",
         1166.44,
         233.288,
         5
        ],
        [
         "OFF-AR-10003469",
         "Nontoxic Chalk",
         42.944,
         5.368,
         8
        ],
        [
         "TEC-AC-10004114",
         "KeyTronic 6101 Series - Keyboard - Black",
         360.712,
         180.356,
         2
        ],
        [
         "FUR-TA-10004767",
         "Safco Drafting Table",
         638.8199999999999,
         159.70499999999998,
         4
        ],
        [
         "TEC-AC-10001314",
         "Case Logic 2.4GHz Wireless Keyboard",
         1229.7540000000001,
         153.71925000000002,
         8
        ],
        [
         "TEC-AC-10003499",
         "Memorex Mini Travel Drive 8 GB USB 2.0 Flash Drive",
         194.54399999999998,
         38.9088,
         5
        ],
        [
         "OFF-PA-10000477",
         "Xerox 22",
         75.168,
         25.056,
         3
        ],
        [
         "OFF-LA-10004545",
         "Avery 50",
         235.564,
         47.1128,
         5
        ],
        [
         "TEC-PH-10001198",
         "Avaya 4621SW VoIP phone",
         709.92,
         177.48,
         4
        ],
        [
         "FUR-FU-10003194",
         "Eldon Expressions Desk Accessory, Wood Pencil Holder, Oak",
         108.08,
         27.02,
         4
        ],
        [
         "FUR-TA-10003469",
         "Balt Split Level Computer Training Table",
         1040.625,
         208.125,
         5
        ],
        [
         "OFF-PA-10001593",
         "Xerox 1947",
         136.344,
         27.2688,
         5
        ],
        [
         "OFF-FA-10000936",
         "Acco Hot Clips Clips to Go",
         67.116,
         11.186,
         6
        ],
        [
         "OFF-AR-10001683",
         "Lumber Crayons",
         171.39,
         28.564999999999998,
         6
        ],
        [
         "TEC-PH-10004959",
         "Classic Ivory Antique Telephone ZL1810",
         341.666,
         170.833,
         2
        ],
        [
         "OFF-ST-10000885",
         "Fellowes Desktop Hanging File Manager",
         201.45000000000002,
         50.362500000000004,
         4
        ],
        [
         "TEC-AC-10000387",
         "KeyTronic KT800P2 - Keyboard - Black",
         75.1,
         25.03333333333333,
         3
        ],
        [
         "OFF-EN-10001028",
         "Staple envelope",
         100.63199999999999,
         50.315999999999995,
         2
        ],
        [
         "OFF-PA-10003129",
         "Tops White Computer Printout Paper",
         684.74,
         171.185,
         4
        ],
        [
         "TEC-PH-10000923",
         "Belkin SportFit Armband For iPhone 5s/5c, Fuchsia",
         239.84,
         47.968,
         5
        ],
        [
         "OFF-BI-10000773",
         "Insertable Tab Post Binder Dividers",
         66.56599999999999,
         8.320749999999999,
         8
        ],
        [
         "TEC-PH-10000576",
         "AT&T 1080 Corded phone",
         1945.2579999999998,
         277.89399999999995,
         7
        ],
        [
         "OFF-AR-10004511",
         "Sanford Colorific Scented Colored Pencils, 12/Pack",
         47.080000000000005,
         23.540000000000003,
         2
        ],
        [
         "TEC-PH-10001578",
         "Polycom SoundStation2 EX Conference phone",
         1987.863,
         496.96575,
         4
        ],
        [
         "FUR-TA-10001307",
         "SAFCO PlanMaster Heigh-Adjustable Drafting Table Base, 43w x 30d x 30-37h, Black",
         1944.797,
         388.9594,
         5
        ],
        [
         "OFF-FA-10000254",
         "Sterling Rubber Bands by Alliance",
         19.782,
         9.891,
         2
        ],
        [
         "TEC-CO-10002095",
         "Hewlett Packard 610 Color Digital Copier / Printer",
         3504.487,
         500.641,
         7
        ],
        [
         "FUR-CH-10000847",
         "Global Executive Mid-Back Manager's Chair",
         2794.1850000000004,
         465.69750000000005,
         6
        ],
        [
         "TEC-CO-10001766",
         "Canon PC940 Copier",
         1501.923,
         500.641,
         3
        ],
        [
         "TEC-AC-10003289",
         "Anker Ultra-Slim Mini Bluetooth 3.0 Wireless Keyboard",
         499.75,
         99.95,
         5
        ],
        [
         "FUR-FU-10000087",
         "Executive Impressions 14\" Two-Color Numerals Wall Clock",
         308.99199999999996,
         51.49866666666666,
         6
        ],
        [
         "OFF-BI-10001116",
         "Wilson Jones 1\" Hanging DublLock Ring Binders",
         115.632,
         12.848,
         9
        ],
        [
         "TEC-AC-10000158",
         "Sony 64GB Class 10 Micro SDHC R40 Memory Card",
         899.75,
         99.97222222222223,
         9
        ],
        [
         "OFF-PA-10001144",
         "Xerox 1913",
         865.488,
         173.0976,
         5
        ],
        [
         "TEC-AC-10003709",
         "Maxell 4.7GB DVD-R 5/Pack",
         19.007999999999996,
         3.801599999999999,
         5
        ],
        [
         "TEC-AC-10002567",
         "Logitech G602 Wireless Gaming Mouse",
         1871.766,
         233.97075,
         8
        ],
        [
         "OFF-BI-10001718",
         "GBC DocuBind P50 Personal Binding Machine",
         2191.31,
         219.131,
         10
        ],
        [
         "OFF-AP-10001634",
         "Hoover Commercial Lightweight Upright Vacuum",
         18.096,
         9.048,
         2
        ],
        [
         "OFF-PA-10001457",
         "White GlueTop Scratch Pads",
         186.49599999999998,
         93.24799999999999,
         2
        ],
        [
         "TEC-AC-10000927",
         "Anker Ultrathin Bluetooth Wireless Keyboard Aluminum Cover with Stand",
         491.836,
         122.959,
         4
        ],
        [
         "OFF-PA-10002377",
         "Adams Telephone Message Book W/Dividers/Space For Phone Numbers, 5 1/4\"X8 1/2\", 200/Messages",
         172.67199999999997,
         24.667428571428566,
         7
        ],
        [
         "OFF-PA-10001736",
         "Xerox 1880",
         623.7439999999999,
         124.74879999999999,
         5
        ],
        [
         "OFF-AR-10003087",
         "Staples in misc. colors",
         24.92,
         8.306666666666667,
         3
        ],
        [
         "TEC-PH-10004241",
         "Nokia Lumia 1020",
         500.641,
         500.641,
         1
        ],
        [
         "OFF-LA-10001297",
         "Avery 473",
         248.39999999999998,
         41.4,
         6
        ],
        [
         "TEC-AC-10004666",
         "Maxell iVDR EX 500GB Cartridge",
         1001.282,
         500.641,
         2
        ],
        [
         "FUR-TA-10002958",
         "Bevis Oval Conference Table, Walnut",
         3630.1980000000003,
         453.77475000000004,
         8
        ],
        [
         "OFF-PA-10003177",
         "Xerox 1999",
         98.49600000000001,
         14.070857142857145,
         7
        ],
        [
         "OFF-ST-10001321",
         "Decoflex Hanging Personal Folder File, Blue",
         518.112,
         57.568,
         9
        ],
        [
         "OFF-AR-10003876",
         "Avery Hi-Liter GlideStik Fluorescent Highlighter, Yellow Ink",
         26.08,
         13.04,
         2
        ],
        [
         "OFF-BI-10001900",
         "DXL Angle-View Binders with Locking Rings, Black",
         124.59200000000001,
         31.148000000000003,
         4
        ],
        [
         "OFF-PA-10003424",
         "\"While you Were Out\" Message Book, One Form per Page",
         25.227999999999998,
         8.409333333333333,
         3
        ],
        [
         "TEC-PH-10004539",
         "Wireless Extenders zBoost YX545 SOHO Signal Booster",
         2900.4490000000005,
         414.3498571428572,
         7
        ],
        [
         "OFF-AP-10003590",
         "Hoover WindTunnel Plus Canister Vacuum",
         1501.923,
         500.641,
         3
        ],
        [
         "FUR-TA-10002903",
         "Bevis Round Bullnose 29\" High Table Top",
         2184.361,
         436.87219999999996,
         5
        ],
        [
         "TEC-AC-10001553",
         "Memorex 25GB 6X Branded Blu-Ray Recordable Disc, 15/Pack",
         373.78000000000003,
         74.756,
         5
        ],
        [
         "OFF-BI-10004826",
         "JM Magazine Binder",
         204.724,
         34.120666666666665,
         6
        ],
        [
         "OFF-LA-10004008",
         "Avery 507",
         24.192,
         12.096,
         2
        ],
        [
         "FUR-FU-10002874",
         "Ultra Commercial Grade Dual Valve Door Closer",
         63.824,
         63.824,
         1
        ],
        [
         "FUR-FU-10004960",
         "Seth Thomas 12\" Clock w/ Goldtone Case",
         390.65999999999997,
         130.22,
         3
        ],
        [
         "TEC-MA-10001570",
         "Cisco Desktop Collaboration Experience DX650 IP Video Phone",
         385.8,
         385.8,
         1
        ],
        [
         "TEC-PH-10000486",
         "Plantronics HL10 Handset Lifter",
         1372.45,
         457.48333333333335,
         3
        ],
        [
         "OFF-PA-10004000",
         "While You Were Out Pads, 50 per Pad, 4 x 5 1/4, Green Cycle",
         50.138000000000005,
         12.534500000000001,
         4
        ],
        [
         "OFF-ST-10002554",
         "Tennsco Industrial Shelving",
         1281.4420000000002,
         142.38244444444447,
         9
        ],
        [
         "OFF-BI-10004236",
         "XtraLife ClearVue Slant-D Ring Binder, White, 3\"",
         386.084,
         38.6084,
         10
        ],
        [
         "FUR-BO-10001918",
         "Sauder Forest Hills Library with Doors, Woodland Oak Finish",
         1014.174,
         338.058,
         3
        ],
        [
         "OFF-SU-10001212",
         "Kleencut Forged Office Shears by Acme United Corporation",
         9.568,
         4.784,
         2
        ],
        [
         "OFF-AR-10000127",
         "Newell 321",
         65.60000000000001,
         16.400000000000002,
         4
        ],
        [
         "TEC-PH-10000038",
         "Jawbone MINI JAMBOX Wireless Bluetooth Speaker",
         1870.441,
         374.08820000000003,
         5
        ],
        [
         "OFF-ST-10004459",
         "Tennsco Single-Tier Lockers",
         3754.5260000000003,
         469.31575000000004,
         8
        ],
        [
         "OFF-BI-10002854",
         "Performers Binder/Pad Holder, Black",
         611.0539999999999,
         76.38174999999998,
         8
        ],
        [
         "TEC-AC-10002134",
         "Rosewill 107 Normal Keys USB Wired Standard Keyboard",
         105.14399999999999,
         35.047999999999995,
         3
        ],
        [
         "OFF-BI-10004040",
         "Wilson Jones Impact Binders",
         134.68,
         14.964444444444446,
         9
        ],
        [
         "TEC-MA-10003183",
         "DYMO CardScan Personal V9 Business Card Scanner",
         1076.605,
         358.86833333333334,
         3
        ],
        [
         "OFF-PA-10002254",
         "Xerox 1883",
         881.0919999999999,
         125.8702857142857,
         7
        ],
        [
         "FUR-FU-10002506",
         "Tensor \"Hersey Kiss\" Styled Floor Lamp",
         93.52799999999999,
         31.176,
         3
        ],
        [
         "TEC-MA-10003356",
         "Panasonic KX MC6040 Color Laser Multifunction Printer",
         770.6110000000001,
         385.30550000000005,
         2
        ],
        [
         "OFF-AR-10004260",
         "Boston 1799 Powerhouse Electric Pencil Sharpener",
         389.70000000000005,
         129.9,
         3
        ],
        [
         "FUR-FU-10000965",
         "Howard Miller 11-1/2\" Diameter Ridgewood Wall Clock",
         1184.232,
         197.37199999999999,
         6
        ],
        [
         "OFF-LA-10004544",
         "Avery 505",
         372.96000000000004,
         53.28000000000001,
         7
        ],
        [
         "OFF-BI-10002735",
         "GBC Prestige Therm-A-Bind Covers",
         970.9730000000001,
         107.8858888888889,
         9
        ],
        [
         "OFF-FA-10002780",
         "Staples",
         92.976,
         18.5952,
         5
        ],
        [
         "TEC-AC-10004227",
         "SanDisk Ultra 16 GB MicroSDHC Class 10 Memory Card",
         329.94599999999997,
         47.13514285714285,
         7
        ],
        [
         "OFF-PA-10000167",
         "Xerox 1925",
         396.544,
         79.30879999999999,
         5
        ],
        [
         "OFF-PA-10002109",
         "Wirebound Voice Message Log Book",
         15.232,
         7.616,
         2
        ],
        [
         "OFF-PA-10004947",
         "Easy-staple paper",
         48.791999999999994,
         16.264,
         3
        ],
        [
         "TEC-AC-10004864",
         "Memorex Micro Travel Drive 32 GB",
         379.70399999999995,
         75.9408,
         5
        ],
        [
         "FUR-FU-10004848",
         "Howard Miller 13-3/4\" Diameter Brushed Chrome Round Wall Clock",
         1324.8,
         147.2,
         9
        ],
        [
         "OFF-AP-10002203",
         "Eureka Disposable Bags for Sanitaire Vibra Groomer I Upright Vac",
         1.624,
         1.624,
         1
        ],
        [
         "OFF-ST-10000025",
         "Fellowes Stor/Drawer Steel Plus Storage Drawers",
         2990.6310000000003,
         373.82887500000004,
         8
        ],
        [
         "OFF-ST-10001031",
         "Adjustable Personal File Tote",
         270.24800000000005,
         54.04960000000001,
         5
        ],
        [
         "FUR-TA-10001086",
         "SAFCO PlanMaster Boards, 60w x 37-1/2d, White Melamine",
         2263.7250000000004,
         452.74500000000006,
         5
        ],
        [
         "OFF-AR-10002221",
         "12 Colored Short Pencils",
         18.2,
         6.066666666666666,
         3
        ],
        [
         "FUR-CH-10000988",
         "Hon Olson Stacker Stools",
         3424.745,
         342.4745,
         10
        ],
        [
         "OFF-LA-10003930",
         "Dot Matrix Printer Tape Reel Labels, White, 5000/Box",
         2908.496,
         363.562,
         8
        ],
        [
         "OFF-FA-10000624",
         "OIC Binder Clips",
         128.164,
         18.309142857142856,
         7
        ],
        [
         "OFF-AR-10003251",
         "Prang Drawing Pencil Set",
         43.924,
         6.274857142857143,
         7
        ],
        [
         "FUR-TA-10000198",
         "Chromcraft Bull-Nose Wood Oval Conference Tables & Bases",
         2002.564,
         500.641,
         4
        ],
        [
         "OFF-BI-10000285",
         "XtraLife ClearVue Slant-D Ring Binders by Cardinal",
         72.912,
         14.582400000000002,
         5
        ],
        [
         "OFF-AR-10000369",
         "Design Ebony Sketching Pencil",
         13.622,
         4.540666666666667,
         3
        ],
        [
         "OFF-AR-10002240",
         "Panasonic KP-150 Electric Pencil Sharpener",
         452.88,
         150.96,
         3
        ],
        [
         "TEC-MA-10000752",
         "Texas Instrument TI-15 Fraction Calculator",
         41.905,
         20.9525,
         2
        ],
        [
         "FUR-FU-10001852",
         "Eldon Regeneration Recycled Desk Accessories, Smoke",
         33.756,
         6.7512,
         5
        ],
        [
         "OFF-AP-10002191",
         "Belkin 8 Outlet SurgeMaster II Gold Surge Protector",
         737.754,
         147.5508,
         5
        ],
        [
         "TEC-AC-10000199",
         "Kingston Digital DataTraveler 8GB USB 2.0",
         44.03,
         14.676666666666668,
         3
        ],
        [
         "OFF-AP-10003287",
         "Tripp Lite TLP810NET Broadband Surge for Modem/Fax",
         784.9380000000001,
         156.98760000000001,
         5
        ],
        [
         "TEC-PH-10001619",
         "LG G3",
         1628.45,
         407.1125,
         4
        ],
        [
         "OFF-BI-10000404",
         "Avery Printable Repositionable Plastic Tabs",
         115.24,
         19.206666666666667,
         6
        ],
        [
         "TEC-PH-10002200",
         "Samsung Galaxy Note 2",
         1001.282,
         500.641,
         2
        ],
        [
         "FUR-TA-10001866",
         "Bevis Round Conference Room Tables and Bases",
         519.941,
         259.9705,
         2
        ],
        [
         "FUR-TA-10004575",
         "Hon 5100 Series Wood Tables",
         3504.487,
         500.641,
         7
        ],
        [
         "OFF-EN-10002600",
         "Redi-Strip #10 Envelopes, 4 1/8 x 9 1/2",
         93.22,
         13.317142857142857,
         7
        ],
        [
         "FUR-CH-10001708",
         "Office Star - Contemporary Swivel Chair with Padded Adjustable Arms and Flex Back",
         2516.9790000000003,
         359.5684285714286,
         7
        ],
        [
         "OFF-LA-10004178",
         "Avery 491",
         45.43,
         15.143333333333333,
         3
        ],
        [
         "OFF-AP-10000576",
         "Belkin 325VA UPS Surge Protector, 6'",
         1379.172,
         344.793,
         4
        ],
        [
         "TEC-AC-10003027",
         "Imation 8GB Mini TravelDrive USB 2.0 Flash Drive",
         350.204,
         116.73466666666667,
         3
        ],
        [
         "TEC-PH-10000586",
         "AT&T SB67148 SynJ",
         475.128,
         158.376,
         3
        ],
        [
         "OFF-SU-10000151",
         "High Speed Automatic Electric Letter Opener",
         1501.923,
         500.641,
         3
        ],
        [
         "OFF-FA-10000621",
         "OIC Colored Binder Clips, Assorted Sizes",
         139.62,
         19.945714285714285,
         7
        ],
        [
         "FUR-FU-10002960",
         "Eldon 200 Class Desk Accessories, Burgundy",
         135.648,
         27.1296,
         5
        ],
        [
         "OFF-AR-10004022",
         "Panasonic KP-380BK Classic Electric Pencil Sharpener",
         705.208,
         117.53466666666667,
         6
        ],
        [
         "OFF-BI-10004492",
         "Tuf-Vin Binders",
         669.4960000000001,
         95.64228571428573,
         7
        ],
        [
         "TEC-PH-10002564",
         "OtterBox Defender Series Case - Samsung Galaxy S4",
         689.77,
         86.22125,
         8
        ],
        [
         "TEC-CO-10003236",
         "Canon Image Class D660 Copier",
         1001.282,
         500.641,
         2
        ],
        [
         "TEC-PH-10003645",
         "Aastra 57i VoIP phone",
         2197.196,
         366.1993333333333,
         6
        ],
        [
         "OFF-FA-10003112",
         "Staples",
         146.75400000000002,
         20.964857142857145,
         7
        ],
        [
         "OFF-AP-10000891",
         "Kensington 7 Outlet MasterPiece HOMEOFFICE Power Control Center",
         1287.361,
         257.47220000000004,
         5
        ],
        [
         "OFF-AR-10001615",
         "Newell 34",
         460.288,
         65.75542857142857,
         7
        ],
        [
         "OFF-PA-10002195",
         "RSVP Cards & Envelopes, Blank White, 8-1/2\" X 11\", 24 Cards/25 Envelopes/Set",
         53.848,
         10.7696,
         5
        ],
        [
         "OFF-BI-10002571",
         "Avery Framed View Binder, EZD Ring (Locking), Navy, 1 1/2\"",
         99.80000000000001,
         16.633333333333336,
         6
        ],
        [
         "FUR-CH-10004754",
         "Global Stack Chair with Arms, Black",
         803.464,
         114.78057142857143,
         7
        ],
        [
         "FUR-FU-10003394",
         "Tenex \"The Solids\" Textured Chair Mats",
         1340.161,
         191.45157142857144,
         7
        ],
        [
         "TEC-PH-10004094",
         "Motorola L703CM",
         2751.3160000000003,
         458.5526666666667,
         6
        ],
        [
         "OFF-BI-10000014",
         "Heavy-Duty E-Z-D Binders",
         176.742,
         22.09275,
         8
        ],
        [
         "TEC-PH-10001557",
         "Pyle PMP37LED",
         2978.6760000000004,
         297.86760000000004,
         10
        ],
        [
         "OFF-FA-10000134",
         "Advantus Push Pins, Aluminum Head",
         139.44,
         27.887999999999998,
         5
        ],
        [
         "FUR-FU-10003489",
         "Contemporary Borderless Frame",
         36.162,
         18.081,
         2
        ],
        [
         "FUR-FU-10003878",
         "Linden 10\" Round Wall Clock, Black",
         253.648,
         42.27466666666667,
         6
        ],
        [
         "FUR-TA-10001932",
         "Chromcraft 48\" x 96\" Racetrack Double Pedestal Table",
         2868.292,
         478.04866666666663,
         6
        ],
        [
         "OFF-AR-10003696",
         "Panasonic KP-350BK Electric Pencil Sharpener with Auto Stop",
         124.488,
         41.496,
         3
        ],
        [
         "OFF-PA-10002749",
         "Wirebound Message Books, 5-1/2 x 4 Forms, 2 or 4 Forms per Page",
         72.252,
         24.084,
         3
        ],
        [
         "FUR-TA-10001095",
         "Chromcraft Round Conference Tables",
         5182.4710000000005,
         398.6516153846154,
         13
        ],
        [
         "OFF-AR-10003759",
         "Crayola Anti Dust Chalk, 12/Pack",
         59.696,
         8.528,
         7
        ],
        [
         "TEC-AC-10000420",
         "Logitech G500s Laser Gaming Mouse with Adjustable Weight Tuning",
         1340.521,
         335.13025,
         4
        ],
        [
         "FUR-TA-10004915",
         "Office Impressions End Table, 20-1/2\"H x 24\"W x 20\"D",
         2503.205,
         500.64099999999996,
         5
        ],
        [
         "OFF-BI-10004584",
         "GBC ProClick 150 Presentation Binding System",
         1701.3650000000002,
         340.273,
         5
        ],
        [
         "FUR-BO-10003441",
         "Bush Westfield Collection Bookcases, Fully Assembled",
         1473.298,
         245.54966666666667,
         6
        ],
        [
         "OFF-AR-10003560",
         "Zebra Zazzle Fluorescent Highlighters",
         100.92799999999998,
         16.82133333333333,
         6
        ],
        [
         "FUR-CH-10003981",
         "Global Commerce Series Low-Back Swivel/Tilt Chairs",
         3004.786,
         429.25514285714286,
         7
        ],
        [
         "OFF-EN-10000461",
         "#10- 4 1/8\" x 9 1/2\" Recycled Envelopes",
         211.50799999999998,
         26.438499999999998,
         8
        ],
        [
         "TEC-AC-10002253",
         "Imation Bio 8GB USB Flash Drive Imation Corp",
         1333.7620000000002,
         333.44050000000004,
         4
        ],
        [
         "TEC-AC-10002335",
         "Logitech Media Keyboard K200",
         503.856,
         125.964,
         4
        ],
        [
         "OFF-PA-10000807",
         "TOPS \"Important Message\" Pads, Canary, 4-1/4 x 5-1/2, 50 Sheets per Pad",
         70.19200000000001,
         23.397333333333336,
         3
        ],
        [
         "FUR-FU-10000755",
         "Eldon Expressions Mahogany Wood Desk Collection",
         93.6,
         46.8,
         2
        ],
        [
         "OFF-AR-10004456",
         "Panasonic KP-4ABK Battery-Operated Pencil Sharpener",
         234.24,
         58.56,
         4
        ],
        [
         "FUR-CH-10004495",
         "Global Leather and Oak Executive Chair, Black",
         3447.2680000000005,
         430.90850000000006,
         8
        ],
        [
         "OFF-EN-10001749",
         "Jiffy Padded Mailers with Self-Seal Closure",
         29.808,
         29.808,
         1
        ],
        [
         "FUR-FU-10004671",
         "Executive Impressions 12\" Wall Clock",
         176.7,
         29.45,
         6
        ],
        [
         "TEC-MA-10003230",
         "Okidata C610n Printer",
         500.641,
         500.641,
         1
        ],
        [
         "OFF-EN-10002504",
         "Tyvek  Top-Opening Peel & Seel Envelopes, Plain White",
         570.78,
         81.53999999999999,
         7
        ],
        [
         "OFF-PA-10002365",
         "Xerox 1967",
         89.424,
         17.884800000000002,
         5
        ],
        [
         "OFF-LA-10002312",
         "Avery 490",
         177.6,
         35.519999999999996,
         5
        ],
        [
         "OFF-ST-10004180",
         "Safco Commercial Shelving",
         483.70399999999995,
         96.7408,
         5
        ],
        [
         "FUR-FU-10003623",
         "DataProducts Ampli Magnifier Task Lamp, Black,",
         508.728,
         101.7456,
         5
        ],
        [
         "OFF-AR-10002445",
         "SANFORD Major Accent Highlighters",
         209.568,
         29.938285714285715,
         7
        ],
        [
         "OFF-BI-10000474",
         "Avery Recycled Flexi-View Covers for Binding Systems",
         197.169,
         28.167,
         7
        ],
        [
         "OFF-AP-10001242",
         "APC 7 Outlet Network SurgeArrest Surge Protector",
         1207.2,
         150.9,
         8
        ],
        [
         "TEC-MA-10004458",
         "Lexmark X 9575 Professional All-in-One Color Printer",
         396,
         396,
         1
        ],
        [
         "OFF-PA-10000673",
         "Post-it “Important Message” Note Pad, Neon Colors, 50 Sheets/Pad",
         62.608000000000004,
         31.304000000000002,
         2
        ],
        [
         "OFF-BI-10004390",
         "GBC DocuBind 200 Manual Binding Machine",
         2002.564,
         500.641,
         4
        ],
        [
         "FUR-FU-10000747",
         "Tenex B1-RE Series Chair Mats for Low Pile Carpets",
         910.4039999999999,
         151.73399999999998,
         6
        ],
        [
         "OFF-ST-10002574",
         "SAFCO Commercial Wire Shelving, Black",
         3604.9880000000003,
         360.4988,
         10
        ],
        [
         "TEC-PH-10003988",
         "LF Elite 3D Dazzle Designer Hard Case Cover, Lf Stylus Pen and Wiper For Apple Iphone 5c Mini Lite",
         261.6,
         32.7,
         8
        ],
        [
         "OFF-BI-10001787",
         "Wilson Jones Four-Pocket Poly Binders",
         62.129999999999995,
         15.532499999999999,
         4
        ],
        [
         "FUR-FU-10000758",
         "DAX Natural Wood-Tone Poster Frame",
         513.712,
         102.7424,
         5
        ],
        [
         "TEC-AC-10002331",
         "Maxell 74 Minute CDR, 10/Pack",
         232.76399999999998,
         46.5528,
         5
        ],
        [
         "OFF-AR-10001419",
         "Newell 325",
         128.03,
         21.338333333333335,
         6
        ],
        [
         "TEC-PH-10004434",
         "Cisco IP Phone 7961G VoIP phone - Dark gray",
         908.491,
         302.83033333333333,
         3
        ],
        [
         "TEC-PH-10004896",
         "Nokia Lumia 521 (T-Mobile)",
         515.828,
         103.1656,
         5
        ],
        [
         "OFF-ST-10000689",
         "Fellowes Strictly Business Drawer File, Letter/Legal Size",
         3179.2850000000003,
         454.1835714285715,
         7
        ],
        [
         "TEC-PH-10004908",
         "Panasonic KX TS3282W Corded phone",
         1665.8039999999999,
         237.97199999999998,
         7
        ],
        [
         "TEC-PH-10000912",
         "Anker 24W Portable Micro USB Car Charger",
         61.544,
         30.772,
         2
        ],
        [
         "FUR-FU-10000175",
         "DAX Wood Document Frame.",
         159.268,
         39.817,
         4
        ],
        [
         "TEC-PH-10003215",
         "Jackery Bar Premium Fast-charging Portable Charger",
         467.22,
         116.805,
         4
        ],
        [
         "TEC-PH-10001527",
         "Plantronics MX500i Earset",
         618.48,
         88.35428571428572,
         7
        ],
        [
         "FUR-BO-10000780",
         "O'Sullivan Plantations 2-Door Library in Landvery Oak",
         2034.3190000000002,
         406.8638,
         5
        ],
        [
         "OFF-PA-10001497",
         "Xerox 1914",
         956.3040000000001,
         191.26080000000002,
         5
        ],
        [
         "FUR-BO-10003404",
         "Global Adaptabilites Bookcase, Cherry/Storm Gray Finish",
         1001.282,
         500.641,
         2
        ],
        [
         "OFF-ST-10000991",
         "Space Solutions HD Industrial Steel Shelving.",
         2846.0289999999995,
         355.75362499999994,
         8
        ],
        [
         "OFF-AR-10001231",
         "Sanford EarthWrite Recycled Pencils, Medium Soft, #2",
         29.4,
         9.799999999999999,
         3
        ],
        [
         "FUR-FU-10003724",
         "Westinghouse Clip-On Gooseneck Lamps",
         279.558,
         31.061999999999998,
         9
        ],
        [
         "FUR-FU-10001979",
         "Dana Halogen Swing-Arm Architect Lamp",
         1114.384,
         185.73066666666668,
         6
        ],
        [
         "OFF-PA-10004327",
         "Xerox 1911",
         603.54,
         120.708,
         5
        ],
        [
         "TEC-PH-10002415",
         "Polycom VoiceStation 500 Conference phone",
         2445.763,
         489.1526,
         5
        ],
        [
         "OFF-ST-10003442",
         "Eldon Portable Mobile Manager",
         899.3040000000001,
         99.92266666666667,
         9
        ],
        [
         "OFF-LA-10003121",
         "Avery 506",
         66.08,
         22.026666666666667,
         3
        ],
        [
         "OFF-BI-10001072",
         "GBC Clear Cover, 8-1/2 x 11, unpunched, 25 covers per pack",
         136.44,
         34.11,
         4
        ],
        [
         "OFF-LA-10003923",
         "Alphabetical Labels for Top Tab Filing",
         488.4,
         61.05,
         8
        ],
        [
         "OFF-BI-10002982",
         "Avery Self-Adhesive Photo Pockets for Polaroid Photos",
         143.01,
         13.00090909090909,
         11
        ],
        [
         "OFF-SU-10004261",
         "Fiskars 8\" Scissors, 2/Pack",
         217.224,
         54.306,
         4
        ],
        [
         "TEC-AC-10002049",
         "Logitech G19 Programmable Gaming Keyboard",
         3416.0499999999997,
         427.00624999999997,
         8
        ],
        [
         "OFF-BI-10003166",
         "GBC Plasticlear Binding Covers",
         68.88,
         9.84,
         7
        ],
        [
         "OFF-AR-10000823",
         "Newell 307",
         19.292,
         6.430666666666667,
         3
        ],
        [
         "OFF-PA-10002893",
         "Wirebound Service Call Books, 5 1/2\" x 4\"",
         125.83999999999997,
         25.167999999999996,
         5
        ],
        [
         "OFF-ST-10001558",
         "Acco Perma 4000 Stacking Storage Drawers",
         457.968,
         41.63345454545455,
         11
        ],
        [
         "OFF-AR-10001915",
         "Peel-Off China Markers",
         287.96999999999997,
         41.138571428571424,
         7
        ],
        [
         "OFF-FA-10000611",
         "Binder Clips by OIC",
         36.112,
         5.158857142857143,
         7
        ],
        [
         "OFF-AP-10000576",
         "Belkin 7 Outlet SurgeMaster II",
         631.6800000000001,
         210.56000000000003,
         3
        ],
        [
         "OFF-PA-10000130",
         "Xerox 199",
         57.352,
         14.338,
         4
        ],
        [
         "OFF-PA-10001972",
         "Xerox 214",
         215.136,
         23.904,
         9
        ],
        [
         "TEC-PH-10003811",
         "Jabra Supreme Plus Driver Edition Headset",
         1796.5330000000001,
         359.3066,
         5
        ],
        [
         "TEC-PH-10002310",
         "Plantronics Calisto P620-M USB Wireless Speakerphone System",
         1658.7150000000001,
         414.67875000000004,
         4
        ],
        [
         "TEC-PH-10003187",
         "Anker Astro Mini 3000mAh Ultra-Compact Portable Charger",
         147.92600000000002,
         36.981500000000004,
         4
        ],
        [
         "FUR-BO-10004834",
         "Riverside Palais Royal Lawyers Bookcase, Royale Cherry Finish",
         2503.205,
         500.64099999999996,
         5
        ],
        [
         "TEC-MA-10000984",
         "Okidata MB760 Printer",
         1001.282,
         500.641,
         2
        ],
        [
         "OFF-BI-10001543",
         "GBC VeloBinder Manual Binding System",
         842.1659999999999,
         105.27074999999999,
         8
        ],
        [
         "OFF-BI-10004817",
         "GBC Personal VeloBind Strips",
         128.186,
         21.364333333333335,
         6
        ],
        [
         "OFF-SU-10001574",
         "Acme Value Line Scissors",
         69.35000000000001,
         7.705555555555557,
         9
        ],
        [
         "TEC-MA-10002694",
         "Hewlett-Packard Deskjet F4180 All-in-One Color Ink-jet - Printer / copier / scanner",
         101.994,
         101.994,
         1
        ],
        [
         "FUR-BO-10004690",
         "O'Sullivan Cherrywood Estates Traditional Barrister Bookcase",
         885.585,
         442.7925,
         2
        ],
        [
         "TEC-MA-10000045",
         "Zebra ZM400 Thermal Label Printer",
         1001.282,
         500.641,
         2
        ],
        [
         "TEC-AC-10004001",
         "Logitech Wireless Headset H600 Over-The-Head Design",
         386.90999999999997,
         193.45499999999998,
         2
        ],
        [
         "OFF-PA-10002001",
         "Xerox 1984",
         12.96,
         12.96,
         1
        ],
        [
         "OFF-BI-10002764",
         "Recycled Pressboard Report Cover with Reinforced Top Hinge",
         69.768,
         8.721,
         8
        ],
        [
         "OFF-AP-10004249",
         "Staple holder",
         234.612,
         46.922399999999996,
         5
        ],
        [
         "TEC-AC-10002217",
         "Imation Clip USB flash drive - 8 GB",
         443.68,
         63.38285714285714,
         7
        ],
        [
         "FUR-FU-10000246",
         "Aluminum Document Frame",
         244.39999999999998,
         48.879999999999995,
         5
        ],
        [
         "OFF-ST-10000532",
         "Advantus Rolling Drawer Organizers",
         1115.9199999999998,
         185.98666666666665,
         6
        ],
        [
         "OFF-PA-10001184",
         "Xerox 1903",
         138.736,
         23.122666666666664,
         6
        ],
        [
         "FUR-CH-10003774",
         "Global Wood Trimmed Manager's Task Chair, Khaki",
         4121.6449999999995,
         294.4032142857142,
         14
        ],
        [
         "TEC-AC-10000358",
         "Imation Secure Drive + Hardware Encrypted USB flash drive - 16 GB",
         888.9660000000001,
         148.16100000000003,
         6
        ],
        [
         "OFF-ST-10001780",
         "Tennsco 16-Compartment Lockers with Coat Rack",
         2503.205,
         500.64099999999996,
         5
        ],
        [
         "OFF-PA-10002421",
         "Embossed Ink Jet Note Cards",
         284.382,
         71.0955,
         4
        ],
        [
         "OFF-ST-10001580",
         "Super Decoflex Portable Personal File",
         179.76,
         35.952,
         5
        ],
        [
         "OFF-FA-10002983",
         "Advantus SlideClip Paper Clips",
         46.376000000000005,
         15.458666666666668,
         3
        ],
        [
         "OFF-ST-10003692",
         "Recycled Steel Personal File for Hanging File Folders",
         1053.032,
         175.5053333333333,
         6
        ],
        [
         "OFF-PA-10003641",
         "Xerox 1909",
         970.784,
         107.86488888888888,
         9
        ],
        [
         "TEC-AC-10002647",
         "Logitech Wireless Boombox Speaker - portable - wireless, wired",
         383.04,
         191.52,
         2
        ],
        [
         "OFF-ST-10002957",
         "Sterilite Show Offs Storage Containers",
         78.144,
         15.628800000000002,
         5
        ],
        [
         "TEC-PH-10002660",
         "Nortel Networks T7316 E Nt8 B27",
         1789.9660000000001,
         298.3276666666667,
         6
        ],
        [
         "FUR-TA-10003569",
         "Bretford CR8500 Series Meeting Room Furniture",
         2984.3810000000003,
         497.3968333333334,
         6
        ],
        [
         "OFF-ST-10001713",
         "Gould Plastics 9-Pocket Panel Bin, 18-3/8w x 5-1/4d x 20-1/2h, Black",
         953.8199999999999,
         158.97,
         6
        ],
        [
         "TEC-AC-10000892",
         "NETGEAR N750 Dual Band Wi-Fi Gigabit Router",
         1890,
         270,
         7
        ],
        [
         "OFF-AP-10000179",
         "Honeywell Enviracaire Portable HEPA Air Cleaner for up to 10 x 16 Room",
         1265.597,
         421.86566666666664,
         3
        ],
        [
         "TEC-PH-10002365",
         "Belkin Grip Candy Sheer Case / Cover for iPhone 5 and 5S",
         64.972,
         21.65733333333333,
         3
        ],
        [
         "FUR-FU-10004864",
         "Eldon 500 Class Desk Accessories",
         137.598,
         27.519600000000004,
         5
        ],
        [
         "OFF-PA-10003673",
         "Strathmore Photo Mount Cards",
         245.43599999999998,
         27.270666666666664,
         9
        ],
        [
         "TEC-PH-10000730",
         "Samsung Galaxy S4 Active",
         1000.6310000000001,
         500.31550000000004,
         2
        ],
        [
         "OFF-AP-10000696",
         "Holmes Odor Grabber",
         357.616,
         44.702,
         8
        ],
        [
         "FUR-FU-10001487",
         "Eldon Expressions Wood and Plastic Desk Accessories, Cherry Wood",
         160.54000000000002,
         32.108000000000004,
         5
        ],
        [
         "FUR-FU-10003577",
         "Nu-Dell Leatherette Frames",
         246.64800000000002,
         82.21600000000001,
         3
        ],
        [
         "FUR-CH-10004997",
         "Hon Every-Day Series Multi-Task Chairs",
         4907.432,
         490.7432,
         10
        ],
        [
         "FUR-BO-10002545",
         "Atlantic Metals Mobile 3-Shelf Bookcases, Custom Colors",
         4005.128,
         500.641,
         8
        ],
        [
         "OFF-EN-10003068",
         "#6 3/4 Gummed Flap White Envelopes",
         71.28,
         17.82,
         4
        ],
        [
         "OFF-EN-10001539",
         "Staple envelope",
         196.056,
         28.008000000000003,
         7
        ],
        [
         "OFF-BI-10002071",
         "Fellowes Black Plastic Comb Bindings",
         102.256,
         11.361777777777778,
         9
        ],
        [
         "OFF-ST-10004804",
         "Belkin 19\" Vented Equipment Shelf, Black",
         1400.2560000000003,
         140.02560000000003,
         10
        ],
        [
         "OFF-PA-10001934",
         "Xerox 1993",
         147.744,
         18.468,
         8
        ],
        [
         "OFF-SU-10004661",
         "Acme Titanium Bonded Scissors",
         102,
         20.4,
         5
        ],
        [
         "OFF-AR-10003770",
         "Newell 340",
         25.92,
         12.96,
         2
        ],
        [
         "OFF-BI-10004716",
         "Wilson Jones Hanging Recycled Pressboard Data Binders",
         32.647999999999996,
         16.323999999999998,
         2
        ],
        [
         "OFF-BI-10000822",
         "Acco PRESSTEX Data Binder with Storage Hooks, Light Blue, 9 1/2\" X 11\"",
         67.25,
         13.45,
         5
        ],
        [
         "FUR-BO-10004015",
         "Bush Andora Bookcase, Maple/Graphite Gray Finish",
         2891.125,
         321.2361111111111,
         9
        ],
        [
         "FUR-CH-10001714",
         "Global Leather & Oak Executive Chair, Burgundy",
         1074.0230000000001,
         268.50575000000003,
         4
        ],
        [
         "OFF-AR-10003896",
         "Stride Job 150 Highlighters, Chisel Tip, Assorted Colors",
         17.94,
         17.94,
         1
        ],
        [
         "OFF-PA-10001804",
         "Xerox 195",
         164.32799999999997,
         20.540999999999997,
         8
        ],
        [
         "OFF-BI-10002012",
         "Wilson Jones Easy Flow II Sheet Lifters",
         51.48,
         4.29,
         12
        ],
        [
         "OFF-ST-10001370",
         "Sensible Storage WireTech Storage Systems",
         2473.885,
         309.235625,
         8
        ],
        [
         "TEC-PH-10003092",
         "Motorola L804",
         607.068,
         101.178,
         6
        ],
        [
         "OFF-AP-10004336",
         "Conquest 14 Commercial Heavy-Duty Upright Vacuum, Collection System, Accessory Kit",
         546.816,
         136.704,
         4
        ],
        [
         "FUR-CH-10004540",
         "Global Chrome Stack Chair",
         815.8639999999999,
         135.97733333333332,
         6
        ],
        [
         "OFF-PA-10002464",
         "HP Office Recycled Paper (20Lb. and 87 Bright)",
         106.352,
         26.588,
         4
        ],
        [
         "TEC-AC-10001552",
         "Logitech K350 2.4Ghz Wireless Keyboard",
         1154.6640000000002,
         230.93280000000004,
         5
        ],
        [
         "FUR-FU-10004017",
         "Tenex Contemporary Contur Chairmats for Low and Medium Pile Carpet, Computer, 39\" x 49\"",
         1010.7819999999999,
         252.69549999999998,
         4
        ],
        [
         "FUR-FU-10004712",
         "Westinghouse Mesh Shade Clip-On Gooseneck Lamp, Black",
         84.84,
         42.42,
         2
        ]
       ],
       "datasetInfos": [],
       "dbfsResultPath": null,
       "isJsonSchema": true,
       "metadata": {},
       "overflow": false,
       "plotOptions": {
        "customPlotOptions": {},
        "displayType": "table",
        "pivotAggregation": null,
        "pivotColumns": null,
        "xColumns": null,
        "yColumns": null
       },
       "removedWidgets": [],
       "schema": [
        {
         "metadata": "{}",
         "name": "Product ID",
         "type": "\"string\""
        },
        {
         "metadata": "{}",
         "name": "Product Name",
         "type": "\"string\""
        },
        {
         "metadata": "{}",
         "name": "Total Sales",
         "type": "\"double\""
        },
        {
         "metadata": "{}",
         "name": "Average Sales",
         "type": "\"double\""
        },
        {
         "metadata": "{}",
         "name": "Total Orders",
         "type": "\"long\""
        }
       ],
       "type": "table"
      }
     },
     "output_type": "display_data"
    }
   ],
   "source": [
    "# Calculate product performance metrics\n",
    "product_performance = df.groupBy(\"Product ID\", \"Product Name\").agg(\n",
    "    sum(\"Sales\").alias(\"Total Sales\"),\n",
    "    avg(\"Sales\").alias(\"Average Sales\"),\n",
    "    count(\"Order ID\").alias(\"Total Orders\")\n",
    ")\n",
    "display(product_performance)\n"
   ]
  },
  {
   "cell_type": "code",
   "execution_count": 0,
   "metadata": {
    "application/vnd.databricks.v1+cell": {
     "cellMetadata": {
      "byteLimit": 2048000,
      "rowLimit": 10000
     },
     "inputWidgets": {},
     "nuid": "c42e5a77-2ee6-4653-8678-513847000a7a",
     "showTitle": false,
     "tableResultSettingsMap": {},
     "title": ""
    }
   },
   "outputs": [
    {
     "data": {
      "image/png": "[encoded data removed]",
      "text/plain": [
       "<Figure size 1200x1200 with 1 Axes>"
      ]
     },
     "metadata": {},
     "output_type": "display_data"
    }
   ],
   "source": [
    "product_performance_pd = product_performance.toPandas()\n",
    "# Sort data \n",
    "product_performance_pd = product_performance_pd.sort_values(by=\"Total Sales\", ascending=False).head(20)\n",
    "\n",
    "# plot\n",
    "plt.figure(figsize=(12, 12))\n",
    "sns.barplot(\n",
    "    x=\"Total Sales\", \n",
    "    y=\"Product Name\", \n",
    "    data=product_performance_pd\n",
    ")\n",
    "plt.xlabel(\"Total Sales ($)\")\n",
    "plt.ylabel(\"Product Name\")\n",
    "plt.title(\"Top 10 Best-Selling Products\")\n",
    "plt.grid(axis=\"x\")\n",
    "plt.show()\n"
   ]
  },
  {
   "cell_type": "markdown",
   "metadata": {
    "application/vnd.databricks.v1+cell": {
     "cellMetadata": {},
     "inputWidgets": {},
     "nuid": "8367f844-1d90-4da8-ab7d-e89dda267a5f",
     "showTitle": false,
     "tableResultSettingsMap": {},
     "title": ""
    }
   },
   "source": [
    "- Regional sales comparison "
   ]
  },
  {
   "cell_type": "code",
   "execution_count": 0,
   "metadata": {
    "application/vnd.databricks.v1+cell": {
     "cellMetadata": {
      "byteLimit": 2048000,
      "rowLimit": 10000
     },
     "inputWidgets": {},
     "nuid": "8a427aaa-55ff-4e5c-b931-41bbf8bb413c",
     "showTitle": false,
     "tableResultSettingsMap": {},
     "title": ""
    }
   },
   "outputs": [
    {
     "name": "stdout",
     "output_type": "stream",
     "text": [
      "+-------+------------------+------------------+\n",
      "|Region |Total Sales       |Average Sales     |\n",
      "+-------+------------------+------------------+\n",
      "|South  |226151.16000000082|141.52137672090163|\n",
      "|Central|306869.5690000008 |134.76924418094018|\n",
      "|East   |393061.5650000013 |141.13521184919256|\n",
      "|West   |453913.02400000347|144.55828789809027|\n",
      "+-------+------------------+------------------+\n",
      "\n"
     ]
    }
   ],
   "source": [
    "# Calculate total sales and average sales by region\n",
    "regional_sales_comparison = df.groupBy(\"Region\").agg(\n",
    "    sum(\"Sales\").alias(\"Total Sales\"),\n",
    "    avg(\"Sales\").alias(\"Average Sales\")\n",
    ")\n",
    "regional_sales_comparison.show(truncate=False)\n"
   ]
  },
  {
   "cell_type": "markdown",
   "metadata": {
    "application/vnd.databricks.v1+cell": {
     "cellMetadata": {},
     "inputWidgets": {},
     "nuid": "376fae0f-157d-44c4-a306-0bd464a4be5a",
     "showTitle": false,
     "tableResultSettingsMap": {},
     "title": ""
    }
   },
   "source": [
    "- **West** leads in total sales and has the highest average sales per transaction.  \n",
    "- **East** follows with strong sales and a similar average sales value.  \n",
    "- **Central** has lower average sales but solid total sales.  \n",
    "- **South** has the lowest total sales but competitive average sales."
   ]
  },
  {
   "cell_type": "code",
   "execution_count": 0,
   "metadata": {
    "application/vnd.databricks.v1+cell": {
     "cellMetadata": {
      "byteLimit": 2048000,
      "rowLimit": 10000
     },
     "inputWidgets": {},
     "nuid": "7acad2c2-a8d1-49ea-b212-76d0cfd3b486",
     "showTitle": false,
     "tableResultSettingsMap": {},
     "title": ""
    }
   },
   "outputs": [
    {
     "data": {
      "image/png": "[encoded data removed]",
      "text/plain": [
       "<Figure size 1000x600 with 1 Axes>"
      ]
     },
     "metadata": {},
     "output_type": "display_data"
    }
   ],
   "source": [
    "\n",
    "regional_sales_comparison_pd = regional_sales_comparison.toPandas()\n",
    "# Bar plot for Total Sales by Region\n",
    "plt.figure(figsize=(10, 6))\n",
    "sns.barplot(x='Region', y='Total Sales', data=regional_sales_comparison_pd)\n",
    "plt.title('Total Sales by Region')\n",
    "plt.xlabel('Region')\n",
    "plt.ylabel('Total Sales')\n",
    "plt.show()\n"
   ]
  },
  {
   "cell_type": "markdown",
   "metadata": {
    "application/vnd.databricks.v1+cell": {
     "cellMetadata": {},
     "inputWidgets": {},
     "nuid": "080999dd-b9d2-4eda-b6a9-006372ae4142",
     "showTitle": false,
     "tableResultSettingsMap": {},
     "title": ""
    }
   },
   "source": [
    "- Seasonal trend analysis "
   ]
  },
  {
   "cell_type": "code",
   "execution_count": 0,
   "metadata": {
    "application/vnd.databricks.v1+cell": {
     "cellMetadata": {
      "byteLimit": 2048000,
      "rowLimit": 10000
     },
     "inputWidgets": {},
     "nuid": "009175a4-f06c-43e6-8594-8e877791ee51",
     "showTitle": false,
     "tableResultSettingsMap": {},
     "title": ""
    }
   },
   "outputs": [
    {
     "name": "stdout",
     "output_type": "stream",
     "text": [
      "+-----+------------------+------------------+\n",
      "|Month|Total Sales       |Average Sales     |\n",
      "+-----+------------------+------------------+\n",
      "|12   |201699.81400000048|145.94776700434187|\n",
      "|1    |51303.44300000006 |140.1733415300548 |\n",
      "|6    |98081.91700000013 |141.94199276411018|\n",
      "|3    |100067.41700000006|147.15796617647067|\n",
      "|5    |96129.8240000002  |132.59286068965545|\n",
      "|9    |182002.83700000044|134.41863884785852|\n",
      "|4    |86569.25699999997 |131.76447031963465|\n",
      "|8    |99772.71100000017 |143.97216594516618|\n",
      "|7    |100378.04300000017|144.01440889526566|\n",
      "|10   |109063.1270000002 |134.8122707045738 |\n",
      "|11   |214841.16900000043|148.26857763975184|\n",
      "|2    |40085.759         |134.9688855218855 |\n",
      "+-----+------------------+------------------+\n",
      "\n"
     ]
    }
   ],
   "source": [
    "seasonal_trends = df.select(\n",
    "    \"Order Date\", \"Sales\"\n",
    ").withColumn(\n",
    "    \"Month\", month(\"Order Date\")\n",
    ").groupBy(\"Month\").agg(\n",
    "    sum(\"Sales\").alias(\"Total Sales\"),\n",
    "    avg(\"Sales\").alias(\"Average Sales\")\n",
    ")\n",
    "\n",
    "seasonal_trends.show(truncate=False)"
   ]
  },
  {
   "cell_type": "markdown",
   "metadata": {
    "application/vnd.databricks.v1+cell": {
     "cellMetadata": {},
     "inputWidgets": {},
     "nuid": "c5a17a9e-65e0-49a9-953b-7f4b8e3a89a8",
     "showTitle": false,
     "tableResultSettingsMap": {},
     "title": ""
    }
   },
   "source": [
    "- Sales are highest in **November and December**.  \n",
    "- **March and November** have the highest average sales per transaction.  \n",
    "- **February has the lowest total sales**. "
   ]
  },
  {
   "cell_type": "code",
   "execution_count": 0,
   "metadata": {
    "application/vnd.databricks.v1+cell": {
     "cellMetadata": {
      "byteLimit": 2048000,
      "rowLimit": 10000
     },
     "inputWidgets": {},
     "nuid": "661e0cc4-8284-42ea-b68e-0cc0f93459da",
     "showTitle": false,
     "tableResultSettingsMap": {},
     "title": ""
    }
   },
   "outputs": [
    {
     "data": {
      "image/png": "[encoded data removed]",
      "text/plain": [
       "<Figure size 1000x600 with 1 Axes>"
      ]
     },
     "metadata": {},
     "output_type": "display_data"
    }
   ],
   "source": [
    "# Convert Spark DataFrame to Pandas DataFrame for visualization\n",
    "seasonal_trends_pd = seasonal_trends.toPandas()\n",
    "\n",
    "# Line plot for Total Sales by Month\n",
    "plt.figure(figsize=(10, 6))\n",
    "sns.lineplot(x='Month', y='Total Sales', data=seasonal_trends_pd, marker='o')\n",
    "plt.title('Total Sales by Month')\n",
    "plt.xlabel('Month')\n",
    "plt.ylabel('Total Sales')\n",
    "plt.show()\n"
   ]
  },
  {
   "cell_type": "markdown",
   "metadata": {
    "application/vnd.databricks.v1+cell": {
     "cellMetadata": {},
     "inputWidgets": {},
     "nuid": "c7383721-7a9f-4216-b76b-89e61bcb9140",
     "showTitle": false,
     "tableResultSettingsMap": {},
     "title": ""
    }
   },
   "source": [
    "- Customer segment profitability "
   ]
  },
  {
   "cell_type": "code",
   "execution_count": 0,
   "metadata": {
    "application/vnd.databricks.v1+cell": {
     "cellMetadata": {
      "byteLimit": 2048000,
      "rowLimit": 10000
     },
     "inputWidgets": {},
     "nuid": "00349a6b-36ce-45f9-b367-1f75b879bc62",
     "showTitle": false,
     "tableResultSettingsMap": {},
     "title": ""
    }
   },
   "outputs": [
    {
     "name": "stdout",
     "output_type": "stream",
     "text": [
      "+-----------+------------------+------------------+\n",
      "|Segment    |Total Sales       |Average Sales     |\n",
      "+-----------+------------------+------------------+\n",
      "|Consumer   |710518.7799999923 |139.29009605959465|\n",
      "|Home Office|247321.72600000032|141.65047308132893|\n",
      "|Corporate  |422154.8120000022 |142.9579451405358 |\n",
      "+-----------+------------------+------------------+\n",
      "\n"
     ]
    }
   ],
   "source": [
    "# Calculate total sales and average sales by customer segment\n",
    "customer_segment_profitability = df.groupBy(\"Segment\").agg(\n",
    "    sum(\"Sales\").alias(\"Total Sales\"),\n",
    "    avg(\"Sales\").alias(\"Average Sales\")\n",
    ")\n",
    "customer_segment_profitability.show(truncate=False)\n"
   ]
  },
  {
   "cell_type": "markdown",
   "metadata": {
    "application/vnd.databricks.v1+cell": {
     "cellMetadata": {},
     "inputWidgets": {},
     "nuid": "527fb7fa-ad50-41db-8636-679403032bf2",
     "showTitle": false,
     "tableResultSettingsMap": {},
     "title": ""
    }
   },
   "source": [
    "- **Consumers** bring in the highest sales.  \n",
    "- **Corporate** has the highest average sales per transaction.  \n",
    "- **Home Office** has the lowest total sales but a similar average sales value as other segments.  \n"
   ]
  },
  {
   "cell_type": "code",
   "execution_count": 0,
   "metadata": {
    "application/vnd.databricks.v1+cell": {
     "cellMetadata": {
      "byteLimit": 2048000,
      "rowLimit": 10000
     },
     "inputWidgets": {},
     "nuid": "49b8d900-1a80-45b2-bdf2-b4c028374255",
     "showTitle": false,
     "tableResultSettingsMap": {},
     "title": ""
    }
   },
   "outputs": [
    {
     "data": {
      "image/png": "[encoded data removed]",
      "text/plain": [
       "<Figure size 1000x600 with 1 Axes>"
      ]
     },
     "metadata": {},
     "output_type": "display_data"
    }
   ],
   "source": [
    "customer_segment_profitability_pd = customer_segment_profitability.toPandas()\n",
    "\n",
    "# Bar plot for Total Sales by Customer Segment\n",
    "plt.figure(figsize=(10, 6))\n",
    "sns.barplot(x='Segment', y='Total Sales', data=customer_segment_profitability_pd)\n",
    "plt.title('Total Sales by Customer Segment')\n",
    "plt.xlabel('Customer Segment')\n",
    "plt.ylabel('Total Sales')\n",
    "plt.show()\n"
   ]
  },
  {
   "cell_type": "markdown",
   "metadata": {
    "application/vnd.databricks.v1+cell": {
     "cellMetadata": {},
     "inputWidgets": {},
     "nuid": "d42572ed-4ebd-4721-9b86-706b092e5b9e",
     "showTitle": false,
     "tableResultSettingsMap": {},
     "title": ""
    }
   },
   "source": [
    "- Build KPI summary tables"
   ]
  },
  {
   "cell_type": "code",
   "execution_count": 0,
   "metadata": {
    "application/vnd.databricks.v1+cell": {
     "cellMetadata": {
      "byteLimit": 2048000,
      "rowLimit": 10000
     },
     "inputWidgets": {},
     "nuid": "32a60bdb-be47-4671-a7c6-043d25ed2f17",
     "showTitle": false,
     "tableResultSettingsMap": {},
     "title": ""
    }
   },
   "outputs": [
    {
     "name": "stdout",
     "output_type": "stream",
     "text": [
      "+--------------------------+------------------+\n",
      "|KPI                       |Value             |\n",
      "+--------------------------+------------------+\n",
      "|Total Sales               |1379995.3179999753|\n",
      "|Total Orders              |9800.0            |\n",
      "|Average Order Value       |140.81584877550767|\n",
      "|Total Customers           |793.0             |\n",
      "|Total Products Sold       |9800.0            |\n",
      "|Average Sales per Customer|1740.2210819672116|\n",
      "|Average Sales per Product |741.534292315959  |\n",
      "+--------------------------+------------------+\n",
      "\n"
     ]
    }
   ],
   "source": [
    "\n",
    "\n",
    "# Calculate KPIs\n",
    "total_sales = df.agg(sum(\"Sales\").alias(\"Total Sales\")).collect()[0][\"Total Sales\"]\n",
    "total_orders = df.agg(count(\"Order ID\").alias(\"Total Orders\")).collect()[0][\"Total Orders\"]\n",
    "average_order_value = df.agg((sum(\"Sales\") / count(\"Order ID\")).alias(\"Average Order Value\")).collect()[0][\"Average Order Value\"]\n",
    "total_customers = df.agg(countDistinct(\"Customer ID\").alias(\"Total Customers\")).collect()[0][\"Total Customers\"]\n",
    "total_products_sold = df.agg(count(\"Product ID\").alias(\"Total Products Sold\")).collect()[0][\"Total Products Sold\"]\n",
    "average_sales_per_customer = df.groupBy(\"Customer ID\").agg(sum(\"Sales\").alias(\"Total Sales\")).agg(avg(\"Total Sales\").alias(\"Average Sales per Customer\")).collect()[0][\"Average Sales per Customer\"]\n",
    "average_sales_per_product = df.groupBy(\"Product ID\").agg(sum(\"Sales\").alias(\"Total Sales\")).agg(avg(\"Total Sales\").alias(\"Average Sales per Product\")).collect()[0][\"Average Sales per Product\"]\n",
    "\n",
    "# Ensure all values are of the same type (float)\n",
    "total_sales = float(total_sales)\n",
    "total_orders = float(total_orders)\n",
    "average_order_value = float(average_order_value)\n",
    "total_customers = float(total_customers)\n",
    "total_products_sold = float(total_products_sold)\n",
    "average_sales_per_customer = float(average_sales_per_customer)\n",
    "average_sales_per_product = float(average_sales_per_product)\n",
    "\n",
    "# Create a KPI summary table\n",
    "kpi_summary = spark.createDataFrame([\n",
    "    (\"Total Sales\", total_sales),\n",
    "    (\"Total Orders\", total_orders),\n",
    "    (\"Average Order Value\", average_order_value),\n",
    "    (\"Total Customers\", total_customers),\n",
    "    (\"Total Products Sold\", total_products_sold),\n",
    "    (\"Average Sales per Customer\", average_sales_per_customer),\n",
    "    (\"Average Sales per Product\", average_sales_per_product)\n",
    "], [\"KPI\", \"Value\"])\n",
    "\n",
    "kpi_summary.show(truncate=False)\n"
   ]
  },
  {
   "cell_type": "markdown",
   "metadata": {
    "application/vnd.databricks.v1+cell": {
     "cellMetadata": {},
     "inputWidgets": {},
     "nuid": "2ada7a48-e0c1-43b8-aa67-2040c0cea426",
     "showTitle": false,
     "tableResultSettingsMap": {},
     "title": ""
    }
   },
   "source": [
    "\n",
    "This table gives a quick view of business performance.  "
   ]
  }
 ],
 "metadata": {
  "application/vnd.databricks.v1+notebook": {
   "computePreferences": null,
   "dashboards": [],
   "environmentMetadata": {
    "base_environment": "",
    "client": "1"
   },
   "language": "python",
   "notebookMetadata": {
    "pythonIndentUnit": 4
   },
   "notebookName": "6_analysis_features",
   "widgets": {}
  },
  "language_info": {
   "name": "python"
  }
 },
 "nbformat": 4,
 "nbformat_minor": 0
}
